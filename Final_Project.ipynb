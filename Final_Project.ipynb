{
  "nbformat": 4,
  "nbformat_minor": 0,
  "metadata": {
    "colab": {
      "name": "Final Project.ipynb",
      "provenance": [],
      "collapsed_sections": [],
      "include_colab_link": true
    },
    "kernelspec": {
      "display_name": "Python 3",
      "name": "python3"
    },
    "language_info": {
      "name": "python"
    }
  },
  "cells": [
    {
      "cell_type": "markdown",
      "metadata": {
        "id": "view-in-github",
        "colab_type": "text"
      },
      "source": [
        "<a href=\"https://colab.research.google.com/github/codingfabi/COUGHVID/blob/data_preprocessing_spectograms/Final_Project.ipynb\" target=\"_parent\"><img src=\"https://colab.research.google.com/assets/colab-badge.svg\" alt=\"Open In Colab\"/></a>"
      ]
    },
    {
      "cell_type": "code",
      "metadata": {
        "colab": {
          "base_uri": "https://localhost:8080/"
        },
        "id": "rOxKPxcOUl3_",
        "outputId": "4c25653e-098a-4e2c-e652-ee906fea792f"
      },
      "source": [
        "from google.colab import drive\n",
        "drive.mount('/content/drive')"
      ],
      "execution_count": 175,
      "outputs": [
        {
          "output_type": "stream",
          "name": "stdout",
          "text": [
            "Drive already mounted at /content/drive; to attempt to forcibly remount, call drive.mount(\"/content/drive\", force_remount=True).\n"
          ]
        }
      ]
    },
    {
      "cell_type": "code",
      "metadata": {
        "id": "Bp_6AiQs6N9p"
      },
      "source": [
        "from scipy.io import wavfile\n",
        "import librosa\n",
        "import librosa.display\n",
        "import matplotlib.pyplot as plt\n",
        "import json\n",
        "import os\n",
        "import numpy as np\n",
        "import skimage.io\n",
        "import cv2\n",
        "import tensorflow as tf\n",
        "import csv\n",
        "\n",
        "from google.colab.patches import cv2_imshow"
      ],
      "execution_count": 176,
      "outputs": []
    },
    {
      "cell_type": "code",
      "metadata": {
        "id": "XoDSp7DTBmBn"
      },
      "source": [
        "import warnings\n",
        "warnings.filterwarnings(\"ignore\")"
      ],
      "execution_count": 177,
      "outputs": []
    },
    {
      "cell_type": "code",
      "metadata": {
        "id": "w0Cc6bIGKb5-"
      },
      "source": [
        "class CoughDetector(tf.keras.Model):\n",
        "\n",
        "  def __init__(self):\n",
        "    super(CoughDetector, self).__init__()\n",
        "    self.MaxPool1 = tf.keras.layers.MaxPool2D(pool_size=(2,2))\n",
        "    self.Conv1 = tf.keras.layers.Conv2D(filters = 16,kernel_size=(5,5), activation=tf.nn.relu)\n",
        "    self.Conv2 = tf.keras.layers.Conv2D(filters = 16,kernel_size=(5,5), activation=tf.nn.relu)\n",
        "    self.MaxPool2 = tf.keras.layers.MaxPool2D(pool_size=(2,2))\n",
        "    self.Dropout1 = tf.keras.layers.Dropout(rate = 0.15)\n",
        "    self.Conv3 = tf.keras.layers.Conv2D(filters = 16,kernel_size=(5,5), activation=tf.nn.relu)\n",
        "    self.Conv4 = tf.keras.layers.Conv2D(filters = 16,kernel_size=(5,5), activation=tf.nn.relu)\n",
        "    self.MaxPool3 = tf.keras.layers.MaxPool2D(pool_size=(2,2))\n",
        "    self.Dropout2 = tf.keras.layers.Dropout(rate = 0.15)\n",
        "    self.flatten = tf.keras.layers.Flatten()\n",
        "    self.Dense1 = tf.keras.layers.Dense(256)\n",
        "    self.Dropout3 = tf.keras.layers.Dropout(rate = 0.30)\n",
        "    self.Dense2 = tf.keras.layers.Dense(2,activation=tf.nn.softmax)\n",
        "\n",
        "  def call(self, inputs):\n",
        "    x = self.MaxPool1(inputs)\n",
        "    x = self.Conv1(x)\n",
        "    x = self.Conv2(x)\n",
        "    x = self.MaxPool2(x)\n",
        "    x = self.Dropout1(x)\n",
        "    x = self.Conv3(x)\n",
        "    x = self.Conv4(x)\n",
        "    x = self.MaxPool3(x)\n",
        "    x = self.Dropout2(x)\n",
        "    x = self.flatten(x)\n",
        "    x = self.Dense1(x)\n",
        "    x = self.Dropout3(x)\n",
        "    x = self.Dense2(x)\n",
        "    return x\n",
        "\n",
        "class DTLMC(tf.keras.Model):\n",
        "\n",
        "  def __init__(self):\n",
        "    super(DTLMC, self).__init__()\n",
        "    self.MaxPool1 = tf.keras.layers.MaxPool2D(pool_size=(2,2))\n",
        "    self.Conv1 = tf.keras.layers.Conv2D(filters = 16,kernel_size=(5,5), activation=tf.nn.relu)\n",
        "    self.Conv2 = tf.keras.layers.Conv2D(filters = 16,kernel_size=(5,5), activation=tf.nn.relu)\n",
        "    self.MaxPool2 = tf.keras.layers.MaxPool2D(pool_size=(2,2))\n",
        "    self.Dropout1 = tf.keras.layers.Dropout(rate = 0.15)\n",
        "    self.Conv3 = tf.keras.layers.Conv2D(filters = 16,kernel_size=(5,5), activation=tf.nn.relu)\n",
        "    self.Conv4 = tf.keras.layers.Conv2D(filters = 16,kernel_size=(5,5), activation=tf.nn.relu)\n",
        "    self.MaxPool3 = tf.keras.layers.MaxPool2D(pool_size=(2,2))\n",
        "    self.Dropout2 = tf.keras.layers.Dropout(rate = 0.15)\n",
        "    self.flatten = tf.keras.layers.Flatten()\n",
        "    self.Dense1 = tf.keras.layers.Dense(256)\n",
        "    self.Dropout3 = tf.keras.layers.Dropout(rate = 0.30)\n",
        "    self.Dense2 = tf.keras.layers.Dense(3,activation=tf.nn.softmax)\n",
        "\n",
        "  def call(self, inputs):\n",
        "    x = self.MaxPool1(inputs)\n",
        "    x = self.Conv1(x)\n",
        "    x = self.Conv2(x)\n",
        "    x = self.MaxPool2(x)\n",
        "    x = self.Dropout1(x)\n",
        "    x = self.Conv3(x)\n",
        "    x = self.Conv4(x)\n",
        "    x = self.MaxPool3(x)\n",
        "    x = self.Dropout2(x)\n",
        "    x = self.flatten(x)\n",
        "    x = self.Dense1(x)\n",
        "    x = self.Dropout3(x)\n",
        "    x = self.Dense2(x)\n",
        "    return x\n",
        "\n",
        "class DTLBC(tf.keras.Model):\n",
        "\n",
        "  def __init__(self):\n",
        "    super(DTLBC, self).__init__()\n",
        "    self.MaxPool1 = tf.keras.layers.MaxPool2D(pool_size=(2,2))\n",
        "    self.Conv1 = tf.keras.layers.Conv2D(filters = 16,kernel_size=(5,5), activation=tf.nn.relu)\n",
        "    self.Conv2 = tf.keras.layers.Conv2D(filters = 16,kernel_size=(5,5), activation=tf.nn.relu)\n",
        "    self.MaxPool2 = tf.keras.layers.MaxPool2D(pool_size=(2,2))\n",
        "    self.Dropout1 = tf.keras.layers.Dropout(rate = 0.15)\n",
        "    self.Conv3 = tf.keras.layers.Conv2D(filters = 16,kernel_size=(5,5), activation=tf.nn.relu)\n",
        "    self.Conv4 = tf.keras.layers.Conv2D(filters = 16,kernel_size=(5,5), activation=tf.nn.relu)\n",
        "    self.MaxPool3 = tf.keras.layers.MaxPool2D(pool_size=(2,2))\n",
        "    self.Dropout2 = tf.keras.layers.Dropout(rate = 0.15)\n",
        "    self.flatten = tf.keras.layers.Flatten()\n",
        "    self.Dense1 = tf.keras.layers.Dense(256)\n",
        "    self.Dropout3 = tf.keras.layers.Dropout(rate = 0.30)\n",
        "    self.Dense2 = tf.keras.layers.Dense(2,activation=tf.nn.softmax)\n",
        "\n",
        "  def call(self, inputs):\n",
        "    x = self.MaxPool1(inputs)\n",
        "    x = self.Conv1(x)\n",
        "    x = self.Conv2(x)\n",
        "    x = self.MaxPool2(x)\n",
        "    x = self.Dropout1(x)\n",
        "    x = self.Conv3(x)\n",
        "    x = self.Conv4(x)\n",
        "    x = self.MaxPool3(x)\n",
        "    x = self.Dropout2(x)\n",
        "    x = self.flatten(x)\n",
        "    x = self.Dense1(x)\n",
        "    x = self.Dropout3(x)\n",
        "    x = self.Dense2(x)\n",
        "    return x\n",
        "\n"
      ],
      "execution_count": 178,
      "outputs": []
    },
    {
      "cell_type": "markdown",
      "metadata": {
        "id": "JPcztxOnUtaU"
      },
      "source": [
        "With the library 'librosa', we can easily handle audio files and create data arrays and spectograms out of the cough samples:"
      ]
    },
    {
      "cell_type": "code",
      "metadata": {
        "colab": {
          "base_uri": "https://localhost:8080/",
          "height": 640
        },
        "id": "fOfLXIxB6szF",
        "outputId": "9949b0b1-1a1f-45f2-8a28-4ed412e46d6d"
      },
      "source": [
        "x , sr = librosa.load('./drive/MyDrive/COUGHVID/testcough.webm')\n",
        "plt.figure(figsize=(14,5))\n",
        "librosa.display.waveplot(x)\n",
        "x_new = librosa.stft(x)\n",
        "x_db = librosa.amplitude_to_db(abs(x_new))\n",
        "\n",
        "plt.figure(figsize=(14,5))\n",
        "librosa.display.specshow(x_db, sr=sr)\n",
        "plt.colorbar()"
      ],
      "execution_count": 179,
      "outputs": [
        {
          "output_type": "execute_result",
          "data": {
            "text/plain": [
              "<matplotlib.colorbar.Colorbar at 0x7f01872c9150>"
            ]
          },
          "metadata": {},
          "execution_count": 179
        },
        {
          "output_type": "display_data",
          "data": {
            "image/png": "[encoded data removed]",
            "text/plain": [
              "<Figure size 1008x360 with 1 Axes>"
            ]
          },
          "metadata": {
            "needs_background": "light"
          }
        },
        {
          "output_type": "display_data",
          "data": {
            "image/png": "[encoded data removed]",
            "text/plain": [
              "<Figure size 1008x360 with 2 Axes>"
            ]
          },
          "metadata": {
            "needs_background": "light"
          }
        }
      ]
    },
    {
      "cell_type": "markdown",
      "metadata": {
        "id": "P4tgJrgls1_X"
      },
      "source": [
        "We create some helper functions to handle file extractions and spectogram image creation:"
      ]
    },
    {
      "cell_type": "code",
      "metadata": {
        "id": "Uf03Romms7E8"
      },
      "source": [
        "def load_json_from_drive(filename):\n",
        "  with open('./drive/MyDrive/COUGHVID/' + filename) as json_file:\n",
        "    data = json.load(json_file)\n",
        "  \n",
        "  return data\n",
        "\n",
        "def load_soundfile_from_drive(filename):\n",
        "  x , sr = librosa.load('./drive/MyDrive/COUGHVID/' + filename)\n",
        "  return x, sr\n",
        "\n",
        "def jsonFileNames(path='./drive/MyDrive/COUGHVID/'):\n",
        "    \"\"\"\n",
        "    Returns the names of all .json files in the path as list of strings\n",
        "    \"\"\"\n",
        "    tmp = !ls './drive/MyDrive/COUGHVID'\n",
        "    filenames = np.array(tmp)\n",
        "    jsonFileNames = []\n",
        "    for filename in filenames:\n",
        "      if \".json\" in filename:\n",
        "        jsonFileNames.append(filename)\n",
        "    return jsonFileNames\n",
        "\n",
        "def hasStatusAttribute(fileName, path='./drive/MyDrive/COUGHVID/'):\n",
        "    \"\"\"\n",
        "    Returns a boolean indicating if the specified json file has a 'status' key    \n",
        "    \"\"\"\n",
        "    with open(os.path.join(path,fileName)) as file:\n",
        "        data = json.load(file)\n",
        "        hasStatusAttribute = 'status' in data\n",
        "        return hasStatusAttribute\n",
        "\n",
        "def valueFromJsonParser(fileName, key, path='./drive/MyDrive/COUGHVID/'):\n",
        "    \"\"\"\n",
        "    Returns the status of the specified json file \n",
        "    \"\"\"    \n",
        "    with open(os.path.join(path, fileName)) as file:\n",
        "        data = json.load(file)\n",
        "        return data[str(key)]\n",
        "\n",
        "def generateMelSpectrogram(fileName, inputPath='./drive/MyDrive/COUGHVID/'):\n",
        "    \"\"\"\n",
        "    Generates Mel Spectogram from cough sample.\n",
        "    Note: multiply values by -1 to avoid black images during png conversion\n",
        "    \"\"\"\n",
        "    x, sr = load_soundfile_from_drive(fileName)\n",
        "    M = librosa.feature.melspectrogram(y=x, sr=sr, n_mels=128)\n",
        "    M_db = librosa.power_to_db(M, ref=np.max) * -1\n",
        "    dim = (320,240) # resize to dimensions from https://www.sciencedirect.com/science/article/pii/S2352914820303026\n",
        "    resized = cv2.resize(M_db, dim, interpolation=cv2.INTER_LINEAR)\n",
        "\n",
        "    return resized\n",
        "\n",
        "''' def coughDetectionIsAboveThreshold(fileName, threshold, path='./drive/MyDrive/COUGHVID/'):\n",
        "    coughDetectionIsAboveThreshold = False\n",
        "    with open(os.path.join(path, fileName)) as file:\n",
        "        data = json.load(file)\n",
        "        if ('cough_detected' in data):\n",
        "            if float(data['cough_detected'])> threshold:\n",
        "                coughDetectionIsAboveThreshold = True\n",
        "    return coughDetectionIsAboveThreshold '''\n",
        "\n",
        "\n",
        "def coughDetectionIsAboveThreshold(fileName, threshold, path='./drive/MyDrive/COUGHVID/'):\n",
        "    coughDetectionIsAboveThreshold = False\n",
        "    if float(valueFromJsonParser(fileName,'cough_detected',path)) > threshold:\n",
        "        coughDetectionIsAboveThreshold = True\n",
        "    return coughDetectionIsAboveThreshold\n",
        "\n",
        "def generateAllMelSpectrogramsAndLabelsFile(outputPath, threshold, inputPath='./drive/MyDrive/COUGHVID/'):\n",
        "    LabelsList = []\n",
        "    ThresholdList = []\n",
        "    filenames = jsonFileNames(inputPath)\n",
        "    for filename in jsonFileNames(inputPath):\n",
        "      try:\n",
        "        if hasStatusAttribute(filename,inputPath) and coughDetectionIsAboveThreshold(filename, threshold, inputPath):\n",
        "          LabelsList.append(valueFromJsonParser(filename,'status',inputPath))\n",
        "          ThresholdList.append(valueFromJsonParser(filename,'cough_detected',inputPath))\n",
        "          audioFileName = filename.strip(\".json\")+\".webm\"\n",
        "          if os.path.isfile(inputPath + audioFileName) == False:\n",
        "            audioFileName = filename.strip(\".json\")+\".ogg\"\n",
        "          melSpectrogram = generateMelSpectrogram(audioFileName,inputPath)\n",
        "          melSpectrogramFileName = filename.strip(\".json\")+\".png\"\n",
        "          melSpectrogramFilePath = os.path.join(outputPath,melSpectrogramFileName)\n",
        "          cv2.imwrite(melSpectrogramFilePath, melSpectrogram)\n",
        "      except FileNotFoundError:\n",
        "        print('File was not found')\n",
        "        continue\n",
        "    with open(os.path.join(outputPath,\"LabelsAndThresholds.csv\"), 'w') as file:\n",
        "      wr = csv.writer(file)\n",
        "      wr.writerow(LabelsList)\n",
        "      wr.writerow(ThresholdList)\n",
        "\n",
        "def readAllMelSpecs():\n",
        "  data = []\n",
        "  tmp = !ls './drive/MyDrive/COUGHVID/MelDiagrams'\n",
        "  files = np.array(tmp)\n",
        "  for file in files:\n",
        "    if '.png' in file:\n",
        "      filepath = './drive/MyDrive/COUGHVID/MelDiagrams/' + file\n",
        "      tmp = cv2.imread(filepath, cv2.IMREAD_UNCHANGED)\n",
        "      data.append(tmp)\n",
        "\n",
        "  return np.array(data)\n",
        "\n",
        "def oneHotEncoding(labels):\n",
        "  oneHotList = []\n",
        "  for label in labels:\n",
        "    if label == 'healthy':\n",
        "      oneHotList.append([1,0,0])\n",
        "    elif label == 'symptomatic':\n",
        "      oneHotList.append([0,1,0])\n",
        "    elif label == 'COVID-19':\n",
        "      oneHotList.append([0,0,1])\n",
        "\n",
        "  return np.array(oneHotList)\n",
        "\n",
        "def convertCSVToArrays(filepath = './drive/MyDrive/COUGHVID/MelDiagrams/LabelsAndThresholds.csv'):\n",
        "\n",
        "  labels = []\n",
        "  coughValues = []\n",
        "\n",
        "  with open(filepath, newline='') as csvfile:\n",
        "      spamreader = csv.reader(csvfile, delimiter=' ', quotechar='|')\n",
        "      for index, row in enumerate(spamreader):\n",
        "          entries = row[0].split(',')\n",
        "          if index == 0:\n",
        "            labels = entries\n",
        "          else:\n",
        "            coughValues = entries\n",
        "  \n",
        "  return labels, coughValues"
      ],
      "execution_count": 180,
      "outputs": []
    },
    {
      "cell_type": "code",
      "metadata": {
        "id": "YCgMlOvtI6jq"
      },
      "source": [
        "generateAllMelSpectrogramsAndLabelsFile('./drive/MyDrive/COUGHVID/MelDiagrams', .8)"
      ],
      "execution_count": 181,
      "outputs": []
    },
    {
      "cell_type": "code",
      "metadata": {
        "colab": {
          "base_uri": "https://localhost:8080/"
        },
        "id": "u1t-ohQIOai6",
        "outputId": "a7c20e8b-1d2d-46b2-f9ea-38d695205123"
      },
      "source": [
        "labels, _ = convertCSVToArrays()\n",
        "\n",
        "X = readAllMelSpecs()\n",
        "Y = oneHotEncoding(labels)\n",
        "\n",
        "\n",
        "print(X.shape)\n",
        "print(Y.shape)"
      ],
      "execution_count": 182,
      "outputs": [
        {
          "output_type": "stream",
          "name": "stdout",
          "text": [
            "(15, 240, 320)\n",
            "(15, 3)\n"
          ]
        }
      ]
    },
    {
      "cell_type": "markdown",
      "metadata": {
        "id": "uZH1Whv-bB27"
      },
      "source": [
        "--------- preprocessing done ------------"
      ]
    },
    {
      "cell_type": "code",
      "metadata": {
        "id": "znNWeFBsbHoi"
      },
      "source": [
        ""
      ],
      "execution_count": null,
      "outputs": []
    },
    {
      "cell_type": "code",
      "metadata": {
        "id": "DS3G1XoxCZix"
      },
      "source": [
        "# lets keep this, maybe we will need this\n",
        "def transform_function(frequency):\n",
        "  return 2595 * np.log10(1 + (frequency/700))\n",
        "\n",
        "  "
      ],
      "execution_count": 183,
      "outputs": []
    }
  ]
}