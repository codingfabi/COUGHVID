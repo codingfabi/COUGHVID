{
  "nbformat": 4,
  "nbformat_minor": 0,
  "metadata": {
    "colab": {
      "name": "Final Project.ipynb",
      "provenance": [],
      "collapsed_sections": []
    },
    "kernelspec": {
      "display_name": "Python 3",
      "name": "python3"
    },
    "language_info": {
      "name": "python"
    }
  },
  "cells": [
    {
      "cell_type": "code",
      "metadata": {
        "colab": {
          "base_uri": "https://localhost:8080/"
        },
        "id": "rOxKPxcOUl3_",
        "outputId": "12ce06e2-2757-425f-e884-23840fae32d2"
      },
      "source": [
        "from google.colab import drive\n",
        "drive.mount('/content/drive', force_remount = True)"
      ],
      "execution_count": null,
      "outputs": [
        {
          "output_type": "stream",
          "name": "stdout",
          "text": [
            "Mounted at /content/drive\n"
          ]
        }
      ]
    },
    {
      "cell_type": "code",
      "metadata": {
        "id": "Bp_6AiQs6N9p"
      },
      "source": [
        "from scipy.io import wavfile\n",
        "import librosa\n",
        "import librosa.display\n",
        "import matplotlib.pyplot as plt\n",
        "import json\n",
        "import os\n",
        "import numpy as np\n",
        "import skimage.io\n",
        "import cv2\n",
        "import tensorflow as tf\n",
        "import csv\n",
        "from sklearn import svm\n",
        "from sklearn.decomposition import PCA\n",
        "from sklearn.manifold import TSNE\n",
        "import pandas as pd\n",
        "import seaborn as sns\n",
        "\n",
        "from google.colab.patches import cv2_imshow"
      ],
      "execution_count": null,
      "outputs": []
    },
    {
      "cell_type": "code",
      "metadata": {
        "id": "XoDSp7DTBmBn"
      },
      "source": [
        "import warnings\n",
        "warnings.filterwarnings(\"ignore\")"
      ],
      "execution_count": null,
      "outputs": []
    },
    {
      "cell_type": "code",
      "metadata": {
        "id": "w0Cc6bIGKb5-"
      },
      "source": [
        "class CoughDetector(tf.keras.Model):\n",
        "\n",
        "  def __init__(self):\n",
        "    super(CoughDetector, self).__init__()\n",
        "    self.MaxPool1 = tf.keras.layers.MaxPool2D(pool_size=(2,2))\n",
        "    self.Conv1 = tf.keras.layers.Conv2D(filters = 16,kernel_size=(5,5), activation=tf.nn.relu)\n",
        "    self.Conv2 = tf.keras.layers.Conv2D(filters = 16,kernel_size=(5,5), activation=tf.nn.relu)\n",
        "    self.MaxPool2 = tf.keras.layers.MaxPool2D(pool_size=(2,2))\n",
        "    self.Dropout1 = tf.keras.layers.Dropout(rate = 0.15)\n",
        "    self.Conv3 = tf.keras.layers.Conv2D(filters = 16,kernel_size=(5,5), activation=tf.nn.relu)\n",
        "    self.Conv4 = tf.keras.layers.Conv2D(filters = 16,kernel_size=(5,5), activation=tf.nn.relu)\n",
        "    self.MaxPool3 = tf.keras.layers.MaxPool2D(pool_size=(2,2))\n",
        "    self.Dropout2 = tf.keras.layers.Dropout(rate = 0.15)\n",
        "    self.flatten = tf.keras.layers.Flatten()\n",
        "    self.Dense1 = tf.keras.layers.Dense(256)\n",
        "    self.Dropout3 = tf.keras.layers.Dropout(rate = 0.30)\n",
        "    self.Dense2 = tf.keras.layers.Dense(2,activation=tf.nn.softmax)\n",
        "\n",
        "  def call(self, inputs):\n",
        "    x = self.MaxPool1(inputs)\n",
        "    x = self.Conv1(x)\n",
        "    x = self.Conv2(x)\n",
        "    x = self.MaxPool2(x)\n",
        "    x = self.Dropout1(x)\n",
        "    x = self.Conv3(x)\n",
        "    x = self.Conv4(x)\n",
        "    x = self.MaxPool3(x)\n",
        "    x = self.Dropout2(x)\n",
        "    x = self.flatten(x)\n",
        "    x = self.Dense1(x)\n",
        "    x = self.Dropout3(x)\n",
        "    x = self.Dense2(x)\n",
        "    return x\n",
        "\n",
        "class DTLMC(tf.keras.Model):\n",
        "\n",
        "  def __init__(self):\n",
        "    super(DTLMC, self).__init__()\n",
        "    self.MaxPool1 = tf.keras.layers.MaxPool2D(pool_size=(2,2))\n",
        "    self.Conv1 = tf.keras.layers.Conv2D(filters = 16,kernel_size=(5,5), activation=tf.nn.relu)\n",
        "    self.Conv2 = tf.keras.layers.Conv2D(filters = 16,kernel_size=(5,5), activation=tf.nn.relu)\n",
        "    self.MaxPool2 = tf.keras.layers.MaxPool2D(pool_size=(2,2))\n",
        "    self.Dropout1 = tf.keras.layers.Dropout(rate = 0.15)\n",
        "    self.Conv3 = tf.keras.layers.Conv2D(filters = 16,kernel_size=(5,5), activation=tf.nn.relu)\n",
        "    self.Conv4 = tf.keras.layers.Conv2D(filters = 16,kernel_size=(5,5), activation=tf.nn.relu)\n",
        "    self.MaxPool3 = tf.keras.layers.MaxPool2D(pool_size=(2,2))\n",
        "    self.Dropout2 = tf.keras.layers.Dropout(rate = 0.15)\n",
        "    self.flatten = tf.keras.layers.Flatten()\n",
        "    self.Dense1 = tf.keras.layers.Dense(256)\n",
        "    self.Dropout3 = tf.keras.layers.Dropout(rate = 0.30)\n",
        "    self.Dense2 = tf.keras.layers.Dense(3,activation=tf.nn.softmax)\n",
        "\n",
        "  def call(self, inputs):\n",
        "    x = self.MaxPool1(inputs)\n",
        "    x = self.Conv1(x)\n",
        "    x = self.Conv2(x)\n",
        "    x = self.MaxPool2(x)\n",
        "    x = self.Dropout1(x)\n",
        "    x = self.Conv3(x)\n",
        "    x = self.Conv4(x)\n",
        "    x = self.MaxPool3(x)\n",
        "    x = self.Dropout2(x)\n",
        "    x = self.flatten(x)\n",
        "    x = self.Dense1(x)\n",
        "    x = self.Dropout3(x)\n",
        "    x = self.Dense2(x)\n",
        "    return x\n",
        "\n",
        "class DTLBC(tf.keras.Model):\n",
        "\n",
        "  def __init__(self):\n",
        "    super(DTLBC, self).__init__()\n",
        "    self.MaxPool1 = tf.keras.layers.MaxPool2D(pool_size=(2,2))\n",
        "    self.Conv1 = tf.keras.layers.Conv2D(filters = 16,kernel_size=(5,5), activation=tf.nn.relu)\n",
        "    self.Conv2 = tf.keras.layers.Conv2D(filters = 16,kernel_size=(5,5), activation=tf.nn.relu)\n",
        "    self.MaxPool2 = tf.keras.layers.MaxPool2D(pool_size=(2,2))\n",
        "    self.Dropout1 = tf.keras.layers.Dropout(rate = 0.15)\n",
        "    self.Conv3 = tf.keras.layers.Conv2D(filters = 16,kernel_size=(5,5), activation=tf.nn.relu)\n",
        "    self.Conv4 = tf.keras.layers.Conv2D(filters = 16,kernel_size=(5,5), activation=tf.nn.relu)\n",
        "    self.MaxPool3 = tf.keras.layers.MaxPool2D(pool_size=(2,2))\n",
        "    self.Dropout2 = tf.keras.layers.Dropout(rate = 0.15)\n",
        "    self.flatten = tf.keras.layers.Flatten()\n",
        "    self.Dense1 = tf.keras.layers.Dense(256)\n",
        "    self.Dropout3 = tf.keras.layers.Dropout(rate = 0.30)\n",
        "    self.Dense2 = tf.keras.layers.Dense(2,activation=tf.nn.softmax)\n",
        "\n",
        "  def call(self, inputs):\n",
        "    x = self.MaxPool1(inputs)\n",
        "    x = self.Conv1(x)\n",
        "    x = self.Conv2(x)\n",
        "    x = self.MaxPool2(x)\n",
        "    x = self.Dropout1(x)\n",
        "    x = self.Conv3(x)\n",
        "    x = self.Conv4(x)\n",
        "    x = self.MaxPool3(x)\n",
        "    x = self.Dropout2(x)\n",
        "    x = self.flatten(x)\n",
        "    x = self.Dense1(x)\n",
        "    x = self.Dropout3(x)\n",
        "    x = self.Dense2(x)\n",
        "    return x\n",
        "\n",
        "class SVM():\n",
        "\n",
        "  def __init__(self):\n",
        "    self.clf = sklearn.svm.SVC(kernel='linear')\n",
        "    # other possible kernels include: \"linear\", \"polynomial\", \"rbf\", \"sigmoid\"\n",
        "\n",
        "  def fit(X, y):\n",
        "    self.clf.fit(X,y)\n",
        "\n",
        "  def predict(X):\n",
        "    return self.clf.predict(X)"
      ],
      "execution_count": null,
      "outputs": []
    },
    {
      "cell_type": "code",
      "metadata": {
        "id": "wF9Hu77cqaVy"
      },
      "source": [
        "def generateMfcc(filename, path='./drive/MyDrive/COUGHVID/test_dset/'):\n",
        "  x, sr = load_soundfile_from_drive(filename,path)\n",
        "  mfcc = librosa.feature.mfcc(y=x, sr=sr, n_mfcc=128)\n",
        "\n",
        "  return mfcc\n",
        "\n",
        "def extractFeaturesFromMfcc(mfcc, P):\n",
        "  #P describes over how many principal components we sum over\n",
        "  means = np.mean(mfcc,axis=1)\n",
        "  pca = PCA(n_components = P)\n",
        "  pca.fit_transform(mfcc.T)\n",
        "  pcaProjections = pca.components_.T\n",
        "  pcaMagnitudes = np.sum(np.abs(pcaProjections),axis=1)\n",
        "  \n",
        "  return np.concatenate((means, pcaMagnitudes))"
      ],
      "execution_count": null,
      "outputs": []
    },
    {
      "cell_type": "code",
      "metadata": {
        "colab": {
          "base_uri": "https://localhost:8080/",
          "height": 173
        },
        "id": "hunnEjxZrvDY",
        "outputId": "84e13679-d52f-4c88-dc77-e08d323de79a"
      },
      "source": [
        "feature1"
      ],
      "execution_count": null,
      "outputs": [
        {
          "output_type": "error",
          "ename": "NameError",
          "evalue": "ignored",
          "traceback": [
            "\u001b[0;31m---------------------------------------------------------------------------\u001b[0m",
            "\u001b[0;31mNameError\u001b[0m                                 Traceback (most recent call last)",
            "\u001b[0;32m<ipython-input-6-4a59790e071d>\u001b[0m in \u001b[0;36m<module>\u001b[0;34m()\u001b[0m\n\u001b[0;32m----> 1\u001b[0;31m \u001b[0mfeature1\u001b[0m\u001b[0;34m\u001b[0m\u001b[0;34m\u001b[0m\u001b[0m\n\u001b[0m",
            "\u001b[0;31mNameError\u001b[0m: name 'feature1' is not defined"
          ]
        }
      ]
    },
    {
      "cell_type": "markdown",
      "metadata": {
        "id": "JPcztxOnUtaU"
      },
      "source": [
        "With the library 'librosa', we can easily handle audio files and create data arrays and spectograms out of the cough samples:"
      ]
    },
    {
      "cell_type": "code",
      "metadata": {
        "colab": {
          "base_uri": "https://localhost:8080/",
          "height": 642
        },
        "id": "fOfLXIxB6szF",
        "outputId": "aea39d7c-a4d5-4435-9e20-b1c32e36a3fe"
      },
      "source": [
        "x , sr = librosa.load('./drive/MyDrive/COUGHVID/testcough.webm')\n",
        "plt.figure(figsize=(14,5))\n",
        "librosa.display.waveplot(x)\n",
        "x_new = librosa.stft(x)\n",
        "x_db = librosa.amplitude_to_db(abs(x_new))\n",
        "\n",
        "plt.figure(figsize=(14,5))\n",
        "librosa.display.specshow(x_db, sr=sr)\n",
        "plt.colorbar()"
      ],
      "execution_count": null,
      "outputs": [
        {
          "output_type": "execute_result",
          "data": {
            "text/plain": [
              "<matplotlib.colorbar.Colorbar at 0x7f6b05e67150>"
            ]
          },
          "metadata": {},
          "execution_count": 7
        },
        {
          "output_type": "display_data",
          "data": {
            "image/png": "[encoded data removed]",
            "text/plain": [
              "<Figure size 1008x360 with 1 Axes>"
            ]
          },
          "metadata": {
            "needs_background": "light"
          }
        },
        {
          "output_type": "display_data",
          "data": {
            "image/png": "[encoded data removed]",
            "text/plain": [
              "<Figure size 1008x360 with 2 Axes>"
            ]
          },
          "metadata": {
            "needs_background": "light"
          }
        }
      ]
    },
    {
      "cell_type": "markdown",
      "metadata": {
        "id": "P4tgJrgls1_X"
      },
      "source": [
        "We create some helper functions to handle file extractions and spectogram image creation:"
      ]
    },
    {
      "cell_type": "code",
      "metadata": {
        "id": "Uf03Romms7E8"
      },
      "source": [
        "\n",
        "def load_json_from_drive(filename):\n",
        "  with open('./drive/MyDrive/COUGHVID/' + filename) as json_file:\n",
        "    data = json.load(json_file)\n",
        "  \n",
        "  return data\n",
        "\n",
        "def load_soundfile_from_drive(filename, path='./drive/MyDrive/COUGHVID/test_dset/'):\n",
        "  x , sr = librosa.load(path + filename)\n",
        "  return x, sr\n",
        "\n",
        "def jsonFileNames(path='./drive/MyDrive/COUGHVID/test_dset/'):\n",
        "    \"\"\"\n",
        "    Returns the names of all .json files in the path as list of strings\n",
        "    \"\"\"\n",
        "    jsonFileNames = []\n",
        "    for (dirpath, dirnames, filenames) in os.walk(path):\n",
        "      for filename in filenames:\n",
        "        if \".json\" in filename:\n",
        "          jsonFileNames.append(filename)\n",
        "    return jsonFileNames\n",
        "\n",
        "def hasStatusAttribute(fileName, path='./drive/MyDrive/COUGHVID/test_dset/'):\n",
        "    \"\"\"\n",
        "    Returns a boolean indicating if the specified json file has a 'status' key    \n",
        "    \"\"\"\n",
        "    with open(os.path.join(path,fileName)) as file:\n",
        "        data = json.load(file)\n",
        "        hasStatusAttribute = 'status' in data\n",
        "        #print('statusAttribute: ' + str(hasStatusAttribute))\n",
        "        return hasStatusAttribute\n",
        "\n",
        "def valueFromJsonParser(fileName, key, path='./drive/MyDrive/COUGHVID/test_dset/'):\n",
        "    \"\"\"\n",
        "    Returns the status of the specified json file \n",
        "    \"\"\"    \n",
        "    with open(os.path.join(path, fileName)) as file:\n",
        "        data = json.load(file)\n",
        "        return data[str(key)]\n",
        "\n",
        "def generateMelSpectrogram(fileName, inputPath='./drive/MyDrive/COUGHVID/test_dset/'):\n",
        "    \"\"\"\n",
        "    Generates Mel Spectogram from cough sample.\n",
        "    Note: multiply values by -1 to avoid black images during png conversion\n",
        "    \"\"\"\n",
        "    x, sr = load_soundfile_from_drive(fileName, inputPath)\n",
        "    M = librosa.feature.melspectrogram(y=x, sr=sr, n_mels=128)\n",
        "    M_db = librosa.power_to_db(M, ref=np.max) * -1\n",
        "    dim = (320,240) # resize to dimensions from https://www.sciencedirect.com/science/article/pii/S2352914820303026\n",
        "    resized = cv2.resize(M_db, dim, interpolation=cv2.INTER_LINEAR)\n",
        "\n",
        "    return resized\n",
        "\n",
        "def coughDetectionIsAboveThreshold(fileName, threshold, path='./drive/MyDrive/COUGHVID/test_dset/'):\n",
        "    coughDetectionIsAboveThreshold = False\n",
        "    if float(valueFromJsonParser(fileName,'cough_detected',path)) > threshold:\n",
        "        coughDetectionIsAboveThreshold = True\n",
        "    return coughDetectionIsAboveThreshold\n",
        "\n",
        "def generateAllMelSpectrogramsAndLabelsFile(outputPath, threshold, nData, inputPath='./drive/MyDrive/COUGHVID/test_dset/'):\n",
        "    LabelsList = []\n",
        "    ThresholdList = []\n",
        "    filenames = jsonFileNamesTest()\n",
        "    if nData > 0:\n",
        "      filenames = filenames[0:nData - 1]\n",
        "    for filename in filenames:\n",
        "      filename = filename.strip()\n",
        "      try:\n",
        "        if hasStatusAttribute(filename,inputPath) and coughDetectionIsAboveThreshold(filename, threshold, inputPath):\n",
        "          LabelsList.append(valueFromJsonParser(filename,'status',inputPath))\n",
        "          ThresholdList.append(valueFromJsonParser(filename,'cough_detected',inputPath))\n",
        "          audioFileName = filename.strip(\".json\")+\".webm\"\n",
        "          if os.path.isfile(inputPath + audioFileName) == False:\n",
        "            audioFileName = filename.strip(\".json\")+\".ogg\"\n",
        "          melSpectrogram = generateMelSpectrogramTest(audioFileName,inputPath)\n",
        "          melSpectrogramFileName = filename.strip(\".json\")+\".png\"\n",
        "          melSpectrogramFilePath = os.path.join(outputPath,melSpectrogramFileName)\n",
        "          cv2.imwrite(melSpectrogramFilePath, melSpectrogram)\n",
        "      except FileNotFoundError:\n",
        "        print('File was not found')\n",
        "        continue\n",
        "    with open(os.path.join(outputPath,\"LabelsAndThresholds.csv\"), 'w') as file:\n",
        "      wr = csv.writer(file)\n",
        "      wr.writerow(LabelsList)\n",
        "      wr.writerow(ThresholdList)\n",
        "\n",
        "    \n",
        "def readAllMelSpecs(path='./drive/MyDrive/COUGHVID/test_dset/'):\n",
        "  data = []\n",
        "  for (dirpath, dirnames, filenames) in os.walk(path):\n",
        "    for file in filenames:\n",
        "      if '.png' in file:\n",
        "        filepath = path + file\n",
        "        tmp = cv2.imread(filepath, cv2.IMREAD_UNCHANGED)\n",
        "        tmp_expanded=np.expand_dims(tmp,axis=2)\n",
        "        data.append(tmp_expanded)\n",
        "\n",
        "  return np.float32(np.array(data))\n",
        "\n",
        "def oneHotEncoding(labels):\n",
        "  oneHotList = []\n",
        "  for label in labels:\n",
        "    if label == 'healthy':\n",
        "      oneHotList.append([1,0,0])\n",
        "    elif label == 'symptomatic':\n",
        "      oneHotList.append([0,1,0])\n",
        "    elif label == 'COVID-19':\n",
        "      oneHotList.append([0,0,1])\n",
        "\n",
        "  return np.array(oneHotList)\n",
        "\n",
        "def convertCSVToArrays(filepath = './drive/MyDrive/COUGHVID/test_dset/MelDiagrams/LabelsAndThresholds.csv'):\n",
        "\n",
        "  labels = []\n",
        "  coughValues = []\n",
        "\n",
        "  with open(filepath, newline='') as csvfile:\n",
        "      spamreader = csv.reader(csvfile, delimiter=' ', quotechar='|')\n",
        "      for index, row in enumerate(spamreader):\n",
        "          entries = row[0].split(',')\n",
        "          if index == 0:\n",
        "            labels = entries\n",
        "          else:\n",
        "            coughValues = entries\n",
        "  \n",
        "  return np.array(labels), np.array(coughValues)"
      ],
      "execution_count": 2,
      "outputs": []
    },
    {
      "cell_type": "code",
      "metadata": {
        "id": "YCgMlOvtI6jq"
      },
      "source": [
        "generateAllMelSpectrogramsAndLabelsFile('./drive/MyDrive/COUGHVID/test_dset/MelDiagrams', 0.0)\n"
      ],
      "execution_count": null,
      "outputs": []
    },
    {
      "cell_type": "code",
      "metadata": {
        "id": "u1t-ohQIOai6",
        "colab": {
          "base_uri": "https://localhost:8080/"
        },
        "outputId": "ce4369d4-1d0d-4082-840f-1049935a574f"
      },
      "source": [
        "labels, _ = convertCSVToArrays()\n",
        "\n",
        "X = readAllMelSpecs()\n",
        "Y = oneHotEncoding(labels)\n",
        "\n",
        "\n",
        "print(X.shape)\n",
        "print(Y.shape)"
      ],
      "execution_count": null,
      "outputs": [
        {
          "output_type": "stream",
          "name": "stdout",
          "text": [
            "(25, 240, 320, 1)\n",
            "(25, 3)\n"
          ]
        }
      ]
    },
    {
      "cell_type": "markdown",
      "metadata": {
        "id": "uZH1Whv-bB27"
      },
      "source": [
        "--------- preprocessing done ------------"
      ]
    },
    {
      "cell_type": "code",
      "metadata": {
        "id": "DS3G1XoxCZix"
      },
      "source": [
        "# lets keep this, maybe we will need this\n",
        "def transform_function(frequency):\n",
        "  return 2595 * np.log10(1 + (frequency/700))\n",
        "\n",
        "  "
      ],
      "execution_count": null,
      "outputs": []
    },
    {
      "cell_type": "code",
      "metadata": {
        "id": "fj4aWCI6x0Da"
      },
      "source": [
        "model = DTLMC()"
      ],
      "execution_count": null,
      "outputs": []
    },
    {
      "cell_type": "code",
      "metadata": {
        "id": "0T8ZtAkRyNX8"
      },
      "source": [
        "model.compile(optimizer=tf.keras.optimizers.Adam(learning_rate=1e-3),\n",
        "              loss=tf.keras.losses.BinaryCrossentropy())"
      ],
      "execution_count": null,
      "outputs": []
    },
    {
      "cell_type": "code",
      "metadata": {
        "id": "_FvD4Wsayykg",
        "colab": {
          "base_uri": "https://localhost:8080/"
        },
        "outputId": "1f8a6f85-9d3e-4c46-cfb2-c0a7504233d6"
      },
      "source": [
        "model.fit(X,Y)"
      ],
      "execution_count": null,
      "outputs": [
        {
          "output_type": "stream",
          "name": "stdout",
          "text": [
            "1/1 [==============================] - 2s 2s/step - loss: 1.5942\n"
          ]
        },
        {
          "output_type": "execute_result",
          "data": {
            "text/plain": [
              "<keras.callbacks.History at 0x7f42d434f150>"
            ]
          },
          "metadata": {},
          "execution_count": 14
        }
      ]
    },
    {
      "cell_type": "code",
      "metadata": {
        "id": "OvxRIWgI3dPB"
      },
      "source": [
        "x_single = np.expand_dims(X[0],axis=0)\n",
        "y_single = np.expand_dims(Y[0],axis=0)\n",
        "\n",
        "output = model.call(x_single)"
      ],
      "execution_count": null,
      "outputs": []
    },
    {
      "cell_type": "code",
      "metadata": {
        "id": "ThiGKYkG5TcN"
      },
      "source": [
        "def jsonFileNamesTest():\n",
        "    \"\"\"\n",
        "    Returns the names of all .json files in the path as list of strings\n",
        "    \"\"\"\n",
        "    tmp = !ls './drive/MyDrive/COUGHVID/public_dataset/'\n",
        "    filenames = np.array(tmp)\n",
        "    jsonFileNames = []\n",
        "    for filename in filenames:\n",
        "      if \".json\" in filename:\n",
        "        jsonFileNames.append(filename)\n",
        "    return jsonFileNames\n",
        "\n",
        "def generateMelSpectrogramTest(fileName, inputPath='./drive/MyDrive/COUGHVID/public_dataset/'):\n",
        "    \"\"\"\n",
        "    Generates Mel Spectogram from cough sample.\n",
        "    Note: multiply values by -1 to avoid black images during png conversion\n",
        "    \"\"\"\n",
        "    x, sr = load_soundfile_from_drive(fileName,inputPath)\n",
        "    M = librosa.feature.melspectrogram(y=x, sr=sr, n_mels=128)\n",
        "    M_db = librosa.power_to_db(M, ref=np.max) * -1\n",
        "    dim = (320,240) # resize to dimensions from https://www.sciencedirect.com/science/article/pii/S2352914820303026\n",
        "    resized = cv2.resize(M_db, dim, interpolation=cv2.INTER_LINEAR)\n",
        "\n",
        "    return resized\n",
        "\n",
        "\n",
        "def generateAllMelSpectrogramsAndLabelsFileTraining(outputPath, threshold, inputPath='./drive/MyDrive/COUGHVID/public_dataset/'):\n",
        "    LabelsList = []\n",
        "    ThresholdList = []\n",
        "    filenames = jsonFileNamesTest()\n",
        "    filenames = filenames[0:1200]\n",
        "    for filename in filenames:\n",
        "      filename = filename.strip()\n",
        "      try:\n",
        "        if hasStatusAttribute(filename,inputPath) and coughDetectionIsAboveThreshold(filename, threshold, inputPath):\n",
        "          LabelsList.append(valueFromJsonParser(filename,'status',inputPath))\n",
        "          ThresholdList.append(valueFromJsonParser(filename,'cough_detected',inputPath))\n",
        "          audioFileName = filename.strip(\".json\")+\".webm\"\n",
        "          if os.path.isfile(inputPath + audioFileName) == False:\n",
        "            audioFileName = filename.strip(\".json\")+\".ogg\"\n",
        "          melSpectrogram = generateMelSpectrogramTest(audioFileName,inputPath)\n",
        "          melSpectrogramFileName = filename.strip(\".json\")+\".png\"\n",
        "          melSpectrogramFilePath = os.path.join(outputPath,melSpectrogramFileName)\n",
        "          cv2.imwrite(melSpectrogramFilePath, melSpectrogram)\n",
        "          #print('file written:' + melSpectrogramFilePath)\n",
        "      except FileNotFoundError:\n",
        "        print('File was not found')\n",
        "        continue\n",
        "    with open(os.path.join(outputPath,\"LabelsAndThresholds.csv\"), 'w') as file:\n",
        "      wr = csv.writer(file)\n",
        "      wr.writerow(LabelsList)\n",
        "      wr.writerow(ThresholdList)\n",
        "\n",
        "def readAllMelSpecsTest():\n",
        "  data = []\n",
        "  for (dirpath, dirnames, filenames) in os.walk('./drive/MyDrive/COUGHVID/large_test_dset/'):\n",
        "    for file in filenames:\n",
        "      if '.png' in file:\n",
        "        filepath = './drive/MyDrive/COUGHVID/large_test_dset/' + file\n",
        "        tmp = cv2.imread(filepath, cv2.IMREAD_UNCHANGED)\n",
        "        tmp_expanded=np.expand_dims(tmp,axis=2)\n",
        "        data.append(tmp_expanded)\n",
        "\n",
        "  return np.float32(np.array(data))"
      ],
      "execution_count": null,
      "outputs": []
    },
    {
      "cell_type": "code",
      "metadata": {
        "id": "-JvqcUsC5wVz"
      },
      "source": [
        "generateAllMelSpectrogramsAndLabelsFileTraining('./drive/MyDrive/COUGHVID/large_test_dset/', 0.0)\n"
      ],
      "execution_count": null,
      "outputs": []
    },
    {
      "cell_type": "code",
      "metadata": {
        "id": "hQf_Z0d_D-SA"
      },
      "source": [
        "data_large = readAllMelSpecsTest()\n",
        "labels_large, _ = convertCSVToArrays('./drive/MyDrive/COUGHVID/large_test_dset/LabelsAndThresholds.csv')"
      ],
      "execution_count": null,
      "outputs": []
    },
    {
      "cell_type": "code",
      "metadata": {
        "id": "Tx7lbo5lXGSo",
        "colab": {
          "base_uri": "https://localhost:8080/"
        },
        "outputId": "a88f689f-9df8-4fff-a6a0-c892aa90eb11"
      },
      "source": [
        "print(labels_large.shape)\n",
        "print(data_large.shape)\n",
        "tmp = (data_large[0].reshape((1,240*320)) == 80.)\n",
        "#print(data_large[0])\n",
        "print(len(np.nonzero(tmp)))\n",
        "#cv2_imshow(data_large[0])"
      ],
      "execution_count": null,
      "outputs": [
        {
          "output_type": "stream",
          "name": "stdout",
          "text": [
            "(699,)\n",
            "(699, 240, 320, 1)\n",
            "2\n"
          ]
        }
      ]
    },
    {
      "cell_type": "code",
      "metadata": {
        "id": "fe8uU57erpcj"
      },
      "source": [
        "\n"
      ],
      "execution_count": null,
      "outputs": []
    },
    {
      "cell_type": "markdown",
      "metadata": {
        "id": "K5xVFkKFabPh"
      },
      "source": [
        "8----------------DONT TOUCH ANYTHING ABOVE THIS LINE ------------------------------------------------- D"
      ]
    },
    {
      "cell_type": "code",
      "metadata": {
        "id": "MRSrTRAjihx5"
      },
      "source": [
        "#First attempt with SVM to train\n",
        "\n",
        "##Data preparation\n",
        "generateAllMelSpectrogramsAndLabelsFile('./drive/MyDrive/COUGHVID/test_dset/MelSpecs',\n",
        "                                        0.0,\n",
        "                                        './drive/MyDrive/COUGHVID/test_dset')"
      ],
      "execution_count": null,
      "outputs": []
    },
    {
      "cell_type": "code",
      "metadata": {
        "id": "qjpD-KKSoEkk"
      },
      "source": [
        "tmp = !ls './drive/MyDrive/COUGHVID/test_dset'"
      ],
      "execution_count": null,
      "outputs": []
    },
    {
      "cell_type": "code",
      "metadata": {
        "id": "wgk0iwrZpimN"
      },
      "source": [
        "jsonFileNames('./drive/MyDrive/COUGHVID/test_dset')"
      ],
      "execution_count": null,
      "outputs": []
    },
    {
      "cell_type": "code",
      "metadata": {
        "id": "RiV24fCYp2QM"
      },
      "source": [
        "filenames = []\n",
        "\n",
        "for path, dirs, files in os.walk('./drive/MyDrive/COUGHVID/test_dset'):\n",
        "  filenames.append(files)"
      ],
      "execution_count": null,
      "outputs": []
    },
    {
      "cell_type": "code",
      "metadata": {
        "id": "cFvfVeTOtMSr",
        "colab": {
          "base_uri": "https://localhost:8080/"
        },
        "outputId": "4ed31a6d-fc88-445c-d841-36983c88f95d"
      },
      "source": [
        "#print(filenames)\n",
        "print(X.shape)"
      ],
      "execution_count": null,
      "outputs": [
        {
          "output_type": "stream",
          "name": "stdout",
          "text": [
            "(200, 76800)\n"
          ]
        }
      ]
    },
    {
      "cell_type": "code",
      "metadata": {
        "id": "ay95EP3tNY8h",
        "colab": {
          "base_uri": "https://localhost:8080/"
        },
        "outputId": "9f04a31b-8893-487d-8efc-41d2667a1da3"
      },
      "source": [
        "X = np.reshape(data_large[:,:,:,0], (data_large.shape[0], 240*320))\n",
        "pca = PCA(n_components = 100)\n",
        "pca.fit_transform(X)\n",
        "pcaProjections = pca.components_.T\n",
        "y = labels_large\n",
        "\n",
        "tsne = TSNE(n_components=2)\n",
        "tsne_result = tsne.fit_transform(X)\n",
        "print(tsne_result.shape)"
      ],
      "execution_count": null,
      "outputs": [
        {
          "output_type": "stream",
          "name": "stdout",
          "text": [
            "(699, 2)\n"
          ]
        }
      ]
    },
    {
      "cell_type": "markdown",
      "metadata": {
        "id": "-MPGWEfHYk9r"
      },
      "source": [
        "Plotting (the plott sucks because somehow the function \"readAllMelSpecsTest\" doesnt read the png's correctly - it reads or writes 80 everywhere)"
      ]
    },
    {
      "cell_type": "code",
      "metadata": {
        "id": "RHkgl9WANgvg",
        "colab": {
          "base_uri": "https://localhost:8080/",
          "height": 299
        },
        "outputId": "a064d698-f48f-4c37-c0d7-159bf6319370"
      },
      "source": [
        "tsne_result_df = pd.DataFrame({'tsne_1': tsne_result[:,0], 'tsne_2': tsne_result[:,1], 'label': y})\n",
        "fig, ax = plt.subplots(1)\n",
        "sns.scatterplot(x='tsne_1', y='tsne_2', hue='label', data=tsne_result_df, ax=ax)\n",
        "lim = (tsne_result.min()-5, tsne_result.max()+5)\n",
        "ax.set_xlim(lim)\n",
        "ax.set_ylim(lim)\n",
        "ax.set_aspect('equal')\n",
        "ax.legend(bbox_to_anchor=(1.05, 1), loc=2)"
      ],
      "execution_count": null,
      "outputs": [
        {
          "output_type": "execute_result",
          "data": {
            "text/plain": [
              "<matplotlib.legend.Legend at 0x7f6af5ee86d0>"
            ]
          },
          "metadata": {},
          "execution_count": 91
        },
        {
          "output_type": "display_data",
          "data": {
            "image/png": "[encoded data removed]",
            "text/plain": [
              "<Figure size 432x288 with 1 Axes>"
            ]
          },
          "metadata": {
            "needs_background": "light"
          }
        }
      ]
    },
    {
      "cell_type": "code",
      "metadata": {
        "colab": {
          "base_uri": "https://localhost:8080/",
          "height": 247
        },
        "id": "DwH7ESMctMEE",
        "outputId": "70461bf7-abda-45c2-ac97-ae73b8d12eb0"
      },
      "source": [
        "soundFileNames = []\n",
        "for (dirpath, dirnames, filenames) in os.walk('./drive/MyDrive/COUGHVID/public_dataset/'):\n",
        "  for filename in filenames:\n",
        "    if \".webm\" in filename or \".ogg\" in filename:\n",
        "      soundFileNames.append(filename)\n",
        "\n"
      ],
      "execution_count": null,
      "outputs": [
        {
          "output_type": "error",
          "ename": "TypeError",
          "evalue": "ignored",
          "traceback": [
            "\u001b[0;31m---------------------------------------------------------------------------\u001b[0m",
            "\u001b[0;31mTypeError\u001b[0m                                 Traceback (most recent call last)",
            "\u001b[0;32m<ipython-input-95-257d4290d7e3>\u001b[0m in \u001b[0;36m<module>\u001b[0;34m()\u001b[0m\n\u001b[1;32m      7\u001b[0m \u001b[0mmfccs\u001b[0m \u001b[0;34m=\u001b[0m \u001b[0mnp\u001b[0m\u001b[0;34m.\u001b[0m\u001b[0marray\u001b[0m\u001b[0;34m(\u001b[0m\u001b[0;34m[\u001b[0m\u001b[0;34m]\u001b[0m\u001b[0;34m)\u001b[0m\u001b[0;34m\u001b[0m\u001b[0;34m\u001b[0m\u001b[0m\n\u001b[1;32m      8\u001b[0m \u001b[0;32mfor\u001b[0m \u001b[0mfilename\u001b[0m \u001b[0;32min\u001b[0m \u001b[0msoundFileNames\u001b[0m\u001b[0;34m[\u001b[0m\u001b[0;36m0\u001b[0m\u001b[0;34m:\u001b[0m\u001b[0;36m10\u001b[0m\u001b[0;34m]\u001b[0m\u001b[0;34m:\u001b[0m\u001b[0;34m\u001b[0m\u001b[0;34m\u001b[0m\u001b[0m\n\u001b[0;32m----> 9\u001b[0;31m   \u001b[0mmfccs\u001b[0m \u001b[0;34m=\u001b[0m \u001b[0mnp\u001b[0m\u001b[0;34m.\u001b[0m\u001b[0mvstack\u001b[0m\u001b[0;34m(\u001b[0m\u001b[0mmfccs\u001b[0m\u001b[0;34m,\u001b[0m \u001b[0mgenerateMfcc\u001b[0m\u001b[0;34m(\u001b[0m\u001b[0mfilename\u001b[0m\u001b[0;34m,\u001b[0m \u001b[0;34m'./drive/MyDrive/COUGHVID/public_dataset/'\u001b[0m\u001b[0;34m)\u001b[0m\u001b[0;34m)\u001b[0m\u001b[0;34m\u001b[0m\u001b[0;34m\u001b[0m\u001b[0m\n\u001b[0m",
            "\u001b[0;32m<__array_function__ internals>\u001b[0m in \u001b[0;36mvstack\u001b[0;34m(*args, **kwargs)\u001b[0m\n",
            "\u001b[0;31mTypeError\u001b[0m: _vhstack_dispatcher() takes 1 positional argument but 2 were given"
          ]
        }
      ]
    },
    {
      "cell_type": "code",
      "metadata": {
        "colab": {
          "base_uri": "https://localhost:8080/"
        },
        "id": "NSNWbGmxAwYv",
        "outputId": "c0191096-9529-4030-8140-8225545d521e"
      },
      "source": [
        "tmp = generateMfcc(soundFileNames[3], './drive/MyDrive/COUGHVID/public_dataset/')\n",
        "#print(tmp)\n",
        "print(extractFeaturesFromMfcc(tmp,P = 10).shape)"
      ],
      "execution_count": null,
      "outputs": [
        {
          "output_type": "stream",
          "name": "stdout",
          "text": [
            "(256,)\n"
          ]
        }
      ]
    },
    {
      "cell_type": "code",
      "metadata": {
        "id": "xRoQkB31Apqf"
      },
      "source": [
        "data = np.zeros(shape=(256,))\n",
        "for filename in soundFileNames[0:10]:\n",
        "  mfcc = generateMfcc(filename, './drive/MyDrive/COUGHVID/public_dataset/')\n",
        "  features = extractFeaturesFromMfcc(mfcc, P = 10)\n",
        "  data = np.vstack((data, features))"
      ],
      "execution_count": null,
      "outputs": []
    },
    {
      "cell_type": "code",
      "metadata": {
        "colab": {
          "base_uri": "https://localhost:8080/"
        },
        "id": "sojLPxyzy2Be",
        "outputId": "0592db9f-197c-42f8-e7e6-1a840c3d38e4"
      },
      "source": [
        "data.shape"
      ],
      "execution_count": null,
      "outputs": [
        {
          "output_type": "execute_result",
          "data": {
            "text/plain": [
              "(11, 256)"
            ]
          },
          "metadata": {},
          "execution_count": 126
        }
      ]
    },
    {
      "cell_type": "code",
      "metadata": {
        "id": "m5ke26ToAIuW"
      },
      "source": [
        ""
      ],
      "execution_count": null,
      "outputs": []
    }
  ]
}