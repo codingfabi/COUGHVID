{
  "nbformat": 4,
  "nbformat_minor": 0,
  "metadata": {
    "colab": {
      "name": "Final Project.ipynb",
      "provenance": [],
      "collapsed_sections": [],
      "include_colab_link": true
    },
    "kernelspec": {
      "display_name": "Python 3",
      "name": "python3"
    },
    "language_info": {
      "name": "python"
    }
  },
  "cells": [
    {
      "cell_type": "markdown",
      "metadata": {
        "id": "view-in-github",
        "colab_type": "text"
      },
      "source": [
        "<a href=\"https://colab.research.google.com/github/codingfabi/COUGHVID/blob/t-sne-clusterization/Final_Project.ipynb\" target=\"_parent\"><img src=\"https://colab.research.google.com/assets/colab-badge.svg\" alt=\"Open In Colab\"/></a>"
      ]
    },
    {
      "cell_type": "code",
      "metadata": {
        "colab": {
          "base_uri": "https://localhost:8080/"
        },
        "id": "rOxKPxcOUl3_",
        "outputId": "4302d1d4-f1dd-488a-a473-b421e3712861"
      },
      "source": [
        "from google.colab import drive\n",
        "drive.mount('/content/drive')"
      ],
      "execution_count": null,
      "outputs": [
        {
          "output_type": "stream",
          "name": "stdout",
          "text": [
            "Mounted at /content/drive\n"
          ]
        }
      ]
    },
    {
      "cell_type": "code",
      "metadata": {
        "id": "Bp_6AiQs6N9p"
      },
      "source": [
        "from scipy.io import wavfile\n",
        "import librosa\n",
        "import librosa.display\n",
        "import matplotlib.pyplot as plt\n",
        "import json\n",
        "import os\n",
        "import numpy as np\n",
        "import skimage.io\n",
        "import cv2\n",
        "import tensorflow as tf\n",
        "import csv\n",
        "from sklearn import svm\n",
        "\n",
        "from sklearn.manifold import TSNE\n",
        "import pandas as pd\n",
        "import seaborn as sns\n",
        "\n",
        "from google.colab.patches import cv2_imshow"
      ],
      "execution_count": null,
      "outputs": []
    },
    {
      "cell_type": "code",
      "metadata": {
        "id": "XoDSp7DTBmBn"
      },
      "source": [
        "import warnings\n",
        "warnings.filterwarnings(\"ignore\")"
      ],
      "execution_count": null,
      "outputs": []
    },
    {
      "cell_type": "code",
      "metadata": {
        "id": "w0Cc6bIGKb5-"
      },
      "source": [
        "class CoughDetector(tf.keras.Model):\n",
        "\n",
        "  def __init__(self):\n",
        "    super(CoughDetector, self).__init__()\n",
        "    self.MaxPool1 = tf.keras.layers.MaxPool2D(pool_size=(2,2))\n",
        "    self.Conv1 = tf.keras.layers.Conv2D(filters = 16,kernel_size=(5,5), activation=tf.nn.relu)\n",
        "    self.Conv2 = tf.keras.layers.Conv2D(filters = 16,kernel_size=(5,5), activation=tf.nn.relu)\n",
        "    self.MaxPool2 = tf.keras.layers.MaxPool2D(pool_size=(2,2))\n",
        "    self.Dropout1 = tf.keras.layers.Dropout(rate = 0.15)\n",
        "    self.Conv3 = tf.keras.layers.Conv2D(filters = 16,kernel_size=(5,5), activation=tf.nn.relu)\n",
        "    self.Conv4 = tf.keras.layers.Conv2D(filters = 16,kernel_size=(5,5), activation=tf.nn.relu)\n",
        "    self.MaxPool3 = tf.keras.layers.MaxPool2D(pool_size=(2,2))\n",
        "    self.Dropout2 = tf.keras.layers.Dropout(rate = 0.15)\n",
        "    self.flatten = tf.keras.layers.Flatten()\n",
        "    self.Dense1 = tf.keras.layers.Dense(256)\n",
        "    self.Dropout3 = tf.keras.layers.Dropout(rate = 0.30)\n",
        "    self.Dense2 = tf.keras.layers.Dense(2,activation=tf.nn.softmax)\n",
        "\n",
        "  def call(self, inputs):\n",
        "    x = self.MaxPool1(inputs)\n",
        "    x = self.Conv1(x)\n",
        "    x = self.Conv2(x)\n",
        "    x = self.MaxPool2(x)\n",
        "    x = self.Dropout1(x)\n",
        "    x = self.Conv3(x)\n",
        "    x = self.Conv4(x)\n",
        "    x = self.MaxPool3(x)\n",
        "    x = self.Dropout2(x)\n",
        "    x = self.flatten(x)\n",
        "    x = self.Dense1(x)\n",
        "    x = self.Dropout3(x)\n",
        "    x = self.Dense2(x)\n",
        "    return x\n",
        "\n",
        "class DTLMC(tf.keras.Model):\n",
        "\n",
        "  def __init__(self):\n",
        "    super(DTLMC, self).__init__()\n",
        "    self.MaxPool1 = tf.keras.layers.MaxPool2D(pool_size=(2,2))\n",
        "    self.Conv1 = tf.keras.layers.Conv2D(filters = 16,kernel_size=(5,5), activation=tf.nn.relu)\n",
        "    self.Conv2 = tf.keras.layers.Conv2D(filters = 16,kernel_size=(5,5), activation=tf.nn.relu)\n",
        "    self.MaxPool2 = tf.keras.layers.MaxPool2D(pool_size=(2,2))\n",
        "    self.Dropout1 = tf.keras.layers.Dropout(rate = 0.15)\n",
        "    self.Conv3 = tf.keras.layers.Conv2D(filters = 16,kernel_size=(5,5), activation=tf.nn.relu)\n",
        "    self.Conv4 = tf.keras.layers.Conv2D(filters = 16,kernel_size=(5,5), activation=tf.nn.relu)\n",
        "    self.MaxPool3 = tf.keras.layers.MaxPool2D(pool_size=(2,2))\n",
        "    self.Dropout2 = tf.keras.layers.Dropout(rate = 0.15)\n",
        "    self.flatten = tf.keras.layers.Flatten()\n",
        "    self.Dense1 = tf.keras.layers.Dense(256)\n",
        "    self.Dropout3 = tf.keras.layers.Dropout(rate = 0.30)\n",
        "    self.Dense2 = tf.keras.layers.Dense(3,activation=tf.nn.softmax)\n",
        "\n",
        "  def call(self, inputs):\n",
        "    x = self.MaxPool1(inputs)\n",
        "    x = self.Conv1(x)\n",
        "    x = self.Conv2(x)\n",
        "    x = self.MaxPool2(x)\n",
        "    x = self.Dropout1(x)\n",
        "    x = self.Conv3(x)\n",
        "    x = self.Conv4(x)\n",
        "    x = self.MaxPool3(x)\n",
        "    x = self.Dropout2(x)\n",
        "    x = self.flatten(x)\n",
        "    x = self.Dense1(x)\n",
        "    x = self.Dropout3(x)\n",
        "    x = self.Dense2(x)\n",
        "    return x\n",
        "\n",
        "class DTLBC(tf.keras.Model):\n",
        "\n",
        "  def __init__(self):\n",
        "    super(DTLBC, self).__init__()\n",
        "    self.MaxPool1 = tf.keras.layers.MaxPool2D(pool_size=(2,2))\n",
        "    self.Conv1 = tf.keras.layers.Conv2D(filters = 16,kernel_size=(5,5), activation=tf.nn.relu)\n",
        "    self.Conv2 = tf.keras.layers.Conv2D(filters = 16,kernel_size=(5,5), activation=tf.nn.relu)\n",
        "    self.MaxPool2 = tf.keras.layers.MaxPool2D(pool_size=(2,2))\n",
        "    self.Dropout1 = tf.keras.layers.Dropout(rate = 0.15)\n",
        "    self.Conv3 = tf.keras.layers.Conv2D(filters = 16,kernel_size=(5,5), activation=tf.nn.relu)\n",
        "    self.Conv4 = tf.keras.layers.Conv2D(filters = 16,kernel_size=(5,5), activation=tf.nn.relu)\n",
        "    self.MaxPool3 = tf.keras.layers.MaxPool2D(pool_size=(2,2))\n",
        "    self.Dropout2 = tf.keras.layers.Dropout(rate = 0.15)\n",
        "    self.flatten = tf.keras.layers.Flatten()\n",
        "    self.Dense1 = tf.keras.layers.Dense(256)\n",
        "    self.Dropout3 = tf.keras.layers.Dropout(rate = 0.30)\n",
        "    self.Dense2 = tf.keras.layers.Dense(2,activation=tf.nn.softmax)\n",
        "\n",
        "  def call(self, inputs):\n",
        "    x = self.MaxPool1(inputs)\n",
        "    x = self.Conv1(x)\n",
        "    x = self.Conv2(x)\n",
        "    x = self.MaxPool2(x)\n",
        "    x = self.Dropout1(x)\n",
        "    x = self.Conv3(x)\n",
        "    x = self.Conv4(x)\n",
        "    x = self.MaxPool3(x)\n",
        "    x = self.Dropout2(x)\n",
        "    x = self.flatten(x)\n",
        "    x = self.Dense1(x)\n",
        "    x = self.Dropout3(x)\n",
        "    x = self.Dense2(x)\n",
        "    return x\n",
        "\n",
        "class SVM():\n",
        "\n",
        "  def __init__(self):\n",
        "    self.clf = sklearn.svm.SVC(kernel='linear')\n",
        "    # other possible kernels include: \"linear\", \"polynomial\", \"rbf\", \"sigmoid\"\n",
        "\n",
        "  def fit(X, y):\n",
        "    self.clf.fit(X,y)\n",
        "\n",
        "  def predict(X):\n",
        "    return self.clf.predict(X)"
      ],
      "execution_count": null,
      "outputs": []
    },
    {
      "cell_type": "markdown",
      "metadata": {
        "id": "JPcztxOnUtaU"
      },
      "source": [
        "With the library 'librosa', we can easily handle audio files and create data arrays and spectograms out of the cough samples:"
      ]
    },
    {
      "cell_type": "code",
      "metadata": {
        "colab": {
          "base_uri": "https://localhost:8080/",
          "height": 641
        },
        "id": "fOfLXIxB6szF",
        "outputId": "4dc4852d-d36b-437d-9e25-1383beb2163e"
      },
      "source": [
        "x , sr = librosa.load('./drive/MyDrive/COUGHVID/testcough.webm')\n",
        "plt.figure(figsize=(14,5))\n",
        "librosa.display.waveplot(x)\n",
        "x_new = librosa.stft(x)\n",
        "x_db = librosa.amplitude_to_db(abs(x_new))\n",
        "\n",
        "plt.figure(figsize=(14,5))\n",
        "librosa.display.specshow(x_db, sr=sr)\n",
        "plt.colorbar()"
      ],
      "execution_count": null,
      "outputs": [
        {
          "output_type": "execute_result",
          "data": {
            "text/plain": [
              "<matplotlib.colorbar.Colorbar at 0x7f61859b2a10>"
            ]
          },
          "metadata": {},
          "execution_count": 6
        },
        {
          "output_type": "display_data",
          "data": {
            "image/png": "[encoded data removed]",
            "text/plain": [
              "<Figure size 1008x360 with 1 Axes>"
            ]
          },
          "metadata": {
            "needs_background": "light"
          }
        },
        {
          "output_type": "display_data",
          "data": {
            "image/png": "[encoded data removed]",
            "text/plain": [
              "<Figure size 1008x360 with 2 Axes>"
            ]
          },
          "metadata": {
            "needs_background": "light"
          }
        }
      ]
    },
    {
      "cell_type": "markdown",
      "metadata": {
        "id": "P4tgJrgls1_X"
      },
      "source": [
        "We create some helper functions to handle file extractions and spectogram image creation:"
      ]
    },
    {
      "cell_type": "code",
      "metadata": {
        "id": "Uf03Romms7E8"
      },
      "source": [
        "\n",
        "def load_json_from_drive(filename):\n",
        "  with open('./drive/MyDrive/COUGHVID/' + filename) as json_file:\n",
        "    data = json.load(json_file)\n",
        "  \n",
        "  return data\n",
        "\n",
        "def load_soundfile_from_drive(filename, path='./drive/MyDrive/COUGHVID/test_dset/'):\n",
        "  x , sr = librosa.load(path + filename)\n",
        "  return x, sr\n",
        "\n",
        "def jsonFileNames(path='./drive/MyDrive/COUGHVID/test_dset/'):\n",
        "    \"\"\"\n",
        "    Returns the names of all .json files in the path as list of strings\n",
        "    \"\"\"\n",
        "    tmp = !ls './drive/MyDrive/COUGHVID/test_dset'\n",
        "    filenames = np.array(tmp)\n",
        "    jsonFileNames = []\n",
        "    for filename in filenames:\n",
        "      if \".json\" in filename:\n",
        "        jsonFileNames.append(filename)\n",
        "    return jsonFileNames\n",
        "\n",
        "def hasStatusAttribute(fileName, path='./drive/MyDrive/COUGHVID/test_dset/'):\n",
        "    \"\"\"\n",
        "    Returns a boolean indicating if the specified json file has a 'status' key    \n",
        "    \"\"\"\n",
        "    with open(os.path.join(path,fileName)) as file:\n",
        "        data = json.load(file)\n",
        "        hasStatusAttribute = 'status' in data\n",
        "        print('statusAttribute: ' + str(hasStatusAttribute))\n",
        "        return hasStatusAttribute\n",
        "\n",
        "def valueFromJsonParser(fileName, key, path='./drive/MyDrive/COUGHVID/test_dset/'):\n",
        "    \"\"\"\n",
        "    Returns the status of the specified json file \n",
        "    \"\"\"    \n",
        "    with open(os.path.join(path, fileName)) as file:\n",
        "        data = json.load(file)\n",
        "        return data[str(key)]\n",
        "\n",
        "def generateMelSpectrogram(fileName, inputPath='./drive/MyDrive/COUGHVID/test_dset/'):\n",
        "    \"\"\"\n",
        "    Generates Mel Spectogram from cough sample.\n",
        "    Note: multiply values by -1 to avoid black images during png conversion\n",
        "    \"\"\"\n",
        "    x, sr = load_soundfile_from_drive(fileName)\n",
        "    M = librosa.feature.melspectrogram(y=x, sr=sr, n_mels=128)\n",
        "    M_db = librosa.power_to_db(M, ref=np.max) * -1\n",
        "    dim = (320,240) # resize to dimensions from https://www.sciencedirect.com/science/article/pii/S2352914820303026\n",
        "    resized = cv2.resize(M_db, dim, interpolation=cv2.INTER_LINEAR)\n",
        "\n",
        "    return resized\n",
        "\n",
        "\n",
        "def coughDetectionIsAboveThreshold(fileName, threshold, path='./drive/MyDrive/COUGHVID/test_dset/'):\n",
        "    coughDetectionIsAboveThreshold = False\n",
        "    if float(valueFromJsonParser(fileName,'cough_detected',path)) > threshold:\n",
        "        coughDetectionIsAboveThreshold = True\n",
        "    return coughDetectionIsAboveThreshold\n",
        "\n",
        "def generateAllMelSpectrogramsAndLabelsFile(outputPath, threshold, inputPath='./drive/MyDrive/COUGHVID/test_dset/'):\n",
        "    LabelsList = []\n",
        "    ThresholdList = []\n",
        "    filenames = jsonFileNames(inputPath)\n",
        "    for filename in jsonFileNames(inputPath):\n",
        "      try:\n",
        "        if hasStatusAttribute(filename,inputPath) and coughDetectionIsAboveThreshold(filename, threshold, inputPath):\n",
        "          LabelsList.append(valueFromJsonParser(filename,'status',inputPath))\n",
        "          ThresholdList.append(valueFromJsonParser(filename,'cough_detected',inputPath))\n",
        "          audioFileName = filename.strip(\".json\")+\".webm\"\n",
        "          if os.path.isfile(inputPath + audioFileName) == False:\n",
        "            audioFileName = filename.strip(\".json\")+\".ogg\"\n",
        "          melSpectrogram = generateMelSpectrogram(audioFileName,inputPath)\n",
        "          melSpectrogramFileName = filename.strip(\".json\")+\".png\"\n",
        "          melSpectrogramFilePath = os.path.join(outputPath,melSpectrogramFileName)\n",
        "          cv2.imwrite(melSpectrogramFilePath, melSpectrogram)\n",
        "      except FileNotFoundError:\n",
        "        print('File was not found')\n",
        "        continue\n",
        "    with open(os.path.join(outputPath,\"LabelsAndThresholds.csv\"), 'w') as file:\n",
        "      wr = csv.writer(file)\n",
        "      wr.writerow(LabelsList)\n",
        "      wr.writerow(ThresholdList)\n",
        "\n",
        "def readAllMelSpecs():\n",
        "  data = []\n",
        "  tmp = !ls './drive/MyDrive/COUGHVID/test_dset/MelDiagrams'\n",
        "  files = np.array(tmp)\n",
        "  for file in files:\n",
        "    if '.png' in file:\n",
        "      filepath = './drive/MyDrive/COUGHVID/test_dset/MelDiagrams/' + file\n",
        "      tmp = cv2.imread(filepath, cv2.IMREAD_UNCHANGED)\n",
        "      tmp_expanded=np.expand_dims(tmp,axis=2)\n",
        "      data.append(tmp_expanded)\n",
        "\n",
        "  return np.float32(np.array(data))\n",
        "\n",
        "def oneHotEncoding(labels):\n",
        "  oneHotList = []\n",
        "  for label in labels:\n",
        "    if label == 'healthy':\n",
        "      oneHotList.append([1,0,0])\n",
        "    elif label == 'symptomatic':\n",
        "      oneHotList.append([0,1,0])\n",
        "    elif label == 'COVID-19':\n",
        "      oneHotList.append([0,0,1])\n",
        "\n",
        "  return np.array(oneHotList)\n",
        "\n",
        "def convertCSVToArrays(filepath = './drive/MyDrive/COUGHVID/test_dset/MelDiagrams/LabelsAndThresholds.csv'):\n",
        "\n",
        "  labels = []\n",
        "  coughValues = []\n",
        "\n",
        "  with open(filepath, newline='') as csvfile:\n",
        "      spamreader = csv.reader(csvfile, delimiter=' ', quotechar='|')\n",
        "      for index, row in enumerate(spamreader):\n",
        "          entries = row[0].split(',')\n",
        "          if index == 0:\n",
        "            labels = entries\n",
        "          else:\n",
        "            coughValues = entries\n",
        "  \n",
        "  return np.array(labels), np.array(coughValues)"
      ],
      "execution_count": null,
      "outputs": []
    },
    {
      "cell_type": "code",
      "metadata": {
        "id": "YCgMlOvtI6jq",
        "colab": {
          "base_uri": "https://localhost:8080/",
          "height": 523
        },
        "outputId": "7446cd4e-057e-4284-b33e-04bbec2763a7"
      },
      "source": [
        "generateAllMelSpectrogramsAndLabelsFile('./drive/MyDrive/COUGHVID/test_dset/MelDiagrams', 0.0)\n"
      ],
      "execution_count": null,
      "outputs": [
        {
          "output_type": "stream",
          "name": "stdout",
          "text": [
            "statusAttribute: True\n",
            "statusAttribute: False\n",
            "statusAttribute: False\n",
            "statusAttribute: False\n",
            "statusAttribute: True\n",
            "statusAttribute: True\n",
            "statusAttribute: False\n",
            "statusAttribute: False\n",
            "statusAttribute: True\n",
            "statusAttribute: False\n",
            "statusAttribute: True\n"
          ]
        },
        {
          "output_type": "error",
          "ename": "KeyboardInterrupt",
          "evalue": "ignored",
          "traceback": [
            "\u001b[0;31m---------------------------------------------------------------------------\u001b[0m",
            "\u001b[0;31mKeyboardInterrupt\u001b[0m                         Traceback (most recent call last)",
            "\u001b[0;32m<ipython-input-8-c3a25fb5c8ea>\u001b[0m in \u001b[0;36m<module>\u001b[0;34m()\u001b[0m\n\u001b[0;32m----> 1\u001b[0;31m \u001b[0mgenerateAllMelSpectrogramsAndLabelsFile\u001b[0m\u001b[0;34m(\u001b[0m\u001b[0;34m'./drive/MyDrive/COUGHVID/test_dset/MelDiagrams'\u001b[0m\u001b[0;34m,\u001b[0m \u001b[0;36m0.0\u001b[0m\u001b[0;34m)\u001b[0m\u001b[0;34m\u001b[0m\u001b[0;34m\u001b[0m\u001b[0m\n\u001b[0m",
            "\u001b[0;32m<ipython-input-7-9d213026b06b>\u001b[0m in \u001b[0;36mgenerateAllMelSpectrogramsAndLabelsFile\u001b[0;34m(outputPath, threshold, inputPath)\u001b[0m\n\u001b[1;32m     66\u001b[0m     \u001b[0;32mfor\u001b[0m \u001b[0mfilename\u001b[0m \u001b[0;32min\u001b[0m \u001b[0mjsonFileNames\u001b[0m\u001b[0;34m(\u001b[0m\u001b[0minputPath\u001b[0m\u001b[0;34m)\u001b[0m\u001b[0;34m:\u001b[0m\u001b[0;34m\u001b[0m\u001b[0;34m\u001b[0m\u001b[0m\n\u001b[1;32m     67\u001b[0m       \u001b[0;32mtry\u001b[0m\u001b[0;34m:\u001b[0m\u001b[0;34m\u001b[0m\u001b[0;34m\u001b[0m\u001b[0m\n\u001b[0;32m---> 68\u001b[0;31m         \u001b[0;32mif\u001b[0m \u001b[0mhasStatusAttribute\u001b[0m\u001b[0;34m(\u001b[0m\u001b[0mfilename\u001b[0m\u001b[0;34m,\u001b[0m\u001b[0minputPath\u001b[0m\u001b[0;34m)\u001b[0m \u001b[0;32mand\u001b[0m \u001b[0mcoughDetectionIsAboveThreshold\u001b[0m\u001b[0;34m(\u001b[0m\u001b[0mfilename\u001b[0m\u001b[0;34m,\u001b[0m \u001b[0mthreshold\u001b[0m\u001b[0;34m,\u001b[0m \u001b[0minputPath\u001b[0m\u001b[0;34m)\u001b[0m\u001b[0;34m:\u001b[0m\u001b[0;34m\u001b[0m\u001b[0;34m\u001b[0m\u001b[0m\n\u001b[0m\u001b[1;32m     69\u001b[0m           \u001b[0mLabelsList\u001b[0m\u001b[0;34m.\u001b[0m\u001b[0mappend\u001b[0m\u001b[0;34m(\u001b[0m\u001b[0mvalueFromJsonParser\u001b[0m\u001b[0;34m(\u001b[0m\u001b[0mfilename\u001b[0m\u001b[0;34m,\u001b[0m\u001b[0;34m'status'\u001b[0m\u001b[0;34m,\u001b[0m\u001b[0minputPath\u001b[0m\u001b[0;34m)\u001b[0m\u001b[0;34m)\u001b[0m\u001b[0;34m\u001b[0m\u001b[0;34m\u001b[0m\u001b[0m\n\u001b[1;32m     70\u001b[0m           \u001b[0mThresholdList\u001b[0m\u001b[0;34m.\u001b[0m\u001b[0mappend\u001b[0m\u001b[0;34m(\u001b[0m\u001b[0mvalueFromJsonParser\u001b[0m\u001b[0;34m(\u001b[0m\u001b[0mfilename\u001b[0m\u001b[0;34m,\u001b[0m\u001b[0;34m'cough_detected'\u001b[0m\u001b[0;34m,\u001b[0m\u001b[0minputPath\u001b[0m\u001b[0;34m)\u001b[0m\u001b[0;34m)\u001b[0m\u001b[0;34m\u001b[0m\u001b[0;34m\u001b[0m\u001b[0m\n",
            "\u001b[0;32m<ipython-input-7-9d213026b06b>\u001b[0m in \u001b[0;36mhasStatusAttribute\u001b[0;34m(fileName, path)\u001b[0m\n\u001b[1;32m     27\u001b[0m     \"\"\"\n\u001b[1;32m     28\u001b[0m     \u001b[0;32mwith\u001b[0m \u001b[0mopen\u001b[0m\u001b[0;34m(\u001b[0m\u001b[0mos\u001b[0m\u001b[0;34m.\u001b[0m\u001b[0mpath\u001b[0m\u001b[0;34m.\u001b[0m\u001b[0mjoin\u001b[0m\u001b[0;34m(\u001b[0m\u001b[0mpath\u001b[0m\u001b[0;34m,\u001b[0m\u001b[0mfileName\u001b[0m\u001b[0;34m)\u001b[0m\u001b[0;34m)\u001b[0m \u001b[0;32mas\u001b[0m \u001b[0mfile\u001b[0m\u001b[0;34m:\u001b[0m\u001b[0;34m\u001b[0m\u001b[0;34m\u001b[0m\u001b[0m\n\u001b[0;32m---> 29\u001b[0;31m         \u001b[0mdata\u001b[0m \u001b[0;34m=\u001b[0m \u001b[0mjson\u001b[0m\u001b[0;34m.\u001b[0m\u001b[0mload\u001b[0m\u001b[0;34m(\u001b[0m\u001b[0mfile\u001b[0m\u001b[0;34m)\u001b[0m\u001b[0;34m\u001b[0m\u001b[0;34m\u001b[0m\u001b[0m\n\u001b[0m\u001b[1;32m     30\u001b[0m         \u001b[0mhasStatusAttribute\u001b[0m \u001b[0;34m=\u001b[0m \u001b[0;34m'status'\u001b[0m \u001b[0;32min\u001b[0m \u001b[0mdata\u001b[0m\u001b[0;34m\u001b[0m\u001b[0;34m\u001b[0m\u001b[0m\n\u001b[1;32m     31\u001b[0m         \u001b[0mprint\u001b[0m\u001b[0;34m(\u001b[0m\u001b[0;34m'statusAttribute: '\u001b[0m \u001b[0;34m+\u001b[0m \u001b[0mstr\u001b[0m\u001b[0;34m(\u001b[0m\u001b[0mhasStatusAttribute\u001b[0m\u001b[0;34m)\u001b[0m\u001b[0;34m)\u001b[0m\u001b[0;34m\u001b[0m\u001b[0;34m\u001b[0m\u001b[0m\n",
            "\u001b[0;32m/usr/lib/python3.7/json/__init__.py\u001b[0m in \u001b[0;36mload\u001b[0;34m(fp, cls, object_hook, parse_float, parse_int, parse_constant, object_pairs_hook, **kw)\u001b[0m\n\u001b[1;32m    291\u001b[0m     \u001b[0mkwarg\u001b[0m\u001b[0;34m;\u001b[0m \u001b[0motherwise\u001b[0m\u001b[0;31m \u001b[0m\u001b[0;31m`\u001b[0m\u001b[0;31m`\u001b[0m\u001b[0mJSONDecoder\u001b[0m\u001b[0;31m`\u001b[0m\u001b[0;31m`\u001b[0m \u001b[0;32mis\u001b[0m \u001b[0mused\u001b[0m\u001b[0;34m.\u001b[0m\u001b[0;34m\u001b[0m\u001b[0;34m\u001b[0m\u001b[0m\n\u001b[1;32m    292\u001b[0m     \"\"\"\n\u001b[0;32m--> 293\u001b[0;31m     return loads(fp.read(),\n\u001b[0m\u001b[1;32m    294\u001b[0m         \u001b[0mcls\u001b[0m\u001b[0;34m=\u001b[0m\u001b[0mcls\u001b[0m\u001b[0;34m,\u001b[0m \u001b[0mobject_hook\u001b[0m\u001b[0;34m=\u001b[0m\u001b[0mobject_hook\u001b[0m\u001b[0;34m,\u001b[0m\u001b[0;34m\u001b[0m\u001b[0;34m\u001b[0m\u001b[0m\n\u001b[1;32m    295\u001b[0m         \u001b[0mparse_float\u001b[0m\u001b[0;34m=\u001b[0m\u001b[0mparse_float\u001b[0m\u001b[0;34m,\u001b[0m \u001b[0mparse_int\u001b[0m\u001b[0;34m=\u001b[0m\u001b[0mparse_int\u001b[0m\u001b[0;34m,\u001b[0m\u001b[0;34m\u001b[0m\u001b[0;34m\u001b[0m\u001b[0m\n",
            "\u001b[0;32m/usr/lib/python3.7/codecs.py\u001b[0m in \u001b[0;36mdecode\u001b[0;34m(self, input, final)\u001b[0m\n\u001b[1;32m    317\u001b[0m         \u001b[0;32mraise\u001b[0m \u001b[0mNotImplementedError\u001b[0m\u001b[0;34m\u001b[0m\u001b[0;34m\u001b[0m\u001b[0m\n\u001b[1;32m    318\u001b[0m \u001b[0;34m\u001b[0m\u001b[0m\n\u001b[0;32m--> 319\u001b[0;31m     \u001b[0;32mdef\u001b[0m \u001b[0mdecode\u001b[0m\u001b[0;34m(\u001b[0m\u001b[0mself\u001b[0m\u001b[0;34m,\u001b[0m \u001b[0minput\u001b[0m\u001b[0;34m,\u001b[0m \u001b[0mfinal\u001b[0m\u001b[0;34m=\u001b[0m\u001b[0;32mFalse\u001b[0m\u001b[0;34m)\u001b[0m\u001b[0;34m:\u001b[0m\u001b[0;34m\u001b[0m\u001b[0;34m\u001b[0m\u001b[0m\n\u001b[0m\u001b[1;32m    320\u001b[0m         \u001b[0;31m# decode input (taking the buffer into account)\u001b[0m\u001b[0;34m\u001b[0m\u001b[0;34m\u001b[0m\u001b[0;34m\u001b[0m\u001b[0m\n\u001b[1;32m    321\u001b[0m         \u001b[0mdata\u001b[0m \u001b[0;34m=\u001b[0m \u001b[0mself\u001b[0m\u001b[0;34m.\u001b[0m\u001b[0mbuffer\u001b[0m \u001b[0;34m+\u001b[0m \u001b[0minput\u001b[0m\u001b[0;34m\u001b[0m\u001b[0;34m\u001b[0m\u001b[0m\n",
            "\u001b[0;31mKeyboardInterrupt\u001b[0m: "
          ]
        }
      ]
    },
    {
      "cell_type": "code",
      "metadata": {
        "id": "u1t-ohQIOai6"
      },
      "source": [
        "labels, _ = convertCSVToArrays()\n",
        "\n",
        "X = readAllMelSpecs()\n",
        "Y = oneHotEncoding(labels)\n",
        "\n",
        "\n",
        "print(X.shape)\n",
        "print(Y.shape)"
      ],
      "execution_count": null,
      "outputs": []
    },
    {
      "cell_type": "markdown",
      "metadata": {
        "id": "uZH1Whv-bB27"
      },
      "source": [
        "--------- preprocessing done ------------"
      ]
    },
    {
      "cell_type": "code",
      "metadata": {
        "id": "DS3G1XoxCZix"
      },
      "source": [
        "# lets keep this, maybe we will need this\n",
        "def transform_function(frequency):\n",
        "  return 2595 * np.log10(1 + (frequency/700))\n",
        "\n",
        "  "
      ],
      "execution_count": null,
      "outputs": []
    },
    {
      "cell_type": "code",
      "metadata": {
        "id": "fj4aWCI6x0Da"
      },
      "source": [
        "model = DTLMC()"
      ],
      "execution_count": null,
      "outputs": []
    },
    {
      "cell_type": "code",
      "metadata": {
        "id": "0T8ZtAkRyNX8"
      },
      "source": [
        "model.compile(optimizer=tf.keras.optimizers.Adam(learning_rate=1e-3),\n",
        "              loss=tf.keras.losses.BinaryCrossentropy())"
      ],
      "execution_count": null,
      "outputs": []
    },
    {
      "cell_type": "code",
      "metadata": {
        "id": "_FvD4Wsayykg"
      },
      "source": [
        "model.fit(X,Y)"
      ],
      "execution_count": null,
      "outputs": []
    },
    {
      "cell_type": "code",
      "metadata": {
        "id": "OvxRIWgI3dPB"
      },
      "source": [
        "x_single = np.expand_dims(X[0],axis=0)\n",
        "y_single = np.expand_dims(Y[0],axis=0)\n",
        "\n",
        "output = model.call(x_single)"
      ],
      "execution_count": null,
      "outputs": []
    },
    {
      "cell_type": "code",
      "metadata": {
        "id": "ThiGKYkG5TcN"
      },
      "source": [
        "def jsonFileNamesTest():\n",
        "    \"\"\"\n",
        "    Returns the names of all .json files in the path as list of strings\n",
        "    \"\"\"\n",
        "    tmp = !ls './drive/MyDrive/COUGHVID/public_dataset/'\n",
        "    filenames = np.array(tmp)\n",
        "    jsonFileNames = []\n",
        "    for filename in filenames:\n",
        "      if \".json\" in filename:\n",
        "        jsonFileNames.append(filename)\n",
        "    return jsonFileNames\n",
        "\n",
        "def generateMelSpectrogramTest(fileName, inputPath='./drive/MyDrive/COUGHVID/public_dataset/'):\n",
        "    \"\"\"\n",
        "    Generates Mel Spectogram from cough sample.\n",
        "    Note: multiply values by -1 to avoid black images during png conversion\n",
        "    \"\"\"\n",
        "    x, sr = load_soundfile_from_drive(fileName,inputPath)\n",
        "    M = librosa.feature.melspectrogram(y=x, sr=sr, n_mels=128)\n",
        "    M_db = librosa.power_to_db(M, ref=np.max) * -1\n",
        "    dim = (320,240) # resize to dimensions from https://www.sciencedirect.com/science/article/pii/S2352914820303026\n",
        "    resized = cv2.resize(M_db, dim, interpolation=cv2.INTER_LINEAR)\n",
        "\n",
        "    return resized\n",
        "\n",
        "\n",
        "def generateAllMelSpectrogramsAndLabelsFileTraining(outputPath, threshold, inputPath='./drive/MyDrive/COUGHVID/public_dataset/'):\n",
        "    LabelsList = []\n",
        "    ThresholdList = []\n",
        "    filenames = jsonFileNamesTest()\n",
        "    counter = 0\n",
        "    for filename in filenames:\n",
        "      filename = filename.strip()\n",
        "      try:\n",
        "        if counter < 200 and hasStatusAttribute(filename,inputPath) and coughDetectionIsAboveThreshold(filename, threshold, inputPath):\n",
        "          LabelsList.append(valueFromJsonParser(filename,'status',inputPath))\n",
        "          ThresholdList.append(valueFromJsonParser(filename,'cough_detected',inputPath))\n",
        "          audioFileName = filename.strip(\".json\")+\".webm\"\n",
        "          if os.path.isfile(inputPath + audioFileName) == False:\n",
        "            audioFileName = filename.strip(\".json\")+\".ogg\"\n",
        "          melSpectrogram = generateMelSpectrogramTest(audioFileName,inputPath)\n",
        "          melSpectrogramFileName = filename.strip(\".json\")+\".png\"\n",
        "          melSpectrogramFilePath = os.path.join(outputPath,melSpectrogramFileName)\n",
        "          cv2.imwrite(melSpectrogramFilePath, melSpectrogram)\n",
        "          print('file written:' + melSpectrogramFilePath)\n",
        "          counter += 1\n",
        "      except FileNotFoundError:\n",
        "        print('File was not found')\n",
        "        continue\n",
        "    with open(os.path.join(outputPath,\"LabelsAndThresholds.csv\"), 'w') as file:\n",
        "      wr = csv.writer(file)\n",
        "      wr.writerow(LabelsList)\n",
        "      wr.writerow(ThresholdList)\n",
        "\n",
        "def readAllMelSpecsTest():\n",
        "  data = []\n",
        "  tmp = !ls './drive/MyDrive/COUGHVID/large_test_dset'\n",
        "  files = np.array(tmp)\n",
        "  for file in files:\n",
        "    if '.png' in file:\n",
        "      filepath = './drive/MyDrive/COUGHVID/large_test_dset/' + file\n",
        "      tmp = cv2.imread(filepath, cv2.IMREAD_UNCHANGED)\n",
        "      tmp_expanded=np.expand_dims(tmp,axis=2)\n",
        "      data.append(tmp_expanded)\n",
        "\n",
        "  return np.float32(np.array(data))"
      ],
      "execution_count": null,
      "outputs": []
    },
    {
      "cell_type": "code",
      "metadata": {
        "colab": {
          "base_uri": "https://localhost:8080/"
        },
        "id": "aWfDct1a9PoE",
        "outputId": "0adfad1a-8db3-4580-8052-65411b20f488"
      },
      "source": [
        " filenames = jsonFileNamesTest()\n",
        " print(len(filenames))"
      ],
      "execution_count": null,
      "outputs": [
        {
          "output_type": "stream",
          "name": "stdout",
          "text": [
            "^C\n",
            "0\n"
          ]
        }
      ]
    },
    {
      "cell_type": "code",
      "metadata": {
        "id": "-JvqcUsC5wVz"
      },
      "source": [
        "generateAllMelSpectrogramsAndLabelsFileTraining('./drive/MyDrive/COUGHVID/large_test_dset/', 0.0)\n",
        "#somehow the loop continues beyond the counter"
      ],
      "execution_count": null,
      "outputs": []
    },
    {
      "cell_type": "code",
      "metadata": {
        "id": "hQf_Z0d_D-SA"
      },
      "source": [
        "data_large = readAllMelSpecsTest()\n",
        "labels_large, _ = convertCSVToArrays('./drive/MyDrive/COUGHVID/large_test_dset/LabelsAndThresholds.csv')"
      ],
      "execution_count": null,
      "outputs": []
    },
    {
      "cell_type": "code",
      "metadata": {
        "colab": {
          "base_uri": "https://localhost:8080/"
        },
        "id": "Tx7lbo5lXGSo",
        "outputId": "3e2509fc-dd8e-4f1d-d617-7bc49ec42697"
      },
      "source": [
        "print(labels_large.shape)\n",
        "print(data_large.shape)"
      ],
      "execution_count": null,
      "outputs": [
        {
          "output_type": "stream",
          "name": "stdout",
          "text": [
            "(200,)\n",
            "(200, 240, 320, 1)\n"
          ]
        }
      ]
    },
    {
      "cell_type": "markdown",
      "metadata": {
        "id": "K5xVFkKFabPh"
      },
      "source": [
        "----------------DONT TOUCH ANYTHING ABOVE THIS LINE -------------------------------------------------"
      ]
    },
    {
      "cell_type": "code",
      "metadata": {
        "id": "MRSrTRAjihx5"
      },
      "source": [
        "#First attempt with SVM to train\n",
        "\n",
        "##Data preparation\n",
        "generateAllMelSpectrogramsAndLabelsFile('./drive/MyDrive/COUGHVID/test_dset/MelSpecs',\n",
        "                                        0.0,\n",
        "                                        './drive/MyDrive/COUGHVID/test_dset')"
      ],
      "execution_count": null,
      "outputs": []
    },
    {
      "cell_type": "code",
      "metadata": {
        "id": "qjpD-KKSoEkk"
      },
      "source": [
        "tmp = !ls './drive/MyDrive/COUGHVID/test_dset'"
      ],
      "execution_count": null,
      "outputs": []
    },
    {
      "cell_type": "code",
      "metadata": {
        "id": "wgk0iwrZpimN"
      },
      "source": [
        "jsonFileNames('./drive/MyDrive/COUGHVID/test_dset')"
      ],
      "execution_count": null,
      "outputs": []
    },
    {
      "cell_type": "code",
      "metadata": {
        "id": "RiV24fCYp2QM"
      },
      "source": [
        "filenames = []\n",
        "\n",
        "for path, dirs, files in os.walk('./drive/MyDrive/COUGHVID/test_dset'):\n",
        "  filenames.append(files)"
      ],
      "execution_count": null,
      "outputs": []
    },
    {
      "cell_type": "code",
      "metadata": {
        "id": "cFvfVeTOtMSr"
      },
      "source": [
        "print(filenames)"
      ],
      "execution_count": null,
      "outputs": []
    },
    {
      "cell_type": "code",
      "metadata": {
        "colab": {
          "base_uri": "https://localhost:8080/"
        },
        "id": "ay95EP3tNY8h",
        "outputId": "260da417-d69d-4769-c7b5-582f7a525658"
      },
      "source": [
        "X = np.reshape(data_large[:,:,:,0], (200, 240*320))\n",
        "y = labels_large\n",
        "\n",
        "tsne = TSNE(n_components=2)\n",
        "tsne_result = tsne.fit_transform(X)\n",
        "print(tsne_result.shape)"
      ],
      "execution_count": null,
      "outputs": [
        {
          "output_type": "stream",
          "name": "stdout",
          "text": [
            "(200, 2)\n"
          ]
        }
      ]
    },
    {
      "cell_type": "markdown",
      "metadata": {
        "id": "-MPGWEfHYk9r"
      },
      "source": [
        "Plotting (the plott sucks because somehow the function \"readAllMelSpecsTest\" doesnt read the png's correctly - it reads or writes 80 everywhere)"
      ]
    },
    {
      "cell_type": "code",
      "metadata": {
        "colab": {
          "base_uri": "https://localhost:8080/",
          "height": 298
        },
        "id": "RHkgl9WANgvg",
        "outputId": "55913988-78d6-468b-b724-50750620267d"
      },
      "source": [
        "tsne_result_df = pd.DataFrame({'tsne_1': tsne_result[:,0], 'tsne_2': tsne_result[:,1], 'label': y})\n",
        "fig, ax = plt.subplots(1)\n",
        "sns.scatterplot(x='tsne_1', y='tsne_2', hue='label', data=tsne_result_df, ax=ax)\n",
        "lim = (tsne_result.min()-5, tsne_result.max()+5)\n",
        "ax.set_xlim(lim)\n",
        "ax.set_ylim(lim)\n",
        "ax.set_aspect('equal')\n",
        "ax.legend(bbox_to_anchor=(1.05, 1), loc=2)"
      ],
      "execution_count": null,
      "outputs": [
        {
          "output_type": "execute_result",
          "data": {
            "text/plain": [
              "<matplotlib.legend.Legend at 0x7f617777b4d0>"
            ]
          },
          "metadata": {},
          "execution_count": 57
        },
        {
          "output_type": "display_data",
          "data": {
            "image/png": "[encoded data removed]",
            "text/plain": [
              "<Figure size 432x288 with 1 Axes>"
            ]
          },
          "metadata": {
            "needs_background": "light"
          }
        }
      ]
    }
  ]
}