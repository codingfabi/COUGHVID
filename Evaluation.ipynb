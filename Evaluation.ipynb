{
  "nbformat": 4,
  "nbformat_minor": 0,
  "metadata": {
    "accelerator": "GPU",
    "colab": {
      "name": "Evaluation.ipynb",
      "provenance": [],
      "collapsed_sections": [
        "YlfnvrUiqK94",
        "8GQiU3-oZ82Y",
        "XY4ZsqBS6O-0",
        "Z_F9A0gpxvJ0",
        "FBHElZVGUqmp"
      ],
      "machine_shape": "hm",
      "authorship_tag": "ABX9TyNgcKTDjQ+V76+naxA5jzdr"
    },
    "kernelspec": {
      "display_name": "Python 3",
      "name": "python3"
    },
    "language_info": {
      "name": "python"
    }
  },
  "cells": [
    {
      "cell_type": "code",
      "metadata": {
        "colab": {
          "base_uri": "https://localhost:8080/"
        },
        "id": "zNgw2aeIinHz",
        "outputId": "9eb2c01f-39d3-4bd0-f5bb-5a847777bb44"
      },
      "source": [
        "from google.colab import drive\n",
        "drive.mount('/content/drive', force_remount = True)"
      ],
      "execution_count": 1,
      "outputs": [
        {
          "output_type": "stream",
          "name": "stdout",
          "text": [
            "Mounted at /content/drive\n"
          ]
        }
      ]
    },
    {
      "cell_type": "code",
      "metadata": {
        "id": "XmvhsNgxioBQ"
      },
      "source": [
        "from scipy.io import wavfile\n",
        "from scipy import signal\n",
        "from scipy.io import wavfile\n",
        "from scipy.signal import butter,filtfilt\n",
        "from scipy.signal import cwt\n",
        "from scipy.signal import hilbert\n",
        "from scipy.signal import resample\n",
        "from scipy.signal import decimate\n",
        "from scipy.signal import spectrogram\n",
        "from scipy.signal.windows import get_window\n",
        "from scipy.stats import kurtosis\n",
        "from scipy.integrate import simps\n",
        "\n",
        "import numpy as np\n",
        "\n",
        "import librosa\n",
        "import librosa.display\n",
        "import matplotlib.pyplot as plt\n",
        "import json\n",
        "import os\n",
        "import skimage.io\n",
        "import cv2\n",
        "import tensorflow as tf\n",
        "import csv\n",
        "import sklearn\n",
        "from sklearn import svm\n",
        "from sklearn.decomposition import PCA\n",
        "from sklearn.manifold import TSNE\n",
        "from sklearn.metrics import confusion_matrix, plot_confusion_matrix\n",
        "from sklearn.model_selection import KFold\n",
        "import pandas as pd\n",
        "import seaborn as sns\n",
        "from sklearn.model_selection import train_test_split\n",
        "import IPython.display as ipd\n",
        "from shutil import copyfile, copy\n",
        "from sklearn.utils.class_weight import compute_class_weight\n",
        "from keras import backend as K\n",
        "import keras\n",
        "\n",
        "import seaborn as sn\n",
        "\n",
        "from collections import Counter\n",
        "\n",
        "import pickle\n",
        "\n",
        "from google.colab.patches import cv2_imshow\n",
        "\n",
        "import warnings\n",
        "warnings.filterwarnings(\"ignore\")"
      ],
      "execution_count": 2,
      "outputs": []
    },
    {
      "cell_type": "markdown",
      "metadata": {
        "id": "jzIuQEakbFY3"
      },
      "source": [
        "#Model Implementation"
      ]
    },
    {
      "cell_type": "markdown",
      "metadata": {
        "id": "fLEKgdLI-3mg"
      },
      "source": [
        "We preliminary implement the three AI models: A multi class convolutional neural network (DTLMC), a binary class convolutional neural network (DTLBC) and a support vector machine."
      ]
    },
    {
      "cell_type": "code",
      "metadata": {
        "id": "JyraXvQLmNS6"
      },
      "source": [
        "# implementation of diagnosis clasifier architecture\n",
        "\n",
        "class DTLMC(tf.keras.Model):\n",
        "\n",
        "  def __init__(self):\n",
        "    super(DTLMC, self).__init__()\n",
        "    self.MaxPool1 = tf.keras.layers.MaxPool2D(pool_size=(2,2))\n",
        "    self.Conv1 = tf.keras.layers.Conv2D(filters = 16,kernel_size=(5,5), activation=tf.nn.relu)\n",
        "    self.Conv2 = tf.keras.layers.Conv2D(filters = 16,kernel_size=(5,5), activation=tf.nn.relu)\n",
        "    self.MaxPool2 = tf.keras.layers.MaxPool2D(pool_size=(2,2))\n",
        "    self.Dropout1 = tf.keras.layers.Dropout(rate = 0.15)\n",
        "    self.Conv3 = tf.keras.layers.Conv2D(filters = 16,kernel_size=(5,5), activation=tf.nn.relu)\n",
        "    self.Conv4 = tf.keras.layers.Conv2D(filters = 16,kernel_size=(5,5), activation=tf.nn.relu)\n",
        "    self.MaxPool3 = tf.keras.layers.MaxPool2D(pool_size=(2,2))\n",
        "    self.Dropout2 = tf.keras.layers.Dropout(rate = 0.15)\n",
        "    self.flatten = tf.keras.layers.Flatten()\n",
        "    self.Dense1 = tf.keras.layers.Dense(256)\n",
        "    self.Dropout3 = tf.keras.layers.Dropout(rate = 0.30)\n",
        "    self.Dense2 = tf.keras.layers.Dense(3,activation=tf.nn.softmax)\n",
        "\n",
        "  def call(self, inputs):\n",
        "    x = self.MaxPool1(inputs)\n",
        "    x = self.Conv1(x)\n",
        "    x = self.Conv2(x)\n",
        "    x = self.MaxPool2(x)\n",
        "    x = self.Dropout1(x)\n",
        "    x = self.Conv3(x)\n",
        "    x = self.Conv4(x)\n",
        "    x = self.MaxPool3(x)\n",
        "    x = self.Dropout2(x)\n",
        "    x = self.flatten(x)\n",
        "    x = self.Dense1(x)\n",
        "    x = self.Dropout3(x)\n",
        "    x = self.Dense2(x)\n",
        "    return x\n",
        "\n",
        "class DTLBC(tf.keras.Model):\n",
        "\n",
        "  def __init__(self):\n",
        "    super(DTLBC, self).__init__()\n",
        "    self.MaxPool1 = tf.keras.layers.MaxPool2D(pool_size=(2,2))\n",
        "    self.Conv1 = tf.keras.layers.Conv2D(filters = 16,kernel_size=(5,5), activation=tf.nn.relu)\n",
        "    self.Conv2 = tf.keras.layers.Conv2D(filters = 16,kernel_size=(5,5), activation=tf.nn.relu)\n",
        "    self.MaxPool2 = tf.keras.layers.MaxPool2D(pool_size=(2,2))\n",
        "    self.Dropout1 = tf.keras.layers.Dropout(rate = 0.15)\n",
        "    self.Conv3 = tf.keras.layers.Conv2D(filters = 16,kernel_size=(5,5), activation=tf.nn.relu)\n",
        "    self.Conv4 = tf.keras.layers.Conv2D(filters = 16,kernel_size=(5,5), activation=tf.nn.relu)\n",
        "    self.MaxPool3 = tf.keras.layers.MaxPool2D(pool_size=(2,2))\n",
        "    self.Dropout2 = tf.keras.layers.Dropout(rate = 0.15)\n",
        "    self.flatten = tf.keras.layers.Flatten()\n",
        "    self.Dense1 = tf.keras.layers.Dense(256)\n",
        "    self.Dropout3 = tf.keras.layers.Dropout(rate = 0.30)\n",
        "    self.Dense2 = tf.keras.layers.Dense(2,activation=tf.nn.softmax)\n",
        "\n",
        "  def call(self, inputs):\n",
        "    x = self.MaxPool1(inputs)\n",
        "    x = self.Conv1(x)\n",
        "    x = self.Conv2(x)\n",
        "    x = self.MaxPool2(x)\n",
        "    x = self.Dropout1(x)\n",
        "    x = self.Conv3(x)\n",
        "    x = self.Conv4(x)\n",
        "    x = self.MaxPool3(x)\n",
        "    x = self.Dropout2(x)\n",
        "    x = self.flatten(x)\n",
        "    x = self.Dense1(x)\n",
        "    x = self.Dropout3(x)\n",
        "    x = self.Dense2(x)\n",
        "    return x\n",
        "\n",
        "class SVM():\n",
        "\n",
        "  def __init__(self, classWeights = None):\n",
        "    self.clf = sklearn.svm.SVC(kernel='linear', class_weight=classWeights)\n",
        "    # other possible kernels include: \"linear\", \"polynomial\", \"rbf\", \"sigmoid\"\n",
        "\n",
        "  def fit(self, X, y):\n",
        "    self.clf.fit(X,y)\n",
        "\n",
        "  def predict(self, X):\n",
        "    return self.clf.predict(X)\n",
        "\n",
        "  def evaluateScore(self, X_test, y_test):\n",
        "    return self.clf.score(X_test, y_test)\n",
        "\n",
        "  def getSupportVectors(self):\n",
        "    return self.clf.support_vectors_"
      ],
      "execution_count": 3,
      "outputs": []
    },
    {
      "cell_type": "markdown",
      "metadata": {
        "id": "z9ADeZ5B-2Bo"
      },
      "source": [
        "We furthermore implement a mediator class that evaluates and moderates the prediction results from all three classifiers combined."
      ]
    },
    {
      "cell_type": "code",
      "metadata": {
        "id": "diZwYcpT-1Ch"
      },
      "source": [
        "class Mediator():\n",
        "  '''\n",
        "  The mediator class is designed to realize agreement inbetween the different classifiers.\n",
        "  It returns the predicted class if all of the three classifiers agree with their prediction.\n",
        "  If they do not agree, the mediator class returns a inconclusive result.\n",
        "  '''\n",
        "  def __init__(self, dtlmc, dtlbc, svm):\n",
        "    \"\"\"\n",
        "    Constructor. Takes the pretrained classifiers as arguments\n",
        "    dtlmc: the pretrained multiclass classifier\n",
        "    dtlbc: the pretrained binaryclass classifier\n",
        "    svm: the pretrained support vector machine\n",
        "    \"\"\"\n",
        "    self.multiClassClassifier = dtlmc\n",
        "    self.binaryClassClassifier = dtlbc\n",
        "    self.svm = svm\n",
        "  \n",
        "  def encodePrediction(self, prediction):\n",
        "      if prediction == 'healthy':\n",
        "        return 0\n",
        "      elif prediction == 'symptomatic':\n",
        "        return 2\n",
        "      elif prediction == 'COVID-19':\n",
        "        return 1\n",
        "\n",
        "  def predict(self, X_spectrogram, X_features):\n",
        "    \"\"\"\n",
        "    Collects predictions from all three classifiers and medaites them into single output\n",
        "    X: Features of test sample\n",
        "    \"\"\"\n",
        "    res_dtlmc = self.multiClassClassifier.predict(X_spectrogram)\n",
        "    res_dtlbc = self.binaryClassClassifier.predict(X_spectrogram)\n",
        "    res_svm = self.svm.predict(X_features)\n",
        "\n",
        "    argmax_dtlmc = np.argmax(res_dtlmc)\n",
        "    argmax_dtlbc = np.argmax(res_dtlbc)\n",
        "    argmax_svm = self.encodePrediction(res_svm)\n",
        "\n",
        "    res = 2\n",
        "\n",
        "    if argmax_dtlmc == 0 and argmax_dtlbc == 0 and argmax_svm == 0:\n",
        "      res = 0\n",
        "    if argmax_dtlmc == 2 and argmax_svm == 2 and argmax_dtlbc == 1:\n",
        "      res = 1\n",
        "    if argmax_dtlmc == 1 and argmax_svm == 1 and argmax_dtlbc == 0:\n",
        "      res = 0\n",
        "\n",
        "    return res\n",
        "\n",
        "\n",
        "    def analyzeResult(self, res):\n",
        "      \"\"\"\n",
        "      takes the result of the mediator class and translates it into human readable labels\n",
        "      res: result of the predict() function of the Mediator class\n",
        "      \"\"\"\n",
        "      if res == 0:\n",
        "        return 'Covid unlikely'\n",
        "      if res == 1:\n",
        "        return 'Covid likely'\n",
        "      if res == 2:\n",
        "        return 'Test inconclusive'"
      ],
      "execution_count": 4,
      "outputs": []
    },
    {
      "cell_type": "code",
      "metadata": {
        "id": "8-eIQBgBppZP"
      },
      "source": [
        "# define two functions for one hot encoding because binary classifier needs different labels\n",
        "def oneHotEncoding(labels):\n",
        "  oneHotList = []\n",
        "  for label in labels:\n",
        "    if label == 'healthy':\n",
        "      oneHotList.append([1.0,0.0,0.0])\n",
        "    elif label == 'symptomatic':\n",
        "      oneHotList.append([0.0,0.0,1.0])\n",
        "    elif label == 'COVID-19':\n",
        "      oneHotList.append([0.0,1.0,0.0])\n",
        "\n",
        "  return np.array(oneHotList)\n",
        "\n",
        "def oneHotEncodingForBC(labels):\n",
        "  oneHotList = []\n",
        "  for label in labels:\n",
        "    if label == 'healthy':\n",
        "      oneHotList.append([1.0,0.0])\n",
        "    elif label == 'symptomatic':\n",
        "      oneHotList.append([1.0,0.0])\n",
        "    elif label == 'COVID-19':\n",
        "      oneHotList.append([0.0,1.0])\n",
        "  \n",
        "  return np.array(oneHotList)"
      ],
      "execution_count": 5,
      "outputs": []
    },
    {
      "cell_type": "markdown",
      "metadata": {
        "id": "qntx6-xhFuQp"
      },
      "source": [
        "Furthermore we implement some helper functions to visualize results and learning process:"
      ]
    },
    {
      "cell_type": "code",
      "metadata": {
        "id": "RnYvZeuyFzoH"
      },
      "source": [
        "def plotConfusionMatrix(labellist, matrix, filename='', safeImage = False):\n",
        "\n",
        "  df_cm = pd.DataFrame(matrix, index = [i for i in labellist],\n",
        "                    columns = [i for i in labellist], dtype=float)\n",
        "  fig = plt.figure(figsize = (10,7))\n",
        "  sn.heatmap(df_cm, annot=True)\n",
        "  if safeImage == True:\n",
        "    fig.savefig('./drive/MyDrive/COUGHVID/Plots/' + filename)\n",
        "\n",
        "def plotTrainingLoss(train_loss, val_loss):\n",
        "  plt.plot(train_loss)\n",
        "  plt.plot(val_loss)\n",
        "  plt.ylabel('loss')\n",
        "  plt.xlabel('epoch')\n",
        "  plt.legend(['train loss','test loss'], loc='upper left')\n",
        "  plt.show()\n",
        "\n",
        "def plotTrainingAccuracy(train_acc, val_acc):\n",
        "  plt.plot(train_acc)\n",
        "  plt.plot(val_acc)\n",
        "  plt.ylabel('accuracy')\n",
        "  plt.xlabel('epoch')\n",
        "  plt.legend(['train accuracy', 'test accuracy'], loc='upper left')\n",
        "  plt.show()\n",
        "\n",
        "\n",
        "def evaluateAccuracy(X_test, y_test, metric, model):\n",
        "  predictions = []\n",
        "  for x in X_test:\n",
        "    predArray = [0,0]\n",
        "    x = np.expand_dims(x, axis=0)\n",
        "    prediction = model.predict(x)\n",
        "    predArray[np.argmax(prediction[0])] = 1\n",
        "    predictions.append(predArray)\n",
        "\n",
        "  metric.update_state(y_test, predictions)\n",
        "  return m.result().numpy(), predictions\n",
        "\n",
        "def getPredictions(X_test, model):\n",
        "  predictions = []\n",
        "  for x in X_test:\n",
        "    predArray = [0,0]\n",
        "    x = np.expand_dims(x, axis=0)\n",
        "    prediction = model.predict(x)\n",
        "    predArray[np.argmax(prediction[0])] = 1\n",
        "    predictions.append(predArray)\n",
        "  \n",
        "  return predictions\n",
        "\n",
        "def getAllMetrics(y_test, predictions, verbose = False):\n",
        "  # simplifies splitting y_test into classes\n",
        "  y_test_argmax = np.array([])\n",
        "  for y in y_test:\n",
        "    y_test_argmax = np.append(y_test_argmax, np.argmax(y))\n",
        "\n",
        "  covid_indizes = np.where(y_test_argmax==1)[0]\n",
        "  if verbose == True:\n",
        "    print('COVID Samples: ' + str(len(covid_indizes)))\n",
        "  symptom_indizes = np.where(y_test_argmax==2)[0]\n",
        "  if verbose == True:\n",
        "    print('Symptomatic Samples: ' + str(len(symptom_indizes)))\n",
        "  healthy_indizes = np.where(y_test_argmax==0)[0]\n",
        "  if verbose == True:\n",
        "    print('Healthy Samples: ' + str(len(healthy_indizes)))\n",
        "\n",
        "  tp_c = tf.keras.metrics.TruePositives()\n",
        "  tn_c = tf.keras.metrics.TrueNegatives()\n",
        "  fp_c = tf.keras.metrics.FalsePositives()\n",
        "  fn_c = tf.keras.metrics.FalseNegatives()\n",
        "  tp_c.update_state(y_test[covid_indizes], np.array(predictions)[covid_indizes])\n",
        "  tn_c.update_state(y_test[covid_indizes], np.array(predictions)[covid_indizes])\n",
        "  fn_c.update_state(y_test[covid_indizes], np.array(predictions)[covid_indizes])\n",
        "  fp_c.update_state(y_test[covid_indizes], np.array(predictions)[covid_indizes])\n",
        "  if verbose == True:\n",
        "    print('True Positives for COVID Samples: ' + str(tp_c.result().numpy()))\n",
        "    print('True Negatives for COVID Samples: ' + str(tn_c.result().numpy()))\n",
        "    print('False Negatives for COVID Samples: ' + str(fn_c.result().numpy()))\n",
        "    print('False Positives for COVID Samples: ' + str(fp_c.result().numpy()))\n",
        "\n",
        "  tp_s = tf.keras.metrics.TruePositives()\n",
        "  tn_s = tf.keras.metrics.TrueNegatives()\n",
        "  fp_s = tf.keras.metrics.FalsePositives()\n",
        "  fn_s = tf.keras.metrics.FalseNegatives()\n",
        "  tp_s.update_state(y_test[symptom_indizes], np.array(predictions)[symptom_indizes])\n",
        "  tn_s.update_state(y_test[symptom_indizes], np.array(predictions)[symptom_indizes])\n",
        "  fn_s.update_state(y_test[symptom_indizes], np.array(predictions)[symptom_indizes])\n",
        "  fp_s.update_state(y_test[symptom_indizes], np.array(predictions)[symptom_indizes])\n",
        "  if verbose == True:\n",
        "    print('True Positives for symptomatic Samples: ' + str(tp_s.result().numpy()))\n",
        "    print('True Negatives for symptomatic Samples: ' + str(tn_s.result().numpy()))\n",
        "    print('False Negatives for symptomatic Samples: ' + str(fn_s.result().numpy()))\n",
        "    print('False Positives for symptomatic Samples: ' + str(fp_s.result().numpy()))\n",
        "\n",
        "  tp_h = tf.keras.metrics.TruePositives()\n",
        "  tn_h = tf.keras.metrics.TrueNegatives()\n",
        "  fp_h = tf.keras.metrics.FalsePositives()\n",
        "  fn_h = tf.keras.metrics.FalseNegatives()\n",
        "  tp_h.update_state(y_test[healthy_indizes], np.array(predictions)[healthy_indizes])\n",
        "  tn_h.update_state(y_test[healthy_indizes], np.array(predictions)[healthy_indizes])\n",
        "  fn_h.update_state(y_test[healthy_indizes], np.array(predictions)[healthy_indizes])\n",
        "  fp_h.update_state(y_test[healthy_indizes], np.array(predictions)[healthy_indizes])\n",
        "  if verbose == True:\n",
        "    print('True Positives for healthy samples: ' + str(tp_h.result().numpy()))\n",
        "    print('True Negatives for healthy samples: ' + str(tn_h.result().numpy()))\n",
        "    print('False Negatives for healthy samples: ' + str(fn_h.result().numpy()))\n",
        "    print('False Positives for healthy samples: ' + str(fp_h.result().numpy()))\n",
        "\n",
        "  sensitivity_c = tp_c.result().numpy() / (tp_c.result().numpy() + fn_c.result().numpy())\n",
        "  specificity_c = tn_c.result().numpy() / (tn_c.result().numpy() + fp_c.result().numpy())\n",
        "  if verbose == True:\n",
        "    print('Sensitivity for the covid class: ' + str(sensitivity_c))\n",
        "    print('Specificity for the covid class: ' + str(specificity_c))\n",
        "\n",
        "  sensitivity_s = tp_s.result().numpy() / (tp_s.result().numpy() + fn_s.result().numpy())\n",
        "  specificity_s = tn_s.result().numpy() / (tn_s.result().numpy() + fp_s.result().numpy())\n",
        "  if verbose == True:\n",
        "    print('Sensitivity for the symptom class: ' + str(sensitivity_s))\n",
        "    print('Specificity for the symptom class: ' + str(specificity_s))\n",
        "\n",
        "  sensitivity_h = tp_h.result().numpy() / (tp_h.result().numpy() + fn_h.result().numpy())\n",
        "  specificity_h= tn_h.result().numpy() / (tn_h.result().numpy() + fp_h.result().numpy())\n",
        "  if verbose == True:\n",
        "    print('Sensitivity for the healthy class: ' + str(sensitivity_h))\n",
        "    print('Specificity for the healthy class: ' + str(specificity_h))\n",
        "\n",
        "  recall_h = tf.keras.metrics.Recall(class_id=0)\n",
        "  recall_c = tf.keras.metrics.Recall(class_id=1)\n",
        "  recall_s = tf.keras.metrics.Recall(class_id=2)\n",
        "  recall_h.update_state(y_test, predictions)\n",
        "  recall_c.update_state(y_test, predictions)\n",
        "  recall_s.update_state(y_test, predictions)\n",
        "  if verbose == True:\n",
        "    print('Recall Healthy Samples: ' + str(recall_h.result().numpy()))\n",
        "    print('Recall COVID Samples: ' + str(recall_c.result().numpy()))\n",
        "    print('Recall Symptomatic Samples: ' + str(recall_s.result().numpy()))\n",
        "\n",
        "  precision_h = tf.keras.metrics.Precision(class_id=0)\n",
        "  precision_c = tf.keras.metrics.Precision(class_id=1)\n",
        "  precision_s = tf.keras.metrics.Precision(class_id=2)\n",
        "  precision_h.update_state(y_test, predictions)\n",
        "  precision_c.update_state(y_test, predictions)\n",
        "  precision_s.update_state(y_test, predictions)\n",
        "  if verbose == True:\n",
        "    print('Precision Healthy Samples: ' + str(precision_h.result().numpy()))\n",
        "    print('Precision COVID Samples: ' + str(precision_c.result().numpy()))\n",
        "    print('Precision Symptomatic Samples: ' + str(precision_s.result().numpy()))\n",
        "\n",
        "  f1_score_h = 2*((precision_h.result().numpy()*recall_h.result().numpy())/(precision_h.result().numpy()+recall_h.result().numpy()))\n",
        "  f1_score_c = 2*((precision_c.result().numpy()*recall_c.result().numpy())/(precision_c.result().numpy()+recall_c.result().numpy()))\n",
        "  f1_score_s = 2*((precision_s.result().numpy()*recall_s.result().numpy())/(precision_s.result().numpy()+recall_s.result().numpy()))\n",
        "\n",
        "  m = tf.keras.metrics.Accuracy()\n",
        "  m.update_state(y_test, predictions)\n",
        "  if verbose == True:\n",
        "    print(\"Accuracy: \" + str(m.result().numpy()))\n",
        "\n",
        "  metrics_dict = {'Class':['Overall','Healthy', 'COVID', 'Symptomatic']}\n",
        "  metrics_dict['F1 Score'] = ['-',f1_score_h*100, f1_score_c*100, f1_score_s*100]\n",
        "  metrics_dict['Sensitivity'] = ['-',sensitivity_h*100.0,sensitivity_c*100.0,sensitivity_s*100.0]\n",
        "  metrics_dict['Specificity'] = ['-',specificity_h*100.0,specificity_c*100.0,specificity_s*100.0]\n",
        "  metrics_dict['Precision'] = ['-',precision_h.result().numpy()*100,precision_c.result().numpy()*100,precision_s.result().numpy()*100]\n",
        "  metrics_dict['Recall'] = ['-',recall_h.result().numpy()*100,recall_c.result().numpy()*100,recall_s.result().numpy()*100]\n",
        "  metrics_dict['Accuracy'] = [m.result().numpy(), '-','-','-']\n",
        "\n",
        "  metrics_df = pd.DataFrame(data=metrics_dict)\n",
        "\n",
        "  return metrics_df\n",
        "\n",
        "def getAllMetricsForBC(y_test, predictions, verbose = False):\n",
        "  # simplifies splitting y_test into classes\n",
        "  y_test_argmax = np.array([])\n",
        "  for y in y_test:\n",
        "    y_test_argmax = np.append(y_test_argmax, np.argmax(y))\n",
        "\n",
        "  covid_indizes = np.where(y_test_argmax==1)[0]\n",
        "  if verbose == True:\n",
        "    print('COVID Samples: ' + str(len(covid_indizes)))\n",
        "  healthy_indizes = np.where(y_test_argmax==0)[0]\n",
        "  if verbose == True:\n",
        "    print('No COVID Samples: ' + str(len(healthy_indizes)))\n",
        "\n",
        "  tp_c = tf.keras.metrics.TruePositives()\n",
        "  tn_c = tf.keras.metrics.TrueNegatives()\n",
        "  fp_c = tf.keras.metrics.FalsePositives()\n",
        "  fn_c = tf.keras.metrics.FalseNegatives()\n",
        "  tp_c.update_state(y_test[covid_indizes], np.array(predictions)[covid_indizes])\n",
        "  tn_c.update_state(y_test[covid_indizes], np.array(predictions)[covid_indizes])\n",
        "  fn_c.update_state(y_test[covid_indizes], np.array(predictions)[covid_indizes])\n",
        "  fp_c.update_state(y_test[covid_indizes], np.array(predictions)[covid_indizes])\n",
        "  if verbose == True:\n",
        "    print('True Positives for COVID Samples: ' + str(tp_c.result().numpy()))\n",
        "    print('True Negatives for COVID Samples: ' + str(tn_c.result().numpy()))\n",
        "    print('False Negatives for COVID Samples: ' + str(fn_c.result().numpy()))\n",
        "    print('False Positives for COVID Samples: ' + str(fp_c.result().numpy()))\n",
        "\n",
        "  tp_h = tf.keras.metrics.TruePositives()\n",
        "  tn_h = tf.keras.metrics.TrueNegatives()\n",
        "  fp_h = tf.keras.metrics.FalsePositives()\n",
        "  fn_h = tf.keras.metrics.FalseNegatives()\n",
        "  tp_h.update_state(y_test[healthy_indizes], np.array(predictions)[healthy_indizes])\n",
        "  tn_h.update_state(y_test[healthy_indizes], np.array(predictions)[healthy_indizes])\n",
        "  fn_h.update_state(y_test[healthy_indizes], np.array(predictions)[healthy_indizes])\n",
        "  fp_h.update_state(y_test[healthy_indizes], np.array(predictions)[healthy_indizes])\n",
        "  if verbose == True:\n",
        "    print('True Positives for healthy samples: ' + str(tp_h.result().numpy()))\n",
        "    print('True Negatives for healthy samples: ' + str(tn_h.result().numpy()))\n",
        "    print('False Negatives for healthy samples: ' + str(fn_h.result().numpy()))\n",
        "    print('False Positives for healthy samples: ' + str(fp_h.result().numpy()))\n",
        "\n",
        "  sensitivity_c = tp_c.result().numpy() / (tp_c.result().numpy() + fn_c.result().numpy())\n",
        "  specificity_c = tn_c.result().numpy() / (tn_c.result().numpy() + fp_c.result().numpy())\n",
        "  if verbose == True:\n",
        "    print('Sensitivity for the covid class: ' + str(sensitivity_c))\n",
        "    print('Specificity for the covid class: ' + str(specificity_c))\n",
        "\n",
        "  sensitivity_h = tp_h.result().numpy() / (tp_h.result().numpy() + fn_h.result().numpy())\n",
        "  specificity_h= tn_h.result().numpy() / (tn_h.result().numpy() + fp_h.result().numpy())\n",
        "  if verbose == True:\n",
        "    print('Sensitivity for the healthy class: ' + str(sensitivity_h))\n",
        "    print('Specificity for the healthy class: ' + str(specificity_h))\n",
        "\n",
        "  recall_h = tf.keras.metrics.Recall(class_id=0)\n",
        "  recall_c = tf.keras.metrics.Recall(class_id=1)\n",
        "  recall_h.update_state(y_test, predictions)\n",
        "  recall_c.update_state(y_test, predictions)\n",
        "  if verbose == True:\n",
        "    print('Recall Healthy Samples: ' + str(recall_h.result().numpy()))\n",
        "    print('Recall COVID Samples: ' + str(recall_c.result().numpy()))\n",
        "\n",
        "  precision_h = tf.keras.metrics.Precision(class_id=0)\n",
        "  precision_c = tf.keras.metrics.Precision(class_id=1)\n",
        "  precision_h.update_state(y_test, predictions)\n",
        "  precision_c.update_state(y_test, predictions)\n",
        "  if verbose == True:\n",
        "    print('Precision Healthy Samples: ' + str(precision_h.result().numpy()))\n",
        "    print('Precision COVID Samples: ' + str(precision_c.result().numpy()))\n",
        "\n",
        "  f1_score_h = 2*((precision_h.result().numpy()*recall_h.result().numpy())/(precision_h.result().numpy()+recall_h.result().numpy()))\n",
        "  f1_score_c = 2*((precision_c.result().numpy()*recall_c.result().numpy())/(precision_c.result().numpy()+recall_c.result().numpy()))\n",
        "\n",
        "  m = tf.keras.metrics.Accuracy()\n",
        "  m.update_state(y_test, predictions)\n",
        "  if verbose == True:\n",
        "    print(\"Accuracy: \" + str(m.result().numpy()))\n",
        "\n",
        "  metrics_dict = {'Class':['Overall','Healthy', 'COVID']}\n",
        "  metrics_dict['F1 Score'] = ['-',f1_score_h*100, f1_score_c*100]\n",
        "  metrics_dict['Sensitivity'] = ['-',sensitivity_h*100.0,sensitivity_c*100.0]\n",
        "  metrics_dict['Specificity'] = ['-',specificity_h*100.0,specificity_c*100.0]\n",
        "  metrics_dict['Precision'] = ['-',precision_h.result().numpy()*100,precision_c.result().numpy()*100]\n",
        "  metrics_dict['Recall'] = ['-',recall_h.result().numpy()*100,recall_c.result().numpy()*100]\n",
        "  metrics_dict['Accuracy'] = [m.result().numpy(), '-','-']\n",
        "\n",
        "  metrics_df = pd.DataFrame(data=metrics_dict)\n",
        "\n",
        "  return metrics_df\n",
        "  "
      ],
      "execution_count": 45,
      "outputs": []
    },
    {
      "cell_type": "markdown",
      "metadata": {
        "id": "YlfnvrUiqK94"
      },
      "source": [
        "#Evaluation on whole cough samples"
      ]
    },
    {
      "cell_type": "code",
      "metadata": {
        "id": "YS_n1NMPixMr"
      },
      "source": [
        "def valueFromJsonParser(fileName, key, path='./drive/MyDrive/COUGHVID/test_dset/'):\n",
        "    \"\"\"\n",
        "    Returns the status of the specified json file \n",
        "    \"\"\"    \n",
        "    with open(os.path.join(path, fileName)) as file:\n",
        "        data = json.load(file)\n",
        "        return data[str(key)]\n",
        "\n",
        "\n",
        "def loadMelspectrograms(path, jsonFilesPath):\n",
        "  data = []\n",
        "  labels = []\n",
        "  for (dirpath, dirnames, filenames) in os.walk(path):\n",
        "    for filename in filenames[0:4000]:\n",
        "      img = cv2.imread(path + filename)\n",
        "      data.append(img)\n",
        "  for (dirpath,dirnames,filenames) in os.walk(jsonFilesPath):\n",
        "    for filename in filenames[0:8000]:\n",
        "      if '.json' in filename:\n",
        "        label = valueFromJsonParser(fileName=filename, key='status', path=jsonFilesPath)\n",
        "        labels.append(label)\n",
        "\n",
        "  return np.float32(np.array(data)), np.array(labels)"
      ],
      "execution_count": null,
      "outputs": []
    },
    {
      "cell_type": "code",
      "metadata": {
        "id": "Rbsz0Gc7i1iE"
      },
      "source": [
        "data, labels = loadMelspectrograms('./drive/MyDrive/COUGHVID/MelSpectrogramsCleaned/', './drive/MyDrive/COUGHVID/public_dataset_cleaned/')"
      ],
      "execution_count": null,
      "outputs": []
    },
    {
      "cell_type": "code",
      "metadata": {
        "id": "WtCMqKpzjiyc"
      },
      "source": [
        "X, Y = data, oneHotEncoding(labels)"
      ],
      "execution_count": null,
      "outputs": []
    },
    {
      "cell_type": "code",
      "metadata": {
        "id": "cc-cvC226D-5"
      },
      "source": [
        "print(data.shape)"
      ],
      "execution_count": null,
      "outputs": []
    },
    {
      "cell_type": "markdown",
      "metadata": {
        "id": "UK7MudU3OIMk"
      },
      "source": [
        "Perform Class Balancing:"
      ]
    },
    {
      "cell_type": "code",
      "metadata": {
        "id": "EGE4PFMH6GsM"
      },
      "source": [
        "''' counter = [0,0,0]\n",
        "for label in labels:\n",
        "  if label == 'healthy':\n",
        "    counter[0] += 1\n",
        "  if label == \"symptomatic\":\n",
        "    counter[1] += 1\n",
        "  if label == 'COVID-19':\n",
        "    counter[2] += 1\n",
        "\n",
        "print(counter)\n",
        " '''\n",
        "covid_indizes = np.where(labels=='COVID-19')\n",
        "print(len(covid_indizes[0]))\n",
        "symptom_indizes = np.where(labels=='symptomatic')\n",
        "print(len(symptom_indizes[0]))\n",
        "healthy_indizes = np.where(labels=='healthy')\n",
        "print(len(healthy_indizes[0]))"
      ],
      "execution_count": null,
      "outputs": []
    },
    {
      "cell_type": "code",
      "metadata": {
        "id": "IYib0WqC769g"
      },
      "source": [
        "data_new = data[covid_indizes]\n",
        "data_new = np.append(data_new,data[symptom_indizes[0][:364]], axis=0)\n",
        "data_new = np.append(data_new,data[healthy_indizes[0][:364]], axis=0)\n",
        "\n",
        "labels_new = labels[covid_indizes]\n",
        "labels_new = np.append(labels_new,labels[symptom_indizes[0][:364]])\n",
        "labels_new = np.append(labels_new,labels[healthy_indizes[0][:364]])\n",
        "\n",
        "labels_new = oneHotEncoding(labels_new)\n"
      ],
      "execution_count": null,
      "outputs": []
    },
    {
      "cell_type": "code",
      "metadata": {
        "id": "0gcDj16OnP8N"
      },
      "source": [
        "X_train, X_test, y_train, y_test = train_test_split(data_new, labels_new, test_size=0.25, random_state=0)\n",
        "\n",
        "dtlmc = DTLMC()\n",
        "dtlmc.compile(optimizer='adam',loss='categorical_crossentropy')\n",
        "dtlmc.fit(X_train,y_train, epochs=20)"
      ],
      "execution_count": null,
      "outputs": []
    },
    {
      "cell_type": "code",
      "metadata": {
        "id": "ligRrTG8p-j4"
      },
      "source": [
        "dtlmc.evaluate(X_test, y_test)"
      ],
      "execution_count": null,
      "outputs": []
    },
    {
      "cell_type": "code",
      "metadata": {
        "id": "BXiMZqCLrJC2"
      },
      "source": [
        "predictions = []\n",
        "for x in X_test:\n",
        "  predArray = [0,0,0]\n",
        "  x = np.expand_dims(x, axis=0)\n",
        "  prediction = dtlmc.predict(x)\n",
        "  print(prediction)\n",
        "  predArray[np.argmax(prediction)] = 1\n",
        "  predictions.append(predArray)"
      ],
      "execution_count": null,
      "outputs": []
    },
    {
      "cell_type": "code",
      "metadata": {
        "id": "tmJ6eHwsrTte"
      },
      "source": [
        "m = tf.keras.metrics.Accuracy()\n",
        "m.update_state(y_test, predictions)\n",
        "m.result().numpy()"
      ],
      "execution_count": null,
      "outputs": []
    },
    {
      "cell_type": "code",
      "metadata": {
        "id": "GgMqZqLjsWmc"
      },
      "source": [
        "matrix = confusion_matrix(np.argmax(y_test, axis=1), np.argmax(predictions, axis=1))"
      ],
      "execution_count": null,
      "outputs": []
    },
    {
      "cell_type": "code",
      "metadata": {
        "id": "fa-njldTuN7v"
      },
      "source": [
        "print(matrix)"
      ],
      "execution_count": null,
      "outputs": []
    },
    {
      "cell_type": "markdown",
      "metadata": {
        "id": "-aEcQFGkqRmB"
      },
      "source": [
        "#Evaluation on segmented data"
      ]
    },
    {
      "cell_type": "markdown",
      "metadata": {
        "id": "sM2JryCNPCD5"
      },
      "source": [
        "Load the melspecs of segmented data from drive"
      ]
    },
    {
      "cell_type": "code",
      "metadata": {
        "id": "LHJthkBYMchL"
      },
      "source": [
        "dataSegmented = np.load('./drive/MyDrive/COUGHVID/melSpecsDataSegmented.npy', allow_pickle=True)\n",
        "labels = np.load('./drive/MyDrive/COUGHVID/melSpecsLabelsSegmented.npy', allow_pickle=True)"
      ],
      "execution_count": 30,
      "outputs": []
    },
    {
      "cell_type": "code",
      "metadata": {
        "colab": {
          "base_uri": "https://localhost:8080/"
        },
        "id": "OKZMSgI3M_Zm",
        "outputId": "b6eb2694-da9f-4b3e-a740-db7f2948fa4d"
      },
      "source": [
        "print(dataSegmented.shape)\n",
        "print(labels.shape)"
      ],
      "execution_count": 31,
      "outputs": [
        {
          "output_type": "stream",
          "name": "stdout",
          "text": [
            "(24374, 240, 320)\n",
            "(24374,)\n"
          ]
        }
      ]
    },
    {
      "cell_type": "markdown",
      "metadata": {
        "id": "sIEWX8lMNQuO"
      },
      "source": [
        "##Evaluation with class weights"
      ]
    },
    {
      "cell_type": "markdown",
      "metadata": {
        "id": "8GQiU3-oZ82Y"
      },
      "source": [
        "###Evaluation of the multi class clasifier\n"
      ]
    },
    {
      "cell_type": "code",
      "metadata": {
        "id": "3lIkPl4rZ-Ch"
      },
      "source": [
        "labels_new_mc = oneHotEncoding(labels)\n",
        "data_new = np.expand_dims(dataSegmented, axis=3)"
      ],
      "execution_count": null,
      "outputs": []
    },
    {
      "cell_type": "code",
      "metadata": {
        "colab": {
          "base_uri": "https://localhost:8080/"
        },
        "id": "114gK2QuuRt6",
        "outputId": "a08d0592-84d5-43d6-ddc3-fd17cb86a076"
      },
      "source": [
        "print(labels_new_mc.shape)\n",
        "print(data_new.shape)"
      ],
      "execution_count": null,
      "outputs": [
        {
          "name": "stdout",
          "output_type": "stream",
          "text": [
            "(24374, 3)\n",
            "(24374, 240, 320, 1)\n"
          ]
        }
      ]
    },
    {
      "cell_type": "code",
      "metadata": {
        "colab": {
          "base_uri": "https://localhost:8080/"
        },
        "id": "gEv3FCswXYjc",
        "outputId": "88f615fc-80b5-4ad3-f08f-f365495a35f4"
      },
      "source": [
        "# split data for train and test validation\n",
        "X_train, X_test, y_train, y_test = train_test_split(data_new, labels_new_mc, test_size=0.2, random_state=0)\n",
        "\n",
        "\n",
        "## calculate class weights\n",
        "y_integers = np.argmax(y_train, axis=1)\n",
        "class_weights = compute_class_weight('balanced', np.unique(y_integers), y_integers)\n",
        "class_weights_dict = dict(enumerate(class_weights))\n",
        "\n",
        "class_weights_dict"
      ],
      "execution_count": null,
      "outputs": [
        {
          "data": {
            "text/plain": [
              "{0: 0.4392853924484095, 1: 4.075026123301986, 2: 2.0912698412698414}"
            ]
          },
          "execution_count": 11,
          "metadata": {},
          "output_type": "execute_result"
        }
      ]
    },
    {
      "cell_type": "code",
      "metadata": {
        "id": "nRAl_G7Wuabv"
      },
      "source": [
        "lr_schedule = tf.keras.optimizers.schedules.ExponentialDecay(\n",
        "    initial_learning_rate=0.00001,\n",
        "    decay_steps=10000,\n",
        "    decay_rate=0.9)\n",
        "\n",
        "cb = tf.keras.callbacks.EarlyStopping(monitor='val_loss', min_delta=0.01, patience=25, verbose=1,\n",
        "    mode='auto', baseline=None, restore_best_weights=True)\n",
        "\n",
        "dtlmc = DTLMC()\n",
        "opt = tf.keras.optimizers.Adam(learning_rate=lr_schedule)\n",
        "dtlmc.compile(optimizer=opt,loss='categorical_crossentropy',metrics=['acc'])\n"
      ],
      "execution_count": null,
      "outputs": []
    },
    {
      "cell_type": "code",
      "metadata": {
        "colab": {
          "base_uri": "https://localhost:8080/"
        },
        "id": "JsYJEXl6toon",
        "outputId": "8b87e6c0-1b7f-48c3-d68e-6c2dbd98b538"
      },
      "source": [
        "history = dtlmc.fit(X_train,y_train, epochs=250, validation_data=(X_test,y_test), class_weight=class_weights_dict, callbacks=[cb])"
      ],
      "execution_count": null,
      "outputs": [
        {
          "name": "stdout",
          "output_type": "stream",
          "text": [
            "Epoch 1/250\n",
            "610/610 [==============================] - 32s 22ms/step - loss: 1.7831 - acc: 0.3388 - val_loss: 1.2077 - val_acc: 0.2045\n",
            "Epoch 2/250\n",
            "610/610 [==============================] - 11s 18ms/step - loss: 1.2032 - acc: 0.3456 - val_loss: 1.0730 - val_acc: 0.4320\n",
            "Epoch 3/250\n",
            "610/610 [==============================] - 11s 17ms/step - loss: 1.1365 - acc: 0.3620 - val_loss: 1.1155 - val_acc: 0.3210\n",
            "Epoch 4/250\n",
            "610/610 [==============================] - 11s 18ms/step - loss: 1.1098 - acc: 0.3758 - val_loss: 1.0971 - val_acc: 0.3721\n",
            "Epoch 5/250\n",
            "610/610 [==============================] - 11s 18ms/step - loss: 1.1046 - acc: 0.3751 - val_loss: 1.0931 - val_acc: 0.3774\n",
            "Epoch 6/250\n",
            "610/610 [==============================] - 11s 18ms/step - loss: 1.0890 - acc: 0.3856 - val_loss: 1.1209 - val_acc: 0.3138\n",
            "Epoch 7/250\n",
            "610/610 [==============================] - 11s 18ms/step - loss: 1.0851 - acc: 0.3945 - val_loss: 1.0831 - val_acc: 0.3938\n",
            "Epoch 8/250\n",
            "610/610 [==============================] - 11s 18ms/step - loss: 1.0719 - acc: 0.4050 - val_loss: 1.0754 - val_acc: 0.4224\n",
            "Epoch 9/250\n",
            "610/610 [==============================] - 11s 18ms/step - loss: 1.0690 - acc: 0.4073 - val_loss: 1.0606 - val_acc: 0.4492\n",
            "Epoch 10/250\n",
            "610/610 [==============================] - 11s 18ms/step - loss: 1.0576 - acc: 0.4239 - val_loss: 1.0618 - val_acc: 0.4421\n",
            "Epoch 11/250\n",
            "610/610 [==============================] - 11s 18ms/step - loss: 1.0519 - acc: 0.4327 - val_loss: 1.0299 - val_acc: 0.5077\n",
            "Epoch 12/250\n",
            "610/610 [==============================] - 11s 18ms/step - loss: 1.0436 - acc: 0.4342 - val_loss: 1.0488 - val_acc: 0.4521\n",
            "Epoch 13/250\n",
            "610/610 [==============================] - 11s 18ms/step - loss: 1.0366 - acc: 0.4345 - val_loss: 1.0821 - val_acc: 0.3883\n",
            "Epoch 14/250\n",
            "610/610 [==============================] - 11s 18ms/step - loss: 1.0259 - acc: 0.4463 - val_loss: 1.0765 - val_acc: 0.3992\n",
            "Epoch 15/250\n",
            "610/610 [==============================] - 11s 18ms/step - loss: 1.0211 - acc: 0.4521 - val_loss: 1.0678 - val_acc: 0.4025\n",
            "Epoch 16/250\n",
            "610/610 [==============================] - 11s 18ms/step - loss: 1.0176 - acc: 0.4538 - val_loss: 1.0703 - val_acc: 0.4031\n",
            "Epoch 17/250\n",
            "610/610 [==============================] - 11s 18ms/step - loss: 1.0085 - acc: 0.4701 - val_loss: 1.1011 - val_acc: 0.3659\n",
            "Epoch 18/250\n",
            "610/610 [==============================] - 11s 18ms/step - loss: 0.9990 - acc: 0.4657 - val_loss: 1.0543 - val_acc: 0.4172\n",
            "Epoch 19/250\n",
            "610/610 [==============================] - 11s 18ms/step - loss: 0.9959 - acc: 0.4699 - val_loss: 1.0032 - val_acc: 0.4901\n",
            "Epoch 20/250\n",
            "610/610 [==============================] - 11s 18ms/step - loss: 0.9891 - acc: 0.4802 - val_loss: 1.0554 - val_acc: 0.4252\n",
            "Epoch 21/250\n",
            "610/610 [==============================] - 11s 18ms/step - loss: 0.9775 - acc: 0.4821 - val_loss: 1.0537 - val_acc: 0.4219\n",
            "Epoch 22/250\n",
            "610/610 [==============================] - 11s 18ms/step - loss: 0.9771 - acc: 0.4868 - val_loss: 1.0261 - val_acc: 0.4585\n",
            "Epoch 23/250\n",
            "610/610 [==============================] - 11s 18ms/step - loss: 0.9663 - acc: 0.4875 - val_loss: 1.0951 - val_acc: 0.3774\n",
            "Epoch 24/250\n",
            "610/610 [==============================] - 11s 18ms/step - loss: 0.9652 - acc: 0.4917 - val_loss: 1.0063 - val_acc: 0.4802\n",
            "Epoch 25/250\n",
            "610/610 [==============================] - 11s 18ms/step - loss: 0.9588 - acc: 0.4964 - val_loss: 1.1016 - val_acc: 0.3668\n",
            "Epoch 26/250\n",
            "610/610 [==============================] - 11s 18ms/step - loss: 0.9521 - acc: 0.4985 - val_loss: 1.0770 - val_acc: 0.4002\n",
            "Epoch 27/250\n",
            "610/610 [==============================] - 11s 18ms/step - loss: 0.9471 - acc: 0.4975 - val_loss: 1.0547 - val_acc: 0.4263\n",
            "Epoch 28/250\n",
            "610/610 [==============================] - 11s 18ms/step - loss: 0.9408 - acc: 0.5053 - val_loss: 0.9841 - val_acc: 0.4829\n",
            "Epoch 29/250\n",
            "610/610 [==============================] - 11s 18ms/step - loss: 0.9401 - acc: 0.5056 - val_loss: 0.9974 - val_acc: 0.4841\n",
            "Epoch 30/250\n",
            "610/610 [==============================] - 11s 18ms/step - loss: 0.9302 - acc: 0.5094 - val_loss: 1.0005 - val_acc: 0.4925\n",
            "Epoch 31/250\n",
            "610/610 [==============================] - 11s 18ms/step - loss: 0.9220 - acc: 0.5193 - val_loss: 1.0336 - val_acc: 0.4513\n",
            "Epoch 32/250\n",
            "610/610 [==============================] - 11s 18ms/step - loss: 0.9216 - acc: 0.5138 - val_loss: 1.0557 - val_acc: 0.4199\n",
            "Epoch 33/250\n",
            "610/610 [==============================] - 11s 18ms/step - loss: 0.9118 - acc: 0.5179 - val_loss: 1.0129 - val_acc: 0.4646\n",
            "Epoch 34/250\n",
            "610/610 [==============================] - 11s 18ms/step - loss: 0.9148 - acc: 0.5224 - val_loss: 1.0396 - val_acc: 0.4433\n",
            "Epoch 35/250\n",
            "610/610 [==============================] - 11s 18ms/step - loss: 0.9050 - acc: 0.5202 - val_loss: 1.0029 - val_acc: 0.4734\n",
            "Epoch 36/250\n",
            "610/610 [==============================] - 11s 18ms/step - loss: 0.9060 - acc: 0.5223 - val_loss: 1.0494 - val_acc: 0.4328\n",
            "Epoch 37/250\n",
            "610/610 [==============================] - 11s 18ms/step - loss: 0.8897 - acc: 0.5335 - val_loss: 1.0317 - val_acc: 0.4449\n",
            "Epoch 38/250\n",
            "610/610 [==============================] - 11s 18ms/step - loss: 0.8951 - acc: 0.5309 - val_loss: 1.0078 - val_acc: 0.4699\n",
            "Epoch 39/250\n",
            "610/610 [==============================] - 11s 18ms/step - loss: 0.8923 - acc: 0.5335 - val_loss: 1.0908 - val_acc: 0.3830\n",
            "Epoch 40/250\n",
            "610/610 [==============================] - 11s 18ms/step - loss: 0.8841 - acc: 0.5341 - val_loss: 1.0666 - val_acc: 0.4297\n",
            "Epoch 41/250\n",
            "610/610 [==============================] - 11s 18ms/step - loss: 0.8830 - acc: 0.5378 - val_loss: 1.0599 - val_acc: 0.4322\n",
            "Epoch 42/250\n",
            "610/610 [==============================] - 11s 18ms/step - loss: 0.8807 - acc: 0.5311 - val_loss: 1.0044 - val_acc: 0.4693\n",
            "Epoch 43/250\n",
            "610/610 [==============================] - 11s 18ms/step - loss: 0.8833 - acc: 0.5299 - val_loss: 0.9675 - val_acc: 0.5165\n",
            "Epoch 44/250\n",
            "610/610 [==============================] - 11s 18ms/step - loss: 0.8665 - acc: 0.5483 - val_loss: 1.0039 - val_acc: 0.4812\n",
            "Epoch 45/250\n",
            "610/610 [==============================] - 11s 18ms/step - loss: 0.8702 - acc: 0.5422 - val_loss: 1.0498 - val_acc: 0.4308\n",
            "Epoch 46/250\n",
            "610/610 [==============================] - 11s 18ms/step - loss: 0.8594 - acc: 0.5478 - val_loss: 1.0153 - val_acc: 0.4753\n",
            "Epoch 47/250\n",
            "610/610 [==============================] - 11s 18ms/step - loss: 0.8691 - acc: 0.5447 - val_loss: 1.0175 - val_acc: 0.4689\n",
            "Epoch 48/250\n",
            "610/610 [==============================] - 11s 18ms/step - loss: 0.8629 - acc: 0.5502 - val_loss: 0.9751 - val_acc: 0.5024\n",
            "Epoch 49/250\n",
            "610/610 [==============================] - 11s 18ms/step - loss: 0.8546 - acc: 0.5513 - val_loss: 1.0400 - val_acc: 0.4437\n",
            "Epoch 50/250\n",
            "610/610 [==============================] - 11s 18ms/step - loss: 0.8494 - acc: 0.5566 - val_loss: 0.9701 - val_acc: 0.5118\n",
            "Epoch 51/250\n",
            "610/610 [==============================] - 11s 18ms/step - loss: 0.8435 - acc: 0.5565 - val_loss: 0.9497 - val_acc: 0.5315\n",
            "Epoch 52/250\n",
            "610/610 [==============================] - 11s 18ms/step - loss: 0.8474 - acc: 0.5561 - val_loss: 1.0890 - val_acc: 0.3979\n",
            "Epoch 53/250\n",
            "610/610 [==============================] - 11s 18ms/step - loss: 0.8399 - acc: 0.5575 - val_loss: 1.0750 - val_acc: 0.4228\n",
            "Epoch 54/250\n",
            "610/610 [==============================] - 11s 18ms/step - loss: 0.8401 - acc: 0.5604 - val_loss: 1.0505 - val_acc: 0.4462\n",
            "Epoch 55/250\n",
            "610/610 [==============================] - 11s 18ms/step - loss: 0.8385 - acc: 0.5593 - val_loss: 1.0284 - val_acc: 0.4587\n",
            "Epoch 56/250\n",
            "610/610 [==============================] - 11s 18ms/step - loss: 0.8371 - acc: 0.5615 - val_loss: 1.0123 - val_acc: 0.4827\n",
            "Epoch 57/250\n",
            "610/610 [==============================] - 11s 18ms/step - loss: 0.8290 - acc: 0.5642 - val_loss: 1.0047 - val_acc: 0.4839\n",
            "Epoch 58/250\n",
            "610/610 [==============================] - 11s 18ms/step - loss: 0.8216 - acc: 0.5644 - val_loss: 1.0405 - val_acc: 0.4591\n",
            "Epoch 59/250\n",
            "610/610 [==============================] - 11s 18ms/step - loss: 0.8273 - acc: 0.5638 - val_loss: 1.0361 - val_acc: 0.4498\n",
            "Epoch 60/250\n",
            "610/610 [==============================] - 11s 18ms/step - loss: 0.8200 - acc: 0.5715 - val_loss: 1.0137 - val_acc: 0.4669\n",
            "Epoch 61/250\n",
            "610/610 [==============================] - 11s 18ms/step - loss: 0.8223 - acc: 0.5686 - val_loss: 1.0099 - val_acc: 0.4796\n",
            "Epoch 62/250\n",
            "610/610 [==============================] - 11s 18ms/step - loss: 0.8208 - acc: 0.5706 - val_loss: 1.0433 - val_acc: 0.4486\n",
            "Epoch 63/250\n",
            "610/610 [==============================] - 11s 18ms/step - loss: 0.8124 - acc: 0.5704 - val_loss: 1.0593 - val_acc: 0.4470\n",
            "Epoch 64/250\n",
            "610/610 [==============================] - 11s 18ms/step - loss: 0.8087 - acc: 0.5832 - val_loss: 1.0635 - val_acc: 0.4455\n",
            "Epoch 65/250\n",
            "610/610 [==============================] - 11s 18ms/step - loss: 0.8115 - acc: 0.5783 - val_loss: 1.0588 - val_acc: 0.4349\n",
            "Epoch 66/250\n",
            "610/610 [==============================] - 11s 18ms/step - loss: 0.8012 - acc: 0.5788 - val_loss: 1.0128 - val_acc: 0.4747\n",
            "Epoch 67/250\n",
            "610/610 [==============================] - 11s 18ms/step - loss: 0.8056 - acc: 0.5750 - val_loss: 1.0108 - val_acc: 0.4751\n",
            "Epoch 68/250\n",
            "610/610 [==============================] - 11s 18ms/step - loss: 0.8013 - acc: 0.5766 - val_loss: 1.0201 - val_acc: 0.4792\n",
            "Epoch 69/250\n",
            "610/610 [==============================] - 11s 18ms/step - loss: 0.7926 - acc: 0.5801 - val_loss: 1.0855 - val_acc: 0.4211\n",
            "Epoch 70/250\n",
            "610/610 [==============================] - 11s 18ms/step - loss: 0.7898 - acc: 0.5886 - val_loss: 0.9874 - val_acc: 0.5001\n",
            "Epoch 71/250\n",
            "610/610 [==============================] - 11s 18ms/step - loss: 0.7919 - acc: 0.5845 - val_loss: 1.0100 - val_acc: 0.4771\n",
            "Epoch 72/250\n",
            "610/610 [==============================] - 11s 18ms/step - loss: 0.7965 - acc: 0.5793 - val_loss: 1.0157 - val_acc: 0.4714\n",
            "Epoch 73/250\n",
            "610/610 [==============================] - 11s 18ms/step - loss: 0.7941 - acc: 0.5820 - val_loss: 1.0210 - val_acc: 0.4699\n",
            "Epoch 74/250\n",
            "610/610 [==============================] - 11s 18ms/step - loss: 0.7799 - acc: 0.5881 - val_loss: 1.0610 - val_acc: 0.4406\n",
            "Epoch 75/250\n",
            "610/610 [==============================] - 11s 18ms/step - loss: 0.7852 - acc: 0.5879 - val_loss: 1.0313 - val_acc: 0.4619\n",
            "Epoch 76/250\n",
            "610/610 [==============================] - 11s 18ms/step - loss: 0.7806 - acc: 0.5868 - val_loss: 1.0747 - val_acc: 0.4357\n",
            "Restoring model weights from the end of the best epoch.\n",
            "Epoch 00076: early stopping\n"
          ]
        }
      ]
    },
    {
      "cell_type": "code",
      "metadata": {
        "colab": {
          "base_uri": "https://localhost:8080/"
        },
        "id": "XhVUGMb7a5fD",
        "outputId": "7b1d1414-7118-494f-a4ae-3582c505a5c4"
      },
      "source": [
        "dtlmc.save('./drive/MyDrive/COUGHVID/Models/dtlmc', save_format=\"tf\")"
      ],
      "execution_count": null,
      "outputs": [
        {
          "name": "stdout",
          "output_type": "stream",
          "text": [
            "INFO:tensorflow:Assets written to: ./drive/MyDrive/COUGHVID/Models/dtlmc/assets\n"
          ]
        }
      ]
    },
    {
      "cell_type": "code",
      "metadata": {
        "id": "0Yulq0QbxNaK"
      },
      "source": [
        "predictions = []\n",
        "for x in X_test:\n",
        "  predArray = [0,0,0]\n",
        "  x = np.expand_dims(x, axis=0)\n",
        "  prediction = dtlmc.predict(x)\n",
        "  predArray[np.argmax(prediction[0])] = 1\n",
        "  predictions.append(predArray)"
      ],
      "execution_count": null,
      "outputs": []
    },
    {
      "cell_type": "code",
      "metadata": {
        "colab": {
          "base_uri": "https://localhost:8080/",
          "height": 699
        },
        "id": "P2sq6OQlShUa",
        "outputId": "4f385bcd-58d9-43fb-cab7-07ea674be8b8"
      },
      "source": [
        "df = getAllMetrics(y_test, predictions)\n",
        "df"
      ],
      "execution_count": null,
      "outputs": [
        {
          "name": "stdout",
          "output_type": "stream",
          "text": [
            "COVID Samples: 389\n",
            "Symptomatic Samples: 796\n",
            "Healthy Samples: 3690\n",
            "True Positives for COVID Samples: 102.0\n",
            "True Negatives for COVID Samples: 491.0\n",
            "False Negatives for COVID Samples: 287.0\n",
            "False Positives for COVID Samples: 287.0\n",
            "True Positives for symptomatic Samples: 303.0\n",
            "True Negatives for symptomatic Samples: 1099.0\n",
            "False Negatives for symptomatic Samples: 493.0\n",
            "False Positives for symptomatic Samples: 493.0\n",
            "True Positives for healthy samples: 2186.0\n",
            "True Negatives for healthy samples: 5876.0\n",
            "False Negatives for healthy samples: 1504.0\n",
            "False Positives for healthy samples: 1504.0\n",
            "Sensitivity for the covid class: 0.2622108\n",
            "Specificity for the covid class: 0.6311054\n",
            "Sensitivity for the symptom class: 0.38065326\n",
            "Specificity for the symptom class: 0.69032663\n",
            "Sensitivity for the healthy class: 0.59241194\n",
            "Specificity for the healthy class: 0.79620594\n",
            "Recall Healthy Samples: 0.59241194\n",
            "Recall COVID Samples: 0.2622108\n",
            "Recall Symptomatic Samples: 0.38065326\n",
            "Precision Healthy Samples: 0.7998536\n",
            "Precision COVID Samples: 0.10714286\n",
            "Precision Symptomatic Samples: 0.25462186\n",
            "Accuracy: 0.68765813\n"
          ]
        },
        {
          "data": {
            "text/html": [
              "<div>\n",
              "<style scoped>\n",
              "    .dataframe tbody tr th:only-of-type {\n",
              "        vertical-align: middle;\n",
              "    }\n",
              "\n",
              "    .dataframe tbody tr th {\n",
              "        vertical-align: top;\n",
              "    }\n",
              "\n",
              "    .dataframe thead th {\n",
              "        text-align: right;\n",
              "    }\n",
              "</style>\n",
              "<table border=\"1\" class=\"dataframe\">\n",
              "  <thead>\n",
              "    <tr style=\"text-align: right;\">\n",
              "      <th></th>\n",
              "      <th>Class</th>\n",
              "      <th>F1 Score</th>\n",
              "      <th>Sensitivity</th>\n",
              "      <th>Specificity</th>\n",
              "      <th>Precision</th>\n",
              "      <th>Recall</th>\n",
              "      <th>Accuracy</th>\n",
              "    </tr>\n",
              "  </thead>\n",
              "  <tbody>\n",
              "    <tr>\n",
              "      <th>0</th>\n",
              "      <td>Overall</td>\n",
              "      <td>-</td>\n",
              "      <td>-</td>\n",
              "      <td>-</td>\n",
              "      <td>-</td>\n",
              "      <td>-</td>\n",
              "      <td>0.687658</td>\n",
              "    </tr>\n",
              "    <tr>\n",
              "      <th>1</th>\n",
              "      <td>Healthy</td>\n",
              "      <td>68.0679</td>\n",
              "      <td>59.2412</td>\n",
              "      <td>79.6206</td>\n",
              "      <td>79.9854</td>\n",
              "      <td>59.2412</td>\n",
              "      <td>-</td>\n",
              "    </tr>\n",
              "    <tr>\n",
              "      <th>2</th>\n",
              "      <td>COVID</td>\n",
              "      <td>15.2125</td>\n",
              "      <td>26.2211</td>\n",
              "      <td>63.1105</td>\n",
              "      <td>10.7143</td>\n",
              "      <td>26.2211</td>\n",
              "      <td>-</td>\n",
              "    </tr>\n",
              "    <tr>\n",
              "      <th>3</th>\n",
              "      <td>Symptomatic</td>\n",
              "      <td>30.5136</td>\n",
              "      <td>38.0653</td>\n",
              "      <td>69.0327</td>\n",
              "      <td>25.4622</td>\n",
              "      <td>38.0653</td>\n",
              "      <td>-</td>\n",
              "    </tr>\n",
              "  </tbody>\n",
              "</table>\n",
              "</div>"
            ],
            "text/plain": [
              "         Class F1 Score Sensitivity Specificity Precision   Recall  Accuracy\n",
              "0      Overall        -           -           -         -        -  0.687658\n",
              "1      Healthy  68.0679     59.2412     79.6206   79.9854  59.2412         -\n",
              "2        COVID  15.2125     26.2211     63.1105   10.7143  26.2211         -\n",
              "3  Symptomatic  30.5136     38.0653     69.0327   25.4622  38.0653         -"
            ]
          },
          "execution_count": 15,
          "metadata": {},
          "output_type": "execute_result"
        }
      ]
    },
    {
      "cell_type": "code",
      "metadata": {
        "id": "J1HZRrkuadCz"
      },
      "source": [
        "matrix = confusion_matrix(np.argmax(y_test, axis=1), np.argmax(predictions, axis=1))"
      ],
      "execution_count": null,
      "outputs": []
    },
    {
      "cell_type": "code",
      "metadata": {
        "id": "7D6UjvAZz0fB"
      },
      "source": [
        "matrix = matrix/matrix.sum(axis=1)[:, np.newaxis]"
      ],
      "execution_count": null,
      "outputs": []
    },
    {
      "cell_type": "code",
      "metadata": {
        "colab": {
          "base_uri": "https://localhost:8080/"
        },
        "id": "CeDtcawQadr4",
        "outputId": "44676891-130c-49aa-ccea-fb5a985c347e"
      },
      "source": [
        "matrix"
      ],
      "execution_count": null,
      "outputs": [
        {
          "data": {
            "text/plain": [
              "array([[0.59241192, 0.18807588, 0.2195122 ],\n",
              "       [0.53984576, 0.2622108 , 0.19794344],\n",
              "       [0.42336683, 0.1959799 , 0.38065327]])"
            ]
          },
          "execution_count": 18,
          "metadata": {},
          "output_type": "execute_result"
        }
      ]
    },
    {
      "cell_type": "code",
      "metadata": {
        "colab": {
          "base_uri": "https://localhost:8080/",
          "height": 428
        },
        "id": "3wz-uy9P6b_R",
        "outputId": "2dfff3cb-c9d9-4b61-9af2-598eacce9137"
      },
      "source": [
        "labellist = ['healthy','covid', 'symptomatic']\n",
        "plotConfusionMatrix(labellist, matrix)"
      ],
      "execution_count": null,
      "outputs": [
        {
          "data": {
            "image/png": "[encoded data removed]",
            "text/plain": [
              "<Figure size 720x504 with 2 Axes>"
            ]
          },
          "metadata": {},
          "output_type": "display_data"
        }
      ]
    },
    {
      "cell_type": "code",
      "metadata": {
        "colab": {
          "base_uri": "https://localhost:8080/",
          "height": 279
        },
        "id": "yQqBvnKptysO",
        "outputId": "08f3871c-3c66-4f46-f00f-52b85f64116f"
      },
      "source": [
        "plotTrainingLoss(history.history['loss'], history.history['val_loss'])"
      ],
      "execution_count": null,
      "outputs": [
        {
          "data": {
            "image/png": "[encoded data removed]",
            "text/plain": [
              "<Figure size 432x288 with 1 Axes>"
            ]
          },
          "metadata": {},
          "output_type": "display_data"
        }
      ]
    },
    {
      "cell_type": "code",
      "metadata": {
        "colab": {
          "base_uri": "https://localhost:8080/",
          "height": 279
        },
        "id": "rFA3NfcKt4Zm",
        "outputId": "08daa396-1716-4bef-b420-0d68230c7b09"
      },
      "source": [
        "plotTrainingAccuracy(history.history['acc'], history.history['val_acc'])"
      ],
      "execution_count": null,
      "outputs": [
        {
          "data": {
            "image/png": "[encoded data removed]",
            "text/plain": [
              "<Figure size 432x288 with 1 Axes>"
            ]
          },
          "metadata": {},
          "output_type": "display_data"
        }
      ]
    },
    {
      "cell_type": "markdown",
      "metadata": {
        "id": "EiicnAL8ZxWx"
      },
      "source": [
        "###Evaluation of the binary class classifier"
      ]
    },
    {
      "cell_type": "code",
      "metadata": {
        "colab": {
          "base_uri": "https://localhost:8080/"
        },
        "id": "N9gHG4UTZ0pN",
        "outputId": "9ff410d5-012a-4dd9-fe59-9fa882b06f1b"
      },
      "source": [
        "labels_new_bc = oneHotEncodingForBC(labels)\n",
        "data_new_bc = np.expand_dims(dataSegmented, axis=3)\n",
        "print(data_new_bc.shape)\n",
        "print(labels_new_bc.shape)"
      ],
      "execution_count": null,
      "outputs": [
        {
          "name": "stdout",
          "output_type": "stream",
          "text": [
            "(24374, 240, 320, 1)\n",
            "(24374, 2)\n"
          ]
        }
      ]
    },
    {
      "cell_type": "code",
      "metadata": {
        "id": "zwjKm2NhaaB5"
      },
      "source": [
        "X_train, X_test, y_train, y_test = train_test_split(data_new_bc, labels_new_bc, test_size=0.2, random_state=0)"
      ],
      "execution_count": null,
      "outputs": []
    },
    {
      "cell_type": "code",
      "metadata": {
        "colab": {
          "base_uri": "https://localhost:8080/"
        },
        "id": "ArJ_g-UfBjKE",
        "outputId": "5bd55f5a-b6e2-4b74-a128-754c7be0b678"
      },
      "source": [
        "## calculate class weights\n",
        "y_integers = np.argmax(y_train, axis=1)\n",
        "class_weights_bc = compute_class_weight('balanced', np.unique(y_integers), y_integers)\n",
        "class_weights_dict_bc = dict(enumerate(class_weights_bc))\n",
        "\n",
        "class_weights_dict_bc"
      ],
      "execution_count": null,
      "outputs": [
        {
          "data": {
            "text/plain": [
              "{0: 0.5445431188561215, 1: 6.112539184952978}"
            ]
          },
          "execution_count": 14,
          "metadata": {},
          "output_type": "execute_result"
        }
      ]
    },
    {
      "cell_type": "code",
      "metadata": {
        "id": "c8GBJbGwfF5g"
      },
      "source": [
        "lr_schedule = tf.keras.optimizers.schedules.ExponentialDecay(\n",
        "    initial_learning_rate=0.000001,\n",
        "    decay_steps=10000,\n",
        "    decay_rate=0.9)\n",
        "\n",
        "cb = tf.keras.callbacks.EarlyStopping(monitor='val_loss', min_delta=0.01, patience=25, verbose=1,\n",
        "    mode='auto', baseline=None, restore_best_weights=True)"
      ],
      "execution_count": null,
      "outputs": []
    },
    {
      "cell_type": "code",
      "metadata": {
        "id": "stcWFfhmanE1"
      },
      "source": [
        "dtlbc = DTLBC()\n",
        "opt = tf.keras.optimizers.Adam(learning_rate=lr_schedule)\n",
        "dtlbc.compile(optimizer=opt,loss='categorical_crossentropy',metrics=['acc'])"
      ],
      "execution_count": null,
      "outputs": []
    },
    {
      "cell_type": "code",
      "metadata": {
        "colab": {
          "base_uri": "https://localhost:8080/"
        },
        "id": "kPSClLjuaq9C",
        "outputId": "5cc48957-16fc-4024-b88d-d5e35a6fcee8"
      },
      "source": [
        "history = dtlbc.fit(X_train,y_train, epochs=250, validation_data=(X_test,y_test), class_weight=class_weights_dict_bc, callbacks=[cb])"
      ],
      "execution_count": null,
      "outputs": [
        {
          "name": "stdout",
          "output_type": "stream",
          "text": [
            "Epoch 1/250\n",
            "610/610 [==============================] - 20s 32ms/step - loss: 1.5832 - acc: 0.5196 - val_loss: 1.1114 - val_acc: 0.1366\n",
            "Epoch 2/250\n",
            "610/610 [==============================] - 16s 26ms/step - loss: 1.3995 - acc: 0.5038 - val_loss: 0.9787 - val_acc: 0.1863\n",
            "Epoch 3/250\n",
            "610/610 [==============================] - 16s 26ms/step - loss: 1.2434 - acc: 0.5008 - val_loss: 0.9288 - val_acc: 0.1957\n",
            "Epoch 4/250\n",
            "610/610 [==============================] - 16s 26ms/step - loss: 1.1466 - acc: 0.5115 - val_loss: 0.9050 - val_acc: 0.1947\n",
            "Epoch 5/250\n",
            "610/610 [==============================] - 16s 26ms/step - loss: 1.0780 - acc: 0.5069 - val_loss: 0.8808 - val_acc: 0.2055\n",
            "Epoch 6/250\n",
            "610/610 [==============================] - 16s 26ms/step - loss: 1.0102 - acc: 0.5129 - val_loss: 0.8006 - val_acc: 0.3102\n",
            "Epoch 7/250\n",
            "610/610 [==============================] - 16s 26ms/step - loss: 0.9790 - acc: 0.5038 - val_loss: 0.7674 - val_acc: 0.3571\n",
            "Epoch 8/250\n",
            "610/610 [==============================] - 16s 26ms/step - loss: 0.9538 - acc: 0.4958 - val_loss: 0.7845 - val_acc: 0.3093\n",
            "Epoch 9/250\n",
            "610/610 [==============================] - 16s 26ms/step - loss: 0.8992 - acc: 0.5127 - val_loss: 0.7501 - val_acc: 0.3854\n",
            "Epoch 10/250\n",
            "610/610 [==============================] - 16s 26ms/step - loss: 0.8684 - acc: 0.5058 - val_loss: 0.7087 - val_acc: 0.4917\n",
            "Epoch 11/250\n",
            "610/610 [==============================] - 16s 26ms/step - loss: 0.8378 - acc: 0.5175 - val_loss: 0.7683 - val_acc: 0.3286\n",
            "Epoch 12/250\n",
            "610/610 [==============================] - 16s 26ms/step - loss: 0.8099 - acc: 0.5168 - val_loss: 0.6569 - val_acc: 0.6392\n",
            "Epoch 13/250\n",
            "610/610 [==============================] - 17s 27ms/step - loss: 0.8227 - acc: 0.5043 - val_loss: 0.6984 - val_acc: 0.5165\n",
            "Epoch 14/250\n",
            "610/610 [==============================] - 17s 27ms/step - loss: 0.7994 - acc: 0.5146 - val_loss: 0.7869 - val_acc: 0.2743\n",
            "Epoch 15/250\n",
            "610/610 [==============================] - 17s 27ms/step - loss: 0.7849 - acc: 0.5087 - val_loss: 0.7034 - val_acc: 0.4964\n",
            "Epoch 16/250\n",
            "610/610 [==============================] - 17s 27ms/step - loss: 0.7749 - acc: 0.5196 - val_loss: 0.7063 - val_acc: 0.4913\n",
            "Epoch 17/250\n",
            "610/610 [==============================] - 17s 27ms/step - loss: 0.7627 - acc: 0.5168 - val_loss: 0.7022 - val_acc: 0.5032\n",
            "Epoch 18/250\n",
            "610/610 [==============================] - 17s 27ms/step - loss: 0.7642 - acc: 0.5061 - val_loss: 0.6733 - val_acc: 0.6016\n",
            "Epoch 19/250\n",
            "610/610 [==============================] - 17s 27ms/step - loss: 0.7381 - acc: 0.5366 - val_loss: 0.7042 - val_acc: 0.5009\n",
            "Epoch 20/250\n",
            "610/610 [==============================] - 17s 27ms/step - loss: 0.7363 - acc: 0.5280 - val_loss: 0.7315 - val_acc: 0.4123\n",
            "Epoch 21/250\n",
            "610/610 [==============================] - 17s 27ms/step - loss: 0.7254 - acc: 0.5286 - val_loss: 0.6431 - val_acc: 0.6839\n",
            "Epoch 22/250\n",
            "610/610 [==============================] - 16s 26ms/step - loss: 0.7323 - acc: 0.5336 - val_loss: 0.7007 - val_acc: 0.5155\n",
            "Epoch 23/250\n",
            "610/610 [==============================] - 16s 26ms/step - loss: 0.7244 - acc: 0.5265 - val_loss: 0.7042 - val_acc: 0.4976\n",
            "Epoch 24/250\n",
            "610/610 [==============================] - 16s 26ms/step - loss: 0.7087 - acc: 0.5394 - val_loss: 0.6776 - val_acc: 0.5934\n",
            "Epoch 25/250\n",
            "610/610 [==============================] - 16s 26ms/step - loss: 0.7170 - acc: 0.5431 - val_loss: 0.7382 - val_acc: 0.3967\n",
            "Epoch 26/250\n",
            "610/610 [==============================] - 16s 26ms/step - loss: 0.7208 - acc: 0.5215 - val_loss: 0.6868 - val_acc: 0.5621\n",
            "Epoch 27/250\n",
            "610/610 [==============================] - 16s 26ms/step - loss: 0.7028 - acc: 0.5402 - val_loss: 0.6693 - val_acc: 0.6158\n",
            "Epoch 28/250\n",
            "610/610 [==============================] - 16s 26ms/step - loss: 0.7021 - acc: 0.5521 - val_loss: 0.7113 - val_acc: 0.4724\n",
            "Epoch 29/250\n",
            "610/610 [==============================] - 16s 26ms/step - loss: 0.7043 - acc: 0.5399 - val_loss: 0.7067 - val_acc: 0.4874\n",
            "Epoch 30/250\n",
            "610/610 [==============================] - 16s 26ms/step - loss: 0.6972 - acc: 0.5556 - val_loss: 0.6843 - val_acc: 0.5672\n",
            "Epoch 31/250\n",
            "610/610 [==============================] - 16s 26ms/step - loss: 0.7004 - acc: 0.5378 - val_loss: 0.6571 - val_acc: 0.6523\n",
            "Epoch 32/250\n",
            "610/610 [==============================] - 16s 26ms/step - loss: 0.6927 - acc: 0.5565 - val_loss: 0.6699 - val_acc: 0.6103\n",
            "Epoch 33/250\n",
            "610/610 [==============================] - 16s 26ms/step - loss: 0.6943 - acc: 0.5598 - val_loss: 0.6962 - val_acc: 0.5198\n",
            "Epoch 34/250\n",
            "610/610 [==============================] - 16s 26ms/step - loss: 0.6934 - acc: 0.5584 - val_loss: 0.7158 - val_acc: 0.4628\n",
            "Epoch 35/250\n",
            "610/610 [==============================] - 16s 26ms/step - loss: 0.6892 - acc: 0.5599 - val_loss: 0.6975 - val_acc: 0.5182\n",
            "Epoch 36/250\n",
            "610/610 [==============================] - 16s 26ms/step - loss: 0.6874 - acc: 0.5668 - val_loss: 0.7154 - val_acc: 0.4652\n",
            "Epoch 37/250\n",
            "610/610 [==============================] - 16s 26ms/step - loss: 0.6885 - acc: 0.5617 - val_loss: 0.7277 - val_acc: 0.4271\n",
            "Epoch 38/250\n",
            "610/610 [==============================] - 16s 26ms/step - loss: 0.6844 - acc: 0.5649 - val_loss: 0.6857 - val_acc: 0.5495\n",
            "Epoch 39/250\n",
            "610/610 [==============================] - 16s 26ms/step - loss: 0.6888 - acc: 0.5704 - val_loss: 0.6907 - val_acc: 0.5358\n",
            "Epoch 40/250\n",
            "610/610 [==============================] - 16s 26ms/step - loss: 0.6868 - acc: 0.5657 - val_loss: 0.7121 - val_acc: 0.4732\n",
            "Epoch 41/250\n",
            "610/610 [==============================] - 16s 26ms/step - loss: 0.6830 - acc: 0.5685 - val_loss: 0.6950 - val_acc: 0.5229\n",
            "Epoch 42/250\n",
            "610/610 [==============================] - 16s 26ms/step - loss: 0.6809 - acc: 0.5761 - val_loss: 0.6941 - val_acc: 0.5235\n",
            "Epoch 43/250\n",
            "610/610 [==============================] - 16s 26ms/step - loss: 0.6812 - acc: 0.5684 - val_loss: 0.7044 - val_acc: 0.4925\n",
            "Epoch 44/250\n",
            "610/610 [==============================] - 16s 26ms/step - loss: 0.6804 - acc: 0.5669 - val_loss: 0.6887 - val_acc: 0.5362\n",
            "Epoch 45/250\n",
            "610/610 [==============================] - 16s 26ms/step - loss: 0.6819 - acc: 0.5719 - val_loss: 0.7034 - val_acc: 0.4952\n",
            "Epoch 46/250\n",
            "610/610 [==============================] - 16s 26ms/step - loss: 0.6804 - acc: 0.5670 - val_loss: 0.6772 - val_acc: 0.5694\n",
            "Restoring model weights from the end of the best epoch.\n",
            "Epoch 00046: early stopping\n"
          ]
        }
      ]
    },
    {
      "cell_type": "code",
      "metadata": {
        "colab": {
          "base_uri": "https://localhost:8080/"
        },
        "id": "glbNpB1-eaAL",
        "outputId": "7f279efd-d6e6-4216-cbb5-de04045830bd"
      },
      "source": [
        "dtlbc.save('./drive/MyDrive/COUGHVID/Models/dtlbc', save_format=\"tf\")"
      ],
      "execution_count": null,
      "outputs": [
        {
          "name": "stdout",
          "output_type": "stream",
          "text": [
            "INFO:tensorflow:Assets written to: ./drive/MyDrive/COUGHVID/Models/dtlbc/assets\n"
          ]
        }
      ]
    },
    {
      "cell_type": "code",
      "metadata": {
        "id": "jEswg5HFpokM"
      },
      "source": [
        "predictions = getPredictions(y_test, dtlbc)"
      ],
      "execution_count": null,
      "outputs": []
    },
    {
      "cell_type": "code",
      "metadata": {
        "colab": {
          "base_uri": "https://localhost:8080/",
          "height": 499
        },
        "id": "ecavkV0fb70m",
        "outputId": "ef83ee13-05fa-4d66-cfe5-9c9188a66b28"
      },
      "source": [
        "results = getAllMetricsForBC(y_test, predictions)\n",
        "results"
      ],
      "execution_count": null,
      "outputs": [
        {
          "name": "stdout",
          "output_type": "stream",
          "text": [
            "COVID Samples: 389\n",
            "No COVID Samples: 4486\n",
            "True Positives for COVID Samples: 125.0\n",
            "True Negatives for COVID Samples: 125.0\n",
            "False Negatives for COVID Samples: 264.0\n",
            "False Positives for COVID Samples: 264.0\n",
            "True Positives for healthy samples: 3209.0\n",
            "True Negatives for healthy samples: 3209.0\n",
            "False Negatives for healthy samples: 1277.0\n",
            "False Positives for healthy samples: 1277.0\n",
            "Sensitivity for the covid class: 0.32133675\n",
            "Specificity for the covid class: 0.32133675\n",
            "Sensitivity for the healthy class: 0.7153366\n",
            "Specificity for the healthy class: 0.7153366\n",
            "Recall Healthy Samples: 0.7153366\n",
            "Recall COVID Samples: 0.32133675\n",
            "Precision Healthy Samples: 0.923985\n",
            "Precision COVID Samples: 0.08915835\n",
            "Accuracy: 0.68389744\n"
          ]
        },
        {
          "data": {
            "text/html": [
              "<div>\n",
              "<style scoped>\n",
              "    .dataframe tbody tr th:only-of-type {\n",
              "        vertical-align: middle;\n",
              "    }\n",
              "\n",
              "    .dataframe tbody tr th {\n",
              "        vertical-align: top;\n",
              "    }\n",
              "\n",
              "    .dataframe thead th {\n",
              "        text-align: right;\n",
              "    }\n",
              "</style>\n",
              "<table border=\"1\" class=\"dataframe\">\n",
              "  <thead>\n",
              "    <tr style=\"text-align: right;\">\n",
              "      <th></th>\n",
              "      <th>Class</th>\n",
              "      <th>F1 Score</th>\n",
              "      <th>Sensitivity</th>\n",
              "      <th>Specificity</th>\n",
              "      <th>Precision</th>\n",
              "      <th>Recall</th>\n",
              "      <th>Accuracy</th>\n",
              "    </tr>\n",
              "  </thead>\n",
              "  <tbody>\n",
              "    <tr>\n",
              "      <th>0</th>\n",
              "      <td>Overall</td>\n",
              "      <td>-</td>\n",
              "      <td>-</td>\n",
              "      <td>-</td>\n",
              "      <td>-</td>\n",
              "      <td>-</td>\n",
              "      <td>0.683897</td>\n",
              "    </tr>\n",
              "    <tr>\n",
              "      <th>1</th>\n",
              "      <td>Healthy</td>\n",
              "      <td>80.6383</td>\n",
              "      <td>71.5337</td>\n",
              "      <td>71.5337</td>\n",
              "      <td>92.3985</td>\n",
              "      <td>71.5337</td>\n",
              "      <td>-</td>\n",
              "    </tr>\n",
              "    <tr>\n",
              "      <th>2</th>\n",
              "      <td>COVID</td>\n",
              "      <td>13.9587</td>\n",
              "      <td>32.1337</td>\n",
              "      <td>32.1337</td>\n",
              "      <td>8.91583</td>\n",
              "      <td>32.1337</td>\n",
              "      <td>-</td>\n",
              "    </tr>\n",
              "  </tbody>\n",
              "</table>\n",
              "</div>"
            ],
            "text/plain": [
              "     Class F1 Score Sensitivity Specificity Precision   Recall  Accuracy\n",
              "0  Overall        -           -           -         -        -  0.683897\n",
              "1  Healthy  80.6383     71.5337     71.5337   92.3985  71.5337         -\n",
              "2    COVID  13.9587     32.1337     32.1337   8.91583  32.1337         -"
            ]
          },
          "execution_count": 144,
          "metadata": {},
          "output_type": "execute_result"
        }
      ]
    },
    {
      "cell_type": "code",
      "metadata": {
        "colab": {
          "base_uri": "https://localhost:8080/",
          "height": 428
        },
        "id": "zdTC4Kxvsu6W",
        "outputId": "bdcf4315-fbc1-46b1-c158-e3317b74d358"
      },
      "source": [
        "matrix = confusion_matrix(np.argmax(y_test, axis=1), np.argmax(predictions, axis=1), normalize='true')\n",
        "labellist = ['No-COVID', 'COVID']\n",
        "plotConfusionMatrix(labellist, matrix)"
      ],
      "execution_count": null,
      "outputs": [
        {
          "data": {
            "image/png": "[encoded data removed]",
            "text/plain": [
              "<Figure size 720x504 with 2 Axes>"
            ]
          },
          "metadata": {},
          "output_type": "display_data"
        }
      ]
    },
    {
      "cell_type": "code",
      "metadata": {
        "colab": {
          "base_uri": "https://localhost:8080/",
          "height": 279
        },
        "id": "KS4WIWAQt7hh",
        "outputId": "459e6d00-a200-466d-ab3b-8c069bdea9f9"
      },
      "source": [
        "plotTrainingLoss(history.history['loss'], history.history['val_loss'])"
      ],
      "execution_count": null,
      "outputs": [
        {
          "data": {
            "image/png": "[encoded data removed]",
            "text/plain": [
              "<Figure size 432x288 with 1 Axes>"
            ]
          },
          "metadata": {},
          "output_type": "display_data"
        }
      ]
    },
    {
      "cell_type": "code",
      "metadata": {
        "colab": {
          "base_uri": "https://localhost:8080/",
          "height": 279
        },
        "id": "s90jj9-Cr4xc",
        "outputId": "74f7dbdd-4849-4848-bb47-9493ac344248"
      },
      "source": [
        "plotTrainingAccuracy(history.history['acc'], history.history['val_acc'])"
      ],
      "execution_count": null,
      "outputs": [
        {
          "data": {
            "image/png": "[encoded data removed]",
            "text/plain": [
              "<Figure size 432x288 with 1 Axes>"
            ]
          },
          "metadata": {},
          "output_type": "display_data"
        }
      ]
    },
    {
      "cell_type": "markdown",
      "metadata": {
        "id": "YaFg1Shuub_L"
      },
      "source": [
        "As we can see, the model clearly overfits since the train accuracy increases while the test accuracy stays more or less the same."
      ]
    },
    {
      "cell_type": "markdown",
      "metadata": {
        "id": "XY4ZsqBS6O-0"
      },
      "source": [
        "###Evaluation of the SVM"
      ]
    },
    {
      "cell_type": "code",
      "metadata": {
        "colab": {
          "base_uri": "https://localhost:8080/"
        },
        "id": "fFf7ZJSp6RBQ",
        "outputId": "045ce633-471d-4927-c835-45fefa6e2362"
      },
      "source": [
        "features_svm = np.load('./drive/MyDrive/COUGHVID/mfccfeatures.npy', allow_pickle=True)\n",
        "labels_svm = np.load('./drive/MyDrive/COUGHVID/mfccfeatureslabels.npy', allow_pickle=True)\n",
        "print(features_svm.shape)\n",
        "print(labels_svm.shape)"
      ],
      "execution_count": 7,
      "outputs": [
        {
          "output_type": "stream",
          "name": "stdout",
          "text": [
            "(23490, 256)\n",
            "(23490,)\n"
          ]
        }
      ]
    },
    {
      "cell_type": "code",
      "metadata": {
        "colab": {
          "base_uri": "https://localhost:8080/"
        },
        "id": "ZlCQnYY97nz3",
        "outputId": "06ad6480-504a-43f8-eb1e-19a416a23c1f"
      },
      "source": [
        "np.unique(labels_svm)"
      ],
      "execution_count": 17,
      "outputs": [
        {
          "output_type": "execute_result",
          "data": {
            "text/plain": [
              "array(['COVID-19', 'healthy', 'symptomatic'], dtype=object)"
            ]
          },
          "metadata": {},
          "execution_count": 17
        }
      ]
    },
    {
      "cell_type": "code",
      "metadata": {
        "colab": {
          "base_uri": "https://localhost:8080/"
        },
        "id": "6k_rE0JN6cAh",
        "outputId": "66cf9074-c7dc-40ba-9158-418fd7c4c698"
      },
      "source": [
        "## calculate class weights\n",
        "class_weights_svm = compute_class_weight('balanced', np.unique(labels_svm), labels_svm)\n",
        "class_weights_dict_svm = {'COVID-19':class_weights_svm[0], 'healthy':class_weights_svm[1], 'symptomatic':class_weights_svm[2]}\n",
        "\n",
        "class_weights_dict_svm"
      ],
      "execution_count": 19,
      "outputs": [
        {
          "output_type": "execute_result",
          "data": {
            "text/plain": [
              "{'COVID-19': 4.042333505420753,\n",
              " 'healthy': 0.4403824521934758,\n",
              " 'symptomatic': 2.0752716671084017}"
            ]
          },
          "metadata": {},
          "execution_count": 19
        }
      ]
    },
    {
      "cell_type": "code",
      "metadata": {
        "id": "fxcTHwJq61rd"
      },
      "source": [
        "X_train_svm, X_test_svm, y_train_svm, y_test_svm = train_test_split(features_svm, labels_svm, test_size=0.2, random_state=0)"
      ],
      "execution_count": 23,
      "outputs": []
    },
    {
      "cell_type": "code",
      "metadata": {
        "id": "4n_ANQF46-e4"
      },
      "source": [
        "svm = SVM(classWeights=class_weights_dict_svm)\n",
        "svm.fit(X_train_svm, y_train_svm)"
      ],
      "execution_count": 24,
      "outputs": []
    },
    {
      "cell_type": "code",
      "metadata": {
        "id": "DsZUhbH77Jjy"
      },
      "source": [
        "predictions = []\n",
        "for x in X_test_svm:\n",
        "  X = np.expand_dims(x, axis=0)\n",
        "  predictions.append(svm.predict(X)[0])\n",
        "predictions_oneHot = oneHotEncoding(predictions)\n",
        "y_test_svm_oneHot = oneHotEncoding(y_test_svm)"
      ],
      "execution_count": 25,
      "outputs": []
    },
    {
      "cell_type": "code",
      "metadata": {
        "colab": {
          "base_uri": "https://localhost:8080/",
          "height": 175
        },
        "id": "x1s7dbRh7PhT",
        "outputId": "8e1d5903-a10c-4eac-f847-d0d8a274a654"
      },
      "source": [
        "results = getAllMetrics(y_test_svm_oneHot, predictions_oneHot)\n",
        "results"
      ],
      "execution_count": 26,
      "outputs": [
        {
          "output_type": "execute_result",
          "data": {
            "text/html": [
              "<div>\n",
              "<style scoped>\n",
              "    .dataframe tbody tr th:only-of-type {\n",
              "        vertical-align: middle;\n",
              "    }\n",
              "\n",
              "    .dataframe tbody tr th {\n",
              "        vertical-align: top;\n",
              "    }\n",
              "\n",
              "    .dataframe thead th {\n",
              "        text-align: right;\n",
              "    }\n",
              "</style>\n",
              "<table border=\"1\" class=\"dataframe\">\n",
              "  <thead>\n",
              "    <tr style=\"text-align: right;\">\n",
              "      <th></th>\n",
              "      <th>Class</th>\n",
              "      <th>F1 Score</th>\n",
              "      <th>Sensitivity</th>\n",
              "      <th>Specificity</th>\n",
              "      <th>Precision</th>\n",
              "      <th>Recall</th>\n",
              "      <th>Accuracy</th>\n",
              "    </tr>\n",
              "  </thead>\n",
              "  <tbody>\n",
              "    <tr>\n",
              "      <th>0</th>\n",
              "      <td>Overall</td>\n",
              "      <td>-</td>\n",
              "      <td>-</td>\n",
              "      <td>-</td>\n",
              "      <td>-</td>\n",
              "      <td>-</td>\n",
              "      <td>0.629333</td>\n",
              "    </tr>\n",
              "    <tr>\n",
              "      <th>1</th>\n",
              "      <td>Healthy</td>\n",
              "      <td>57.5944</td>\n",
              "      <td>43.8503</td>\n",
              "      <td>71.9251</td>\n",
              "      <td>83.8875</td>\n",
              "      <td>43.8503</td>\n",
              "      <td>-</td>\n",
              "    </tr>\n",
              "    <tr>\n",
              "      <th>2</th>\n",
              "      <td>COVID</td>\n",
              "      <td>19.5251</td>\n",
              "      <td>41.573</td>\n",
              "      <td>70.7865</td>\n",
              "      <td>12.7586</td>\n",
              "      <td>41.573</td>\n",
              "      <td>-</td>\n",
              "    </tr>\n",
              "    <tr>\n",
              "      <th>3</th>\n",
              "      <td>Symptomatic</td>\n",
              "      <td>32.7801</td>\n",
              "      <td>48.4663</td>\n",
              "      <td>74.2331</td>\n",
              "      <td>24.7649</td>\n",
              "      <td>48.4663</td>\n",
              "      <td>-</td>\n",
              "    </tr>\n",
              "  </tbody>\n",
              "</table>\n",
              "</div>"
            ],
            "text/plain": [
              "         Class F1 Score Sensitivity Specificity Precision   Recall  Accuracy\n",
              "0      Overall        -           -           -         -        -  0.629333\n",
              "1      Healthy  57.5944     43.8503     71.9251   83.8875  43.8503         -\n",
              "2        COVID  19.5251      41.573     70.7865   12.7586   41.573         -\n",
              "3  Symptomatic  32.7801     48.4663     74.2331   24.7649  48.4663         -"
            ]
          },
          "metadata": {},
          "execution_count": 26
        }
      ]
    },
    {
      "cell_type": "code",
      "metadata": {
        "colab": {
          "base_uri": "https://localhost:8080/",
          "height": 428
        },
        "id": "kaLA3ReT9ZE6",
        "outputId": "888e1ff7-a762-4c57-93d2-6a12bab752e1"
      },
      "source": [
        "matrix = confusion_matrix(np.argmax(oneHotEncoding(y_test_svm), axis=1), np.argmax(oneHotEncoding(predictions), axis=1), normalize=\"true\")\n",
        "labellist = ['healthy','covid', 'symptomatic']\n",
        "plotConfusionMatrix(labellist, matrix)"
      ],
      "execution_count": 29,
      "outputs": [
        {
          "output_type": "display_data",
          "data": {
            "image/png": "[encoded data removed]",
            "text/plain": [
              "<Figure size 720x504 with 2 Axes>"
            ]
          },
          "metadata": {
            "needs_background": "light"
          }
        }
      ]
    },
    {
      "cell_type": "markdown",
      "metadata": {
        "id": "Qb7XEpK2NUAt"
      },
      "source": [
        "##Evaluation with balanced datasets"
      ]
    },
    {
      "cell_type": "code",
      "metadata": {
        "id": "VeeEMZS7N4of",
        "colab": {
          "base_uri": "https://localhost:8080/"
        },
        "outputId": "01d87f11-27aa-4cdf-f594-0a1a92d2820c"
      },
      "source": [
        "covid_indizes = np.where(labels=='COVID-19')\n",
        "print('COVID Samples: ' + str(len(covid_indizes[0])))\n",
        "symptom_indizes = np.where(labels=='symptomatic')\n",
        "print('Symptomatic Samples: ' + str(len(symptom_indizes[0])))\n",
        "healthy_indizes = np.where(labels=='healthy')\n",
        "print('Healthy Samples: ' + str(len(healthy_indizes[0])))"
      ],
      "execution_count": 33,
      "outputs": [
        {
          "output_type": "stream",
          "name": "stdout",
          "text": [
            "COVID Samples: 1984\n",
            "Symptomatic Samples: 3904\n",
            "Healthy Samples: 18486\n"
          ]
        }
      ]
    },
    {
      "cell_type": "markdown",
      "metadata": {
        "id": "oZTmRJR9Oazv"
      },
      "source": [
        "As we can see the dataset is highly unbalanced. Therefor we take from each class only the amount of samples that we have available of the most underrepresented class."
      ]
    },
    {
      "cell_type": "markdown",
      "metadata": {
        "id": "Z_F9A0gpxvJ0"
      },
      "source": [
        "##Evaluation of DTLMC"
      ]
    },
    {
      "cell_type": "code",
      "metadata": {
        "id": "v90l-snQNha6",
        "colab": {
          "base_uri": "https://localhost:8080/"
        },
        "outputId": "8f3f4375-598f-4d42-f90d-ee00b1d41a47"
      },
      "source": [
        "data_new = dataSegmented[covid_indizes]\n",
        "data_new = np.append(data_new,dataSegmented[symptom_indizes[0][:len(covid_indizes[0])]], axis=0)\n",
        "data_new = np.append(data_new,dataSegmented[healthy_indizes[0][:len(covid_indizes[0])]], axis=0)\n",
        "\n",
        "data_new = np.expand_dims(data_new, axis=3)\n",
        "\n",
        "labels_new = labels[covid_indizes]\n",
        "labels_new = np.append(labels_new,labels[symptom_indizes[0][:len(covid_indizes[0])]])\n",
        "labels_new = np.append(labels_new,labels[healthy_indizes[0][:len(covid_indizes[0])]])\n",
        "\n",
        "labels_new = oneHotEncoding(labels_new)\n",
        "\n",
        "print(labels_new.shape)\n",
        "print(data_new.shape)"
      ],
      "execution_count": null,
      "outputs": [
        {
          "output_type": "stream",
          "name": "stdout",
          "text": [
            "(5952, 3)\n",
            "(5952, 240, 320, 1)\n"
          ]
        }
      ]
    },
    {
      "cell_type": "code",
      "metadata": {
        "id": "X4yDrOnlOqta"
      },
      "source": [
        "# split data for train and test validation\n",
        "X_train, X_test, y_train, y_test = train_test_split(data_new, labels_new, test_size=0.2, random_state=0)"
      ],
      "execution_count": null,
      "outputs": []
    },
    {
      "cell_type": "code",
      "metadata": {
        "id": "gTwbkVB4Outx"
      },
      "source": [
        "lr_schedule = tf.keras.optimizers.schedules.ExponentialDecay(\n",
        "    initial_learning_rate=0.00001,\n",
        "    decay_steps=10000,\n",
        "    decay_rate=0.9)\n",
        "\n",
        "cb = tf.keras.callbacks.EarlyStopping(monitor='val_loss', min_delta=0.01, patience=25, verbose=1,\n",
        "    mode='auto', baseline=None, restore_best_weights=True)\n",
        "\n",
        "dtlmc = DTLMC()\n",
        "opt = tf.keras.optimizers.Adam(learning_rate=lr_schedule)\n",
        "dtlmc.compile(optimizer=opt,loss='categorical_crossentropy',metrics=['acc'])\n"
      ],
      "execution_count": null,
      "outputs": []
    },
    {
      "cell_type": "code",
      "metadata": {
        "colab": {
          "base_uri": "https://localhost:8080/"
        },
        "id": "jn5XRSeuOx22",
        "outputId": "4c98e2f3-8bd5-4d62-dfe8-f8f378a000fa"
      },
      "source": [
        "history = dtlmc.fit(X_train,y_train, epochs=250, validation_data=(X_test,y_test), callbacks=[cb])"
      ],
      "execution_count": null,
      "outputs": [
        {
          "output_type": "stream",
          "name": "stdout",
          "text": [
            "Epoch 1/250\n",
            "149/149 [==============================] - 5s 30ms/step - loss: 6.1886 - acc: 0.3369 - val_loss: 1.3505 - val_acc: 0.3417\n",
            "Epoch 2/250\n",
            "149/149 [==============================] - 4s 25ms/step - loss: 3.1049 - acc: 0.3262 - val_loss: 1.1732 - val_acc: 0.3493\n",
            "Epoch 3/250\n",
            "149/149 [==============================] - 4s 25ms/step - loss: 2.0019 - acc: 0.3451 - val_loss: 1.1388 - val_acc: 0.3577\n",
            "Epoch 4/250\n",
            "149/149 [==============================] - 4s 25ms/step - loss: 1.5124 - acc: 0.3550 - val_loss: 1.1195 - val_acc: 0.3644\n",
            "Epoch 5/250\n",
            "149/149 [==============================] - 4s 25ms/step - loss: 1.3571 - acc: 0.3535 - val_loss: 1.1102 - val_acc: 0.3543\n",
            "Epoch 6/250\n",
            "149/149 [==============================] - 4s 25ms/step - loss: 1.2574 - acc: 0.3482 - val_loss: 1.1075 - val_acc: 0.3594\n",
            "Epoch 7/250\n",
            "149/149 [==============================] - 4s 25ms/step - loss: 1.2217 - acc: 0.3573 - val_loss: 1.1009 - val_acc: 0.3745\n",
            "Epoch 8/250\n",
            "149/149 [==============================] - 4s 25ms/step - loss: 1.1866 - acc: 0.3602 - val_loss: 1.0979 - val_acc: 0.3526\n",
            "Epoch 9/250\n",
            "149/149 [==============================] - 4s 25ms/step - loss: 1.1610 - acc: 0.3756 - val_loss: 1.0961 - val_acc: 0.3636\n",
            "Epoch 10/250\n",
            "149/149 [==============================] - 4s 25ms/step - loss: 1.1551 - acc: 0.3659 - val_loss: 1.0987 - val_acc: 0.3661\n",
            "Epoch 11/250\n",
            "149/149 [==============================] - 4s 25ms/step - loss: 1.1317 - acc: 0.3762 - val_loss: 1.0908 - val_acc: 0.3669\n",
            "Epoch 12/250\n",
            "149/149 [==============================] - 4s 25ms/step - loss: 1.1251 - acc: 0.3854 - val_loss: 1.0916 - val_acc: 0.3846\n",
            "Epoch 13/250\n",
            "149/149 [==============================] - 4s 25ms/step - loss: 1.1148 - acc: 0.3894 - val_loss: 1.0899 - val_acc: 0.3795\n",
            "Epoch 14/250\n",
            "149/149 [==============================] - 4s 25ms/step - loss: 1.1032 - acc: 0.3970 - val_loss: 1.0868 - val_acc: 0.3837\n",
            "Epoch 15/250\n",
            "149/149 [==============================] - 4s 25ms/step - loss: 1.0978 - acc: 0.3957 - val_loss: 1.0871 - val_acc: 0.3955\n",
            "Epoch 16/250\n",
            "149/149 [==============================] - 4s 25ms/step - loss: 1.0957 - acc: 0.3995 - val_loss: 1.0842 - val_acc: 0.4047\n",
            "Epoch 17/250\n",
            "149/149 [==============================] - 4s 25ms/step - loss: 1.0825 - acc: 0.4121 - val_loss: 1.0847 - val_acc: 0.4055\n",
            "Epoch 18/250\n",
            "149/149 [==============================] - 4s 25ms/step - loss: 1.0848 - acc: 0.4138 - val_loss: 1.0810 - val_acc: 0.3929\n",
            "Epoch 19/250\n",
            "149/149 [==============================] - 4s 25ms/step - loss: 1.0736 - acc: 0.4199 - val_loss: 1.0854 - val_acc: 0.3820\n",
            "Epoch 20/250\n",
            "149/149 [==============================] - 4s 25ms/step - loss: 1.0687 - acc: 0.4316 - val_loss: 1.0809 - val_acc: 0.4081\n",
            "Epoch 21/250\n",
            "149/149 [==============================] - 4s 25ms/step - loss: 1.0721 - acc: 0.4192 - val_loss: 1.0839 - val_acc: 0.4114\n",
            "Epoch 22/250\n",
            "149/149 [==============================] - 4s 25ms/step - loss: 1.0648 - acc: 0.4386 - val_loss: 1.0806 - val_acc: 0.4123\n",
            "Epoch 23/250\n",
            "149/149 [==============================] - 4s 25ms/step - loss: 1.0521 - acc: 0.4499 - val_loss: 1.0826 - val_acc: 0.4148\n",
            "Epoch 24/250\n",
            "149/149 [==============================] - 4s 25ms/step - loss: 1.0554 - acc: 0.4489 - val_loss: 1.0797 - val_acc: 0.4013\n",
            "Epoch 25/250\n",
            "149/149 [==============================] - 4s 25ms/step - loss: 1.0496 - acc: 0.4547 - val_loss: 1.0797 - val_acc: 0.4097\n",
            "Epoch 26/250\n",
            "149/149 [==============================] - 4s 25ms/step - loss: 1.0483 - acc: 0.4491 - val_loss: 1.0821 - val_acc: 0.4097\n",
            "Epoch 27/250\n",
            "149/149 [==============================] - 4s 25ms/step - loss: 1.0437 - acc: 0.4627 - val_loss: 1.0808 - val_acc: 0.4064\n",
            "Epoch 28/250\n",
            "149/149 [==============================] - 4s 25ms/step - loss: 1.0409 - acc: 0.4612 - val_loss: 1.0805 - val_acc: 0.4173\n",
            "Epoch 29/250\n",
            "149/149 [==============================] - 4s 25ms/step - loss: 1.0356 - acc: 0.4650 - val_loss: 1.0795 - val_acc: 0.4123\n",
            "Epoch 30/250\n",
            "149/149 [==============================] - 4s 25ms/step - loss: 1.0304 - acc: 0.4707 - val_loss: 1.0811 - val_acc: 0.4265\n",
            "Epoch 31/250\n",
            "149/149 [==============================] - 4s 25ms/step - loss: 1.0224 - acc: 0.4793 - val_loss: 1.0795 - val_acc: 0.4139\n",
            "Epoch 32/250\n",
            "149/149 [==============================] - 4s 25ms/step - loss: 1.0207 - acc: 0.4923 - val_loss: 1.0811 - val_acc: 0.4165\n",
            "Epoch 33/250\n",
            "149/149 [==============================] - 4s 25ms/step - loss: 1.0161 - acc: 0.4875 - val_loss: 1.0869 - val_acc: 0.4181\n",
            "Epoch 34/250\n",
            "149/149 [==============================] - 4s 25ms/step - loss: 1.0147 - acc: 0.4894 - val_loss: 1.0784 - val_acc: 0.4089\n",
            "Epoch 35/250\n",
            "149/149 [==============================] - 4s 25ms/step - loss: 1.0061 - acc: 0.5009 - val_loss: 1.0793 - val_acc: 0.4156\n",
            "Epoch 36/250\n",
            "149/149 [==============================] - 4s 25ms/step - loss: 1.0009 - acc: 0.5035 - val_loss: 1.0827 - val_acc: 0.4047\n",
            "Epoch 37/250\n",
            "149/149 [==============================] - 4s 25ms/step - loss: 0.9965 - acc: 0.5035 - val_loss: 1.0831 - val_acc: 0.4240\n",
            "Epoch 38/250\n",
            "149/149 [==============================] - 4s 25ms/step - loss: 0.9842 - acc: 0.5171 - val_loss: 1.0902 - val_acc: 0.4131\n",
            "Epoch 39/250\n",
            "149/149 [==============================] - 4s 25ms/step - loss: 0.9854 - acc: 0.5152 - val_loss: 1.0832 - val_acc: 0.4047\n",
            "Epoch 40/250\n",
            "149/149 [==============================] - 4s 25ms/step - loss: 0.9772 - acc: 0.5352 - val_loss: 1.0814 - val_acc: 0.4223\n",
            "Epoch 41/250\n",
            "149/149 [==============================] - 4s 25ms/step - loss: 0.9832 - acc: 0.5159 - val_loss: 1.0824 - val_acc: 0.4148\n",
            "Epoch 42/250\n",
            "149/149 [==============================] - 4s 25ms/step - loss: 0.9715 - acc: 0.5333 - val_loss: 1.0809 - val_acc: 0.4240\n",
            "Epoch 43/250\n",
            "149/149 [==============================] - 4s 25ms/step - loss: 0.9774 - acc: 0.5274 - val_loss: 1.0872 - val_acc: 0.4232\n",
            "Epoch 44/250\n",
            "149/149 [==============================] - 4s 25ms/step - loss: 0.9594 - acc: 0.5455 - val_loss: 1.0841 - val_acc: 0.4097\n",
            "Epoch 45/250\n",
            "149/149 [==============================] - 4s 25ms/step - loss: 0.9618 - acc: 0.5390 - val_loss: 1.0842 - val_acc: 0.4139\n",
            "Epoch 46/250\n",
            "149/149 [==============================] - 4s 25ms/step - loss: 0.9579 - acc: 0.5390 - val_loss: 1.0840 - val_acc: 0.4207\n",
            "Epoch 47/250\n",
            "149/149 [==============================] - 4s 25ms/step - loss: 0.9510 - acc: 0.5442 - val_loss: 1.0913 - val_acc: 0.4072\n",
            "Epoch 48/250\n",
            "149/149 [==============================] - 4s 25ms/step - loss: 0.9422 - acc: 0.5562 - val_loss: 1.0858 - val_acc: 0.4181\n",
            "Epoch 49/250\n",
            "149/149 [==============================] - 4s 25ms/step - loss: 0.9367 - acc: 0.5621 - val_loss: 1.0848 - val_acc: 0.4081\n",
            "Epoch 50/250\n",
            "149/149 [==============================] - 4s 25ms/step - loss: 0.9414 - acc: 0.5551 - val_loss: 1.0963 - val_acc: 0.4131\n",
            "Epoch 51/250\n",
            "149/149 [==============================] - 4s 25ms/step - loss: 0.9341 - acc: 0.5553 - val_loss: 1.0921 - val_acc: 0.4215\n",
            "Restoring model weights from the end of the best epoch.\n",
            "Epoch 00051: early stopping\n"
          ]
        }
      ]
    },
    {
      "cell_type": "code",
      "metadata": {
        "id": "RlV4BJy1PqHd"
      },
      "source": [
        "predictions = []\n",
        "for x in X_test:\n",
        "  predArray = [0,0,0]\n",
        "  x = np.expand_dims(x, axis=0)\n",
        "  prediction = dtlmc.predict(x)\n",
        "  predArray[np.argmax(prediction[0])] = 1\n",
        "  predictions.append(predArray)"
      ],
      "execution_count": null,
      "outputs": []
    },
    {
      "cell_type": "code",
      "metadata": {
        "colab": {
          "base_uri": "https://localhost:8080/",
          "height": 175
        },
        "id": "bfXBCAtSPxOk",
        "outputId": "1d566714-82d3-4281-dce3-09cec59a8d8e"
      },
      "source": [
        "df = getAllMetrics(y_test, predictions)\n",
        "df"
      ],
      "execution_count": null,
      "outputs": [
        {
          "output_type": "execute_result",
          "data": {
            "text/html": [
              "<div>\n",
              "<style scoped>\n",
              "    .dataframe tbody tr th:only-of-type {\n",
              "        vertical-align: middle;\n",
              "    }\n",
              "\n",
              "    .dataframe tbody tr th {\n",
              "        vertical-align: top;\n",
              "    }\n",
              "\n",
              "    .dataframe thead th {\n",
              "        text-align: right;\n",
              "    }\n",
              "</style>\n",
              "<table border=\"1\" class=\"dataframe\">\n",
              "  <thead>\n",
              "    <tr style=\"text-align: right;\">\n",
              "      <th></th>\n",
              "      <th>Class</th>\n",
              "      <th>F1 Score</th>\n",
              "      <th>Sensitivity</th>\n",
              "      <th>Specificity</th>\n",
              "      <th>Precision</th>\n",
              "      <th>Recall</th>\n",
              "      <th>Accuracy</th>\n",
              "    </tr>\n",
              "  </thead>\n",
              "  <tbody>\n",
              "    <tr>\n",
              "      <th>0</th>\n",
              "      <td>Overall</td>\n",
              "      <td>-</td>\n",
              "      <td>-</td>\n",
              "      <td>-</td>\n",
              "      <td>-</td>\n",
              "      <td>-</td>\n",
              "      <td>0.603135</td>\n",
              "    </tr>\n",
              "    <tr>\n",
              "      <th>1</th>\n",
              "      <td>Healthy</td>\n",
              "      <td>43.4298</td>\n",
              "      <td>49.1184</td>\n",
              "      <td>74.5592</td>\n",
              "      <td>38.9222</td>\n",
              "      <td>49.1184</td>\n",
              "      <td>-</td>\n",
              "    </tr>\n",
              "    <tr>\n",
              "      <th>2</th>\n",
              "      <td>COVID</td>\n",
              "      <td>36.9844</td>\n",
              "      <td>34.3008</td>\n",
              "      <td>67.1504</td>\n",
              "      <td>40.1235</td>\n",
              "      <td>34.3008</td>\n",
              "      <td>-</td>\n",
              "    </tr>\n",
              "    <tr>\n",
              "      <th>3</th>\n",
              "      <td>Symptomatic</td>\n",
              "      <td>40.2049</td>\n",
              "      <td>37.8313</td>\n",
              "      <td>68.9157</td>\n",
              "      <td>42.8962</td>\n",
              "      <td>37.8313</td>\n",
              "      <td>-</td>\n",
              "    </tr>\n",
              "  </tbody>\n",
              "</table>\n",
              "</div>"
            ],
            "text/plain": [
              "         Class F1 Score Sensitivity Specificity Precision   Recall  Accuracy\n",
              "0      Overall        -           -           -         -        -  0.603135\n",
              "1      Healthy  43.4298     49.1184     74.5592   38.9222  49.1184         -\n",
              "2        COVID  36.9844     34.3008     67.1504   40.1235  34.3008         -\n",
              "3  Symptomatic  40.2049     37.8313     68.9157   42.8962  37.8313         -"
            ]
          },
          "metadata": {},
          "execution_count": 137
        }
      ]
    },
    {
      "cell_type": "code",
      "metadata": {
        "colab": {
          "base_uri": "https://localhost:8080/",
          "height": 428
        },
        "id": "hI9QEgy8qzy7",
        "outputId": "2011e2a2-7643-4a99-bd5e-c5a771f2ae10"
      },
      "source": [
        "matrix = confusion_matrix(np.argmax(y_test, axis=1), np.argmax(predictions, axis=1), normalize=\"true\")\n",
        "labellist = ['healthy','covid', 'symptomatic']\n",
        "plotConfusionMatrix(labellist, matrix)"
      ],
      "execution_count": null,
      "outputs": [
        {
          "output_type": "display_data",
          "data": {
            "image/png": "[encoded data removed]",
            "text/plain": [
              "<Figure size 720x504 with 2 Axes>"
            ]
          },
          "metadata": {
            "needs_background": "light"
          }
        }
      ]
    },
    {
      "cell_type": "markdown",
      "metadata": {
        "id": "C74uxBZ989rG"
      },
      "source": [
        "##Evaluation of DTLBC"
      ]
    },
    {
      "cell_type": "code",
      "metadata": {
        "colab": {
          "base_uri": "https://localhost:8080/"
        },
        "id": "oWK0mNnw9DaF",
        "outputId": "b7339736-b08f-41d9-83e4-8b38a98178f3"
      },
      "source": [
        "data_new = dataSegmented[covid_indizes]\n",
        "data_new = np.append(data_new,dataSegmented[symptom_indizes[0][:int((len(covid_indizes[0])/2))]], axis=0)\n",
        "data_new = np.append(data_new,dataSegmented[healthy_indizes[0][:int((len(covid_indizes[0])/2))]], axis=0)\n",
        "\n",
        "data_new = np.expand_dims(data_new, axis=3)\n",
        "\n",
        "labels_new = labels[covid_indizes]\n",
        "labels_new = np.append(labels_new,labels[symptom_indizes[0][:int((len(covid_indizes[0])/2))]])\n",
        "labels_new = np.append(labels_new,labels[healthy_indizes[0][:int((len(covid_indizes[0])/2))]])\n",
        "\n",
        "labels_new = oneHotEncodingForBC(labels_new)\n",
        "\n",
        "print(labels_new.shape)\n",
        "print(data_new.shape)"
      ],
      "execution_count": 55,
      "outputs": [
        {
          "output_type": "stream",
          "name": "stdout",
          "text": [
            "(3968, 2)\n",
            "(3968, 240, 320, 1)\n"
          ]
        }
      ]
    },
    {
      "cell_type": "code",
      "metadata": {
        "id": "h0lW8DkkB-hi"
      },
      "source": [
        "assert labels_new.shape[0]/2 == len(covid_indizes[0])"
      ],
      "execution_count": 59,
      "outputs": []
    },
    {
      "cell_type": "code",
      "metadata": {
        "id": "RIv0sZ_H9OC9"
      },
      "source": [
        "X_train, X_test, y_train, y_test = train_test_split(data_new, labels_new, test_size=0.2, random_state=0)"
      ],
      "execution_count": 60,
      "outputs": []
    },
    {
      "cell_type": "code",
      "metadata": {
        "id": "Lhiw4fAH9OVo"
      },
      "source": [
        "lr_schedule = tf.keras.optimizers.schedules.ExponentialDecay(\n",
        "    initial_learning_rate=0.00001,\n",
        "    decay_steps=10000,\n",
        "    decay_rate=0.9)\n",
        "\n",
        "cb = tf.keras.callbacks.EarlyStopping(monitor='val_loss', min_delta=0.01, patience=25, verbose=1,\n",
        "    mode='auto', baseline=None, restore_best_weights=True)\n",
        "\n",
        "dtlbc = DTLBC()\n",
        "opt = tf.keras.optimizers.Adam(learning_rate=lr_schedule)\n",
        "dtlbc.compile(optimizer=opt,loss='categorical_crossentropy',metrics=['acc'])"
      ],
      "execution_count": 61,
      "outputs": []
    },
    {
      "cell_type": "code",
      "metadata": {
        "colab": {
          "base_uri": "https://localhost:8080/"
        },
        "id": "Qxph7Vap9STv",
        "outputId": "5f3dca7a-921f-4d5b-9f95-a53457906c1b"
      },
      "source": [
        "history = dtlbc.fit(X_train,y_train, epochs=250, validation_data=(X_test,y_test), callbacks=[cb])"
      ],
      "execution_count": 62,
      "outputs": [
        {
          "output_type": "stream",
          "name": "stdout",
          "text": [
            "Epoch 1/250\n",
            "100/100 [==============================] - 3s 23ms/step - loss: 9.0131 - acc: 0.5113 - val_loss: 5.7866 - val_acc: 0.4824\n",
            "Epoch 2/250\n",
            "100/100 [==============================] - 2s 17ms/step - loss: 5.7442 - acc: 0.5057 - val_loss: 1.9079 - val_acc: 0.4836\n",
            "Epoch 3/250\n",
            "100/100 [==============================] - 2s 17ms/step - loss: 3.8548 - acc: 0.5148 - val_loss: 1.5721 - val_acc: 0.4874\n",
            "Epoch 4/250\n",
            "100/100 [==============================] - 2s 17ms/step - loss: 3.0264 - acc: 0.5113 - val_loss: 1.4620 - val_acc: 0.4861\n",
            "Epoch 5/250\n",
            "100/100 [==============================] - 2s 17ms/step - loss: 2.3498 - acc: 0.4946 - val_loss: 1.0394 - val_acc: 0.4950\n",
            "Epoch 6/250\n",
            "100/100 [==============================] - 2s 17ms/step - loss: 1.8290 - acc: 0.4924 - val_loss: 1.1244 - val_acc: 0.4912\n",
            "Epoch 7/250\n",
            "100/100 [==============================] - 2s 17ms/step - loss: 1.4653 - acc: 0.5104 - val_loss: 0.9336 - val_acc: 0.4950\n",
            "Epoch 8/250\n",
            "100/100 [==============================] - 2s 17ms/step - loss: 1.2244 - acc: 0.5025 - val_loss: 0.7555 - val_acc: 0.5000\n",
            "Epoch 9/250\n",
            "100/100 [==============================] - 2s 17ms/step - loss: 1.0634 - acc: 0.5041 - val_loss: 0.7303 - val_acc: 0.4987\n",
            "Epoch 10/250\n",
            "100/100 [==============================] - 2s 17ms/step - loss: 0.9713 - acc: 0.5142 - val_loss: 0.7041 - val_acc: 0.5227\n",
            "Epoch 11/250\n",
            "100/100 [==============================] - 2s 17ms/step - loss: 0.9086 - acc: 0.5009 - val_loss: 0.7005 - val_acc: 0.5302\n",
            "Epoch 12/250\n",
            "100/100 [==============================] - 2s 17ms/step - loss: 0.8674 - acc: 0.5176 - val_loss: 0.6987 - val_acc: 0.5403\n",
            "Epoch 13/250\n",
            "100/100 [==============================] - 2s 17ms/step - loss: 0.8136 - acc: 0.5195 - val_loss: 0.7028 - val_acc: 0.5164\n",
            "Epoch 14/250\n",
            "100/100 [==============================] - 2s 17ms/step - loss: 0.8045 - acc: 0.5180 - val_loss: 0.7024 - val_acc: 0.5214\n",
            "Epoch 15/250\n",
            "100/100 [==============================] - 2s 17ms/step - loss: 0.7765 - acc: 0.5369 - val_loss: 0.6959 - val_acc: 0.5327\n",
            "Epoch 16/250\n",
            "100/100 [==============================] - 2s 17ms/step - loss: 0.7731 - acc: 0.5202 - val_loss: 0.6956 - val_acc: 0.5353\n",
            "Epoch 17/250\n",
            "100/100 [==============================] - 2s 17ms/step - loss: 0.7516 - acc: 0.5369 - val_loss: 0.6960 - val_acc: 0.5365\n",
            "Epoch 18/250\n",
            "100/100 [==============================] - 2s 17ms/step - loss: 0.7557 - acc: 0.5243 - val_loss: 0.6904 - val_acc: 0.5340\n",
            "Epoch 19/250\n",
            "100/100 [==============================] - 2s 17ms/step - loss: 0.7398 - acc: 0.5299 - val_loss: 0.6918 - val_acc: 0.5340\n",
            "Epoch 20/250\n",
            "100/100 [==============================] - 2s 17ms/step - loss: 0.7330 - acc: 0.5372 - val_loss: 0.6932 - val_acc: 0.5290\n",
            "Epoch 21/250\n",
            "100/100 [==============================] - 2s 17ms/step - loss: 0.7295 - acc: 0.5328 - val_loss: 0.6898 - val_acc: 0.5365\n",
            "Epoch 22/250\n",
            "100/100 [==============================] - 2s 17ms/step - loss: 0.7214 - acc: 0.5425 - val_loss: 0.6937 - val_acc: 0.5315\n",
            "Epoch 23/250\n",
            "100/100 [==============================] - 2s 17ms/step - loss: 0.7107 - acc: 0.5504 - val_loss: 0.6888 - val_acc: 0.5353\n",
            "Epoch 24/250\n",
            "100/100 [==============================] - 2s 17ms/step - loss: 0.7041 - acc: 0.5602 - val_loss: 0.6861 - val_acc: 0.5491\n",
            "Epoch 25/250\n",
            "100/100 [==============================] - 2s 17ms/step - loss: 0.6921 - acc: 0.5611 - val_loss: 0.6916 - val_acc: 0.5302\n",
            "Epoch 26/250\n",
            "100/100 [==============================] - 2s 17ms/step - loss: 0.7022 - acc: 0.5567 - val_loss: 0.6905 - val_acc: 0.5390\n",
            "Epoch 27/250\n",
            "100/100 [==============================] - 2s 17ms/step - loss: 0.7062 - acc: 0.5517 - val_loss: 0.6850 - val_acc: 0.5353\n",
            "Epoch 28/250\n",
            "100/100 [==============================] - 2s 17ms/step - loss: 0.6910 - acc: 0.5718 - val_loss: 0.6838 - val_acc: 0.5592\n",
            "Epoch 29/250\n",
            "100/100 [==============================] - 2s 17ms/step - loss: 0.6803 - acc: 0.5803 - val_loss: 0.6837 - val_acc: 0.5605\n",
            "Epoch 30/250\n",
            "100/100 [==============================] - 2s 17ms/step - loss: 0.6813 - acc: 0.5829 - val_loss: 0.6807 - val_acc: 0.5516\n",
            "Epoch 31/250\n",
            "100/100 [==============================] - 2s 17ms/step - loss: 0.6769 - acc: 0.5747 - val_loss: 0.6785 - val_acc: 0.5668\n",
            "Epoch 32/250\n",
            "100/100 [==============================] - 2s 17ms/step - loss: 0.6705 - acc: 0.5876 - val_loss: 0.6813 - val_acc: 0.5542\n",
            "Epoch 33/250\n",
            "100/100 [==============================] - 2s 17ms/step - loss: 0.6779 - acc: 0.5866 - val_loss: 0.6838 - val_acc: 0.5479\n",
            "Epoch 34/250\n",
            "100/100 [==============================] - 2s 17ms/step - loss: 0.6687 - acc: 0.5841 - val_loss: 0.6806 - val_acc: 0.5655\n",
            "Epoch 35/250\n",
            "100/100 [==============================] - 2s 17ms/step - loss: 0.6619 - acc: 0.6043 - val_loss: 0.6849 - val_acc: 0.5554\n",
            "Epoch 36/250\n",
            "100/100 [==============================] - 2s 17ms/step - loss: 0.6727 - acc: 0.5948 - val_loss: 0.6822 - val_acc: 0.5680\n",
            "Epoch 37/250\n",
            "100/100 [==============================] - 2s 17ms/step - loss: 0.6581 - acc: 0.6093 - val_loss: 0.6781 - val_acc: 0.5592\n",
            "Epoch 38/250\n",
            "100/100 [==============================] - 2s 17ms/step - loss: 0.6591 - acc: 0.6084 - val_loss: 0.6796 - val_acc: 0.5567\n",
            "Epoch 39/250\n",
            "100/100 [==============================] - 2s 17ms/step - loss: 0.6521 - acc: 0.6147 - val_loss: 0.6848 - val_acc: 0.5554\n",
            "Epoch 40/250\n",
            "100/100 [==============================] - 2s 17ms/step - loss: 0.6528 - acc: 0.6090 - val_loss: 0.6787 - val_acc: 0.5693\n",
            "Epoch 41/250\n",
            "100/100 [==============================] - 2s 17ms/step - loss: 0.6468 - acc: 0.6169 - val_loss: 0.6830 - val_acc: 0.5504\n",
            "Epoch 42/250\n",
            "100/100 [==============================] - 2s 17ms/step - loss: 0.6502 - acc: 0.6068 - val_loss: 0.6815 - val_acc: 0.5491\n",
            "Epoch 43/250\n",
            "100/100 [==============================] - 2s 17ms/step - loss: 0.6431 - acc: 0.6248 - val_loss: 0.6749 - val_acc: 0.5756\n",
            "Epoch 44/250\n",
            "100/100 [==============================] - 2s 17ms/step - loss: 0.6406 - acc: 0.6257 - val_loss: 0.6744 - val_acc: 0.5705\n",
            "Epoch 45/250\n",
            "100/100 [==============================] - 2s 17ms/step - loss: 0.6374 - acc: 0.6216 - val_loss: 0.6746 - val_acc: 0.5718\n",
            "Epoch 46/250\n",
            "100/100 [==============================] - 2s 17ms/step - loss: 0.6275 - acc: 0.6452 - val_loss: 0.6770 - val_acc: 0.5655\n",
            "Epoch 47/250\n",
            "100/100 [==============================] - 2s 17ms/step - loss: 0.6252 - acc: 0.6437 - val_loss: 0.6807 - val_acc: 0.5617\n",
            "Epoch 48/250\n",
            "100/100 [==============================] - 2s 17ms/step - loss: 0.6210 - acc: 0.6478 - val_loss: 0.6833 - val_acc: 0.5504\n",
            "Epoch 49/250\n",
            "100/100 [==============================] - 2s 17ms/step - loss: 0.6283 - acc: 0.6405 - val_loss: 0.6786 - val_acc: 0.5529\n",
            "Epoch 50/250\n",
            "100/100 [==============================] - 2s 17ms/step - loss: 0.6288 - acc: 0.6405 - val_loss: 0.6797 - val_acc: 0.5630\n",
            "Epoch 51/250\n",
            "100/100 [==============================] - 2s 17ms/step - loss: 0.6228 - acc: 0.6497 - val_loss: 0.6841 - val_acc: 0.5642\n",
            "Epoch 52/250\n",
            "100/100 [==============================] - 2s 17ms/step - loss: 0.6238 - acc: 0.6459 - val_loss: 0.6779 - val_acc: 0.5743\n",
            "Epoch 53/250\n",
            "100/100 [==============================] - 2s 17ms/step - loss: 0.6220 - acc: 0.6487 - val_loss: 0.6798 - val_acc: 0.5693\n",
            "Epoch 54/250\n",
            "100/100 [==============================] - 2s 17ms/step - loss: 0.6167 - acc: 0.6506 - val_loss: 0.6837 - val_acc: 0.5554\n",
            "Epoch 55/250\n",
            "100/100 [==============================] - 2s 17ms/step - loss: 0.6129 - acc: 0.6560 - val_loss: 0.6809 - val_acc: 0.5579\n",
            "Epoch 56/250\n",
            "100/100 [==============================] - 2s 17ms/step - loss: 0.6124 - acc: 0.6657 - val_loss: 0.6788 - val_acc: 0.5630\n",
            "Restoring model weights from the end of the best epoch.\n",
            "Epoch 00056: early stopping\n"
          ]
        }
      ]
    },
    {
      "cell_type": "code",
      "metadata": {
        "id": "DJ4kZFLk_zet"
      },
      "source": [
        "predictions = getPredictions(X_test, dtlbc)"
      ],
      "execution_count": 63,
      "outputs": []
    },
    {
      "cell_type": "code",
      "metadata": {
        "colab": {
          "base_uri": "https://localhost:8080/",
          "height": 143
        },
        "id": "J0sIaL1qArh6",
        "outputId": "7a7ad158-3bb8-4dd2-af8d-e716817d9412"
      },
      "source": [
        "results = getAllMetricsForBC(y_test, predictions)\n",
        "results"
      ],
      "execution_count": 64,
      "outputs": [
        {
          "output_type": "execute_result",
          "data": {
            "text/html": [
              "<div>\n",
              "<style scoped>\n",
              "    .dataframe tbody tr th:only-of-type {\n",
              "        vertical-align: middle;\n",
              "    }\n",
              "\n",
              "    .dataframe tbody tr th {\n",
              "        vertical-align: top;\n",
              "    }\n",
              "\n",
              "    .dataframe thead th {\n",
              "        text-align: right;\n",
              "    }\n",
              "</style>\n",
              "<table border=\"1\" class=\"dataframe\">\n",
              "  <thead>\n",
              "    <tr style=\"text-align: right;\">\n",
              "      <th></th>\n",
              "      <th>Class</th>\n",
              "      <th>F1 Score</th>\n",
              "      <th>Sensitivity</th>\n",
              "      <th>Specificity</th>\n",
              "      <th>Precision</th>\n",
              "      <th>Recall</th>\n",
              "      <th>Accuracy</th>\n",
              "    </tr>\n",
              "  </thead>\n",
              "  <tbody>\n",
              "    <tr>\n",
              "      <th>0</th>\n",
              "      <td>Overall</td>\n",
              "      <td>-</td>\n",
              "      <td>-</td>\n",
              "      <td>-</td>\n",
              "      <td>-</td>\n",
              "      <td>-</td>\n",
              "      <td>0.566751</td>\n",
              "    </tr>\n",
              "    <tr>\n",
              "      <th>1</th>\n",
              "      <td>Healthy</td>\n",
              "      <td>55.5556</td>\n",
              "      <td>56.1358</td>\n",
              "      <td>56.1358</td>\n",
              "      <td>54.9872</td>\n",
              "      <td>56.1358</td>\n",
              "      <td>-</td>\n",
              "    </tr>\n",
              "    <tr>\n",
              "      <th>2</th>\n",
              "      <td>COVID</td>\n",
              "      <td>57.7396</td>\n",
              "      <td>57.1776</td>\n",
              "      <td>57.1776</td>\n",
              "      <td>58.3127</td>\n",
              "      <td>57.1776</td>\n",
              "      <td>-</td>\n",
              "    </tr>\n",
              "  </tbody>\n",
              "</table>\n",
              "</div>"
            ],
            "text/plain": [
              "     Class F1 Score Sensitivity Specificity Precision   Recall  Accuracy\n",
              "0  Overall        -           -           -         -        -  0.566751\n",
              "1  Healthy  55.5556     56.1358     56.1358   54.9872  56.1358         -\n",
              "2    COVID  57.7396     57.1776     57.1776   58.3127  57.1776         -"
            ]
          },
          "metadata": {},
          "execution_count": 64
        }
      ]
    },
    {
      "cell_type": "code",
      "metadata": {
        "colab": {
          "base_uri": "https://localhost:8080/",
          "height": 428
        },
        "id": "WoN4s4m6A-qc",
        "outputId": "4c1c7fb2-3a2d-406f-eb92-3985e881068b"
      },
      "source": [
        "matrix = confusion_matrix(np.argmax(y_test, axis=1), np.argmax(predictions, axis=1), normalize='true')\n",
        "labellist = ['No-COVID', 'COVID']\n",
        "plotConfusionMatrix(labellist, matrix)"
      ],
      "execution_count": 65,
      "outputs": [
        {
          "output_type": "display_data",
          "data": {
            "image/png": "[encoded data removed]",
            "text/plain": [
              "<Figure size 720x504 with 2 Axes>"
            ]
          },
          "metadata": {
            "needs_background": "light"
          }
        }
      ]
    },
    {
      "cell_type": "code",
      "metadata": {
        "colab": {
          "base_uri": "https://localhost:8080/",
          "height": 279
        },
        "id": "PevQWxQFDBIA",
        "outputId": "33f88db9-e251-4691-ff6b-88d1dacc32e1"
      },
      "source": [
        "plotTrainingLoss(history.history['loss'], history.history['val_loss'])"
      ],
      "execution_count": 67,
      "outputs": [
        {
          "output_type": "display_data",
          "data": {
            "image/png": "[encoded data removed]",
            "text/plain": [
              "<Figure size 432x288 with 1 Axes>"
            ]
          },
          "metadata": {
            "needs_background": "light"
          }
        }
      ]
    },
    {
      "cell_type": "code",
      "metadata": {
        "colab": {
          "base_uri": "https://localhost:8080/",
          "height": 279
        },
        "id": "7aOdzew1DkdK",
        "outputId": "262b02b1-fcbd-412e-a3ee-e985ae41745d"
      },
      "source": [
        "plotTrainingAccuracy(history.history['acc'], history.history['val_acc'])"
      ],
      "execution_count": 69,
      "outputs": [
        {
          "output_type": "display_data",
          "data": {
            "image/png": "[encoded data removed]",
            "text/plain": [
              "<Figure size 432x288 with 1 Axes>"
            ]
          },
          "metadata": {
            "needs_background": "light"
          }
        }
      ]
    },
    {
      "cell_type": "markdown",
      "metadata": {
        "id": "YxosYkIQBHHI"
      },
      "source": [
        "This shows that the class balancing approach does not perform better for the DTLBC. The results are not remarkably better than guessing. This is most likely due to the fact that the dataset is too small for the NN to learn features."
      ]
    },
    {
      "cell_type": "markdown",
      "metadata": {
        "id": "FBHElZVGUqmp"
      },
      "source": [
        "##Evaluation of the Support Vector Machine classifier"
      ]
    },
    {
      "cell_type": "code",
      "metadata": {
        "id": "8eWLkkSrU6ba"
      },
      "source": [
        "features_svm = np.load('./drive/MyDrive/COUGHVID/mfccfeatures.npy', allow_pickle=True)\n",
        "labels_svm = np.load('./drive/MyDrive/COUGHVID/mfccfeatureslabels.npy', allow_pickle=True)"
      ],
      "execution_count": null,
      "outputs": []
    },
    {
      "cell_type": "code",
      "metadata": {
        "colab": {
          "base_uri": "https://localhost:8080/"
        },
        "id": "ukjeHBjZVqeh",
        "outputId": "edb05f0a-828e-41aa-b9d8-c09009bdc0a4"
      },
      "source": [
        "print(features_svm.shape)\n",
        "print(labels_svm.shape)"
      ],
      "execution_count": null,
      "outputs": [
        {
          "name": "stdout",
          "output_type": "stream",
          "text": [
            "(23490, 256)\n",
            "(23490,)\n"
          ]
        }
      ]
    },
    {
      "cell_type": "markdown",
      "metadata": {
        "id": "FStmAEWbtLlr"
      },
      "source": [
        "Perform class balancing by hand. This is not too huge of a problem because SVMs should perform well an small datasets aswell."
      ]
    },
    {
      "cell_type": "code",
      "metadata": {
        "colab": {
          "base_uri": "https://localhost:8080/"
        },
        "id": "54BMGlcjt3zO",
        "outputId": "3ca3b7c5-9160-4817-bfe5-695541e778d1"
      },
      "source": [
        "covid_indizes = np.where(labels_svm=='COVID-19')\n",
        "print(len(covid_indizes[0]))\n",
        "symptom_indizes = np.where(labels_svm=='symptomatic')\n",
        "print(len(symptom_indizes[0]))\n",
        "healthy_indizes = np.where(labels_svm=='healthy')\n",
        "print(len(healthy_indizes[0]))"
      ],
      "execution_count": null,
      "outputs": [
        {
          "name": "stdout",
          "output_type": "stream",
          "text": [
            "1937\n",
            "3773\n",
            "17780\n"
          ]
        }
      ]
    },
    {
      "cell_type": "code",
      "metadata": {
        "id": "nZEFJSOsuBoB"
      },
      "source": [
        "data_new_svm = features_svm[covid_indizes]\n",
        "data_new_svm = np.append(data_new_svm,features_svm[symptom_indizes[0][:len(covid_indizes[0])]], axis=0)\n",
        "data_new_svm = np.append(data_new_svm,features_svm[healthy_indizes[0][:len(covid_indizes[0])]], axis=0)\n",
        "\n",
        "\n",
        "labels_new_svm = labels_svm[covid_indizes]\n",
        "labels_new_svm = np.append(labels_new_svm,labels_svm[symptom_indizes[0][:len(covid_indizes[0])]])\n",
        "labels_new_svm = np.append(labels_new_svm,labels_svm[healthy_indizes[0][:len(covid_indizes[0])]])"
      ],
      "execution_count": null,
      "outputs": []
    },
    {
      "cell_type": "code",
      "metadata": {
        "id": "x4QdCBogV-w7"
      },
      "source": [
        "X_train_svm, X_test_svm, y_train_svm, y_test_svm = train_test_split(data_new_svm, labels_new_svm, test_size=0.2, random_state=0)"
      ],
      "execution_count": null,
      "outputs": []
    },
    {
      "cell_type": "code",
      "metadata": {
        "id": "ipBMQukmUpW_"
      },
      "source": [
        "svm = SVM()\n",
        "svm.fit(X_train_svm, y_train_svm)"
      ],
      "execution_count": null,
      "outputs": []
    },
    {
      "cell_type": "code",
      "metadata": {
        "id": "96_8hiW7ixUI"
      },
      "source": [
        "pickle.dump(svm, open('./drive/MyDrive/COUGHVID/Models/svm', 'wb'))"
      ],
      "execution_count": null,
      "outputs": []
    },
    {
      "cell_type": "code",
      "metadata": {
        "id": "B14LUoKKUy0p"
      },
      "source": [
        "predictions = []\n",
        "for x in X_test_svm:\n",
        "  X = np.expand_dims(x, axis=0)\n",
        "  predictions.append(svm.predict(X)[0])"
      ],
      "execution_count": null,
      "outputs": []
    },
    {
      "cell_type": "code",
      "metadata": {
        "id": "4fo_gfAynhby"
      },
      "source": [
        "predictions_oneHot = oneHotEncoding(predictions)\n",
        "y_test_svm_oneHot = oneHotEncoding(y_test_svm)"
      ],
      "execution_count": null,
      "outputs": []
    },
    {
      "cell_type": "code",
      "metadata": {
        "colab": {
          "base_uri": "https://localhost:8080/",
          "height": 699
        },
        "id": "ZjXj7915th_j",
        "outputId": "63366227-68b3-4e32-cdb6-e80cd3b4c7a1"
      },
      "source": [
        "results = getAllMetrics(y_test_svm_oneHot, predictions_oneHot)\n",
        "results"
      ],
      "execution_count": null,
      "outputs": [
        {
          "name": "stdout",
          "output_type": "stream",
          "text": [
            "COVID Samples: 377\n",
            "Symptomatic Samples: 384\n",
            "Healthy Samples: 402\n",
            "True Positives for COVID Samples: 182.0\n",
            "True Negatives for COVID Samples: 559.0\n",
            "False Negatives for COVID Samples: 195.0\n",
            "False Positives for COVID Samples: 195.0\n",
            "True Positives for symptomatic Samples: 165.0\n",
            "True Negatives for symptomatic Samples: 549.0\n",
            "False Negatives for symptomatic Samples: 219.0\n",
            "False Positives for symptomatic Samples: 219.0\n",
            "True Positives for healthy samples: 155.0\n",
            "True Negatives for healthy samples: 557.0\n",
            "False Negatives for healthy samples: 247.0\n",
            "False Positives for healthy samples: 247.0\n",
            "Sensitivity for the covid class: 0.4827586\n",
            "Specificity for the covid class: 0.7413793\n",
            "Sensitivity for the symptom class: 0.4296875\n",
            "Specificity for the symptom class: 0.71484375\n",
            "Sensitivity for the healthy class: 0.38557214\n",
            "Specificity for the healthy class: 0.6927861\n",
            "Recall Healthy Samples: 0.38557214\n",
            "Recall COVID Samples: 0.4827586\n",
            "Recall Symptomatic Samples: 0.4296875\n",
            "Precision Healthy Samples: 0.44159544\n",
            "Precision COVID Samples: 0.40625\n",
            "Precision Symptomatic Samples: 0.4532967\n",
            "Accuracy: 0.6210949\n"
          ]
        },
        {
          "data": {
            "text/html": [
              "<div>\n",
              "<style scoped>\n",
              "    .dataframe tbody tr th:only-of-type {\n",
              "        vertical-align: middle;\n",
              "    }\n",
              "\n",
              "    .dataframe tbody tr th {\n",
              "        vertical-align: top;\n",
              "    }\n",
              "\n",
              "    .dataframe thead th {\n",
              "        text-align: right;\n",
              "    }\n",
              "</style>\n",
              "<table border=\"1\" class=\"dataframe\">\n",
              "  <thead>\n",
              "    <tr style=\"text-align: right;\">\n",
              "      <th></th>\n",
              "      <th>Class</th>\n",
              "      <th>F1 Score</th>\n",
              "      <th>Sensitivity</th>\n",
              "      <th>Specificity</th>\n",
              "      <th>Precision</th>\n",
              "      <th>Recall</th>\n",
              "      <th>Accuracy</th>\n",
              "    </tr>\n",
              "  </thead>\n",
              "  <tbody>\n",
              "    <tr>\n",
              "      <th>0</th>\n",
              "      <td>Overall</td>\n",
              "      <td>-</td>\n",
              "      <td>-</td>\n",
              "      <td>-</td>\n",
              "      <td>-</td>\n",
              "      <td>-</td>\n",
              "      <td>0.621095</td>\n",
              "    </tr>\n",
              "    <tr>\n",
              "      <th>1</th>\n",
              "      <td>Healthy</td>\n",
              "      <td>41.1687</td>\n",
              "      <td>38.5572</td>\n",
              "      <td>69.2786</td>\n",
              "      <td>44.1595</td>\n",
              "      <td>38.5572</td>\n",
              "      <td>-</td>\n",
              "    </tr>\n",
              "    <tr>\n",
              "      <th>2</th>\n",
              "      <td>COVID</td>\n",
              "      <td>44.1212</td>\n",
              "      <td>48.2759</td>\n",
              "      <td>74.1379</td>\n",
              "      <td>40.625</td>\n",
              "      <td>48.2759</td>\n",
              "      <td>-</td>\n",
              "    </tr>\n",
              "    <tr>\n",
              "      <th>3</th>\n",
              "      <td>Symptomatic</td>\n",
              "      <td>44.1176</td>\n",
              "      <td>42.9688</td>\n",
              "      <td>71.4844</td>\n",
              "      <td>45.3297</td>\n",
              "      <td>42.9688</td>\n",
              "      <td>-</td>\n",
              "    </tr>\n",
              "  </tbody>\n",
              "</table>\n",
              "</div>"
            ],
            "text/plain": [
              "         Class F1 Score Sensitivity Specificity Precision   Recall  Accuracy\n",
              "0      Overall        -           -           -         -        -  0.621095\n",
              "1      Healthy  41.1687     38.5572     69.2786   44.1595  38.5572         -\n",
              "2        COVID  44.1212     48.2759     74.1379    40.625  48.2759         -\n",
              "3  Symptomatic  44.1176     42.9688     71.4844   45.3297  42.9688         -"
            ]
          },
          "execution_count": 154,
          "metadata": {},
          "output_type": "execute_result"
        }
      ]
    },
    {
      "cell_type": "markdown",
      "metadata": {
        "id": "z1t0Togh3tSU"
      },
      "source": [
        "As we can see, the SVM classifier performs slightly better than pure guessing. We can further analyse the results bei taking a look at the confusion matrix. "
      ]
    },
    {
      "cell_type": "code",
      "metadata": {
        "id": "7VK3sXUpbW6e"
      },
      "source": [
        "predictions = oneHotEncoding(predictions)"
      ],
      "execution_count": null,
      "outputs": []
    },
    {
      "cell_type": "code",
      "metadata": {
        "id": "WYv4-c5pcx2u"
      },
      "source": [
        "y_test_oneHot = oneHotEncoding(y_test_svm)"
      ],
      "execution_count": null,
      "outputs": []
    },
    {
      "cell_type": "code",
      "metadata": {
        "colab": {
          "base_uri": "https://localhost:8080/",
          "height": 428
        },
        "id": "ngiQQ0NKZ6A3",
        "outputId": "4ca33836-c9ad-4b7c-bbcf-5f7eb1f9c7fa"
      },
      "source": [
        "matrix = confusion_matrix(np.argmax(y_test_oneHot, axis=1), np.argmax(predictions, axis=1), normalize=\"true\")\n",
        "labellist = ['healthy','covid', 'symptomatic']\n",
        "plotConfusionMatrix(labellist, matrix)"
      ],
      "execution_count": null,
      "outputs": [
        {
          "data": {
            "image/png": "[encoded data removed]",
            "text/plain": [
              "<Figure size 720x504 with 2 Axes>"
            ]
          },
          "metadata": {},
          "output_type": "display_data"
        }
      ]
    },
    {
      "cell_type": "markdown",
      "metadata": {
        "id": "mCPrMGTXeHNY"
      },
      "source": [
        "## Evaluation of the entire mediator"
      ]
    },
    {
      "cell_type": "markdown",
      "metadata": {
        "id": "j66wU2EcfwrX"
      },
      "source": [
        "Load trained classifiers from drive:"
      ]
    },
    {
      "cell_type": "code",
      "metadata": {
        "id": "ONV71NWXHbx-"
      },
      "source": [
        "dtlmc = new_model = tf.keras.models.load_model('./drive/MyDrive/COUGHVID/Models/dtlmc')\n",
        "dtlbc = tf.keras.models.load_model('./drive/MyDrive/COUGHVID/Models/dtlbc')\n",
        "svm = pickle.load(open('./drive/MyDrive/COUGHVID/Models/svm','rb'))"
      ],
      "execution_count": null,
      "outputs": []
    },
    {
      "cell_type": "code",
      "metadata": {
        "id": "OHwz2LPbeJRs"
      },
      "source": [
        "mediator = Mediator(dtlmc, dtlbc, svm)"
      ],
      "execution_count": null,
      "outputs": []
    },
    {
      "cell_type": "code",
      "metadata": {
        "id": "JYIXC4oVVSXV"
      },
      "source": [
        "X_spectrograms = np.load('./drive/MyDrive/COUGHVID/EvaluationSet/evaluationMelspecs.npy', allow_pickle=True)\n",
        "X_features = np.load('./drive/MyDrive/COUGHVID/EvaluationSet/evaluationFeatures.npy', allow_pickle=True)\n",
        "labels = np.load('./drive/MyDrive/COUGHVID/EvaluationSet/evaluationLabels.npy', allow_pickle=True)"
      ],
      "execution_count": null,
      "outputs": []
    },
    {
      "cell_type": "code",
      "metadata": {
        "colab": {
          "base_uri": "https://localhost:8080/"
        },
        "id": "N5F05tLbIU3z",
        "outputId": "28a31735-20fe-42d9-c746-e9575da5400f"
      },
      "source": [
        "print(X_spectrograms.shape)\n",
        "print(X_features.shape)"
      ],
      "execution_count": null,
      "outputs": [
        {
          "name": "stdout",
          "output_type": "stream",
          "text": [
            "(600, 240, 320, 1)\n",
            "(600, 256)\n"
          ]
        }
      ]
    },
    {
      "cell_type": "code",
      "metadata": {
        "id": "n4Sy6xS0WnIu"
      },
      "source": [
        "results = [] \n",
        "for index in range(0,600):\n",
        "  spectrogram = np.expand_dims(X_spectrograms[index], axis=0)\n",
        "  features=np.expand_dims(X_features[index], axis=0)\n",
        "  result = mediator.predict(spectrogram, features)\n",
        "  results.append(result)\n",
        "\n"
      ],
      "execution_count": null,
      "outputs": []
    },
    {
      "cell_type": "code",
      "metadata": {
        "colab": {
          "base_uri": "https://localhost:8080/"
        },
        "id": "0AUKOFb-Wq54",
        "outputId": "0e57f405-e9d7-403b-c43e-3b30e7065af0"
      },
      "source": [
        "Counter(results)"
      ],
      "execution_count": null,
      "outputs": [
        {
          "data": {
            "text/plain": [
              "Counter({0: 223, 2: 377})"
            ]
          },
          "execution_count": 65,
          "metadata": {},
          "output_type": "execute_result"
        }
      ]
    },
    {
      "cell_type": "code",
      "metadata": {
        "colab": {
          "base_uri": "https://localhost:8080/"
        },
        "id": "eE6ZOI1bmMRk",
        "outputId": "f29a4f32-7001-42ef-ec34-e12b5a57fd87"
      },
      "source": [
        "Counter(labels)"
      ],
      "execution_count": null,
      "outputs": [
        {
          "data": {
            "text/plain": [
              "Counter({'COVID-19': 52, 'healthy': 455, 'symptomatic': 93})"
            ]
          },
          "execution_count": 66,
          "metadata": {},
          "output_type": "execute_result"
        }
      ]
    },
    {
      "cell_type": "markdown",
      "metadata": {
        "id": "x3QCriWnY1dB"
      },
      "source": [
        "We can see that the mediator class never predicts a COVID infection because inter classifier agreement is too never given. This is not surprising considering the low precission for COVID infections the classifiers score."
      ]
    }
  ]
}