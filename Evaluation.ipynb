{
  "nbformat": 4,
  "nbformat_minor": 0,
  "metadata": {
    "accelerator": "GPU",
    "colab": {
      "name": "Evaluation.ipynb",
      "provenance": [],
      "collapsed_sections": [
        "YlfnvrUiqK94"
      ],
      "machine_shape": "hm",
      "authorship_tag": "ABX9TyM7CSpJK4vPcuwRRBTkqZTT"
    },
    "kernelspec": {
      "display_name": "Python 3",
      "name": "python3"
    },
    "language_info": {
      "name": "python"
    }
  },
  "cells": [
    {
      "cell_type": "code",
      "metadata": {
        "colab": {
          "base_uri": "https://localhost:8080/"
        },
        "id": "zNgw2aeIinHz",
        "outputId": "d8fd5883-178c-40cb-9815-57658e4c4fc9"
      },
      "source": [
        "from google.colab import drive\n",
        "drive.mount('/content/drive', force_remount = True)"
      ],
      "execution_count": 1,
      "outputs": [
        {
          "output_type": "stream",
          "name": "stdout",
          "text": [
            "Mounted at /content/drive\n"
          ]
        }
      ]
    },
    {
      "cell_type": "code",
      "metadata": {
        "id": "XmvhsNgxioBQ"
      },
      "source": [
        "from scipy.io import wavfile\n",
        "from scipy import signal\n",
        "from scipy.io import wavfile\n",
        "from scipy.signal import butter,filtfilt\n",
        "from scipy.signal import cwt\n",
        "from scipy.signal import hilbert\n",
        "from scipy.signal import resample\n",
        "from scipy.signal import decimate\n",
        "from scipy.signal import spectrogram\n",
        "from scipy.signal.windows import get_window\n",
        "from scipy.stats import kurtosis\n",
        "from scipy.integrate import simps\n",
        "\n",
        "import numpy as np\n",
        "\n",
        "import librosa\n",
        "import librosa.display\n",
        "import matplotlib.pyplot as plt\n",
        "import json\n",
        "import os\n",
        "import skimage.io\n",
        "import cv2\n",
        "import tensorflow as tf\n",
        "import csv\n",
        "import sklearn\n",
        "from sklearn import svm\n",
        "from sklearn.decomposition import PCA\n",
        "from sklearn.manifold import TSNE\n",
        "from sklearn.metrics import confusion_matrix, plot_confusion_matrix\n",
        "import pandas as pd\n",
        "import seaborn as sns\n",
        "from sklearn.model_selection import train_test_split\n",
        "import IPython.display as ipd\n",
        "from shutil import copyfile, copy\n",
        "from sklearn.utils.class_weight import compute_class_weight\n",
        "from keras import backend as K\n",
        "import keras\n",
        "\n",
        "import seaborn as sn\n",
        "\n",
        "from collections import Counter\n",
        "\n",
        "import pickle\n",
        "\n",
        "from google.colab.patches import cv2_imshow\n",
        "\n",
        "import warnings\n",
        "warnings.filterwarnings(\"ignore\")"
      ],
      "execution_count": 2,
      "outputs": []
    },
    {
      "cell_type": "markdown",
      "metadata": {
        "id": "jzIuQEakbFY3"
      },
      "source": [
        "#Model Implementation"
      ]
    },
    {
      "cell_type": "markdown",
      "metadata": {
        "id": "fLEKgdLI-3mg"
      },
      "source": [
        "We preliminary implement the three AI models: A multi class convolutional neural network (DTLMC), a binary class convolutional neural network (DTLBC) and a support vector machine."
      ]
    },
    {
      "cell_type": "code",
      "metadata": {
        "id": "JyraXvQLmNS6"
      },
      "source": [
        "# implementation of diagnosis clasifier architecture\n",
        "\n",
        "class DTLMC(tf.keras.Model):\n",
        "\n",
        "  def __init__(self):\n",
        "    super(DTLMC, self).__init__()\n",
        "    self.MaxPool1 = tf.keras.layers.MaxPool2D(pool_size=(2,2))\n",
        "    self.Conv1 = tf.keras.layers.Conv2D(filters = 16,kernel_size=(5,5), activation=tf.nn.relu)\n",
        "    self.Conv2 = tf.keras.layers.Conv2D(filters = 16,kernel_size=(5,5), activation=tf.nn.relu)\n",
        "    self.MaxPool2 = tf.keras.layers.MaxPool2D(pool_size=(2,2))\n",
        "    self.Dropout1 = tf.keras.layers.Dropout(rate = 0.15)\n",
        "    self.Conv3 = tf.keras.layers.Conv2D(filters = 16,kernel_size=(5,5), activation=tf.nn.relu)\n",
        "    self.Conv4 = tf.keras.layers.Conv2D(filters = 16,kernel_size=(5,5), activation=tf.nn.relu)\n",
        "    self.MaxPool3 = tf.keras.layers.MaxPool2D(pool_size=(2,2))\n",
        "    self.Dropout2 = tf.keras.layers.Dropout(rate = 0.15)\n",
        "    self.flatten = tf.keras.layers.Flatten()\n",
        "    self.Dense1 = tf.keras.layers.Dense(256)\n",
        "    self.Dropout3 = tf.keras.layers.Dropout(rate = 0.30)\n",
        "    self.Dense2 = tf.keras.layers.Dense(3,activation=tf.nn.softmax)\n",
        "\n",
        "  def call(self, inputs):\n",
        "    x = self.MaxPool1(inputs)\n",
        "    x = self.Conv1(x)\n",
        "    x = self.Conv2(x)\n",
        "    x = self.MaxPool2(x)\n",
        "    x = self.Dropout1(x)\n",
        "    x = self.Conv3(x)\n",
        "    x = self.Conv4(x)\n",
        "    x = self.MaxPool3(x)\n",
        "    x = self.Dropout2(x)\n",
        "    x = self.flatten(x)\n",
        "    x = self.Dense1(x)\n",
        "    x = self.Dropout3(x)\n",
        "    x = self.Dense2(x)\n",
        "    return x\n",
        "\n",
        "class DTLBC(tf.keras.Model):\n",
        "\n",
        "  def __init__(self):\n",
        "    super(DTLBC, self).__init__()\n",
        "    self.MaxPool1 = tf.keras.layers.MaxPool2D(pool_size=(2,2))\n",
        "    self.Conv1 = tf.keras.layers.Conv2D(filters = 16,kernel_size=(5,5), activation=tf.nn.relu)\n",
        "    self.Conv2 = tf.keras.layers.Conv2D(filters = 16,kernel_size=(5,5), activation=tf.nn.relu)\n",
        "    self.MaxPool2 = tf.keras.layers.MaxPool2D(pool_size=(2,2))\n",
        "    self.Dropout1 = tf.keras.layers.Dropout(rate = 0.15)\n",
        "    self.Conv3 = tf.keras.layers.Conv2D(filters = 16,kernel_size=(5,5), activation=tf.nn.relu)\n",
        "    self.Conv4 = tf.keras.layers.Conv2D(filters = 16,kernel_size=(5,5), activation=tf.nn.relu)\n",
        "    self.MaxPool3 = tf.keras.layers.MaxPool2D(pool_size=(2,2))\n",
        "    self.Dropout2 = tf.keras.layers.Dropout(rate = 0.15)\n",
        "    self.flatten = tf.keras.layers.Flatten()\n",
        "    self.Dense1 = tf.keras.layers.Dense(256)\n",
        "    self.Dropout3 = tf.keras.layers.Dropout(rate = 0.30)\n",
        "    self.Dense2 = tf.keras.layers.Dense(2,activation=tf.nn.softmax)\n",
        "\n",
        "  def call(self, inputs):\n",
        "    x = self.MaxPool1(inputs)\n",
        "    x = self.Conv1(x)\n",
        "    x = self.Conv2(x)\n",
        "    x = self.MaxPool2(x)\n",
        "    x = self.Dropout1(x)\n",
        "    x = self.Conv3(x)\n",
        "    x = self.Conv4(x)\n",
        "    x = self.MaxPool3(x)\n",
        "    x = self.Dropout2(x)\n",
        "    x = self.flatten(x)\n",
        "    x = self.Dense1(x)\n",
        "    x = self.Dropout3(x)\n",
        "    x = self.Dense2(x)\n",
        "    return x\n",
        "\n",
        "class SVM():\n",
        "\n",
        "  def __init__(self, classWeights = None):\n",
        "    self.clf = sklearn.svm.SVC(kernel='linear', class_weight=classWeights)\n",
        "    # other possible kernels include: \"linear\", \"polynomial\", \"rbf\", \"sigmoid\"\n",
        "\n",
        "  def fit(self, X, y):\n",
        "    self.clf.fit(X,y)\n",
        "\n",
        "  def predict(self, X):\n",
        "    return self.clf.predict(X)\n",
        "\n",
        "  def evaluateScore(self, X_test, y_test):\n",
        "    return self.clf.score(X_test, y_test)"
      ],
      "execution_count": 3,
      "outputs": []
    },
    {
      "cell_type": "markdown",
      "metadata": {
        "id": "z9ADeZ5B-2Bo"
      },
      "source": [
        "We furthermore implement a mediator class that evaluates and moderates the prediction results from all three classifiers combined."
      ]
    },
    {
      "cell_type": "code",
      "metadata": {
        "id": "diZwYcpT-1Ch"
      },
      "source": [
        "class Mediator():\n",
        "  '''\n",
        "  The mediator class is designed to realize agreement inbetween the different classifiers.\n",
        "  It returns the predicted class if all of the three classifiers agree with their prediction.\n",
        "  If they do not agree, the mediator class returns a inconclusive result.\n",
        "  '''\n",
        "  def __init__(self, dtlmc, dtlbc, svm):\n",
        "    \"\"\"\n",
        "    Constructor. Takes the pretrained classifiers as arguments\n",
        "    dtlmc: the pretrained multiclass classifier\n",
        "    dtlbc: the pretrained binaryclass classifier\n",
        "    svm: the pretrained support vector machine\n",
        "    \"\"\"\n",
        "    self.multiClassClassifier = dtlmc\n",
        "    self.binaryClassClassifier = dtlbc\n",
        "    self.svm = svm\n",
        "  \n",
        "  def encodePrediction(self, prediction):\n",
        "      if prediction == 'healthy':\n",
        "        return 0\n",
        "      elif prediction == 'symptomatic':\n",
        "        return 2\n",
        "      elif prediction == 'COVID-19':\n",
        "        return 1\n",
        "\n",
        "  def predict(self, X_spectrogram, X_features):\n",
        "    \"\"\"\n",
        "    Collects predictions from all three classifiers and medaites them into single output\n",
        "    X: Features of test sample\n",
        "    \"\"\"\n",
        "    res_dtlmc = self.multiClassClassifier.predict(X_spectrogram)\n",
        "    res_dtlbc = self.binaryClassClassifier.predict(X_spectrogram)\n",
        "    res_svm = self.svm.predict(X_features)\n",
        "\n",
        "    argmax_dtlmc = np.argmax(res_dtlmc)\n",
        "    argmax_dtlbc = np.argmax(res_dtlbc)\n",
        "    argmax_svm = self.encodePrediction(res_svm)\n",
        "\n",
        "    res = 2\n",
        "\n",
        "    if argmax_dtlmc == 0 and argmax_dtlbc == 0 and argmax_svm == 0:\n",
        "      res = 0\n",
        "    if argmax_dtlmc == 2 and argmax_svm == 2 and argmax_dtlbc == 1:\n",
        "      res = 1\n",
        "    if argmax_dtlmc == 1 and argmax_svm == 1 and argmax_dtlbc == 0:\n",
        "      res = 0\n",
        "\n",
        "    return res\n",
        "\n",
        "\n",
        "    def analyzeResult(self, res):\n",
        "      \"\"\"\n",
        "      takes the result of the mediator class and translates it into human readable labels\n",
        "      res: result of the predict() function of the Mediator class\n",
        "      \"\"\"\n",
        "      if res == 0:\n",
        "        return 'Covid unlikely'\n",
        "      if res == 1:\n",
        "        return 'Covid likely'\n",
        "      if res == 2:\n",
        "        return 'Test inconclusive'"
      ],
      "execution_count": 51,
      "outputs": []
    },
    {
      "cell_type": "code",
      "metadata": {
        "id": "8-eIQBgBppZP"
      },
      "source": [
        "# define two functions for one hot encoding because binary classifier needs different labels\n",
        "def oneHotEncoding(labels):\n",
        "  oneHotList = []\n",
        "  for label in labels:\n",
        "    if label == 'healthy':\n",
        "      oneHotList.append([1.0,0.0,0.0])\n",
        "    elif label == 'symptomatic':\n",
        "      oneHotList.append([0.0,0.0,1.0])\n",
        "    elif label == 'COVID-19':\n",
        "      oneHotList.append([0.0,1.0,0.0])\n",
        "\n",
        "  return np.array(oneHotList)\n",
        "\n",
        "def oneHotEncodingForBC(labels):\n",
        "  oneHotList = []\n",
        "  for label in labels:\n",
        "    if label == 'healthy':\n",
        "      oneHotList.append([1.0,0.0])\n",
        "    elif label == 'symptomatic':\n",
        "      oneHotList.append([1.0,0.0])\n",
        "    elif label == 'COVID-19':\n",
        "      oneHotList.append([0.0,1.0])\n",
        "  \n",
        "  return np.array(oneHotList)"
      ],
      "execution_count": 5,
      "outputs": []
    },
    {
      "cell_type": "markdown",
      "metadata": {
        "id": "qntx6-xhFuQp"
      },
      "source": [
        "Furthermore we implement some helper functions to visualize results and learning process:"
      ]
    },
    {
      "cell_type": "code",
      "metadata": {
        "id": "RnYvZeuyFzoH"
      },
      "source": [
        "def plotConfusionMatrix(labellist, matrix, filename='', safeImage = False):\n",
        "\n",
        "  df_cm = pd.DataFrame(matrix, index = [i for i in labellist],\n",
        "                    columns = [i for i in labellist], dtype=float)\n",
        "  fig = plt.figure(figsize = (10,7))\n",
        "  sn.heatmap(df_cm, annot=True)\n",
        "  if safeImage == True:\n",
        "    fig.savefig('./drive/MyDrive/COUGHVID/Plots/' + filename)\n",
        "\n",
        "def plotTrainingLoss(train_loss, val_loss):\n",
        "  plt.plot(train_loss)\n",
        "  plt.plot(val_loss)\n",
        "  plt.ylabel('loss')\n",
        "  plt.xlabel('epoch')\n",
        "  plt.legend(['train loss','test loss'], loc='upper left')\n",
        "  plt.show()\n",
        "\n",
        "def plotTrainingAccuracy(train_acc, val_acc):\n",
        "  plt.plot(train_acc)\n",
        "  plt.plot(val_acc)\n",
        "  plt.ylabel('accuracy')\n",
        "  plt.xlabel('epoch')\n",
        "  plt.legend(['train accuracy', 'test accuracy'], loc='upper left')\n",
        "  plt.show()\n",
        "\n",
        "\n",
        "def evaluateAccuracy(X_test, y_test, metric, model):\n",
        "  predictions = []\n",
        "  for x in X_test:\n",
        "    predArray = [0,0]\n",
        "    x = np.expand_dims(x, axis=0)\n",
        "    prediction = model.predict(x)\n",
        "    predArray[np.argmax(prediction[0])] = 1\n",
        "    predictions.append(predArray)\n",
        "\n",
        "  metric.update_state(y_test, predictions)\n",
        "  return m.result().numpy(), predictions"
      ],
      "execution_count": 6,
      "outputs": []
    },
    {
      "cell_type": "markdown",
      "metadata": {
        "id": "YlfnvrUiqK94"
      },
      "source": [
        "#Evaluation on whole cough samples"
      ]
    },
    {
      "cell_type": "code",
      "metadata": {
        "id": "YS_n1NMPixMr"
      },
      "source": [
        "def valueFromJsonParser(fileName, key, path='./drive/MyDrive/COUGHVID/test_dset/'):\n",
        "    \"\"\"\n",
        "    Returns the status of the specified json file \n",
        "    \"\"\"    \n",
        "    with open(os.path.join(path, fileName)) as file:\n",
        "        data = json.load(file)\n",
        "        return data[str(key)]\n",
        "\n",
        "\n",
        "def loadMelspectrograms(path, jsonFilesPath):\n",
        "  data = []\n",
        "  labels = []\n",
        "  for (dirpath, dirnames, filenames) in os.walk(path):\n",
        "    for filename in filenames[0:4000]:\n",
        "      img = cv2.imread(path + filename)\n",
        "      data.append(img)\n",
        "  for (dirpath,dirnames,filenames) in os.walk(jsonFilesPath):\n",
        "    for filename in filenames[0:8000]:\n",
        "      if '.json' in filename:\n",
        "        label = valueFromJsonParser(fileName=filename, key='status', path=jsonFilesPath)\n",
        "        labels.append(label)\n",
        "\n",
        "  return np.float32(np.array(data)), np.array(labels)"
      ],
      "execution_count": null,
      "outputs": []
    },
    {
      "cell_type": "code",
      "metadata": {
        "id": "Rbsz0Gc7i1iE"
      },
      "source": [
        "data, labels = loadMelspectrograms('./drive/MyDrive/COUGHVID/MelSpectrogramsCleaned/', './drive/MyDrive/COUGHVID/public_dataset_cleaned/')"
      ],
      "execution_count": null,
      "outputs": []
    },
    {
      "cell_type": "code",
      "metadata": {
        "id": "WtCMqKpzjiyc"
      },
      "source": [
        "X, Y = data, oneHotEncoding(labels)"
      ],
      "execution_count": null,
      "outputs": []
    },
    {
      "cell_type": "code",
      "metadata": {
        "id": "cc-cvC226D-5"
      },
      "source": [
        "print(data.shape)"
      ],
      "execution_count": null,
      "outputs": []
    },
    {
      "cell_type": "markdown",
      "metadata": {
        "id": "UK7MudU3OIMk"
      },
      "source": [
        "Perform Class Balancing:"
      ]
    },
    {
      "cell_type": "code",
      "metadata": {
        "id": "EGE4PFMH6GsM"
      },
      "source": [
        "''' counter = [0,0,0]\n",
        "for label in labels:\n",
        "  if label == 'healthy':\n",
        "    counter[0] += 1\n",
        "  if label == \"symptomatic\":\n",
        "    counter[1] += 1\n",
        "  if label == 'COVID-19':\n",
        "    counter[2] += 1\n",
        "\n",
        "print(counter)\n",
        " '''\n",
        "covid_indizes = np.where(labels=='COVID-19')\n",
        "print(len(covid_indizes[0]))\n",
        "symptom_indizes = np.where(labels=='symptomatic')\n",
        "print(len(symptom_indizes[0]))\n",
        "healthy_indizes = np.where(labels=='healthy')\n",
        "print(len(healthy_indizes[0]))"
      ],
      "execution_count": null,
      "outputs": []
    },
    {
      "cell_type": "code",
      "metadata": {
        "id": "IYib0WqC769g"
      },
      "source": [
        "data_new = data[covid_indizes]\n",
        "data_new = np.append(data_new,data[symptom_indizes[0][:364]], axis=0)\n",
        "data_new = np.append(data_new,data[healthy_indizes[0][:364]], axis=0)\n",
        "\n",
        "labels_new = labels[covid_indizes]\n",
        "labels_new = np.append(labels_new,labels[symptom_indizes[0][:364]])\n",
        "labels_new = np.append(labels_new,labels[healthy_indizes[0][:364]])\n",
        "\n",
        "labels_new = oneHotEncoding(labels_new)\n"
      ],
      "execution_count": null,
      "outputs": []
    },
    {
      "cell_type": "code",
      "metadata": {
        "id": "0gcDj16OnP8N"
      },
      "source": [
        "X_train, X_test, y_train, y_test = train_test_split(data_new, labels_new, test_size=0.25, random_state=0)\n",
        "\n",
        "dtlmc = DTLMC()\n",
        "dtlmc.compile(optimizer='adam',loss='categorical_crossentropy')\n",
        "dtlmc.fit(X_train,y_train, epochs=20)"
      ],
      "execution_count": null,
      "outputs": []
    },
    {
      "cell_type": "code",
      "metadata": {
        "id": "ligRrTG8p-j4"
      },
      "source": [
        "dtlmc.evaluate(X_test, y_test)"
      ],
      "execution_count": null,
      "outputs": []
    },
    {
      "cell_type": "code",
      "metadata": {
        "id": "BXiMZqCLrJC2"
      },
      "source": [
        "predictions = []\n",
        "for x in X_test:\n",
        "  predArray = [0,0,0]\n",
        "  x = np.expand_dims(x, axis=0)\n",
        "  prediction = dtlmc.predict(x)\n",
        "  print(prediction)\n",
        "  predArray[np.argmax(prediction)] = 1\n",
        "  predictions.append(predArray)"
      ],
      "execution_count": null,
      "outputs": []
    },
    {
      "cell_type": "code",
      "metadata": {
        "id": "tmJ6eHwsrTte"
      },
      "source": [
        "m = tf.keras.metrics.Accuracy()\n",
        "m.update_state(y_test, predictions)\n",
        "m.result().numpy()"
      ],
      "execution_count": null,
      "outputs": []
    },
    {
      "cell_type": "code",
      "metadata": {
        "id": "GgMqZqLjsWmc"
      },
      "source": [
        "matrix = confusion_matrix(np.argmax(y_test, axis=1), np.argmax(predictions, axis=1))"
      ],
      "execution_count": null,
      "outputs": []
    },
    {
      "cell_type": "code",
      "metadata": {
        "id": "fa-njldTuN7v"
      },
      "source": [
        "print(matrix)"
      ],
      "execution_count": null,
      "outputs": []
    },
    {
      "cell_type": "markdown",
      "metadata": {
        "id": "-aEcQFGkqRmB"
      },
      "source": [
        "#Evaluation on segmented data"
      ]
    },
    {
      "cell_type": "markdown",
      "metadata": {
        "id": "sM2JryCNPCD5"
      },
      "source": [
        "Load the melspecs of segmented data from drive"
      ]
    },
    {
      "cell_type": "code",
      "metadata": {
        "id": "LHJthkBYMchL"
      },
      "source": [
        "dataSegmented = np.load('./drive/MyDrive/COUGHVID/melSpecsDataSegmented.npy', allow_pickle=True)\n",
        "labels = np.load('./drive/MyDrive/COUGHVID/melSpecsLabelsSegmented.npy', allow_pickle=True)"
      ],
      "execution_count": null,
      "outputs": []
    },
    {
      "cell_type": "code",
      "metadata": {
        "colab": {
          "base_uri": "https://localhost:8080/"
        },
        "id": "OKZMSgI3M_Zm",
        "outputId": "626c5692-c2f5-4789-e0bd-6b94f4500881"
      },
      "source": [
        "print(dataSegmented.shape)\n",
        "print(labels.shape)"
      ],
      "execution_count": null,
      "outputs": [
        {
          "output_type": "stream",
          "name": "stdout",
          "text": [
            "(24374, 240, 320)\n",
            "(24374,)\n"
          ]
        }
      ]
    },
    {
      "cell_type": "code",
      "metadata": {
        "colab": {
          "base_uri": "https://localhost:8080/"
        },
        "id": "7_cv0ZG3tups",
        "outputId": "6a256f26-3ce5-44c9-bbb7-80410808dcf5"
      },
      "source": [
        "covid_indizes = np.where(labels=='COVID-19')\n",
        "print('COVID Samples: ' + str(len(covid_indizes[0])))\n",
        "symptom_indizes = np.where(labels=='symptomatic')\n",
        "print('Symptomatic Samples: ' + str(len(symptom_indizes[0])))\n",
        "healthy_indizes = np.where(labels=='healthy')\n",
        "print('Healthy Samples: ' + str(len(healthy_indizes[0])))"
      ],
      "execution_count": null,
      "outputs": [
        {
          "output_type": "stream",
          "name": "stdout",
          "text": [
            "COVID Samples: 1984\n",
            "Symptomatic Samples: 3904\n",
            "Healthy Samples: 18486\n"
          ]
        }
      ]
    },
    {
      "cell_type": "markdown",
      "metadata": {
        "id": "CTOKkP63zmyH"
      },
      "source": [
        "As we can see, classes are highly unbalanced. Therefor we cut off samples from the majority classes to get a dataset with balanced classes."
      ]
    },
    {
      "cell_type": "code",
      "metadata": {
        "id": "GBEK5dBRuOa6"
      },
      "source": [
        "labels = np.array(labels)"
      ],
      "execution_count": null,
      "outputs": []
    },
    {
      "cell_type": "code",
      "metadata": {
        "id": "zGfmEjdwt9sY"
      },
      "source": [
        "data_new = dataSegmented[covid_indizes]\n",
        "data_new = np.append(data_new,dataSegmented[symptom_indizes[0][:len(covid_indizes[0])]], axis=0)\n",
        "data_new = np.append(data_new,dataSegmented[healthy_indizes[0][:len(covid_indizes[0])]], axis=0)\n",
        "\n",
        "data_new = np.expand_dims(data_new, axis=3)\n",
        "\n",
        "labels_new = labels[covid_indizes]\n",
        "labels_new = np.append(labels_new,labels[symptom_indizes[0][:len(covid_indizes[0])]])\n",
        "labels_new = np.append(labels_new,labels[healthy_indizes[0][:len(covid_indizes[0])]])\n",
        "\n"
      ],
      "execution_count": null,
      "outputs": []
    },
    {
      "cell_type": "markdown",
      "metadata": {
        "id": "8GQiU3-oZ82Y"
      },
      "source": [
        "##Evaluation of the multi class clasifier\n"
      ]
    },
    {
      "cell_type": "code",
      "metadata": {
        "id": "3lIkPl4rZ-Ch"
      },
      "source": [
        "labels_new_mc = oneHotEncoding(labels)\n",
        "data_new = np.expand_dims(dataSegmented, axis=3)"
      ],
      "execution_count": null,
      "outputs": []
    },
    {
      "cell_type": "code",
      "metadata": {
        "colab": {
          "base_uri": "https://localhost:8080/"
        },
        "id": "114gK2QuuRt6",
        "outputId": "53316c81-da3e-4ecb-8ef4-196f6fbf50b1"
      },
      "source": [
        "print(labels_new_mc.shape)\n",
        "print(data_new.shape)"
      ],
      "execution_count": null,
      "outputs": [
        {
          "output_type": "stream",
          "name": "stdout",
          "text": [
            "(24374, 3)\n",
            "(24374, 240, 320, 1)\n"
          ]
        }
      ]
    },
    {
      "cell_type": "code",
      "metadata": {
        "id": "gEv3FCswXYjc",
        "colab": {
          "base_uri": "https://localhost:8080/"
        },
        "outputId": "314fb298-42e4-4b47-9922-21fef5319e7f"
      },
      "source": [
        "# split data for train and test validation\n",
        "X_train, X_test, y_train, y_test = train_test_split(data_new, labels_new_mc, test_size=0.2, random_state=0)\n",
        "\n",
        "\n",
        "## calculate class weights\n",
        "y_integers = np.argmax(y_train, axis=1)\n",
        "class_weights = compute_class_weight('balanced', np.unique(y_integers), y_integers)\n",
        "class_weights_dict = dict(enumerate(class_weights))\n",
        "\n",
        "class_weights_dict"
      ],
      "execution_count": null,
      "outputs": [
        {
          "output_type": "execute_result",
          "data": {
            "text/plain": [
              "{0: 0.4392853924484095, 1: 4.075026123301986, 2: 2.0912698412698414}"
            ]
          },
          "metadata": {},
          "execution_count": 10
        }
      ]
    },
    {
      "cell_type": "code",
      "metadata": {
        "id": "nRAl_G7Wuabv"
      },
      "source": [
        "lr_schedule = tf.keras.optimizers.schedules.ExponentialDecay(\n",
        "    initial_learning_rate=0.00001,\n",
        "    decay_steps=10000,\n",
        "    decay_rate=0.9)\n",
        "\n",
        "dtlmc = DTLMC()\n",
        "opt = tf.keras.optimizers.Adam(learning_rate=lr_schedule)\n",
        "dtlmc.compile(optimizer=opt,loss='categorical_crossentropy',metrics=['acc'])\n"
      ],
      "execution_count": null,
      "outputs": []
    },
    {
      "cell_type": "code",
      "metadata": {
        "id": "JsYJEXl6toon",
        "colab": {
          "base_uri": "https://localhost:8080/"
        },
        "outputId": "0adc44e1-ed56-418c-8ebc-dd99633f5cbe"
      },
      "source": [
        "history = dtlmc.fit(X_train,y_train, epochs=250, batch_size=128, validation_data=(X_test,y_test), class_weight=class_weights_dict)"
      ],
      "execution_count": null,
      "outputs": [
        {
          "output_type": "stream",
          "name": "stdout",
          "text": [
            "Epoch 1/250\n",
            "153/153 [==============================] - 35s 102ms/step - loss: 3.7475 - acc: 0.3397 - val_loss: 1.6389 - val_acc: 0.0976\n",
            "Epoch 2/250\n",
            "153/153 [==============================] - 13s 86ms/step - loss: 2.2942 - acc: 0.3323 - val_loss: 1.2668 - val_acc: 0.1774\n",
            "Epoch 3/250\n",
            "153/153 [==============================] - 13s 87ms/step - loss: 1.7213 - acc: 0.3302 - val_loss: 0.9849 - val_acc: 0.5612\n",
            "Epoch 4/250\n",
            "153/153 [==============================] - 13s 86ms/step - loss: 1.4055 - acc: 0.3408 - val_loss: 1.0159 - val_acc: 0.5319\n",
            "Epoch 5/250\n",
            "153/153 [==============================] - 13s 87ms/step - loss: 1.2510 - acc: 0.3346 - val_loss: 1.0674 - val_acc: 0.4334\n",
            "Epoch 6/250\n",
            "153/153 [==============================] - 13s 87ms/step - loss: 1.1743 - acc: 0.3404 - val_loss: 1.0302 - val_acc: 0.5828\n",
            "Epoch 7/250\n",
            "153/153 [==============================] - 13s 87ms/step - loss: 1.1342 - acc: 0.3321 - val_loss: 1.0621 - val_acc: 0.4882\n",
            "Epoch 8/250\n",
            "153/153 [==============================] - 13s 88ms/step - loss: 1.1141 - acc: 0.3418 - val_loss: 1.0789 - val_acc: 0.4351\n",
            "Epoch 9/250\n",
            "153/153 [==============================] - 14s 88ms/step - loss: 1.1087 - acc: 0.3469 - val_loss: 1.0871 - val_acc: 0.4031\n",
            "Epoch 10/250\n",
            "153/153 [==============================] - 13s 88ms/step - loss: 1.1010 - acc: 0.3415 - val_loss: 1.0853 - val_acc: 0.4023\n",
            "Epoch 11/250\n",
            "153/153 [==============================] - 13s 88ms/step - loss: 1.0959 - acc: 0.3610 - val_loss: 1.1106 - val_acc: 0.3044\n",
            "Epoch 12/250\n",
            "153/153 [==============================] - 13s 88ms/step - loss: 1.0964 - acc: 0.3432 - val_loss: 1.0794 - val_acc: 0.4320\n",
            "Epoch 13/250\n",
            "153/153 [==============================] - 13s 88ms/step - loss: 1.0892 - acc: 0.3650 - val_loss: 1.0876 - val_acc: 0.3844\n",
            "Epoch 14/250\n",
            "153/153 [==============================] - 13s 88ms/step - loss: 1.0880 - acc: 0.3643 - val_loss: 1.0659 - val_acc: 0.4681\n",
            "Epoch 15/250\n",
            "153/153 [==============================] - 13s 88ms/step - loss: 1.0860 - acc: 0.3669 - val_loss: 1.0817 - val_acc: 0.4041\n",
            "Epoch 16/250\n",
            "153/153 [==============================] - 13s 88ms/step - loss: 1.0799 - acc: 0.3815 - val_loss: 1.0678 - val_acc: 0.4455\n",
            "Epoch 17/250\n",
            "153/153 [==============================] - 13s 88ms/step - loss: 1.0783 - acc: 0.3891 - val_loss: 1.0845 - val_acc: 0.3910\n",
            "Epoch 18/250\n",
            "153/153 [==============================] - 13s 87ms/step - loss: 1.0762 - acc: 0.3896 - val_loss: 1.0781 - val_acc: 0.4082\n",
            "Epoch 19/250\n",
            "153/153 [==============================] - 13s 88ms/step - loss: 1.0728 - acc: 0.3929 - val_loss: 1.1171 - val_acc: 0.2946\n",
            "Epoch 20/250\n",
            "153/153 [==============================] - 13s 88ms/step - loss: 1.0731 - acc: 0.3852 - val_loss: 1.0689 - val_acc: 0.4068\n",
            "Epoch 21/250\n",
            "153/153 [==============================] - 13s 88ms/step - loss: 1.0651 - acc: 0.4018 - val_loss: 1.0498 - val_acc: 0.4609\n",
            "Epoch 22/250\n",
            "153/153 [==============================] - 13s 88ms/step - loss: 1.0629 - acc: 0.4075 - val_loss: 1.0941 - val_acc: 0.3571\n",
            "Epoch 23/250\n",
            "153/153 [==============================] - 13s 88ms/step - loss: 1.0592 - acc: 0.4096 - val_loss: 1.0754 - val_acc: 0.4008\n",
            "Epoch 24/250\n",
            "153/153 [==============================] - 13s 88ms/step - loss: 1.0567 - acc: 0.4067 - val_loss: 1.0870 - val_acc: 0.3666\n",
            "Epoch 25/250\n",
            "153/153 [==============================] - 13s 88ms/step - loss: 1.0563 - acc: 0.4086 - val_loss: 1.0882 - val_acc: 0.3631\n",
            "Epoch 26/250\n",
            "153/153 [==============================] - 13s 88ms/step - loss: 1.0553 - acc: 0.4034 - val_loss: 1.0514 - val_acc: 0.4369\n",
            "Epoch 27/250\n",
            "153/153 [==============================] - 13s 87ms/step - loss: 1.0494 - acc: 0.4085 - val_loss: 1.0385 - val_acc: 0.4782\n",
            "Epoch 28/250\n",
            "153/153 [==============================] - 13s 88ms/step - loss: 1.0479 - acc: 0.4187 - val_loss: 1.0705 - val_acc: 0.3934\n",
            "Epoch 29/250\n",
            "153/153 [==============================] - 13s 88ms/step - loss: 1.0439 - acc: 0.4211 - val_loss: 1.0319 - val_acc: 0.4443\n",
            "Epoch 30/250\n",
            "153/153 [==============================] - 13s 88ms/step - loss: 1.0445 - acc: 0.4164 - val_loss: 1.0522 - val_acc: 0.4386\n",
            "Epoch 31/250\n",
            "153/153 [==============================] - 13s 88ms/step - loss: 1.0389 - acc: 0.4187 - val_loss: 1.0545 - val_acc: 0.4302\n",
            "Epoch 32/250\n",
            "153/153 [==============================] - 13s 88ms/step - loss: 1.0354 - acc: 0.4224 - val_loss: 1.0370 - val_acc: 0.4544\n",
            "Epoch 33/250\n",
            "153/153 [==============================] - 13s 88ms/step - loss: 1.0345 - acc: 0.4313 - val_loss: 1.0708 - val_acc: 0.3904\n",
            "Epoch 34/250\n",
            "153/153 [==============================] - 13s 88ms/step - loss: 1.0320 - acc: 0.4297 - val_loss: 1.0721 - val_acc: 0.3936\n",
            "Epoch 35/250\n",
            "153/153 [==============================] - 13s 88ms/step - loss: 1.0256 - acc: 0.4316 - val_loss: 1.0321 - val_acc: 0.4542\n",
            "Epoch 36/250\n",
            "153/153 [==============================] - 13s 88ms/step - loss: 1.0237 - acc: 0.4278 - val_loss: 1.0023 - val_acc: 0.5034\n",
            "Epoch 37/250\n",
            "153/153 [==============================] - 13s 88ms/step - loss: 1.0198 - acc: 0.4313 - val_loss: 1.0003 - val_acc: 0.5048\n",
            "Epoch 38/250\n",
            "153/153 [==============================] - 13s 88ms/step - loss: 1.0169 - acc: 0.4385 - val_loss: 1.0288 - val_acc: 0.4246\n",
            "Epoch 39/250\n",
            "153/153 [==============================] - 13s 88ms/step - loss: 1.0109 - acc: 0.4404 - val_loss: 1.0595 - val_acc: 0.4107\n",
            "Epoch 40/250\n",
            "153/153 [==============================] - 13s 88ms/step - loss: 1.0132 - acc: 0.4473 - val_loss: 1.0702 - val_acc: 0.3977\n",
            "Epoch 41/250\n",
            "153/153 [==============================] - 15s 96ms/step - loss: 1.0113 - acc: 0.4385 - val_loss: 1.0297 - val_acc: 0.4476\n",
            "Epoch 42/250\n",
            "153/153 [==============================] - 13s 87ms/step - loss: 1.0113 - acc: 0.4494 - val_loss: 1.0527 - val_acc: 0.4144\n",
            "Epoch 43/250\n",
            "153/153 [==============================] - 13s 88ms/step - loss: 1.0026 - acc: 0.4487 - val_loss: 0.9883 - val_acc: 0.5083\n",
            "Epoch 44/250\n",
            "153/153 [==============================] - 13s 88ms/step - loss: 0.9993 - acc: 0.4524 - val_loss: 1.0589 - val_acc: 0.3920\n",
            "Epoch 45/250\n",
            "153/153 [==============================] - 13s 87ms/step - loss: 0.9996 - acc: 0.4477 - val_loss: 0.9877 - val_acc: 0.5071\n",
            "Epoch 46/250\n",
            "153/153 [==============================] - 13s 88ms/step - loss: 0.9993 - acc: 0.4429 - val_loss: 1.0379 - val_acc: 0.4398\n",
            "Epoch 47/250\n",
            "153/153 [==============================] - 13s 88ms/step - loss: 0.9950 - acc: 0.4558 - val_loss: 1.0138 - val_acc: 0.4562\n",
            "Epoch 48/250\n",
            "153/153 [==============================] - 13s 88ms/step - loss: 0.9922 - acc: 0.4458 - val_loss: 1.0976 - val_acc: 0.3534\n",
            "Epoch 49/250\n",
            "153/153 [==============================] - 13s 88ms/step - loss: 0.9920 - acc: 0.4589 - val_loss: 1.0901 - val_acc: 0.3651\n",
            "Epoch 50/250\n",
            "153/153 [==============================] - 13s 88ms/step - loss: 0.9881 - acc: 0.4529 - val_loss: 1.0090 - val_acc: 0.4732\n",
            "Epoch 51/250\n",
            "153/153 [==============================] - 13s 88ms/step - loss: 0.9884 - acc: 0.4532 - val_loss: 1.0459 - val_acc: 0.4246\n",
            "Epoch 52/250\n",
            "153/153 [==============================] - 13s 88ms/step - loss: 0.9788 - acc: 0.4586 - val_loss: 1.0039 - val_acc: 0.4613\n",
            "Epoch 53/250\n",
            "153/153 [==============================] - 13s 88ms/step - loss: 0.9831 - acc: 0.4579 - val_loss: 1.0519 - val_acc: 0.4176\n",
            "Epoch 54/250\n",
            "153/153 [==============================] - 13s 88ms/step - loss: 0.9791 - acc: 0.4657 - val_loss: 1.0298 - val_acc: 0.4394\n",
            "Epoch 55/250\n",
            "153/153 [==============================] - 13s 88ms/step - loss: 0.9733 - acc: 0.4686 - val_loss: 1.0411 - val_acc: 0.4207\n",
            "Epoch 56/250\n",
            "153/153 [==============================] - 13s 88ms/step - loss: 0.9749 - acc: 0.4725 - val_loss: 0.9865 - val_acc: 0.4939\n",
            "Epoch 57/250\n",
            "153/153 [==============================] - 13s 88ms/step - loss: 0.9650 - acc: 0.4728 - val_loss: 1.0229 - val_acc: 0.4537\n",
            "Epoch 58/250\n",
            "153/153 [==============================] - 13s 88ms/step - loss: 0.9666 - acc: 0.4686 - val_loss: 1.0476 - val_acc: 0.4224\n",
            "Epoch 59/250\n",
            "153/153 [==============================] - 13s 88ms/step - loss: 0.9625 - acc: 0.4743 - val_loss: 1.0368 - val_acc: 0.4347\n",
            "Epoch 60/250\n",
            "153/153 [==============================] - 13s 88ms/step - loss: 0.9615 - acc: 0.4763 - val_loss: 1.0610 - val_acc: 0.4041\n",
            "Epoch 61/250\n",
            "153/153 [==============================] - 13s 87ms/step - loss: 0.9618 - acc: 0.4766 - val_loss: 1.0503 - val_acc: 0.4146\n",
            "Epoch 62/250\n",
            "153/153 [==============================] - 13s 88ms/step - loss: 0.9597 - acc: 0.4723 - val_loss: 1.0851 - val_acc: 0.3701\n",
            "Epoch 63/250\n",
            "153/153 [==============================] - 13s 88ms/step - loss: 0.9572 - acc: 0.4769 - val_loss: 1.0604 - val_acc: 0.4057\n",
            "Epoch 64/250\n",
            "153/153 [==============================] - 14s 88ms/step - loss: 0.9536 - acc: 0.4756 - val_loss: 0.9954 - val_acc: 0.4825\n",
            "Epoch 65/250\n",
            "153/153 [==============================] - 13s 88ms/step - loss: 0.9520 - acc: 0.4893 - val_loss: 1.0355 - val_acc: 0.4345\n",
            "Epoch 66/250\n",
            "153/153 [==============================] - 13s 87ms/step - loss: 0.9515 - acc: 0.4811 - val_loss: 1.0142 - val_acc: 0.4498\n",
            "Epoch 67/250\n",
            "153/153 [==============================] - 13s 88ms/step - loss: 0.9472 - acc: 0.4811 - val_loss: 1.0142 - val_acc: 0.4624\n",
            "Epoch 68/250\n",
            "153/153 [==============================] - 13s 88ms/step - loss: 0.9468 - acc: 0.4884 - val_loss: 1.0897 - val_acc: 0.3762\n",
            "Epoch 69/250\n",
            "153/153 [==============================] - 13s 88ms/step - loss: 0.9497 - acc: 0.4831 - val_loss: 1.0323 - val_acc: 0.4338\n",
            "Epoch 70/250\n",
            "153/153 [==============================] - 13s 88ms/step - loss: 0.9351 - acc: 0.4910 - val_loss: 1.0773 - val_acc: 0.3867\n",
            "Epoch 71/250\n",
            "153/153 [==============================] - 13s 88ms/step - loss: 0.9384 - acc: 0.4925 - val_loss: 1.0645 - val_acc: 0.4000\n",
            "Epoch 72/250\n",
            "153/153 [==============================] - 13s 88ms/step - loss: 0.9336 - acc: 0.4924 - val_loss: 1.0425 - val_acc: 0.4252\n",
            "Epoch 73/250\n",
            "153/153 [==============================] - 14s 89ms/step - loss: 0.9377 - acc: 0.4893 - val_loss: 1.0345 - val_acc: 0.4363\n",
            "Epoch 74/250\n",
            "153/153 [==============================] - 13s 88ms/step - loss: 0.9293 - acc: 0.4929 - val_loss: 1.0109 - val_acc: 0.4525\n",
            "Epoch 75/250\n",
            "153/153 [==============================] - 13s 88ms/step - loss: 0.9254 - acc: 0.5029 - val_loss: 1.0142 - val_acc: 0.4578\n",
            "Epoch 76/250\n",
            "153/153 [==============================] - 13s 87ms/step - loss: 0.9257 - acc: 0.4975 - val_loss: 0.9877 - val_acc: 0.4841\n",
            "Epoch 77/250\n",
            "153/153 [==============================] - 13s 88ms/step - loss: 0.9241 - acc: 0.5066 - val_loss: 1.0274 - val_acc: 0.4408\n",
            "Epoch 78/250\n",
            "153/153 [==============================] - 13s 88ms/step - loss: 0.9246 - acc: 0.4979 - val_loss: 0.9558 - val_acc: 0.5212\n",
            "Epoch 79/250\n",
            "153/153 [==============================] - 13s 88ms/step - loss: 0.9157 - acc: 0.5074 - val_loss: 1.0728 - val_acc: 0.3912\n",
            "Epoch 80/250\n",
            "153/153 [==============================] - 13s 88ms/step - loss: 0.9214 - acc: 0.4981 - val_loss: 1.0456 - val_acc: 0.4183\n",
            "Epoch 81/250\n",
            "153/153 [==============================] - 13s 88ms/step - loss: 0.9239 - acc: 0.5009 - val_loss: 1.0673 - val_acc: 0.3975\n",
            "Epoch 82/250\n",
            "153/153 [==============================] - 13s 88ms/step - loss: 0.9147 - acc: 0.5048 - val_loss: 1.0067 - val_acc: 0.4601\n",
            "Epoch 83/250\n",
            "153/153 [==============================] - 13s 88ms/step - loss: 0.9154 - acc: 0.5027 - val_loss: 1.0135 - val_acc: 0.4581\n",
            "Epoch 84/250\n",
            "153/153 [==============================] - 13s 88ms/step - loss: 0.9107 - acc: 0.5069 - val_loss: 1.0615 - val_acc: 0.4121\n",
            "Epoch 85/250\n",
            "153/153 [==============================] - 13s 88ms/step - loss: 0.9131 - acc: 0.5003 - val_loss: 1.0106 - val_acc: 0.4601\n",
            "Epoch 86/250\n",
            "153/153 [==============================] - 13s 88ms/step - loss: 0.9037 - acc: 0.5116 - val_loss: 1.0064 - val_acc: 0.4622\n",
            "Epoch 87/250\n",
            "153/153 [==============================] - 13s 88ms/step - loss: 0.9061 - acc: 0.5043 - val_loss: 0.9529 - val_acc: 0.5208\n",
            "Epoch 88/250\n",
            "153/153 [==============================] - 13s 88ms/step - loss: 0.9075 - acc: 0.5149 - val_loss: 0.9697 - val_acc: 0.5061\n",
            "Epoch 89/250\n",
            "153/153 [==============================] - 13s 88ms/step - loss: 0.9000 - acc: 0.5208 - val_loss: 1.0615 - val_acc: 0.4094\n",
            "Epoch 90/250\n",
            "153/153 [==============================] - 13s 88ms/step - loss: 0.8979 - acc: 0.5137 - val_loss: 1.0434 - val_acc: 0.4316\n",
            "Epoch 91/250\n",
            "153/153 [==============================] - 13s 88ms/step - loss: 0.8990 - acc: 0.5118 - val_loss: 1.0434 - val_acc: 0.4310\n",
            "Epoch 92/250\n",
            "153/153 [==============================] - 13s 88ms/step - loss: 0.8976 - acc: 0.5208 - val_loss: 1.0307 - val_acc: 0.4357\n",
            "Epoch 93/250\n",
            "153/153 [==============================] - 13s 88ms/step - loss: 0.8916 - acc: 0.5179 - val_loss: 1.0126 - val_acc: 0.4527\n",
            "Epoch 94/250\n",
            "153/153 [==============================] - 13s 88ms/step - loss: 0.8943 - acc: 0.5151 - val_loss: 1.0277 - val_acc: 0.4435\n",
            "Epoch 95/250\n",
            "153/153 [==============================] - 13s 88ms/step - loss: 0.8895 - acc: 0.5193 - val_loss: 0.9948 - val_acc: 0.4786\n",
            "Epoch 96/250\n",
            "153/153 [==============================] - 13s 88ms/step - loss: 0.8894 - acc: 0.5240 - val_loss: 0.9945 - val_acc: 0.4765\n",
            "Epoch 97/250\n",
            "153/153 [==============================] - 13s 88ms/step - loss: 0.8861 - acc: 0.5259 - val_loss: 1.0193 - val_acc: 0.4459\n",
            "Epoch 98/250\n",
            "153/153 [==============================] - 13s 88ms/step - loss: 0.8859 - acc: 0.5225 - val_loss: 1.0438 - val_acc: 0.4238\n",
            "Epoch 99/250\n",
            "153/153 [==============================] - 13s 88ms/step - loss: 0.8824 - acc: 0.5252 - val_loss: 1.0015 - val_acc: 0.4699\n",
            "Epoch 100/250\n",
            "153/153 [==============================] - 13s 88ms/step - loss: 0.8791 - acc: 0.5243 - val_loss: 1.0269 - val_acc: 0.4466\n",
            "Epoch 101/250\n",
            "153/153 [==============================] - 13s 88ms/step - loss: 0.8825 - acc: 0.5227 - val_loss: 1.0017 - val_acc: 0.4642\n",
            "Epoch 102/250\n",
            "153/153 [==============================] - 13s 88ms/step - loss: 0.8756 - acc: 0.5318 - val_loss: 0.9716 - val_acc: 0.5038\n",
            "Epoch 103/250\n",
            "153/153 [==============================] - 13s 88ms/step - loss: 0.8789 - acc: 0.5251 - val_loss: 1.0190 - val_acc: 0.4554\n",
            "Epoch 104/250\n",
            "153/153 [==============================] - 13s 88ms/step - loss: 0.8667 - acc: 0.5319 - val_loss: 1.0180 - val_acc: 0.4544\n",
            "Epoch 105/250\n",
            "153/153 [==============================] - 13s 88ms/step - loss: 0.8733 - acc: 0.5336 - val_loss: 1.0220 - val_acc: 0.4515\n",
            "Epoch 106/250\n",
            "153/153 [==============================] - 13s 88ms/step - loss: 0.8713 - acc: 0.5295 - val_loss: 1.0107 - val_acc: 0.4562\n",
            "Epoch 107/250\n",
            "153/153 [==============================] - 13s 88ms/step - loss: 0.8653 - acc: 0.5335 - val_loss: 1.0053 - val_acc: 0.4613\n",
            "Epoch 108/250\n",
            "153/153 [==============================] - 13s 88ms/step - loss: 0.8599 - acc: 0.5378 - val_loss: 0.9821 - val_acc: 0.4913\n",
            "Epoch 109/250\n",
            "153/153 [==============================] - 13s 88ms/step - loss: 0.8662 - acc: 0.5385 - val_loss: 0.9572 - val_acc: 0.5134\n",
            "Epoch 110/250\n",
            "153/153 [==============================] - 13s 88ms/step - loss: 0.8590 - acc: 0.5439 - val_loss: 1.0265 - val_acc: 0.4511\n",
            "Epoch 111/250\n",
            "153/153 [==============================] - 13s 88ms/step - loss: 0.8607 - acc: 0.5383 - val_loss: 1.0274 - val_acc: 0.4379\n",
            "Epoch 112/250\n",
            "153/153 [==============================] - 13s 88ms/step - loss: 0.8624 - acc: 0.5384 - val_loss: 0.9687 - val_acc: 0.5009\n",
            "Epoch 113/250\n",
            "153/153 [==============================] - 14s 89ms/step - loss: 0.8580 - acc: 0.5385 - val_loss: 1.0378 - val_acc: 0.4345\n",
            "Epoch 114/250\n",
            "153/153 [==============================] - 13s 88ms/step - loss: 0.8633 - acc: 0.5368 - val_loss: 1.0152 - val_acc: 0.4535\n",
            "Epoch 115/250\n",
            "153/153 [==============================] - 13s 88ms/step - loss: 0.8555 - acc: 0.5439 - val_loss: 1.0286 - val_acc: 0.4453\n",
            "Epoch 116/250\n",
            "153/153 [==============================] - 13s 88ms/step - loss: 0.8529 - acc: 0.5424 - val_loss: 0.9979 - val_acc: 0.4689\n",
            "Epoch 117/250\n",
            "153/153 [==============================] - 13s 88ms/step - loss: 0.8560 - acc: 0.5420 - val_loss: 1.0448 - val_acc: 0.4256\n",
            "Epoch 118/250\n",
            "153/153 [==============================] - 13s 88ms/step - loss: 0.8564 - acc: 0.5419 - val_loss: 1.0234 - val_acc: 0.4416\n",
            "Epoch 119/250\n",
            "153/153 [==============================] - 13s 88ms/step - loss: 0.8439 - acc: 0.5416 - val_loss: 0.9802 - val_acc: 0.4814\n",
            "Epoch 120/250\n",
            "153/153 [==============================] - 13s 88ms/step - loss: 0.8515 - acc: 0.5458 - val_loss: 0.9903 - val_acc: 0.4823\n",
            "Epoch 121/250\n",
            "153/153 [==============================] - 13s 88ms/step - loss: 0.8474 - acc: 0.5436 - val_loss: 0.9780 - val_acc: 0.4921\n",
            "Epoch 122/250\n",
            "153/153 [==============================] - 13s 88ms/step - loss: 0.8491 - acc: 0.5477 - val_loss: 1.0256 - val_acc: 0.4519\n",
            "Epoch 123/250\n",
            "153/153 [==============================] - 13s 88ms/step - loss: 0.8409 - acc: 0.5492 - val_loss: 0.9724 - val_acc: 0.4983\n",
            "Epoch 124/250\n",
            "153/153 [==============================] - 13s 88ms/step - loss: 0.8359 - acc: 0.5510 - val_loss: 0.9810 - val_acc: 0.4954\n",
            "Epoch 125/250\n",
            "153/153 [==============================] - 13s 88ms/step - loss: 0.8356 - acc: 0.5548 - val_loss: 0.9952 - val_acc: 0.4794\n",
            "Epoch 126/250\n",
            "153/153 [==============================] - 13s 88ms/step - loss: 0.8372 - acc: 0.5522 - val_loss: 0.9734 - val_acc: 0.4981\n",
            "Epoch 127/250\n",
            "153/153 [==============================] - 13s 88ms/step - loss: 0.8439 - acc: 0.5474 - val_loss: 0.9953 - val_acc: 0.4788\n",
            "Epoch 128/250\n",
            "153/153 [==============================] - 13s 88ms/step - loss: 0.8346 - acc: 0.5518 - val_loss: 0.9814 - val_acc: 0.4886\n",
            "Epoch 129/250\n",
            "153/153 [==============================] - 13s 88ms/step - loss: 0.8352 - acc: 0.5539 - val_loss: 0.9769 - val_acc: 0.4995\n",
            "Epoch 130/250\n",
            "153/153 [==============================] - 13s 88ms/step - loss: 0.8266 - acc: 0.5579 - val_loss: 1.0232 - val_acc: 0.4529\n",
            "Epoch 131/250\n",
            "153/153 [==============================] - 13s 88ms/step - loss: 0.8312 - acc: 0.5481 - val_loss: 0.9929 - val_acc: 0.4868\n",
            "Epoch 132/250\n",
            "153/153 [==============================] - 13s 87ms/step - loss: 0.8250 - acc: 0.5596 - val_loss: 1.0096 - val_acc: 0.4642\n",
            "Epoch 133/250\n",
            "153/153 [==============================] - 14s 88ms/step - loss: 0.8329 - acc: 0.5465 - val_loss: 1.0183 - val_acc: 0.4562\n",
            "Epoch 134/250\n",
            "153/153 [==============================] - 13s 88ms/step - loss: 0.8276 - acc: 0.5554 - val_loss: 0.9847 - val_acc: 0.4839\n",
            "Epoch 135/250\n",
            "153/153 [==============================] - 13s 88ms/step - loss: 0.8280 - acc: 0.5576 - val_loss: 0.9679 - val_acc: 0.5003\n",
            "Epoch 136/250\n",
            "153/153 [==============================] - 13s 88ms/step - loss: 0.8200 - acc: 0.5598 - val_loss: 0.9757 - val_acc: 0.4978\n",
            "Epoch 137/250\n",
            "153/153 [==============================] - 13s 88ms/step - loss: 0.8221 - acc: 0.5591 - val_loss: 0.9969 - val_acc: 0.4732\n",
            "Epoch 138/250\n",
            "153/153 [==============================] - 13s 88ms/step - loss: 0.8218 - acc: 0.5546 - val_loss: 1.0115 - val_acc: 0.4611\n",
            "Epoch 139/250\n",
            "153/153 [==============================] - 13s 88ms/step - loss: 0.8247 - acc: 0.5605 - val_loss: 0.9734 - val_acc: 0.5050\n",
            "Epoch 140/250\n",
            "153/153 [==============================] - 13s 88ms/step - loss: 0.8179 - acc: 0.5608 - val_loss: 1.0250 - val_acc: 0.4539\n",
            "Epoch 141/250\n",
            "153/153 [==============================] - 13s 88ms/step - loss: 0.8136 - acc: 0.5631 - val_loss: 1.0142 - val_acc: 0.4583\n",
            "Epoch 142/250\n",
            "153/153 [==============================] - 13s 88ms/step - loss: 0.8137 - acc: 0.5619 - val_loss: 1.0270 - val_acc: 0.4462\n",
            "Epoch 143/250\n",
            "153/153 [==============================] - 13s 88ms/step - loss: 0.8111 - acc: 0.5628 - val_loss: 0.9856 - val_acc: 0.4835\n",
            "Epoch 144/250\n",
            "153/153 [==============================] - 13s 87ms/step - loss: 0.8116 - acc: 0.5622 - val_loss: 1.0180 - val_acc: 0.4626\n",
            "Epoch 145/250\n",
            "153/153 [==============================] - 13s 88ms/step - loss: 0.8066 - acc: 0.5685 - val_loss: 1.0429 - val_acc: 0.4359\n",
            "Epoch 146/250\n",
            "153/153 [==============================] - 13s 88ms/step - loss: 0.8060 - acc: 0.5655 - val_loss: 1.0372 - val_acc: 0.4427\n",
            "Epoch 147/250\n",
            "153/153 [==============================] - 13s 88ms/step - loss: 0.8045 - acc: 0.5659 - val_loss: 0.9947 - val_acc: 0.4759\n",
            "Epoch 148/250\n",
            "153/153 [==============================] - 13s 88ms/step - loss: 0.8052 - acc: 0.5659 - val_loss: 0.9911 - val_acc: 0.4763\n",
            "Epoch 149/250\n",
            "153/153 [==============================] - 13s 88ms/step - loss: 0.8042 - acc: 0.5732 - val_loss: 1.0565 - val_acc: 0.4304\n",
            "Epoch 150/250\n",
            "153/153 [==============================] - 13s 88ms/step - loss: 0.8026 - acc: 0.5651 - val_loss: 1.0070 - val_acc: 0.4745\n",
            "Epoch 151/250\n",
            "153/153 [==============================] - 13s 88ms/step - loss: 0.8104 - acc: 0.5687 - val_loss: 0.9875 - val_acc: 0.4843\n",
            "Epoch 152/250\n",
            "153/153 [==============================] - 13s 88ms/step - loss: 0.8067 - acc: 0.5690 - val_loss: 1.0258 - val_acc: 0.4513\n",
            "Epoch 153/250\n",
            "153/153 [==============================] - 13s 87ms/step - loss: 0.7984 - acc: 0.5725 - val_loss: 1.0090 - val_acc: 0.4640\n",
            "Epoch 154/250\n",
            "153/153 [==============================] - 13s 88ms/step - loss: 0.8014 - acc: 0.5702 - val_loss: 1.0024 - val_acc: 0.4724\n",
            "Epoch 155/250\n",
            "153/153 [==============================] - 13s 88ms/step - loss: 0.7977 - acc: 0.5707 - val_loss: 1.0257 - val_acc: 0.4570\n",
            "Epoch 156/250\n",
            "153/153 [==============================] - 13s 88ms/step - loss: 0.7965 - acc: 0.5648 - val_loss: 0.9852 - val_acc: 0.4864\n",
            "Epoch 157/250\n",
            "153/153 [==============================] - 13s 88ms/step - loss: 0.7890 - acc: 0.5731 - val_loss: 1.0078 - val_acc: 0.4685\n",
            "Epoch 158/250\n",
            "153/153 [==============================] - 13s 88ms/step - loss: 0.7973 - acc: 0.5688 - val_loss: 1.0165 - val_acc: 0.4609\n",
            "Epoch 159/250\n",
            "153/153 [==============================] - 13s 88ms/step - loss: 0.7906 - acc: 0.5699 - val_loss: 0.9805 - val_acc: 0.4923\n",
            "Epoch 160/250\n",
            "153/153 [==============================] - 13s 88ms/step - loss: 0.7917 - acc: 0.5747 - val_loss: 0.9437 - val_acc: 0.5188\n",
            "Epoch 161/250\n",
            "153/153 [==============================] - 13s 88ms/step - loss: 0.7940 - acc: 0.5685 - val_loss: 0.9787 - val_acc: 0.4917\n",
            "Epoch 162/250\n",
            "153/153 [==============================] - 13s 88ms/step - loss: 0.7843 - acc: 0.5742 - val_loss: 0.9807 - val_acc: 0.4890\n",
            "Epoch 163/250\n",
            "153/153 [==============================] - 13s 88ms/step - loss: 0.7854 - acc: 0.5867 - val_loss: 0.9639 - val_acc: 0.5042\n",
            "Epoch 164/250\n",
            "153/153 [==============================] - 13s 88ms/step - loss: 0.7944 - acc: 0.5757 - val_loss: 1.0270 - val_acc: 0.4529\n",
            "Epoch 165/250\n",
            "153/153 [==============================] - 13s 88ms/step - loss: 0.7882 - acc: 0.5728 - val_loss: 0.9791 - val_acc: 0.4925\n",
            "Epoch 166/250\n",
            "153/153 [==============================] - 13s 88ms/step - loss: 0.7815 - acc: 0.5796 - val_loss: 0.9995 - val_acc: 0.4808\n",
            "Epoch 167/250\n",
            "153/153 [==============================] - 13s 88ms/step - loss: 0.7895 - acc: 0.5735 - val_loss: 0.9520 - val_acc: 0.5159\n",
            "Epoch 168/250\n",
            "153/153 [==============================] - 13s 88ms/step - loss: 0.7844 - acc: 0.5865 - val_loss: 1.0037 - val_acc: 0.4782\n",
            "Epoch 169/250\n",
            "153/153 [==============================] - 13s 88ms/step - loss: 0.7751 - acc: 0.5837 - val_loss: 1.0016 - val_acc: 0.4775\n",
            "Epoch 170/250\n",
            "153/153 [==============================] - 13s 88ms/step - loss: 0.7845 - acc: 0.5802 - val_loss: 0.9802 - val_acc: 0.4952\n",
            "Epoch 171/250\n",
            "153/153 [==============================] - 13s 88ms/step - loss: 0.7866 - acc: 0.5782 - val_loss: 1.0239 - val_acc: 0.4603\n",
            "Epoch 172/250\n",
            "153/153 [==============================] - 14s 88ms/step - loss: 0.7760 - acc: 0.5815 - val_loss: 1.0512 - val_acc: 0.4394\n",
            "Epoch 173/250\n",
            "153/153 [==============================] - 13s 88ms/step - loss: 0.7777 - acc: 0.5789 - val_loss: 0.9820 - val_acc: 0.4892\n",
            "Epoch 174/250\n",
            "153/153 [==============================] - 13s 88ms/step - loss: 0.7837 - acc: 0.5780 - val_loss: 0.9733 - val_acc: 0.4960\n",
            "Epoch 175/250\n",
            "153/153 [==============================] - 13s 88ms/step - loss: 0.7766 - acc: 0.5829 - val_loss: 1.0005 - val_acc: 0.4743\n",
            "Epoch 176/250\n",
            "153/153 [==============================] - 13s 88ms/step - loss: 0.7762 - acc: 0.5838 - val_loss: 1.0296 - val_acc: 0.4537\n",
            "Epoch 177/250\n",
            "153/153 [==============================] - 13s 88ms/step - loss: 0.7770 - acc: 0.5897 - val_loss: 1.0421 - val_acc: 0.4429\n",
            "Epoch 178/250\n",
            "153/153 [==============================] - 13s 88ms/step - loss: 0.7811 - acc: 0.5813 - val_loss: 0.9931 - val_acc: 0.4810\n",
            "Epoch 179/250\n",
            "153/153 [==============================] - 13s 88ms/step - loss: 0.7728 - acc: 0.5845 - val_loss: 0.9891 - val_acc: 0.4880\n",
            "Epoch 180/250\n",
            "153/153 [==============================] - 13s 88ms/step - loss: 0.7707 - acc: 0.5829 - val_loss: 0.9519 - val_acc: 0.5163\n",
            "Epoch 181/250\n",
            "153/153 [==============================] - 13s 88ms/step - loss: 0.7653 - acc: 0.5852 - val_loss: 0.9570 - val_acc: 0.5141\n",
            "Epoch 182/250\n",
            "153/153 [==============================] - 13s 88ms/step - loss: 0.7716 - acc: 0.5854 - val_loss: 0.9942 - val_acc: 0.4821\n",
            "Epoch 183/250\n",
            "153/153 [==============================] - 14s 88ms/step - loss: 0.7655 - acc: 0.5854 - val_loss: 1.0151 - val_acc: 0.4671\n",
            "Epoch 184/250\n",
            "153/153 [==============================] - 13s 88ms/step - loss: 0.7639 - acc: 0.5907 - val_loss: 1.0201 - val_acc: 0.4626\n",
            "Epoch 185/250\n",
            "153/153 [==============================] - 13s 88ms/step - loss: 0.7609 - acc: 0.5898 - val_loss: 1.0426 - val_acc: 0.4478\n",
            "Epoch 186/250\n",
            "153/153 [==============================] - 13s 88ms/step - loss: 0.7564 - acc: 0.5919 - val_loss: 1.0045 - val_acc: 0.4743\n",
            "Epoch 187/250\n",
            "153/153 [==============================] - 13s 88ms/step - loss: 0.7655 - acc: 0.5917 - val_loss: 0.9666 - val_acc: 0.5075\n",
            "Epoch 188/250\n",
            "153/153 [==============================] - 13s 88ms/step - loss: 0.7616 - acc: 0.5903 - val_loss: 1.0097 - val_acc: 0.4724\n",
            "Epoch 189/250\n",
            "153/153 [==============================] - 13s 88ms/step - loss: 0.7577 - acc: 0.5907 - val_loss: 0.9572 - val_acc: 0.5118\n",
            "Epoch 190/250\n",
            "153/153 [==============================] - 13s 88ms/step - loss: 0.7668 - acc: 0.5775 - val_loss: 0.9653 - val_acc: 0.5065\n",
            "Epoch 191/250\n",
            "153/153 [==============================] - 13s 88ms/step - loss: 0.7636 - acc: 0.5940 - val_loss: 0.9783 - val_acc: 0.4970\n",
            "Epoch 192/250\n",
            "153/153 [==============================] - 13s 88ms/step - loss: 0.7649 - acc: 0.5904 - val_loss: 1.0229 - val_acc: 0.4603\n",
            "Epoch 193/250\n",
            "153/153 [==============================] - 13s 88ms/step - loss: 0.7583 - acc: 0.5892 - val_loss: 0.9597 - val_acc: 0.5128\n",
            "Epoch 194/250\n",
            "153/153 [==============================] - 14s 88ms/step - loss: 0.7514 - acc: 0.5981 - val_loss: 1.0144 - val_acc: 0.4714\n",
            "Epoch 195/250\n",
            "153/153 [==============================] - 13s 88ms/step - loss: 0.7553 - acc: 0.5930 - val_loss: 0.9892 - val_acc: 0.4933\n",
            "Epoch 196/250\n",
            "153/153 [==============================] - 13s 88ms/step - loss: 0.7454 - acc: 0.5958 - val_loss: 1.0357 - val_acc: 0.4537\n",
            "Epoch 197/250\n",
            "153/153 [==============================] - 13s 88ms/step - loss: 0.7594 - acc: 0.5866 - val_loss: 0.9837 - val_acc: 0.4991\n",
            "Epoch 198/250\n",
            "153/153 [==============================] - 13s 88ms/step - loss: 0.7484 - acc: 0.5982 - val_loss: 1.0022 - val_acc: 0.4784\n",
            "Epoch 199/250\n",
            "153/153 [==============================] - 13s 88ms/step - loss: 0.7417 - acc: 0.6047 - val_loss: 0.9932 - val_acc: 0.4847\n",
            "Epoch 200/250\n",
            "153/153 [==============================] - 13s 88ms/step - loss: 0.7460 - acc: 0.5990 - val_loss: 1.0300 - val_acc: 0.4601\n",
            "Epoch 201/250\n",
            "153/153 [==============================] - 13s 88ms/step - loss: 0.7487 - acc: 0.5982 - val_loss: 1.0163 - val_acc: 0.4710\n",
            "Epoch 202/250\n",
            "153/153 [==============================] - 13s 88ms/step - loss: 0.7468 - acc: 0.5959 - val_loss: 1.0355 - val_acc: 0.4539\n",
            "Epoch 203/250\n",
            "153/153 [==============================] - 13s 88ms/step - loss: 0.7507 - acc: 0.5927 - val_loss: 1.0353 - val_acc: 0.4554\n",
            "Epoch 204/250\n",
            "153/153 [==============================] - 13s 88ms/step - loss: 0.7464 - acc: 0.5965 - val_loss: 0.9868 - val_acc: 0.4958\n",
            "Epoch 205/250\n",
            "153/153 [==============================] - 14s 88ms/step - loss: 0.7517 - acc: 0.5973 - val_loss: 1.0043 - val_acc: 0.4788\n",
            "Epoch 206/250\n",
            "153/153 [==============================] - 13s 88ms/step - loss: 0.7452 - acc: 0.6000 - val_loss: 1.0332 - val_acc: 0.4544\n",
            "Epoch 207/250\n",
            "153/153 [==============================] - 14s 88ms/step - loss: 0.7450 - acc: 0.6012 - val_loss: 1.0275 - val_acc: 0.4650\n",
            "Epoch 208/250\n",
            "153/153 [==============================] - 13s 88ms/step - loss: 0.7462 - acc: 0.5983 - val_loss: 0.9834 - val_acc: 0.4931\n",
            "Epoch 209/250\n",
            "153/153 [==============================] - 13s 88ms/step - loss: 0.7482 - acc: 0.5981 - val_loss: 0.9621 - val_acc: 0.5169\n",
            "Epoch 210/250\n",
            "153/153 [==============================] - 13s 88ms/step - loss: 0.7452 - acc: 0.6041 - val_loss: 1.0095 - val_acc: 0.4810\n",
            "Epoch 211/250\n",
            "153/153 [==============================] - 13s 88ms/step - loss: 0.7412 - acc: 0.6006 - val_loss: 1.0224 - val_acc: 0.4671\n",
            "Epoch 212/250\n",
            "153/153 [==============================] - 13s 88ms/step - loss: 0.7436 - acc: 0.5987 - val_loss: 0.9703 - val_acc: 0.5056\n",
            "Epoch 213/250\n",
            "153/153 [==============================] - 13s 88ms/step - loss: 0.7387 - acc: 0.6034 - val_loss: 1.0069 - val_acc: 0.4804\n",
            "Epoch 214/250\n",
            "153/153 [==============================] - 13s 88ms/step - loss: 0.7392 - acc: 0.6020 - val_loss: 0.9977 - val_acc: 0.4847\n",
            "Epoch 215/250\n",
            "153/153 [==============================] - 13s 88ms/step - loss: 0.7381 - acc: 0.6020 - val_loss: 1.0095 - val_acc: 0.4816\n",
            "Epoch 216/250\n",
            "153/153 [==============================] - 13s 88ms/step - loss: 0.7345 - acc: 0.6042 - val_loss: 0.9882 - val_acc: 0.4974\n",
            "Epoch 217/250\n",
            "153/153 [==============================] - 13s 88ms/step - loss: 0.7375 - acc: 0.6048 - val_loss: 1.0171 - val_acc: 0.4720\n",
            "Epoch 218/250\n",
            "153/153 [==============================] - 13s 88ms/step - loss: 0.7408 - acc: 0.6011 - val_loss: 0.9992 - val_acc: 0.4851\n",
            "Epoch 219/250\n",
            "153/153 [==============================] - 13s 88ms/step - loss: 0.7232 - acc: 0.6078 - val_loss: 0.9777 - val_acc: 0.5048\n",
            "Epoch 220/250\n",
            "153/153 [==============================] - 13s 88ms/step - loss: 0.7345 - acc: 0.6000 - val_loss: 1.0168 - val_acc: 0.4753\n",
            "Epoch 221/250\n",
            "153/153 [==============================] - 13s 88ms/step - loss: 0.7248 - acc: 0.6022 - val_loss: 1.0034 - val_acc: 0.4833\n",
            "Epoch 222/250\n",
            "153/153 [==============================] - 13s 88ms/step - loss: 0.7268 - acc: 0.6088 - val_loss: 1.0157 - val_acc: 0.4741\n",
            "Epoch 223/250\n",
            "153/153 [==============================] - 13s 88ms/step - loss: 0.7284 - acc: 0.6061 - val_loss: 1.0082 - val_acc: 0.4800\n",
            "Epoch 224/250\n",
            "153/153 [==============================] - 13s 88ms/step - loss: 0.7300 - acc: 0.6054 - val_loss: 0.9773 - val_acc: 0.5054\n",
            "Epoch 225/250\n",
            "153/153 [==============================] - 13s 88ms/step - loss: 0.7278 - acc: 0.6037 - val_loss: 1.0019 - val_acc: 0.4841\n",
            "Epoch 226/250\n",
            "153/153 [==============================] - 13s 88ms/step - loss: 0.7230 - acc: 0.6104 - val_loss: 0.9807 - val_acc: 0.5011\n",
            "Epoch 227/250\n",
            "153/153 [==============================] - 13s 88ms/step - loss: 0.7280 - acc: 0.6145 - val_loss: 1.0145 - val_acc: 0.4792\n",
            "Epoch 228/250\n",
            "153/153 [==============================] - 13s 88ms/step - loss: 0.7215 - acc: 0.6116 - val_loss: 1.0252 - val_acc: 0.4679\n",
            "Epoch 229/250\n",
            "153/153 [==============================] - 13s 88ms/step - loss: 0.7254 - acc: 0.6079 - val_loss: 0.9811 - val_acc: 0.5024\n",
            "Epoch 230/250\n",
            "153/153 [==============================] - 13s 88ms/step - loss: 0.7249 - acc: 0.6109 - val_loss: 0.9880 - val_acc: 0.4954\n",
            "Epoch 231/250\n",
            "153/153 [==============================] - 13s 88ms/step - loss: 0.7259 - acc: 0.6082 - val_loss: 0.9767 - val_acc: 0.5077\n",
            "Epoch 232/250\n",
            "153/153 [==============================] - 13s 88ms/step - loss: 0.7246 - acc: 0.6086 - val_loss: 1.0337 - val_acc: 0.4708\n",
            "Epoch 233/250\n",
            "153/153 [==============================] - 13s 88ms/step - loss: 0.7248 - acc: 0.6079 - val_loss: 0.9775 - val_acc: 0.5044\n",
            "Epoch 234/250\n",
            "153/153 [==============================] - 13s 88ms/step - loss: 0.7182 - acc: 0.6133 - val_loss: 0.9854 - val_acc: 0.5067\n",
            "Epoch 235/250\n",
            "153/153 [==============================] - 13s 88ms/step - loss: 0.7175 - acc: 0.6091 - val_loss: 0.9528 - val_acc: 0.5339\n",
            "Epoch 236/250\n",
            "153/153 [==============================] - 13s 88ms/step - loss: 0.7137 - acc: 0.6166 - val_loss: 0.9790 - val_acc: 0.5069\n",
            "Epoch 237/250\n",
            "153/153 [==============================] - 13s 88ms/step - loss: 0.7240 - acc: 0.6114 - val_loss: 1.0097 - val_acc: 0.4808\n",
            "Epoch 238/250\n",
            "153/153 [==============================] - 13s 88ms/step - loss: 0.7154 - acc: 0.6142 - val_loss: 1.0126 - val_acc: 0.4794\n",
            "Epoch 239/250\n",
            "153/153 [==============================] - 13s 88ms/step - loss: 0.7143 - acc: 0.6120 - val_loss: 1.0350 - val_acc: 0.4691\n",
            "Epoch 240/250\n",
            "153/153 [==============================] - 13s 88ms/step - loss: 0.7237 - acc: 0.6124 - val_loss: 1.0091 - val_acc: 0.4816\n",
            "Epoch 241/250\n",
            "153/153 [==============================] - 13s 88ms/step - loss: 0.7148 - acc: 0.6166 - val_loss: 1.0206 - val_acc: 0.4779\n",
            "Epoch 242/250\n",
            "153/153 [==============================] - 14s 88ms/step - loss: 0.7157 - acc: 0.6153 - val_loss: 1.0299 - val_acc: 0.4699\n",
            "Epoch 243/250\n",
            "153/153 [==============================] - 13s 88ms/step - loss: 0.7229 - acc: 0.6094 - val_loss: 1.0311 - val_acc: 0.4693\n",
            "Epoch 244/250\n",
            "153/153 [==============================] - 13s 88ms/step - loss: 0.7133 - acc: 0.6173 - val_loss: 0.9669 - val_acc: 0.5169\n",
            "Epoch 245/250\n",
            "153/153 [==============================] - 14s 88ms/step - loss: 0.7181 - acc: 0.6133 - val_loss: 0.9951 - val_acc: 0.5003\n",
            "Epoch 246/250\n",
            "153/153 [==============================] - 13s 88ms/step - loss: 0.7111 - acc: 0.6139 - val_loss: 0.9785 - val_acc: 0.5089\n",
            "Epoch 247/250\n",
            "153/153 [==============================] - 13s 88ms/step - loss: 0.7170 - acc: 0.6137 - val_loss: 0.9951 - val_acc: 0.4972\n",
            "Epoch 248/250\n",
            "153/153 [==============================] - 13s 88ms/step - loss: 0.7136 - acc: 0.6117 - val_loss: 0.9786 - val_acc: 0.5106\n",
            "Epoch 249/250\n",
            "153/153 [==============================] - 13s 88ms/step - loss: 0.7048 - acc: 0.6212 - val_loss: 0.9922 - val_acc: 0.4999\n",
            "Epoch 250/250\n",
            "153/153 [==============================] - 13s 88ms/step - loss: 0.6986 - acc: 0.6205 - val_loss: 0.9810 - val_acc: 0.5097\n"
          ]
        }
      ]
    },
    {
      "cell_type": "code",
      "metadata": {
        "colab": {
          "base_uri": "https://localhost:8080/"
        },
        "id": "XhVUGMb7a5fD",
        "outputId": "7b1d1414-7118-494f-a4ae-3582c505a5c4"
      },
      "source": [
        "dtlmc.save('./drive/MyDrive/COUGHVID/Models/dtlmc', save_format=\"tf\")"
      ],
      "execution_count": null,
      "outputs": [
        {
          "output_type": "stream",
          "name": "stdout",
          "text": [
            "INFO:tensorflow:Assets written to: ./drive/MyDrive/COUGHVID/Models/dtlmc/assets\n"
          ]
        }
      ]
    },
    {
      "cell_type": "code",
      "metadata": {
        "id": "0Yulq0QbxNaK"
      },
      "source": [
        "predictions = []\n",
        "for x in X_test:\n",
        "  predArray = [0,0,0]\n",
        "  x = np.expand_dims(x, axis=0)\n",
        "  prediction = dtlmc.predict(x)\n",
        "  predArray[np.argmax(prediction[0])] = 1\n",
        "  predictions.append(predArray)"
      ],
      "execution_count": null,
      "outputs": []
    },
    {
      "cell_type": "code",
      "metadata": {
        "id": "wcKIroHuxSzP",
        "colab": {
          "base_uri": "https://localhost:8080/"
        },
        "outputId": "dd975f8d-b97f-4441-e14d-3046b5855845"
      },
      "source": [
        "m = tf.keras.metrics.Accuracy()\n",
        "m.update_state(y_test, predictions)\n",
        "print(\"Accuracy: \" + str(m.result().numpy()))"
      ],
      "execution_count": null,
      "outputs": [
        {
          "output_type": "stream",
          "name": "stdout",
          "text": [
            "Accuracy: 0.6731624\n"
          ]
        }
      ]
    },
    {
      "cell_type": "code",
      "metadata": {
        "id": "J1HZRrkuadCz"
      },
      "source": [
        "matrix = confusion_matrix(np.argmax(y_test, axis=1), np.argmax(predictions, axis=1))"
      ],
      "execution_count": null,
      "outputs": []
    },
    {
      "cell_type": "code",
      "metadata": {
        "id": "7D6UjvAZz0fB"
      },
      "source": [
        "matrix = matrix/matrix.sum(axis=1)[:, np.newaxis]"
      ],
      "execution_count": null,
      "outputs": []
    },
    {
      "cell_type": "code",
      "metadata": {
        "id": "CeDtcawQadr4",
        "colab": {
          "base_uri": "https://localhost:8080/"
        },
        "outputId": "c5c88803-9256-4d81-d369-e7c581bceef2"
      },
      "source": [
        "matrix"
      ],
      "execution_count": null,
      "outputs": [
        {
          "output_type": "execute_result",
          "data": {
            "text/plain": [
              "array([[0.56070461, 0.16910569, 0.2701897 ],\n",
              "       [0.51413882, 0.25449871, 0.23136247],\n",
              "       [0.44221106, 0.15954774, 0.39824121]])"
            ]
          },
          "metadata": {},
          "execution_count": 18
        }
      ]
    },
    {
      "cell_type": "code",
      "metadata": {
        "id": "3wz-uy9P6b_R",
        "colab": {
          "base_uri": "https://localhost:8080/",
          "height": 428
        },
        "outputId": "7b53c06c-dda1-4125-f898-2502c74c5fc3"
      },
      "source": [
        "labellist = ['healthy','covid', 'symptomatic']\n",
        "plotConfusionMatrix(labellist, matrix)"
      ],
      "execution_count": null,
      "outputs": [
        {
          "output_type": "display_data",
          "data": {
            "image/png": "[encoded data removed]",
            "text/plain": [
              "<Figure size 720x504 with 2 Axes>"
            ]
          },
          "metadata": {
            "needs_background": "light"
          }
        }
      ]
    },
    {
      "cell_type": "code",
      "metadata": {
        "colab": {
          "base_uri": "https://localhost:8080/",
          "height": 279
        },
        "id": "yQqBvnKptysO",
        "outputId": "ba9e74b6-a6ec-40a8-e46c-0f6617ca442b"
      },
      "source": [
        "plotTrainingLoss(history.history['loss'], history.history['val_loss'])"
      ],
      "execution_count": null,
      "outputs": [
        {
          "output_type": "display_data",
          "data": {
            "image/png": "[encoded data removed]",
            "text/plain": [
              "<Figure size 432x288 with 1 Axes>"
            ]
          },
          "metadata": {
            "needs_background": "light"
          }
        }
      ]
    },
    {
      "cell_type": "code",
      "metadata": {
        "colab": {
          "base_uri": "https://localhost:8080/",
          "height": 279
        },
        "id": "rFA3NfcKt4Zm",
        "outputId": "c3331143-7c6e-4cf9-eb88-5da13d7bb1ec"
      },
      "source": [
        "plotTrainingAccuracy(history.history['acc'], history.history['val_acc'])"
      ],
      "execution_count": null,
      "outputs": [
        {
          "output_type": "display_data",
          "data": {
            "image/png": "[encoded data removed]",
            "text/plain": [
              "<Figure size 432x288 with 1 Axes>"
            ]
          },
          "metadata": {
            "needs_background": "light"
          }
        }
      ]
    },
    {
      "cell_type": "markdown",
      "metadata": {
        "id": "EiicnAL8ZxWx"
      },
      "source": [
        "##Evaluation of the binary class classifier"
      ]
    },
    {
      "cell_type": "code",
      "metadata": {
        "colab": {
          "base_uri": "https://localhost:8080/"
        },
        "id": "N9gHG4UTZ0pN",
        "outputId": "4ff7eb4b-d013-4fe3-b42e-8badc5963117"
      },
      "source": [
        "labels_new_bc = oneHotEncodingForBC(labels)\n",
        "data_new_bc = np.expand_dims(dataSegmented, axis=3)\n",
        "print(data_new_bc.shape)\n",
        "print(labels_new_bc.shape)"
      ],
      "execution_count": null,
      "outputs": [
        {
          "output_type": "stream",
          "name": "stdout",
          "text": [
            "(24374, 240, 320, 1)\n",
            "(24374, 2)\n"
          ]
        }
      ]
    },
    {
      "cell_type": "code",
      "metadata": {
        "id": "zwjKm2NhaaB5"
      },
      "source": [
        "X_train, X_test, y_train, y_test = train_test_split(data_new_bc, labels_new_bc, test_size=0.2, random_state=0)"
      ],
      "execution_count": null,
      "outputs": []
    },
    {
      "cell_type": "code",
      "metadata": {
        "colab": {
          "base_uri": "https://localhost:8080/"
        },
        "id": "ArJ_g-UfBjKE",
        "outputId": "5bd55f5a-b6e2-4b74-a128-754c7be0b678"
      },
      "source": [
        "## calculate class weights\n",
        "y_integers = np.argmax(y_train, axis=1)\n",
        "class_weights_bc = compute_class_weight('balanced', np.unique(y_integers), y_integers)\n",
        "class_weights_dict_bc = dict(enumerate(class_weights_bc))\n",
        "\n",
        "class_weights_dict_bc"
      ],
      "execution_count": null,
      "outputs": [
        {
          "output_type": "execute_result",
          "data": {
            "text/plain": [
              "{0: 0.5445431188561215, 1: 6.112539184952978}"
            ]
          },
          "metadata": {},
          "execution_count": 14
        }
      ]
    },
    {
      "cell_type": "code",
      "metadata": {
        "id": "c8GBJbGwfF5g"
      },
      "source": [
        "lr_schedule = tf.keras.optimizers.schedules.ExponentialDecay(\n",
        "    initial_learning_rate=0.000001,\n",
        "    decay_steps=10000,\n",
        "    decay_rate=0.9)\n",
        "\n",
        "cb = tf.keras.callbacks.EarlyStopping(monitor='val_loss', min_delta=0.01, patience=25, verbose=1,\n",
        "    mode='auto', baseline=None, restore_best_weights=True)"
      ],
      "execution_count": null,
      "outputs": []
    },
    {
      "cell_type": "code",
      "metadata": {
        "id": "stcWFfhmanE1"
      },
      "source": [
        "dtlbc = DTLBC()\n",
        "opt = tf.keras.optimizers.Adam(learning_rate=lr_schedule)\n",
        "dtlbc.compile(optimizer=opt,loss='categorical_crossentropy',metrics=['acc'])"
      ],
      "execution_count": null,
      "outputs": []
    },
    {
      "cell_type": "code",
      "metadata": {
        "colab": {
          "base_uri": "https://localhost:8080/"
        },
        "id": "kPSClLjuaq9C",
        "outputId": "5cc48957-16fc-4024-b88d-d5e35a6fcee8"
      },
      "source": [
        "history = dtlbc.fit(X_train,y_train, epochs=250, validation_data=(X_test,y_test), class_weight=class_weights_dict_bc, callbacks=[cb])"
      ],
      "execution_count": null,
      "outputs": [
        {
          "output_type": "stream",
          "name": "stdout",
          "text": [
            "Epoch 1/250\n",
            "610/610 [==============================] - 20s 32ms/step - loss: 1.5832 - acc: 0.5196 - val_loss: 1.1114 - val_acc: 0.1366\n",
            "Epoch 2/250\n",
            "610/610 [==============================] - 16s 26ms/step - loss: 1.3995 - acc: 0.5038 - val_loss: 0.9787 - val_acc: 0.1863\n",
            "Epoch 3/250\n",
            "610/610 [==============================] - 16s 26ms/step - loss: 1.2434 - acc: 0.5008 - val_loss: 0.9288 - val_acc: 0.1957\n",
            "Epoch 4/250\n",
            "610/610 [==============================] - 16s 26ms/step - loss: 1.1466 - acc: 0.5115 - val_loss: 0.9050 - val_acc: 0.1947\n",
            "Epoch 5/250\n",
            "610/610 [==============================] - 16s 26ms/step - loss: 1.0780 - acc: 0.5069 - val_loss: 0.8808 - val_acc: 0.2055\n",
            "Epoch 6/250\n",
            "610/610 [==============================] - 16s 26ms/step - loss: 1.0102 - acc: 0.5129 - val_loss: 0.8006 - val_acc: 0.3102\n",
            "Epoch 7/250\n",
            "610/610 [==============================] - 16s 26ms/step - loss: 0.9790 - acc: 0.5038 - val_loss: 0.7674 - val_acc: 0.3571\n",
            "Epoch 8/250\n",
            "610/610 [==============================] - 16s 26ms/step - loss: 0.9538 - acc: 0.4958 - val_loss: 0.7845 - val_acc: 0.3093\n",
            "Epoch 9/250\n",
            "610/610 [==============================] - 16s 26ms/step - loss: 0.8992 - acc: 0.5127 - val_loss: 0.7501 - val_acc: 0.3854\n",
            "Epoch 10/250\n",
            "610/610 [==============================] - 16s 26ms/step - loss: 0.8684 - acc: 0.5058 - val_loss: 0.7087 - val_acc: 0.4917\n",
            "Epoch 11/250\n",
            "610/610 [==============================] - 16s 26ms/step - loss: 0.8378 - acc: 0.5175 - val_loss: 0.7683 - val_acc: 0.3286\n",
            "Epoch 12/250\n",
            "610/610 [==============================] - 16s 26ms/step - loss: 0.8099 - acc: 0.5168 - val_loss: 0.6569 - val_acc: 0.6392\n",
            "Epoch 13/250\n",
            "610/610 [==============================] - 17s 27ms/step - loss: 0.8227 - acc: 0.5043 - val_loss: 0.6984 - val_acc: 0.5165\n",
            "Epoch 14/250\n",
            "610/610 [==============================] - 17s 27ms/step - loss: 0.7994 - acc: 0.5146 - val_loss: 0.7869 - val_acc: 0.2743\n",
            "Epoch 15/250\n",
            "610/610 [==============================] - 17s 27ms/step - loss: 0.7849 - acc: 0.5087 - val_loss: 0.7034 - val_acc: 0.4964\n",
            "Epoch 16/250\n",
            "610/610 [==============================] - 17s 27ms/step - loss: 0.7749 - acc: 0.5196 - val_loss: 0.7063 - val_acc: 0.4913\n",
            "Epoch 17/250\n",
            "610/610 [==============================] - 17s 27ms/step - loss: 0.7627 - acc: 0.5168 - val_loss: 0.7022 - val_acc: 0.5032\n",
            "Epoch 18/250\n",
            "610/610 [==============================] - 17s 27ms/step - loss: 0.7642 - acc: 0.5061 - val_loss: 0.6733 - val_acc: 0.6016\n",
            "Epoch 19/250\n",
            "610/610 [==============================] - 17s 27ms/step - loss: 0.7381 - acc: 0.5366 - val_loss: 0.7042 - val_acc: 0.5009\n",
            "Epoch 20/250\n",
            "610/610 [==============================] - 17s 27ms/step - loss: 0.7363 - acc: 0.5280 - val_loss: 0.7315 - val_acc: 0.4123\n",
            "Epoch 21/250\n",
            "610/610 [==============================] - 17s 27ms/step - loss: 0.7254 - acc: 0.5286 - val_loss: 0.6431 - val_acc: 0.6839\n",
            "Epoch 22/250\n",
            "610/610 [==============================] - 16s 26ms/step - loss: 0.7323 - acc: 0.5336 - val_loss: 0.7007 - val_acc: 0.5155\n",
            "Epoch 23/250\n",
            "610/610 [==============================] - 16s 26ms/step - loss: 0.7244 - acc: 0.5265 - val_loss: 0.7042 - val_acc: 0.4976\n",
            "Epoch 24/250\n",
            "610/610 [==============================] - 16s 26ms/step - loss: 0.7087 - acc: 0.5394 - val_loss: 0.6776 - val_acc: 0.5934\n",
            "Epoch 25/250\n",
            "610/610 [==============================] - 16s 26ms/step - loss: 0.7170 - acc: 0.5431 - val_loss: 0.7382 - val_acc: 0.3967\n",
            "Epoch 26/250\n",
            "610/610 [==============================] - 16s 26ms/step - loss: 0.7208 - acc: 0.5215 - val_loss: 0.6868 - val_acc: 0.5621\n",
            "Epoch 27/250\n",
            "610/610 [==============================] - 16s 26ms/step - loss: 0.7028 - acc: 0.5402 - val_loss: 0.6693 - val_acc: 0.6158\n",
            "Epoch 28/250\n",
            "610/610 [==============================] - 16s 26ms/step - loss: 0.7021 - acc: 0.5521 - val_loss: 0.7113 - val_acc: 0.4724\n",
            "Epoch 29/250\n",
            "610/610 [==============================] - 16s 26ms/step - loss: 0.7043 - acc: 0.5399 - val_loss: 0.7067 - val_acc: 0.4874\n",
            "Epoch 30/250\n",
            "610/610 [==============================] - 16s 26ms/step - loss: 0.6972 - acc: 0.5556 - val_loss: 0.6843 - val_acc: 0.5672\n",
            "Epoch 31/250\n",
            "610/610 [==============================] - 16s 26ms/step - loss: 0.7004 - acc: 0.5378 - val_loss: 0.6571 - val_acc: 0.6523\n",
            "Epoch 32/250\n",
            "610/610 [==============================] - 16s 26ms/step - loss: 0.6927 - acc: 0.5565 - val_loss: 0.6699 - val_acc: 0.6103\n",
            "Epoch 33/250\n",
            "610/610 [==============================] - 16s 26ms/step - loss: 0.6943 - acc: 0.5598 - val_loss: 0.6962 - val_acc: 0.5198\n",
            "Epoch 34/250\n",
            "610/610 [==============================] - 16s 26ms/step - loss: 0.6934 - acc: 0.5584 - val_loss: 0.7158 - val_acc: 0.4628\n",
            "Epoch 35/250\n",
            "610/610 [==============================] - 16s 26ms/step - loss: 0.6892 - acc: 0.5599 - val_loss: 0.6975 - val_acc: 0.5182\n",
            "Epoch 36/250\n",
            "610/610 [==============================] - 16s 26ms/step - loss: 0.6874 - acc: 0.5668 - val_loss: 0.7154 - val_acc: 0.4652\n",
            "Epoch 37/250\n",
            "610/610 [==============================] - 16s 26ms/step - loss: 0.6885 - acc: 0.5617 - val_loss: 0.7277 - val_acc: 0.4271\n",
            "Epoch 38/250\n",
            "610/610 [==============================] - 16s 26ms/step - loss: 0.6844 - acc: 0.5649 - val_loss: 0.6857 - val_acc: 0.5495\n",
            "Epoch 39/250\n",
            "610/610 [==============================] - 16s 26ms/step - loss: 0.6888 - acc: 0.5704 - val_loss: 0.6907 - val_acc: 0.5358\n",
            "Epoch 40/250\n",
            "610/610 [==============================] - 16s 26ms/step - loss: 0.6868 - acc: 0.5657 - val_loss: 0.7121 - val_acc: 0.4732\n",
            "Epoch 41/250\n",
            "610/610 [==============================] - 16s 26ms/step - loss: 0.6830 - acc: 0.5685 - val_loss: 0.6950 - val_acc: 0.5229\n",
            "Epoch 42/250\n",
            "610/610 [==============================] - 16s 26ms/step - loss: 0.6809 - acc: 0.5761 - val_loss: 0.6941 - val_acc: 0.5235\n",
            "Epoch 43/250\n",
            "610/610 [==============================] - 16s 26ms/step - loss: 0.6812 - acc: 0.5684 - val_loss: 0.7044 - val_acc: 0.4925\n",
            "Epoch 44/250\n",
            "610/610 [==============================] - 16s 26ms/step - loss: 0.6804 - acc: 0.5669 - val_loss: 0.6887 - val_acc: 0.5362\n",
            "Epoch 45/250\n",
            "610/610 [==============================] - 16s 26ms/step - loss: 0.6819 - acc: 0.5719 - val_loss: 0.7034 - val_acc: 0.4952\n",
            "Epoch 46/250\n",
            "610/610 [==============================] - 16s 26ms/step - loss: 0.6804 - acc: 0.5670 - val_loss: 0.6772 - val_acc: 0.5694\n",
            "Restoring model weights from the end of the best epoch.\n",
            "Epoch 00046: early stopping\n"
          ]
        }
      ]
    },
    {
      "cell_type": "code",
      "metadata": {
        "colab": {
          "base_uri": "https://localhost:8080/"
        },
        "id": "glbNpB1-eaAL",
        "outputId": "7f279efd-d6e6-4216-cbb5-de04045830bd"
      },
      "source": [
        "dtlbc.save('./drive/MyDrive/COUGHVID/Models/dtlbc', save_format=\"tf\")"
      ],
      "execution_count": null,
      "outputs": [
        {
          "output_type": "stream",
          "name": "stdout",
          "text": [
            "INFO:tensorflow:Assets written to: ./drive/MyDrive/COUGHVID/Models/dtlbc/assets\n"
          ]
        }
      ]
    },
    {
      "cell_type": "code",
      "metadata": {
        "id": "0Xkwvre9qFn9"
      },
      "source": [
        "m = tf.keras.metrics.Accuracy()"
      ],
      "execution_count": null,
      "outputs": []
    },
    {
      "cell_type": "code",
      "metadata": {
        "id": "jEswg5HFpokM"
      },
      "source": [
        "accuracy, predictions = evaluateAccuracy(X_test, y_test, m, dtlbc)"
      ],
      "execution_count": null,
      "outputs": []
    },
    {
      "cell_type": "code",
      "metadata": {
        "colab": {
          "base_uri": "https://localhost:8080/"
        },
        "id": "ecavkV0fb70m",
        "outputId": "d90035a6-9827-4f71-93b7-f060b52e95bb"
      },
      "source": [
        "print(accuracy)"
      ],
      "execution_count": null,
      "outputs": [
        {
          "output_type": "stream",
          "name": "stdout",
          "text": [
            "0.68389744\n"
          ]
        }
      ]
    },
    {
      "cell_type": "code",
      "metadata": {
        "colab": {
          "base_uri": "https://localhost:8080/",
          "height": 428
        },
        "id": "zdTC4Kxvsu6W",
        "outputId": "bdcf4315-fbc1-46b1-c158-e3317b74d358"
      },
      "source": [
        "matrix = confusion_matrix(np.argmax(y_test, axis=1), np.argmax(predictions, axis=1), normalize='true')\n",
        "labellist = ['No-COVID', 'COVID']\n",
        "plotConfusionMatrix(labellist, matrix)"
      ],
      "execution_count": null,
      "outputs": [
        {
          "output_type": "display_data",
          "data": {
            "image/png": "[encoded data removed]",
            "text/plain": [
              "<Figure size 720x504 with 2 Axes>"
            ]
          },
          "metadata": {
            "needs_background": "light"
          }
        }
      ]
    },
    {
      "cell_type": "code",
      "metadata": {
        "colab": {
          "base_uri": "https://localhost:8080/",
          "height": 279
        },
        "id": "KS4WIWAQt7hh",
        "outputId": "459e6d00-a200-466d-ab3b-8c069bdea9f9"
      },
      "source": [
        "plotTrainingLoss(history.history['loss'], history.history['val_loss'])"
      ],
      "execution_count": null,
      "outputs": [
        {
          "output_type": "display_data",
          "data": {
            "image/png": "[encoded data removed]",
            "text/plain": [
              "<Figure size 432x288 with 1 Axes>"
            ]
          },
          "metadata": {
            "needs_background": "light"
          }
        }
      ]
    },
    {
      "cell_type": "code",
      "metadata": {
        "colab": {
          "base_uri": "https://localhost:8080/",
          "height": 279
        },
        "id": "s90jj9-Cr4xc",
        "outputId": "74f7dbdd-4849-4848-bb47-9493ac344248"
      },
      "source": [
        "plotTrainingAccuracy(history.history['acc'], history.history['val_acc'])"
      ],
      "execution_count": null,
      "outputs": [
        {
          "output_type": "display_data",
          "data": {
            "image/png": "[encoded data removed]",
            "text/plain": [
              "<Figure size 432x288 with 1 Axes>"
            ]
          },
          "metadata": {
            "needs_background": "light"
          }
        }
      ]
    },
    {
      "cell_type": "markdown",
      "metadata": {
        "id": "YaFg1Shuub_L"
      },
      "source": [
        "As we can see, the model clearly overfits since the train accuracy increases while the test accuracy stays more or less the same."
      ]
    },
    {
      "cell_type": "markdown",
      "metadata": {
        "id": "FBHElZVGUqmp"
      },
      "source": [
        "##Evaluation of the Support Vector Machine classifier"
      ]
    },
    {
      "cell_type": "code",
      "metadata": {
        "id": "8eWLkkSrU6ba"
      },
      "source": [
        "features_svm = np.load('./drive/MyDrive/COUGHVID/mfccfeatures.npy', allow_pickle=True)\n",
        "labels_svm = np.load('./drive/MyDrive/COUGHVID/mfccfeatureslabels.npy', allow_pickle=True)"
      ],
      "execution_count": 17,
      "outputs": []
    },
    {
      "cell_type": "code",
      "metadata": {
        "colab": {
          "base_uri": "https://localhost:8080/"
        },
        "id": "ukjeHBjZVqeh",
        "outputId": "dde00111-ca80-4e61-c6b3-e7b3039eb8d2"
      },
      "source": [
        "print(features_svm.shape)\n",
        "print(labels_svm.shape)"
      ],
      "execution_count": 18,
      "outputs": [
        {
          "output_type": "stream",
          "name": "stdout",
          "text": [
            "(23490, 256)\n",
            "(23490,)\n"
          ]
        }
      ]
    },
    {
      "cell_type": "markdown",
      "metadata": {
        "id": "FStmAEWbtLlr"
      },
      "source": [
        "Perform class balancing by hand. This is not too huge of a problem because SVMs should perform well an small datasets aswell."
      ]
    },
    {
      "cell_type": "code",
      "metadata": {
        "colab": {
          "base_uri": "https://localhost:8080/"
        },
        "id": "54BMGlcjt3zO",
        "outputId": "513d0019-1b1d-4f5a-84ae-b8e1cc2e1101"
      },
      "source": [
        "covid_indizes = np.where(labels_svm=='COVID-19')\n",
        "print(len(covid_indizes[0]))\n",
        "symptom_indizes = np.where(labels_svm=='symptomatic')\n",
        "print(len(symptom_indizes[0]))\n",
        "healthy_indizes = np.where(labels_svm=='healthy')\n",
        "print(len(healthy_indizes[0]))"
      ],
      "execution_count": 19,
      "outputs": [
        {
          "output_type": "stream",
          "name": "stdout",
          "text": [
            "1937\n",
            "3773\n",
            "17780\n"
          ]
        }
      ]
    },
    {
      "cell_type": "code",
      "metadata": {
        "id": "nZEFJSOsuBoB"
      },
      "source": [
        "data_new_svm = features_svm[covid_indizes]\n",
        "data_new_svm = np.append(data_new_svm,features_svm[symptom_indizes[0][:len(covid_indizes[0])]], axis=0)\n",
        "data_new_svm = np.append(data_new_svm,features_svm[healthy_indizes[0][:len(covid_indizes[0])]], axis=0)\n",
        "\n",
        "\n",
        "labels_new_svm = labels_svm[covid_indizes]\n",
        "labels_new_svm = np.append(labels_new_svm,labels_svm[symptom_indizes[0][:len(covid_indizes[0])]])\n",
        "labels_new_svm = np.append(labels_new_svm,labels_svm[healthy_indizes[0][:len(covid_indizes[0])]])"
      ],
      "execution_count": 20,
      "outputs": []
    },
    {
      "cell_type": "code",
      "metadata": {
        "id": "x4QdCBogV-w7"
      },
      "source": [
        "X_train_svm, X_test_svm, y_train_svm, y_test_svm = train_test_split(data_new_svm, labels_new_svm, test_size=0.2, random_state=0)"
      ],
      "execution_count": 52,
      "outputs": []
    },
    {
      "cell_type": "code",
      "metadata": {
        "id": "ipBMQukmUpW_"
      },
      "source": [
        "svm = SVM()\n",
        "svm.fit(X_train_svm, y_train_svm)"
      ],
      "execution_count": 53,
      "outputs": []
    },
    {
      "cell_type": "code",
      "metadata": {
        "id": "96_8hiW7ixUI"
      },
      "source": [
        "pickle.dump(svm, open('./drive/MyDrive/COUGHVID/Models/svm', 'wb'))"
      ],
      "execution_count": 54,
      "outputs": []
    },
    {
      "cell_type": "code",
      "metadata": {
        "id": "B14LUoKKUy0p"
      },
      "source": [
        "predictions = []\n",
        "for x in X_test_svm:\n",
        "  X = np.expand_dims(x, axis=0)\n",
        "  predictions.append(svm.predict(X)[0])"
      ],
      "execution_count": 55,
      "outputs": []
    },
    {
      "cell_type": "code",
      "metadata": {
        "colab": {
          "base_uri": "https://localhost:8080/"
        },
        "id": "ZjXj7915th_j",
        "outputId": "1ab027dd-a9f5-4cf3-cae1-421c4bb679b9"
      },
      "source": [
        "print(svm.evaluateScore(X_test_svm, y_test_svm))"
      ],
      "execution_count": 56,
      "outputs": [
        {
          "output_type": "stream",
          "name": "stdout",
          "text": [
            "0.4316423043852107\n"
          ]
        }
      ]
    },
    {
      "cell_type": "code",
      "metadata": {
        "id": "7VK3sXUpbW6e"
      },
      "source": [
        "predictions = oneHotEncoding(predictions)"
      ],
      "execution_count": 57,
      "outputs": []
    },
    {
      "cell_type": "code",
      "metadata": {
        "id": "WYv4-c5pcx2u"
      },
      "source": [
        "y_test_oneHot = oneHotEncoding(y_test_svm)"
      ],
      "execution_count": 58,
      "outputs": []
    },
    {
      "cell_type": "code",
      "metadata": {
        "colab": {
          "base_uri": "https://localhost:8080/",
          "height": 428
        },
        "id": "ngiQQ0NKZ6A3",
        "outputId": "4ca33836-c9ad-4b7c-bbcf-5f7eb1f9c7fa"
      },
      "source": [
        "matrix = confusion_matrix(np.argmax(y_test_oneHot, axis=1), np.argmax(predictions, axis=1), normalize=\"true\")\n",
        "labellist = ['healthy','covid', 'symptomatic']\n",
        "plotConfusionMatrix(labellist, matrix)"
      ],
      "execution_count": 59,
      "outputs": [
        {
          "output_type": "display_data",
          "data": {
            "image/png": "[encoded data removed]",
            "text/plain": [
              "<Figure size 720x504 with 2 Axes>"
            ]
          },
          "metadata": {
            "needs_background": "light"
          }
        }
      ]
    },
    {
      "cell_type": "markdown",
      "metadata": {
        "id": "z1t0Togh3tSU"
      },
      "source": [
        "As we can see, the SVM classifier performs slightly better than pure guessing."
      ]
    },
    {
      "cell_type": "markdown",
      "metadata": {
        "id": "mCPrMGTXeHNY"
      },
      "source": [
        "## Evaluation of the entire mediator"
      ]
    },
    {
      "cell_type": "markdown",
      "metadata": {
        "id": "j66wU2EcfwrX"
      },
      "source": [
        "Load trained classifiers from drive:"
      ]
    },
    {
      "cell_type": "code",
      "metadata": {
        "id": "ONV71NWXHbx-"
      },
      "source": [
        "dtlmc = new_model = tf.keras.models.load_model('./drive/MyDrive/COUGHVID/Models/dtlmc')\n",
        "dtlbc = tf.keras.models.load_model('./drive/MyDrive/COUGHVID/Models/dtlbc')\n",
        "svm = pickle.load(open('./drive/MyDrive/COUGHVID/Models/svm','rb'))"
      ],
      "execution_count": 60,
      "outputs": []
    },
    {
      "cell_type": "code",
      "metadata": {
        "id": "OHwz2LPbeJRs"
      },
      "source": [
        "mediator = Mediator(dtlmc, dtlbc, svm)"
      ],
      "execution_count": 61,
      "outputs": []
    },
    {
      "cell_type": "code",
      "metadata": {
        "id": "JYIXC4oVVSXV"
      },
      "source": [
        "X_spectrograms = np.load('./drive/MyDrive/COUGHVID/EvaluationSet/evaluationMelspecs.npy', allow_pickle=True)\n",
        "X_features = np.load('./drive/MyDrive/COUGHVID/EvaluationSet/evaluationFeatures.npy', allow_pickle=True)\n",
        "labels = np.load('./drive/MyDrive/COUGHVID/EvaluationSet/evaluationLabels.npy', allow_pickle=True)"
      ],
      "execution_count": 62,
      "outputs": []
    },
    {
      "cell_type": "code",
      "metadata": {
        "id": "N5F05tLbIU3z",
        "colab": {
          "base_uri": "https://localhost:8080/"
        },
        "outputId": "28a31735-20fe-42d9-c746-e9575da5400f"
      },
      "source": [
        "print(X_spectrograms.shape)\n",
        "print(X_features.shape)"
      ],
      "execution_count": 63,
      "outputs": [
        {
          "output_type": "stream",
          "name": "stdout",
          "text": [
            "(600, 240, 320, 1)\n",
            "(600, 256)\n"
          ]
        }
      ]
    },
    {
      "cell_type": "code",
      "metadata": {
        "id": "n4Sy6xS0WnIu"
      },
      "source": [
        "results = [] \n",
        "for index in range(0,600):\n",
        "  spectrogram = np.expand_dims(X_spectrograms[index], axis=0)\n",
        "  features=np.expand_dims(X_features[index], axis=0)\n",
        "  result = mediator.predict(spectrogram, features)\n",
        "  results.append(result)\n",
        "\n"
      ],
      "execution_count": 64,
      "outputs": []
    },
    {
      "cell_type": "code",
      "metadata": {
        "colab": {
          "base_uri": "https://localhost:8080/"
        },
        "id": "0AUKOFb-Wq54",
        "outputId": "0e57f405-e9d7-403b-c43e-3b30e7065af0"
      },
      "source": [
        "Counter(results)"
      ],
      "execution_count": 65,
      "outputs": [
        {
          "output_type": "execute_result",
          "data": {
            "text/plain": [
              "Counter({0: 223, 2: 377})"
            ]
          },
          "metadata": {},
          "execution_count": 65
        }
      ]
    },
    {
      "cell_type": "code",
      "metadata": {
        "id": "eE6ZOI1bmMRk",
        "colab": {
          "base_uri": "https://localhost:8080/"
        },
        "outputId": "f29a4f32-7001-42ef-ec34-e12b5a57fd87"
      },
      "source": [
        "Counter(labels)"
      ],
      "execution_count": 66,
      "outputs": [
        {
          "output_type": "execute_result",
          "data": {
            "text/plain": [
              "Counter({'COVID-19': 52, 'healthy': 455, 'symptomatic': 93})"
            ]
          },
          "metadata": {},
          "execution_count": 66
        }
      ]
    },
    {
      "cell_type": "markdown",
      "metadata": {
        "id": "x3QCriWnY1dB"
      },
      "source": [
        "We can see that the mediator class never predicts a COVID infection because inter classifier agreement is too never given. This is not surprising considering the low precission for COVID infections the classifiers score."
      ]
    }
  ]
}