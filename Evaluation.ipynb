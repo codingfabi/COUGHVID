{
  "nbformat": 4,
  "nbformat_minor": 0,
  "metadata": {
    "accelerator": "GPU",
    "colab": {
      "name": "Evaluation.ipynb",
      "provenance": [],
      "collapsed_sections": [
        "YlfnvrUiqK94",
        "8GQiU3-oZ82Y",
        "XY4ZsqBS6O-0",
        "FBHElZVGUqmp"
      ],
      "machine_shape": "hm",
      "authorship_tag": "ABX9TyOVht9F6dE0On1/rRSIE4YQ"
    },
    "kernelspec": {
      "display_name": "Python 3",
      "name": "python3"
    },
    "language_info": {
      "name": "python"
    }
  },
  "cells": [
    {
      "cell_type": "code",
      "metadata": {
        "colab": {
          "base_uri": "https://localhost:8080/"
        },
        "id": "zNgw2aeIinHz",
        "outputId": "a9eb9f95-a1be-4a60-b700-1d845d0f856f"
      },
      "source": [
        "from google.colab import drive\n",
        "drive.mount('/content/drive', force_remount = True)"
      ],
      "execution_count": 1,
      "outputs": [
        {
          "output_type": "stream",
          "name": "stdout",
          "text": [
            "Mounted at /content/drive\n"
          ]
        }
      ]
    },
    {
      "cell_type": "code",
      "metadata": {
        "id": "XmvhsNgxioBQ"
      },
      "source": [
        "from scipy.io import wavfile\n",
        "from scipy import signal\n",
        "from scipy.io import wavfile\n",
        "from scipy.signal import butter,filtfilt\n",
        "from scipy.signal import cwt\n",
        "from scipy.signal import hilbert\n",
        "from scipy.signal import resample\n",
        "from scipy.signal import decimate\n",
        "from scipy.signal import spectrogram\n",
        "from scipy.signal.windows import get_window\n",
        "from scipy.stats import kurtosis\n",
        "from scipy.integrate import simps\n",
        "\n",
        "import numpy as np\n",
        "\n",
        "import librosa\n",
        "import librosa.display\n",
        "import matplotlib.pyplot as plt\n",
        "import json\n",
        "import os\n",
        "import skimage.io\n",
        "import cv2\n",
        "import tensorflow as tf\n",
        "import csv\n",
        "import sklearn\n",
        "from sklearn import svm\n",
        "from sklearn.decomposition import PCA\n",
        "from sklearn.manifold import TSNE\n",
        "from sklearn.metrics import confusion_matrix, plot_confusion_matrix\n",
        "from sklearn.model_selection import KFold\n",
        "import pandas as pd\n",
        "import seaborn as sns\n",
        "from sklearn.model_selection import train_test_split\n",
        "import IPython.display as ipd\n",
        "from shutil import copyfile, copy\n",
        "from sklearn.utils.class_weight import compute_class_weight\n",
        "from keras import backend as K\n",
        "import keras\n",
        "\n",
        "import seaborn as sn\n",
        "\n",
        "from collections import Counter\n",
        "\n",
        "import pickle\n",
        "\n",
        "from google.colab.patches import cv2_imshow\n",
        "\n",
        "import warnings\n",
        "warnings.filterwarnings(\"ignore\")"
      ],
      "execution_count": 2,
      "outputs": []
    },
    {
      "cell_type": "markdown",
      "metadata": {
        "id": "jzIuQEakbFY3"
      },
      "source": [
        "#Model Implementation"
      ]
    },
    {
      "cell_type": "markdown",
      "metadata": {
        "id": "fLEKgdLI-3mg"
      },
      "source": [
        "We preliminary implement the three AI models: A multi class convolutional neural network (DTLMC), a binary class convolutional neural network (DTLBC) and a support vector machine."
      ]
    },
    {
      "cell_type": "code",
      "metadata": {
        "id": "JyraXvQLmNS6"
      },
      "source": [
        "# implementation of diagnosis clasifier architecture\n",
        "\n",
        "class DTLMC(tf.keras.Model):\n",
        "\n",
        "  def __init__(self):\n",
        "    super(DTLMC, self).__init__()\n",
        "    self.MaxPool1 = tf.keras.layers.MaxPool2D(pool_size=(2,2))\n",
        "    self.Conv1 = tf.keras.layers.Conv2D(filters = 16,kernel_size=(5,5), activation=tf.nn.relu)\n",
        "    self.Conv2 = tf.keras.layers.Conv2D(filters = 16,kernel_size=(5,5), activation=tf.nn.relu)\n",
        "    self.MaxPool2 = tf.keras.layers.MaxPool2D(pool_size=(2,2))\n",
        "    self.Dropout1 = tf.keras.layers.Dropout(rate = 0.15)\n",
        "    self.Conv3 = tf.keras.layers.Conv2D(filters = 32,kernel_size=(5,5), activation=tf.nn.relu)\n",
        "    self.Conv4 = tf.keras.layers.Conv2D(filters = 32,kernel_size=(5,5), activation=tf.nn.relu)\n",
        "    self.MaxPool3 = tf.keras.layers.MaxPool2D(pool_size=(2,2))\n",
        "    self.Dropout2 = tf.keras.layers.Dropout(rate = 0.15)\n",
        "    self.flatten = tf.keras.layers.Flatten()\n",
        "    self.Dense1 = tf.keras.layers.Dense(256)\n",
        "    self.Dropout3 = tf.keras.layers.Dropout(rate = 0.30)\n",
        "    self.Dense2 = tf.keras.layers.Dense(3,activation=tf.nn.softmax)\n",
        "\n",
        "  def call(self, inputs):\n",
        "    x = self.MaxPool1(inputs)\n",
        "    x = self.Conv1(x)\n",
        "    x = self.Conv2(x)\n",
        "    x = self.MaxPool2(x)\n",
        "    x = self.Dropout1(x)\n",
        "    x = self.Conv3(x)\n",
        "    x = self.Conv4(x)\n",
        "    x = self.MaxPool3(x)\n",
        "    x = self.Dropout2(x)\n",
        "    x = self.flatten(x)\n",
        "    x = self.Dense1(x)\n",
        "    x = self.Dropout3(x)\n",
        "    x = self.Dense2(x)\n",
        "    return x\n",
        "\n",
        "class DTLBC(tf.keras.Model):\n",
        "\n",
        "  def __init__(self):\n",
        "    super(DTLBC, self).__init__()\n",
        "    self.MaxPool1 = tf.keras.layers.MaxPool2D(pool_size=(2,2))\n",
        "    self.Conv1 = tf.keras.layers.Conv2D(filters = 16,kernel_size=(5,5), activation=tf.nn.relu)\n",
        "    self.Conv2 = tf.keras.layers.Conv2D(filters = 16,kernel_size=(5,5), activation=tf.nn.relu)\n",
        "    self.MaxPool2 = tf.keras.layers.MaxPool2D(pool_size=(2,2))\n",
        "    self.Dropout1 = tf.keras.layers.Dropout(rate = 0.15)\n",
        "    self.Conv3 = tf.keras.layers.Conv2D(filters = 32,kernel_size=(5,5), activation=tf.nn.relu)\n",
        "    self.Conv4 = tf.keras.layers.Conv2D(filters = 32,kernel_size=(5,5), activation=tf.nn.relu)\n",
        "    self.MaxPool3 = tf.keras.layers.MaxPool2D(pool_size=(2,2))\n",
        "    self.Dropout2 = tf.keras.layers.Dropout(rate = 0.15)\n",
        "    self.flatten = tf.keras.layers.Flatten()\n",
        "    self.Dense1 = tf.keras.layers.Dense(256)\n",
        "    self.Dropout3 = tf.keras.layers.Dropout(rate = 0.30)\n",
        "    self.Dense2 = tf.keras.layers.Dense(2,activation=tf.nn.softmax)\n",
        "\n",
        "  def call(self, inputs):\n",
        "    x = self.MaxPool1(inputs)\n",
        "    x = self.Conv1(x)\n",
        "    x = self.Conv2(x)\n",
        "    x = self.MaxPool2(x)\n",
        "    x = self.Dropout1(x)\n",
        "    x = self.Conv3(x)\n",
        "    x = self.Conv4(x)\n",
        "    x = self.MaxPool3(x)\n",
        "    x = self.Dropout2(x)\n",
        "    x = self.flatten(x)\n",
        "    x = self.Dense1(x)\n",
        "    x = self.Dropout3(x)\n",
        "    x = self.Dense2(x)\n",
        "    return x\n",
        "\n",
        "class SVM():\n",
        "\n",
        "  def __init__(self, classWeights = None):\n",
        "    self.clf = sklearn.svm.SVC(kernel='linear', class_weight=classWeights)\n",
        "    # other possible kernels include: \"linear\", \"polynomial\", \"rbf\", \"sigmoid\"\n",
        "\n",
        "  def fit(self, X, y):\n",
        "    self.clf.fit(X,y)\n",
        "\n",
        "  def predict(self, X):\n",
        "    return self.clf.predict(X)\n",
        "\n",
        "  def evaluateScore(self, X_test, y_test):\n",
        "    return self.clf.score(X_test, y_test)\n",
        "\n",
        "  def getSupportVectors(self):\n",
        "    return self.clf.support_vectors_"
      ],
      "execution_count": 3,
      "outputs": []
    },
    {
      "cell_type": "markdown",
      "metadata": {
        "id": "z9ADeZ5B-2Bo"
      },
      "source": [
        "We furthermore implement a mediator class that evaluates and moderates the prediction results from all three classifiers combined."
      ]
    },
    {
      "cell_type": "code",
      "metadata": {
        "id": "diZwYcpT-1Ch"
      },
      "source": [
        "class Mediator():\n",
        "  '''\n",
        "  The mediator class is designed to realize agreement inbetween the different classifiers.\n",
        "  It returns the predicted class if all of the three classifiers agree with their prediction.\n",
        "  If they do not agree, the mediator class returns a inconclusive result.\n",
        "  '''\n",
        "  def __init__(self, dtlmc, dtlbc, svm):\n",
        "    \"\"\"\n",
        "    Constructor. Takes the pretrained classifiers as arguments\n",
        "    dtlmc: the pretrained multiclass classifier\n",
        "    dtlbc: the pretrained binaryclass classifier\n",
        "    svm: the pretrained support vector machine\n",
        "    \"\"\"\n",
        "    self.multiClassClassifier = dtlmc\n",
        "    self.binaryClassClassifier = dtlbc\n",
        "    self.svm = svm\n",
        "  \n",
        "  def encodePrediction(self, prediction):\n",
        "      if prediction == 'healthy':\n",
        "        return 0\n",
        "      elif prediction == 'symptomatic':\n",
        "        return 2\n",
        "      elif prediction == 'COVID-19':\n",
        "        return 1\n",
        "\n",
        "  def predict(self, X_spectrogram, X_features):\n",
        "    \"\"\"\n",
        "    Collects predictions from all three classifiers and medaites them into single output\n",
        "    X: Features of test sample\n",
        "    \"\"\"\n",
        "    res_dtlmc = self.multiClassClassifier.predict(X_spectrogram)\n",
        "    res_dtlbc = self.binaryClassClassifier.predict(X_spectrogram)\n",
        "    res_svm = self.svm.predict(X_features)\n",
        "\n",
        "    argmax_dtlmc = np.argmax(res_dtlmc)\n",
        "    argmax_dtlbc = np.argmax(res_dtlbc)\n",
        "    argmax_svm = self.encodePrediction(res_svm)\n",
        "\n",
        "    res = 2\n",
        "\n",
        "    if argmax_dtlmc == 0 and argmax_dtlbc == 0 and argmax_svm == 0:\n",
        "      res = 0\n",
        "    if argmax_dtlmc == 2 and argmax_svm == 2 and argmax_dtlbc == 1:\n",
        "      res = 1\n",
        "    if argmax_dtlmc == 1 and argmax_svm == 1 and argmax_dtlbc == 0:\n",
        "      res = 0\n",
        "\n",
        "    return res\n",
        "\n",
        "\n",
        "    def analyzeResult(self, res):\n",
        "      \"\"\"\n",
        "      takes the result of the mediator class and translates it into human readable labels\n",
        "      res: result of the predict() function of the Mediator class\n",
        "      \"\"\"\n",
        "      if res == 0:\n",
        "        return 'Covid unlikely'\n",
        "      if res == 1:\n",
        "        return 'Covid likely'\n",
        "      if res == 2:\n",
        "        return 'Test inconclusive'"
      ],
      "execution_count": 4,
      "outputs": []
    },
    {
      "cell_type": "code",
      "metadata": {
        "id": "8-eIQBgBppZP"
      },
      "source": [
        "# define two functions for one hot encoding because binary classifier needs different labels\n",
        "def oneHotEncoding(labels):\n",
        "  oneHotList = []\n",
        "  for label in labels:\n",
        "    if label == 'healthy':\n",
        "      oneHotList.append([1.0,0.0,0.0])\n",
        "    elif label == 'symptomatic':\n",
        "      oneHotList.append([0.0,0.0,1.0])\n",
        "    elif label == 'COVID-19':\n",
        "      oneHotList.append([0.0,1.0,0.0])\n",
        "\n",
        "  return np.array(oneHotList)\n",
        "\n",
        "def oneHotEncodingForBC(labels):\n",
        "  oneHotList = []\n",
        "  for label in labels:\n",
        "    if label == 'healthy':\n",
        "      oneHotList.append([1.0,0.0])\n",
        "    elif label == 'symptomatic':\n",
        "      oneHotList.append([1.0,0.0])\n",
        "    elif label == 'COVID-19':\n",
        "      oneHotList.append([0.0,1.0])\n",
        "  \n",
        "  return np.array(oneHotList)"
      ],
      "execution_count": 5,
      "outputs": []
    },
    {
      "cell_type": "markdown",
      "metadata": {
        "id": "qntx6-xhFuQp"
      },
      "source": [
        "Furthermore we implement some helper functions to visualize results and learning process:"
      ]
    },
    {
      "cell_type": "code",
      "metadata": {
        "id": "RnYvZeuyFzoH"
      },
      "source": [
        "def plotConfusionMatrix(labellist, matrix, filename='', safeImage = False):\n",
        "\n",
        "  df_cm = pd.DataFrame(matrix, index = [i for i in labellist],\n",
        "                    columns = [i for i in labellist], dtype=float)\n",
        "  fig = plt.figure(figsize = (10,7))\n",
        "  sn.heatmap(df_cm, annot=True)\n",
        "  if safeImage == True:\n",
        "    fig.savefig('./drive/MyDrive/COUGHVID/Plots/' + filename)\n",
        "\n",
        "def plotTrainingLoss(train_loss, val_loss):\n",
        "  plt.plot(train_loss)\n",
        "  plt.plot(val_loss)\n",
        "  plt.ylabel('loss')\n",
        "  plt.xlabel('epoch')\n",
        "  plt.legend(['train loss','test loss'], loc='upper left')\n",
        "  plt.show()\n",
        "\n",
        "def plotTrainingAccuracy(train_acc, val_acc):\n",
        "  plt.plot(train_acc)\n",
        "  plt.plot(val_acc)\n",
        "  plt.ylabel('accuracy')\n",
        "  plt.xlabel('epoch')\n",
        "  plt.legend(['train accuracy', 'test accuracy'], loc='upper left')\n",
        "  plt.show()\n",
        "\n",
        "\n",
        "def evaluateAccuracy(X_test, y_test, metric, model):\n",
        "  predictions = []\n",
        "  for x in X_test:\n",
        "    predArray = [0,0]\n",
        "    x = np.expand_dims(x, axis=0)\n",
        "    prediction = model.predict(x)\n",
        "    predArray[np.argmax(prediction[0])] = 1\n",
        "    predictions.append(predArray)\n",
        "\n",
        "  metric.update_state(y_test, predictions)\n",
        "  return m.result().numpy(), predictions\n",
        "\n",
        "def getPredictions(X_test, model):\n",
        "  predictions = []\n",
        "  for x in X_test:\n",
        "    predArray = [0,0]\n",
        "    x = np.expand_dims(x, axis=0)\n",
        "    prediction = model.predict(x)\n",
        "    predArray[np.argmax(prediction[0])] = 1\n",
        "    predictions.append(predArray)\n",
        "  \n",
        "  return predictions\n",
        "\n",
        "def getAllMetrics(y_test, predictions, verbose = False):\n",
        "  # simplifies splitting y_test into classes\n",
        "  y_test_argmax = np.array([])\n",
        "  for y in y_test:\n",
        "    y_test_argmax = np.append(y_test_argmax, np.argmax(y))\n",
        "\n",
        "  covid_indizes = np.where(y_test_argmax==1)[0]\n",
        "  if verbose == True:\n",
        "    print('COVID Samples: ' + str(len(covid_indizes)))\n",
        "  symptom_indizes = np.where(y_test_argmax==2)[0]\n",
        "  if verbose == True:\n",
        "    print('Symptomatic Samples: ' + str(len(symptom_indizes)))\n",
        "  healthy_indizes = np.where(y_test_argmax==0)[0]\n",
        "  if verbose == True:\n",
        "    print('Healthy Samples: ' + str(len(healthy_indizes)))\n",
        "\n",
        "  tp_c = tf.keras.metrics.TruePositives()\n",
        "  tn_c = tf.keras.metrics.TrueNegatives()\n",
        "  fp_c = tf.keras.metrics.FalsePositives()\n",
        "  fn_c = tf.keras.metrics.FalseNegatives()\n",
        "  tp_c.update_state(y_test[covid_indizes], np.array(predictions)[covid_indizes])\n",
        "  tn_c.update_state(y_test[covid_indizes], np.array(predictions)[covid_indizes])\n",
        "  fn_c.update_state(y_test[covid_indizes], np.array(predictions)[covid_indizes])\n",
        "  fp_c.update_state(y_test[covid_indizes], np.array(predictions)[covid_indizes])\n",
        "  if verbose == True:\n",
        "    print('True Positives for COVID Samples: ' + str(tp_c.result().numpy()))\n",
        "    print('True Negatives for COVID Samples: ' + str(tn_c.result().numpy()))\n",
        "    print('False Negatives for COVID Samples: ' + str(fn_c.result().numpy()))\n",
        "    print('False Positives for COVID Samples: ' + str(fp_c.result().numpy()))\n",
        "\n",
        "  tp_s = tf.keras.metrics.TruePositives()\n",
        "  tn_s = tf.keras.metrics.TrueNegatives()\n",
        "  fp_s = tf.keras.metrics.FalsePositives()\n",
        "  fn_s = tf.keras.metrics.FalseNegatives()\n",
        "  tp_s.update_state(y_test[symptom_indizes], np.array(predictions)[symptom_indizes])\n",
        "  tn_s.update_state(y_test[symptom_indizes], np.array(predictions)[symptom_indizes])\n",
        "  fn_s.update_state(y_test[symptom_indizes], np.array(predictions)[symptom_indizes])\n",
        "  fp_s.update_state(y_test[symptom_indizes], np.array(predictions)[symptom_indizes])\n",
        "  if verbose == True:\n",
        "    print('True Positives for symptomatic Samples: ' + str(tp_s.result().numpy()))\n",
        "    print('True Negatives for symptomatic Samples: ' + str(tn_s.result().numpy()))\n",
        "    print('False Negatives for symptomatic Samples: ' + str(fn_s.result().numpy()))\n",
        "    print('False Positives for symptomatic Samples: ' + str(fp_s.result().numpy()))\n",
        "\n",
        "  tp_h = tf.keras.metrics.TruePositives()\n",
        "  tn_h = tf.keras.metrics.TrueNegatives()\n",
        "  fp_h = tf.keras.metrics.FalsePositives()\n",
        "  fn_h = tf.keras.metrics.FalseNegatives()\n",
        "  tp_h.update_state(y_test[healthy_indizes], np.array(predictions)[healthy_indizes])\n",
        "  tn_h.update_state(y_test[healthy_indizes], np.array(predictions)[healthy_indizes])\n",
        "  fn_h.update_state(y_test[healthy_indizes], np.array(predictions)[healthy_indizes])\n",
        "  fp_h.update_state(y_test[healthy_indizes], np.array(predictions)[healthy_indizes])\n",
        "  if verbose == True:\n",
        "    print('True Positives for healthy samples: ' + str(tp_h.result().numpy()))\n",
        "    print('True Negatives for healthy samples: ' + str(tn_h.result().numpy()))\n",
        "    print('False Negatives for healthy samples: ' + str(fn_h.result().numpy()))\n",
        "    print('False Positives for healthy samples: ' + str(fp_h.result().numpy()))\n",
        "\n",
        "  sensitivity_c = tp_c.result().numpy() / (tp_c.result().numpy() + fn_c.result().numpy())\n",
        "  specificity_c = tn_c.result().numpy() / (tn_c.result().numpy() + fp_c.result().numpy())\n",
        "  if verbose == True:\n",
        "    print('Sensitivity for the covid class: ' + str(sensitivity_c))\n",
        "    print('Specificity for the covid class: ' + str(specificity_c))\n",
        "\n",
        "  sensitivity_s = tp_s.result().numpy() / (tp_s.result().numpy() + fn_s.result().numpy())\n",
        "  specificity_s = tn_s.result().numpy() / (tn_s.result().numpy() + fp_s.result().numpy())\n",
        "  if verbose == True:\n",
        "    print('Sensitivity for the symptom class: ' + str(sensitivity_s))\n",
        "    print('Specificity for the symptom class: ' + str(specificity_s))\n",
        "\n",
        "  sensitivity_h = tp_h.result().numpy() / (tp_h.result().numpy() + fn_h.result().numpy())\n",
        "  specificity_h= tn_h.result().numpy() / (tn_h.result().numpy() + fp_h.result().numpy())\n",
        "  if verbose == True:\n",
        "    print('Sensitivity for the healthy class: ' + str(sensitivity_h))\n",
        "    print('Specificity for the healthy class: ' + str(specificity_h))\n",
        "\n",
        "  recall_h = tf.keras.metrics.Recall(class_id=0)\n",
        "  recall_c = tf.keras.metrics.Recall(class_id=1)\n",
        "  recall_s = tf.keras.metrics.Recall(class_id=2)\n",
        "  recall_h.update_state(y_test, predictions)\n",
        "  recall_c.update_state(y_test, predictions)\n",
        "  recall_s.update_state(y_test, predictions)\n",
        "  if verbose == True:\n",
        "    print('Recall Healthy Samples: ' + str(recall_h.result().numpy()))\n",
        "    print('Recall COVID Samples: ' + str(recall_c.result().numpy()))\n",
        "    print('Recall Symptomatic Samples: ' + str(recall_s.result().numpy()))\n",
        "\n",
        "  precision_h = tf.keras.metrics.Precision(class_id=0)\n",
        "  precision_c = tf.keras.metrics.Precision(class_id=1)\n",
        "  precision_s = tf.keras.metrics.Precision(class_id=2)\n",
        "  precision_h.update_state(y_test, predictions)\n",
        "  precision_c.update_state(y_test, predictions)\n",
        "  precision_s.update_state(y_test, predictions)\n",
        "  if verbose == True:\n",
        "    print('Precision Healthy Samples: ' + str(precision_h.result().numpy()))\n",
        "    print('Precision COVID Samples: ' + str(precision_c.result().numpy()))\n",
        "    print('Precision Symptomatic Samples: ' + str(precision_s.result().numpy()))\n",
        "\n",
        "  f1_score_h = 2*((precision_h.result().numpy()*recall_h.result().numpy())/(precision_h.result().numpy()+recall_h.result().numpy()))\n",
        "  f1_score_c = 2*((precision_c.result().numpy()*recall_c.result().numpy())/(precision_c.result().numpy()+recall_c.result().numpy()))\n",
        "  f1_score_s = 2*((precision_s.result().numpy()*recall_s.result().numpy())/(precision_s.result().numpy()+recall_s.result().numpy()))\n",
        "\n",
        "  m = tf.keras.metrics.Accuracy()\n",
        "  m.update_state(y_test, predictions)\n",
        "  if verbose == True:\n",
        "    print(\"Accuracy: \" + str(m.result().numpy()))\n",
        "\n",
        "  metrics_dict = {'Class':['Overall','Healthy', 'COVID', 'Symptomatic']}\n",
        "  metrics_dict['F1 Score'] = ['-',f1_score_h*100, f1_score_c*100, f1_score_s*100]\n",
        "  metrics_dict['Sensitivity'] = ['-',sensitivity_h*100.0,sensitivity_c*100.0,sensitivity_s*100.0]\n",
        "  metrics_dict['Specificity'] = ['-',specificity_h*100.0,specificity_c*100.0,specificity_s*100.0]\n",
        "  metrics_dict['Precision'] = ['-',precision_h.result().numpy()*100,precision_c.result().numpy()*100,precision_s.result().numpy()*100]\n",
        "  metrics_dict['Recall'] = ['-',recall_h.result().numpy()*100,recall_c.result().numpy()*100,recall_s.result().numpy()*100]\n",
        "  metrics_dict['Accuracy'] = [m.result().numpy(), '-','-','-']\n",
        "\n",
        "  metrics_df = pd.DataFrame(data=metrics_dict)\n",
        "\n",
        "  return metrics_df\n",
        "\n",
        "def getAllMetricsForBC(y_test, predictions, verbose = False):\n",
        "  # simplifies splitting y_test into classes\n",
        "  y_test_argmax = np.array([])\n",
        "  for y in y_test:\n",
        "    y_test_argmax = np.append(y_test_argmax, np.argmax(y))\n",
        "\n",
        "  covid_indizes = np.where(y_test_argmax==1)[0]\n",
        "  if verbose == True:\n",
        "    print('COVID Samples: ' + str(len(covid_indizes)))\n",
        "  healthy_indizes = np.where(y_test_argmax==0)[0]\n",
        "  if verbose == True:\n",
        "    print('No COVID Samples: ' + str(len(healthy_indizes)))\n",
        "\n",
        "  tp_c = tf.keras.metrics.TruePositives()\n",
        "  tn_c = tf.keras.metrics.TrueNegatives()\n",
        "  fp_c = tf.keras.metrics.FalsePositives()\n",
        "  fn_c = tf.keras.metrics.FalseNegatives()\n",
        "  tp_c.update_state(y_test[covid_indizes], np.array(predictions)[covid_indizes])\n",
        "  tn_c.update_state(y_test[covid_indizes], np.array(predictions)[covid_indizes])\n",
        "  fn_c.update_state(y_test[covid_indizes], np.array(predictions)[covid_indizes])\n",
        "  fp_c.update_state(y_test[covid_indizes], np.array(predictions)[covid_indizes])\n",
        "  if verbose == True:\n",
        "    print('True Positives for COVID Samples: ' + str(tp_c.result().numpy()))\n",
        "    print('True Negatives for COVID Samples: ' + str(tn_c.result().numpy()))\n",
        "    print('False Negatives for COVID Samples: ' + str(fn_c.result().numpy()))\n",
        "    print('False Positives for COVID Samples: ' + str(fp_c.result().numpy()))\n",
        "\n",
        "  tp_h = tf.keras.metrics.TruePositives()\n",
        "  tn_h = tf.keras.metrics.TrueNegatives()\n",
        "  fp_h = tf.keras.metrics.FalsePositives()\n",
        "  fn_h = tf.keras.metrics.FalseNegatives()\n",
        "  tp_h.update_state(y_test[healthy_indizes], np.array(predictions)[healthy_indizes])\n",
        "  tn_h.update_state(y_test[healthy_indizes], np.array(predictions)[healthy_indizes])\n",
        "  fn_h.update_state(y_test[healthy_indizes], np.array(predictions)[healthy_indizes])\n",
        "  fp_h.update_state(y_test[healthy_indizes], np.array(predictions)[healthy_indizes])\n",
        "  if verbose == True:\n",
        "    print('True Positives for healthy samples: ' + str(tp_h.result().numpy()))\n",
        "    print('True Negatives for healthy samples: ' + str(tn_h.result().numpy()))\n",
        "    print('False Negatives for healthy samples: ' + str(fn_h.result().numpy()))\n",
        "    print('False Positives for healthy samples: ' + str(fp_h.result().numpy()))\n",
        "\n",
        "  sensitivity_c = tp_c.result().numpy() / (tp_c.result().numpy() + fn_c.result().numpy())\n",
        "  specificity_c = tn_c.result().numpy() / (tn_c.result().numpy() + fp_c.result().numpy())\n",
        "  if verbose == True:\n",
        "    print('Sensitivity for the covid class: ' + str(sensitivity_c))\n",
        "    print('Specificity for the covid class: ' + str(specificity_c))\n",
        "\n",
        "  sensitivity_h = tp_h.result().numpy() / (tp_h.result().numpy() + fn_h.result().numpy())\n",
        "  specificity_h= tn_h.result().numpy() / (tn_h.result().numpy() + fp_h.result().numpy())\n",
        "  if verbose == True:\n",
        "    print('Sensitivity for the healthy class: ' + str(sensitivity_h))\n",
        "    print('Specificity for the healthy class: ' + str(specificity_h))\n",
        "\n",
        "  recall_h = tf.keras.metrics.Recall(class_id=0)\n",
        "  recall_c = tf.keras.metrics.Recall(class_id=1)\n",
        "  recall_h.update_state(y_test, predictions)\n",
        "  recall_c.update_state(y_test, predictions)\n",
        "  if verbose == True:\n",
        "    print('Recall Healthy Samples: ' + str(recall_h.result().numpy()))\n",
        "    print('Recall COVID Samples: ' + str(recall_c.result().numpy()))\n",
        "\n",
        "  precision_h = tf.keras.metrics.Precision(class_id=0)\n",
        "  precision_c = tf.keras.metrics.Precision(class_id=1)\n",
        "  precision_h.update_state(y_test, predictions)\n",
        "  precision_c.update_state(y_test, predictions)\n",
        "  if verbose == True:\n",
        "    print('Precision Healthy Samples: ' + str(precision_h.result().numpy()))\n",
        "    print('Precision COVID Samples: ' + str(precision_c.result().numpy()))\n",
        "\n",
        "  f1_score_h = 2*((precision_h.result().numpy()*recall_h.result().numpy())/(precision_h.result().numpy()+recall_h.result().numpy()))\n",
        "  f1_score_c = 2*((precision_c.result().numpy()*recall_c.result().numpy())/(precision_c.result().numpy()+recall_c.result().numpy()))\n",
        "\n",
        "  m = tf.keras.metrics.Accuracy()\n",
        "  m.update_state(y_test, predictions)\n",
        "  if verbose == True:\n",
        "    print(\"Accuracy: \" + str(m.result().numpy()))\n",
        "\n",
        "  metrics_dict = {'Class':['Overall','Healthy', 'COVID']}\n",
        "  metrics_dict['F1 Score'] = ['-',f1_score_h*100, f1_score_c*100]\n",
        "  metrics_dict['Sensitivity'] = ['-',sensitivity_h*100.0,sensitivity_c*100.0]\n",
        "  metrics_dict['Specificity'] = ['-',specificity_h*100.0,specificity_c*100.0]\n",
        "  metrics_dict['Precision'] = ['-',precision_h.result().numpy()*100,precision_c.result().numpy()*100]\n",
        "  metrics_dict['Recall'] = ['-',recall_h.result().numpy()*100,recall_c.result().numpy()*100]\n",
        "  metrics_dict['Accuracy'] = [m.result().numpy(), '-','-']\n",
        "\n",
        "  metrics_df = pd.DataFrame(data=metrics_dict)\n",
        "\n",
        "  return metrics_df\n",
        "  "
      ],
      "execution_count": 6,
      "outputs": []
    },
    {
      "cell_type": "markdown",
      "metadata": {
        "id": "YlfnvrUiqK94"
      },
      "source": [
        "#Evaluation on whole cough samples"
      ]
    },
    {
      "cell_type": "code",
      "metadata": {
        "id": "YS_n1NMPixMr"
      },
      "source": [
        "def valueFromJsonParser(fileName, key, path='./drive/MyDrive/COUGHVID/test_dset/'):\n",
        "    \"\"\"\n",
        "    Returns the status of the specified json file \n",
        "    \"\"\"    \n",
        "    with open(os.path.join(path, fileName)) as file:\n",
        "        data = json.load(file)\n",
        "        return data[str(key)]\n",
        "\n",
        "\n",
        "def loadMelspectrograms(path, jsonFilesPath):\n",
        "  data = []\n",
        "  labels = []\n",
        "  for (dirpath, dirnames, filenames) in os.walk(path):\n",
        "    for filename in filenames[0:4000]:\n",
        "      img = cv2.imread(path + filename)\n",
        "      data.append(img)\n",
        "  for (dirpath,dirnames,filenames) in os.walk(jsonFilesPath):\n",
        "    for filename in filenames[0:8000]:\n",
        "      if '.json' in filename:\n",
        "        label = valueFromJsonParser(fileName=filename, key='status', path=jsonFilesPath)\n",
        "        labels.append(label)\n",
        "\n",
        "  return np.float32(np.array(data)), np.array(labels)"
      ],
      "execution_count": null,
      "outputs": []
    },
    {
      "cell_type": "code",
      "metadata": {
        "id": "Rbsz0Gc7i1iE"
      },
      "source": [
        "data, labels = loadMelspectrograms('./drive/MyDrive/COUGHVID/MelSpectrogramsCleaned/', './drive/MyDrive/COUGHVID/public_dataset_cleaned/')"
      ],
      "execution_count": null,
      "outputs": []
    },
    {
      "cell_type": "code",
      "metadata": {
        "id": "WtCMqKpzjiyc"
      },
      "source": [
        "X, Y = data, oneHotEncoding(labels)"
      ],
      "execution_count": null,
      "outputs": []
    },
    {
      "cell_type": "code",
      "metadata": {
        "id": "cc-cvC226D-5"
      },
      "source": [
        "print(data.shape)"
      ],
      "execution_count": null,
      "outputs": []
    },
    {
      "cell_type": "markdown",
      "metadata": {
        "id": "UK7MudU3OIMk"
      },
      "source": [
        "Perform Class Balancing:"
      ]
    },
    {
      "cell_type": "code",
      "metadata": {
        "id": "EGE4PFMH6GsM"
      },
      "source": [
        "''' counter = [0,0,0]\n",
        "for label in labels:\n",
        "  if label == 'healthy':\n",
        "    counter[0] += 1\n",
        "  if label == \"symptomatic\":\n",
        "    counter[1] += 1\n",
        "  if label == 'COVID-19':\n",
        "    counter[2] += 1\n",
        "\n",
        "print(counter)\n",
        " '''\n",
        "covid_indizes = np.where(labels=='COVID-19')\n",
        "print(len(covid_indizes[0]))\n",
        "symptom_indizes = np.where(labels=='symptomatic')\n",
        "print(len(symptom_indizes[0]))\n",
        "healthy_indizes = np.where(labels=='healthy')\n",
        "print(len(healthy_indizes[0]))"
      ],
      "execution_count": null,
      "outputs": []
    },
    {
      "cell_type": "code",
      "metadata": {
        "id": "IYib0WqC769g"
      },
      "source": [
        "data_new = data[covid_indizes]\n",
        "data_new = np.append(data_new,data[symptom_indizes[0][:364]], axis=0)\n",
        "data_new = np.append(data_new,data[healthy_indizes[0][:364]], axis=0)\n",
        "\n",
        "labels_new = labels[covid_indizes]\n",
        "labels_new = np.append(labels_new,labels[symptom_indizes[0][:364]])\n",
        "labels_new = np.append(labels_new,labels[healthy_indizes[0][:364]])\n",
        "\n",
        "labels_new = oneHotEncoding(labels_new)\n"
      ],
      "execution_count": null,
      "outputs": []
    },
    {
      "cell_type": "code",
      "metadata": {
        "id": "0gcDj16OnP8N"
      },
      "source": [
        "X_train, X_test, y_train, y_test = train_test_split(data_new, labels_new, test_size=0.25, random_state=0)\n",
        "\n",
        "dtlmc = DTLMC()\n",
        "dtlmc.compile(optimizer='adam',loss='categorical_crossentropy')\n",
        "dtlmc.fit(X_train,y_train, epochs=20)"
      ],
      "execution_count": null,
      "outputs": []
    },
    {
      "cell_type": "code",
      "metadata": {
        "id": "ligRrTG8p-j4"
      },
      "source": [
        "dtlmc.evaluate(X_test, y_test)"
      ],
      "execution_count": null,
      "outputs": []
    },
    {
      "cell_type": "code",
      "metadata": {
        "id": "BXiMZqCLrJC2"
      },
      "source": [
        "predictions = []\n",
        "for x in X_test:\n",
        "  predArray = [0,0,0]\n",
        "  x = np.expand_dims(x, axis=0)\n",
        "  prediction = dtlmc.predict(x)\n",
        "  print(prediction)\n",
        "  predArray[np.argmax(prediction)] = 1\n",
        "  predictions.append(predArray)"
      ],
      "execution_count": null,
      "outputs": []
    },
    {
      "cell_type": "code",
      "metadata": {
        "id": "tmJ6eHwsrTte"
      },
      "source": [
        "m = tf.keras.metrics.Accuracy()\n",
        "m.update_state(y_test, predictions)\n",
        "m.result().numpy()"
      ],
      "execution_count": null,
      "outputs": []
    },
    {
      "cell_type": "code",
      "metadata": {
        "id": "GgMqZqLjsWmc"
      },
      "source": [
        "matrix = confusion_matrix(np.argmax(y_test, axis=1), np.argmax(predictions, axis=1))"
      ],
      "execution_count": null,
      "outputs": []
    },
    {
      "cell_type": "code",
      "metadata": {
        "id": "fa-njldTuN7v"
      },
      "source": [
        "print(matrix)"
      ],
      "execution_count": null,
      "outputs": []
    },
    {
      "cell_type": "markdown",
      "metadata": {
        "id": "-aEcQFGkqRmB"
      },
      "source": [
        "#Evaluation on segmented data"
      ]
    },
    {
      "cell_type": "markdown",
      "metadata": {
        "id": "sM2JryCNPCD5"
      },
      "source": [
        "Load the melspecs of segmented data from drive"
      ]
    },
    {
      "cell_type": "code",
      "metadata": {
        "id": "LHJthkBYMchL"
      },
      "source": [
        "dataSegmented = np.load('./drive/MyDrive/COUGHVID/melSpecsDataSegmented.npy', allow_pickle=True)\n",
        "labels = np.load('./drive/MyDrive/COUGHVID/melSpecsLabelsSegmented.npy', allow_pickle=True)"
      ],
      "execution_count": 7,
      "outputs": []
    },
    {
      "cell_type": "code",
      "metadata": {
        "colab": {
          "base_uri": "https://localhost:8080/"
        },
        "id": "OKZMSgI3M_Zm",
        "outputId": "e13d03b7-a8a6-40af-9e86-f376188fdc73"
      },
      "source": [
        "print(dataSegmented.shape)\n",
        "print(labels.shape)"
      ],
      "execution_count": 8,
      "outputs": [
        {
          "output_type": "stream",
          "name": "stdout",
          "text": [
            "(24374, 240, 320)\n",
            "(24374,)\n"
          ]
        }
      ]
    },
    {
      "cell_type": "markdown",
      "metadata": {
        "id": "sIEWX8lMNQuO"
      },
      "source": [
        "##Evaluation with class weights"
      ]
    },
    {
      "cell_type": "markdown",
      "metadata": {
        "id": "8GQiU3-oZ82Y"
      },
      "source": [
        "###Evaluation of the multi class clasifier\n"
      ]
    },
    {
      "cell_type": "code",
      "metadata": {
        "id": "3lIkPl4rZ-Ch"
      },
      "source": [
        "labels_new_mc = oneHotEncoding(labels)\n",
        "data_new = np.expand_dims(dataSegmented, axis=3)"
      ],
      "execution_count": 10,
      "outputs": []
    },
    {
      "cell_type": "code",
      "metadata": {
        "colab": {
          "base_uri": "https://localhost:8080/"
        },
        "id": "114gK2QuuRt6",
        "outputId": "2afaeb4f-91b0-4c3c-85f9-25a80fb5a2f2"
      },
      "source": [
        "print(labels_new_mc.shape)\n",
        "print(data_new.shape)"
      ],
      "execution_count": 11,
      "outputs": [
        {
          "output_type": "stream",
          "name": "stdout",
          "text": [
            "(24374, 3)\n",
            "(24374, 240, 320, 1)\n"
          ]
        }
      ]
    },
    {
      "cell_type": "code",
      "metadata": {
        "colab": {
          "base_uri": "https://localhost:8080/"
        },
        "id": "gEv3FCswXYjc",
        "outputId": "97844eb5-5712-45ec-d5fc-2b6fdc879499"
      },
      "source": [
        "# split data for train and test validation\n",
        "X_train, X_test, y_train, y_test = train_test_split(data_new, labels_new_mc, test_size=0.2, random_state=0)\n",
        "\n",
        "\n",
        "## calculate class weights\n",
        "y_integers = np.argmax(y_train, axis=1)\n",
        "class_weights = compute_class_weight('balanced', np.unique(y_integers), y_integers)\n",
        "class_weights_dict = dict(enumerate(class_weights))\n",
        "\n",
        "class_weights_dict"
      ],
      "execution_count": 12,
      "outputs": [
        {
          "output_type": "execute_result",
          "data": {
            "text/plain": [
              "{0: 0.4392853924484095, 1: 4.075026123301986, 2: 2.0912698412698414}"
            ]
          },
          "metadata": {},
          "execution_count": 12
        }
      ]
    },
    {
      "cell_type": "code",
      "metadata": {
        "id": "nRAl_G7Wuabv"
      },
      "source": [
        "lr_schedule = tf.keras.optimizers.schedules.ExponentialDecay(\n",
        "    initial_learning_rate=0.00001,\n",
        "    decay_steps=10000,\n",
        "    decay_rate=0.9)\n",
        "\n",
        "cb = tf.keras.callbacks.EarlyStopping(monitor='val_loss', min_delta=0.01, patience=25, verbose=1,\n",
        "    mode='auto', baseline=None, restore_best_weights=True)\n",
        "\n",
        "dtlmc = DTLMC()\n",
        "opt = tf.keras.optimizers.Adam(learning_rate=lr_schedule)\n",
        "dtlmc.compile(optimizer=opt,loss='categorical_crossentropy',metrics=['acc'])\n"
      ],
      "execution_count": 14,
      "outputs": []
    },
    {
      "cell_type": "code",
      "metadata": {
        "colab": {
          "base_uri": "https://localhost:8080/"
        },
        "id": "JsYJEXl6toon",
        "outputId": "229b026b-202d-4738-de02-3c8943e0a374"
      },
      "source": [
        "history = dtlmc.fit(X_train,y_train, epochs=250, validation_data=(X_test,y_test), class_weight=class_weights_dict, callbacks=[cb])"
      ],
      "execution_count": 15,
      "outputs": [
        {
          "output_type": "stream",
          "name": "stdout",
          "text": [
            "Epoch 1/250\n",
            "610/610 [==============================] - 39s 33ms/step - loss: 5.3400 - acc: 0.3390 - val_loss: 1.6471 - val_acc: 0.1104\n",
            "Epoch 2/250\n",
            "610/610 [==============================] - 18s 29ms/step - loss: 1.5544 - acc: 0.3440 - val_loss: 1.0631 - val_acc: 0.4123\n",
            "Epoch 3/250\n",
            "610/610 [==============================] - 17s 29ms/step - loss: 1.1431 - acc: 0.3335 - val_loss: 1.0831 - val_acc: 0.3342\n",
            "Epoch 4/250\n",
            "610/610 [==============================] - 18s 29ms/step - loss: 1.1039 - acc: 0.3499 - val_loss: 1.0921 - val_acc: 0.3545\n",
            "Epoch 5/250\n",
            "610/610 [==============================] - 18s 29ms/step - loss: 1.1004 - acc: 0.3324 - val_loss: 1.0841 - val_acc: 0.3844\n",
            "Epoch 6/250\n",
            "610/610 [==============================] - 18s 29ms/step - loss: 1.0905 - acc: 0.3485 - val_loss: 1.0924 - val_acc: 0.4072\n",
            "Epoch 7/250\n",
            "610/610 [==============================] - 18s 29ms/step - loss: 1.0875 - acc: 0.3605 - val_loss: 1.0888 - val_acc: 0.3497\n",
            "Epoch 8/250\n",
            "610/610 [==============================] - 18s 29ms/step - loss: 1.0834 - acc: 0.3666 - val_loss: 1.0870 - val_acc: 0.3703\n",
            "Epoch 9/250\n",
            "610/610 [==============================] - 18s 29ms/step - loss: 1.0758 - acc: 0.3797 - val_loss: 1.0878 - val_acc: 0.3614\n",
            "Epoch 10/250\n",
            "610/610 [==============================] - 18s 29ms/step - loss: 1.0724 - acc: 0.3860 - val_loss: 1.0747 - val_acc: 0.4193\n",
            "Epoch 11/250\n",
            "610/610 [==============================] - 18s 29ms/step - loss: 1.0638 - acc: 0.3928 - val_loss: 1.0749 - val_acc: 0.4033\n",
            "Epoch 12/250\n",
            "610/610 [==============================] - 18s 29ms/step - loss: 1.0656 - acc: 0.3959 - val_loss: 1.0848 - val_acc: 0.3674\n",
            "Epoch 13/250\n",
            "610/610 [==============================] - 18s 29ms/step - loss: 1.0555 - acc: 0.4035 - val_loss: 1.0943 - val_acc: 0.3268\n",
            "Epoch 14/250\n",
            "610/610 [==============================] - 18s 29ms/step - loss: 1.0553 - acc: 0.4054 - val_loss: 1.0684 - val_acc: 0.3998\n",
            "Epoch 15/250\n",
            "610/610 [==============================] - 18s 29ms/step - loss: 1.0487 - acc: 0.4099 - val_loss: 1.0718 - val_acc: 0.3797\n",
            "Epoch 16/250\n",
            "610/610 [==============================] - 18s 29ms/step - loss: 1.0420 - acc: 0.4155 - val_loss: 1.0785 - val_acc: 0.3713\n",
            "Epoch 17/250\n",
            "610/610 [==============================] - 18s 29ms/step - loss: 1.0354 - acc: 0.4126 - val_loss: 1.0721 - val_acc: 0.3360\n",
            "Epoch 18/250\n",
            "610/610 [==============================] - 18s 29ms/step - loss: 1.0291 - acc: 0.4285 - val_loss: 1.0907 - val_acc: 0.3264\n",
            "Epoch 19/250\n",
            "610/610 [==============================] - 18s 29ms/step - loss: 1.0225 - acc: 0.4309 - val_loss: 1.0854 - val_acc: 0.3317\n",
            "Epoch 20/250\n",
            "610/610 [==============================] - 18s 29ms/step - loss: 1.0139 - acc: 0.4379 - val_loss: 1.0854 - val_acc: 0.3612\n",
            "Epoch 21/250\n",
            "610/610 [==============================] - 18s 29ms/step - loss: 1.0056 - acc: 0.4483 - val_loss: 1.0872 - val_acc: 0.3629\n",
            "Epoch 22/250\n",
            "610/610 [==============================] - 18s 29ms/step - loss: 0.9948 - acc: 0.4569 - val_loss: 1.0807 - val_acc: 0.3645\n",
            "Epoch 23/250\n",
            "610/610 [==============================] - 18s 29ms/step - loss: 0.9820 - acc: 0.4620 - val_loss: 1.0759 - val_acc: 0.3848\n",
            "Epoch 24/250\n",
            "610/610 [==============================] - 18s 29ms/step - loss: 0.9739 - acc: 0.4715 - val_loss: 1.0172 - val_acc: 0.4574\n",
            "Epoch 25/250\n",
            "610/610 [==============================] - 18s 29ms/step - loss: 0.9651 - acc: 0.4763 - val_loss: 1.0772 - val_acc: 0.3754\n",
            "Epoch 26/250\n",
            "610/610 [==============================] - 18s 29ms/step - loss: 0.9586 - acc: 0.4817 - val_loss: 1.0845 - val_acc: 0.3865\n",
            "Epoch 27/250\n",
            "610/610 [==============================] - 18s 29ms/step - loss: 0.9435 - acc: 0.4908 - val_loss: 1.0487 - val_acc: 0.4244\n",
            "Epoch 28/250\n",
            "610/610 [==============================] - 18s 29ms/step - loss: 0.9373 - acc: 0.4926 - val_loss: 1.0293 - val_acc: 0.4406\n",
            "Epoch 29/250\n",
            "610/610 [==============================] - 18s 29ms/step - loss: 0.9235 - acc: 0.5032 - val_loss: 1.0761 - val_acc: 0.3865\n",
            "Epoch 30/250\n",
            "610/610 [==============================] - 18s 29ms/step - loss: 0.9133 - acc: 0.5108 - val_loss: 1.0730 - val_acc: 0.4049\n",
            "Epoch 31/250\n",
            "610/610 [==============================] - 18s 29ms/step - loss: 0.9092 - acc: 0.5107 - val_loss: 1.0210 - val_acc: 0.4505\n",
            "Epoch 32/250\n",
            "610/610 [==============================] - 18s 29ms/step - loss: 0.8936 - acc: 0.5275 - val_loss: 1.0964 - val_acc: 0.3838\n",
            "Epoch 33/250\n",
            "610/610 [==============================] - 18s 29ms/step - loss: 0.8868 - acc: 0.5283 - val_loss: 1.0670 - val_acc: 0.4146\n",
            "Epoch 34/250\n",
            "610/610 [==============================] - 18s 29ms/step - loss: 0.8788 - acc: 0.5313 - val_loss: 1.0353 - val_acc: 0.4219\n",
            "Epoch 35/250\n",
            "610/610 [==============================] - 18s 29ms/step - loss: 0.8669 - acc: 0.5380 - val_loss: 1.0253 - val_acc: 0.4615\n",
            "Epoch 36/250\n",
            "610/610 [==============================] - 18s 29ms/step - loss: 0.8624 - acc: 0.5392 - val_loss: 1.0578 - val_acc: 0.4244\n",
            "Epoch 37/250\n",
            "610/610 [==============================] - 18s 29ms/step - loss: 0.8492 - acc: 0.5485 - val_loss: 1.0832 - val_acc: 0.4043\n",
            "Epoch 38/250\n",
            "610/610 [==============================] - 18s 29ms/step - loss: 0.8463 - acc: 0.5542 - val_loss: 1.0545 - val_acc: 0.4244\n",
            "Epoch 39/250\n",
            "610/610 [==============================] - 18s 29ms/step - loss: 0.8327 - acc: 0.5533 - val_loss: 1.0740 - val_acc: 0.4254\n",
            "Epoch 40/250\n",
            "610/610 [==============================] - 18s 29ms/step - loss: 0.8296 - acc: 0.5500 - val_loss: 1.0393 - val_acc: 0.4496\n",
            "Epoch 41/250\n",
            "610/610 [==============================] - 18s 29ms/step - loss: 0.8184 - acc: 0.5616 - val_loss: 1.0418 - val_acc: 0.4501\n",
            "Epoch 42/250\n",
            "610/610 [==============================] - 18s 29ms/step - loss: 0.8157 - acc: 0.5711 - val_loss: 1.0299 - val_acc: 0.4611\n",
            "Epoch 43/250\n",
            "610/610 [==============================] - 18s 29ms/step - loss: 0.8062 - acc: 0.5726 - val_loss: 1.0435 - val_acc: 0.4552\n",
            "Epoch 44/250\n",
            "610/610 [==============================] - 18s 29ms/step - loss: 0.7981 - acc: 0.5704 - val_loss: 1.0141 - val_acc: 0.4595\n",
            "Epoch 45/250\n",
            "610/610 [==============================] - 18s 29ms/step - loss: 0.7982 - acc: 0.5778 - val_loss: 1.0416 - val_acc: 0.4480\n",
            "Epoch 46/250\n",
            "610/610 [==============================] - 18s 29ms/step - loss: 0.7852 - acc: 0.5891 - val_loss: 1.0358 - val_acc: 0.4615\n",
            "Epoch 47/250\n",
            "610/610 [==============================] - 18s 29ms/step - loss: 0.7805 - acc: 0.5880 - val_loss: 1.0634 - val_acc: 0.4336\n",
            "Epoch 48/250\n",
            "610/610 [==============================] - 18s 29ms/step - loss: 0.7725 - acc: 0.5856 - val_loss: 1.0247 - val_acc: 0.4782\n",
            "Epoch 49/250\n",
            "610/610 [==============================] - 18s 29ms/step - loss: 0.7690 - acc: 0.5892 - val_loss: 1.0198 - val_acc: 0.4773\n",
            "Restoring model weights from the end of the best epoch.\n",
            "Epoch 00049: early stopping\n"
          ]
        }
      ]
    },
    {
      "cell_type": "code",
      "metadata": {
        "colab": {
          "base_uri": "https://localhost:8080/"
        },
        "id": "XhVUGMb7a5fD",
        "outputId": "7b1d1414-7118-494f-a4ae-3582c505a5c4"
      },
      "source": [
        "dtlmc.save('./drive/MyDrive/COUGHVID/Models/dtlmc', save_format=\"tf\")"
      ],
      "execution_count": null,
      "outputs": [
        {
          "name": "stdout",
          "output_type": "stream",
          "text": [
            "INFO:tensorflow:Assets written to: ./drive/MyDrive/COUGHVID/Models/dtlmc/assets\n"
          ]
        }
      ]
    },
    {
      "cell_type": "code",
      "metadata": {
        "id": "0Yulq0QbxNaK"
      },
      "source": [
        "predictions = []\n",
        "for x in X_test:\n",
        "  predArray = [0,0,0]\n",
        "  x = np.expand_dims(x, axis=0)\n",
        "  prediction = dtlmc.predict(x)\n",
        "  predArray[np.argmax(prediction[0])] = 1\n",
        "  predictions.append(predArray)"
      ],
      "execution_count": 16,
      "outputs": []
    },
    {
      "cell_type": "code",
      "metadata": {
        "colab": {
          "base_uri": "https://localhost:8080/",
          "height": 175
        },
        "id": "P2sq6OQlShUa",
        "outputId": "5569e95c-fe08-43aa-c04c-ed0f7c29cfc3"
      },
      "source": [
        "df = getAllMetrics(y_test, predictions)\n",
        "df"
      ],
      "execution_count": 17,
      "outputs": [
        {
          "output_type": "execute_result",
          "data": {
            "text/html": [
              "<div>\n",
              "<style scoped>\n",
              "    .dataframe tbody tr th:only-of-type {\n",
              "        vertical-align: middle;\n",
              "    }\n",
              "\n",
              "    .dataframe tbody tr th {\n",
              "        vertical-align: top;\n",
              "    }\n",
              "\n",
              "    .dataframe thead th {\n",
              "        text-align: right;\n",
              "    }\n",
              "</style>\n",
              "<table border=\"1\" class=\"dataframe\">\n",
              "  <thead>\n",
              "    <tr style=\"text-align: right;\">\n",
              "      <th></th>\n",
              "      <th>Class</th>\n",
              "      <th>F1 Score</th>\n",
              "      <th>Sensitivity</th>\n",
              "      <th>Specificity</th>\n",
              "      <th>Precision</th>\n",
              "      <th>Recall</th>\n",
              "      <th>Accuracy</th>\n",
              "    </tr>\n",
              "  </thead>\n",
              "  <tbody>\n",
              "    <tr>\n",
              "      <th>0</th>\n",
              "      <td>Overall</td>\n",
              "      <td>-</td>\n",
              "      <td>-</td>\n",
              "      <td>-</td>\n",
              "      <td>-</td>\n",
              "      <td>-</td>\n",
              "      <td>0.638291</td>\n",
              "    </tr>\n",
              "    <tr>\n",
              "      <th>1</th>\n",
              "      <td>Healthy</td>\n",
              "      <td>58.502</td>\n",
              "      <td>45.8266</td>\n",
              "      <td>72.9133</td>\n",
              "      <td>80.8704</td>\n",
              "      <td>45.8266</td>\n",
              "      <td>-</td>\n",
              "    </tr>\n",
              "    <tr>\n",
              "      <th>2</th>\n",
              "      <td>COVID</td>\n",
              "      <td>19.1436</td>\n",
              "      <td>29.3059</td>\n",
              "      <td>64.653</td>\n",
              "      <td>14.2145</td>\n",
              "      <td>29.3059</td>\n",
              "      <td>-</td>\n",
              "    </tr>\n",
              "    <tr>\n",
              "      <th>3</th>\n",
              "      <td>Symptomatic</td>\n",
              "      <td>30.5976</td>\n",
              "      <td>53.392</td>\n",
              "      <td>76.696</td>\n",
              "      <td>21.443</td>\n",
              "      <td>53.392</td>\n",
              "      <td>-</td>\n",
              "    </tr>\n",
              "  </tbody>\n",
              "</table>\n",
              "</div>"
            ],
            "text/plain": [
              "         Class F1 Score Sensitivity Specificity Precision   Recall  Accuracy\n",
              "0      Overall        -           -           -         -        -  0.638291\n",
              "1      Healthy   58.502     45.8266     72.9133   80.8704  45.8266         -\n",
              "2        COVID  19.1436     29.3059      64.653   14.2145  29.3059         -\n",
              "3  Symptomatic  30.5976      53.392      76.696    21.443   53.392         -"
            ]
          },
          "metadata": {},
          "execution_count": 17
        }
      ]
    },
    {
      "cell_type": "code",
      "metadata": {
        "id": "J1HZRrkuadCz"
      },
      "source": [
        "matrix = confusion_matrix(np.argmax(y_test, axis=1), np.argmax(predictions, axis=1))"
      ],
      "execution_count": 18,
      "outputs": []
    },
    {
      "cell_type": "code",
      "metadata": {
        "id": "7D6UjvAZz0fB"
      },
      "source": [
        "matrix = matrix/matrix.sum(axis=1)[:, np.newaxis]"
      ],
      "execution_count": 19,
      "outputs": []
    },
    {
      "cell_type": "code",
      "metadata": {
        "colab": {
          "base_uri": "https://localhost:8080/"
        },
        "id": "CeDtcawQadr4",
        "outputId": "babf651d-7c03-496a-e699-807c712b29f6"
      },
      "source": [
        "matrix"
      ],
      "execution_count": 20,
      "outputs": [
        {
          "output_type": "execute_result",
          "data": {
            "text/plain": [
              "array([[0.45826558, 0.15338753, 0.38834688],\n",
              "       [0.38817481, 0.29305913, 0.31876607],\n",
              "       [0.31281407, 0.15326633, 0.5339196 ]])"
            ]
          },
          "metadata": {},
          "execution_count": 20
        }
      ]
    },
    {
      "cell_type": "code",
      "metadata": {
        "colab": {
          "base_uri": "https://localhost:8080/",
          "height": 428
        },
        "id": "3wz-uy9P6b_R",
        "outputId": "f050b6c3-7fa9-4804-8ee2-35f32d4fa2b8"
      },
      "source": [
        "labellist = ['healthy','covid', 'symptomatic']\n",
        "plotConfusionMatrix(labellist, matrix)"
      ],
      "execution_count": 21,
      "outputs": [
        {
          "output_type": "display_data",
          "data": {
            "image/png": "[encoded data removed]",
            "text/plain": [
              "<Figure size 720x504 with 2 Axes>"
            ]
          },
          "metadata": {
            "needs_background": "light"
          }
        }
      ]
    },
    {
      "cell_type": "code",
      "metadata": {
        "colab": {
          "base_uri": "https://localhost:8080/",
          "height": 279
        },
        "id": "yQqBvnKptysO",
        "outputId": "806eceba-0e23-4ea4-d834-1c2d1061c012"
      },
      "source": [
        "plotTrainingLoss(history.history['loss'], history.history['val_loss'])"
      ],
      "execution_count": 22,
      "outputs": [
        {
          "output_type": "display_data",
          "data": {
            "image/png": "[encoded data removed]",
            "text/plain": [
              "<Figure size 432x288 with 1 Axes>"
            ]
          },
          "metadata": {
            "needs_background": "light"
          }
        }
      ]
    },
    {
      "cell_type": "code",
      "metadata": {
        "colab": {
          "base_uri": "https://localhost:8080/",
          "height": 279
        },
        "id": "rFA3NfcKt4Zm",
        "outputId": "af514932-6b90-416e-8e4e-a61064b17d31"
      },
      "source": [
        "plotTrainingAccuracy(history.history['acc'], history.history['val_acc'])"
      ],
      "execution_count": 23,
      "outputs": [
        {
          "output_type": "display_data",
          "data": {
            "image/png": "[encoded data removed]",
            "text/plain": [
              "<Figure size 432x288 with 1 Axes>"
            ]
          },
          "metadata": {
            "needs_background": "light"
          }
        }
      ]
    },
    {
      "cell_type": "markdown",
      "metadata": {
        "id": "EiicnAL8ZxWx"
      },
      "source": [
        "###Evaluation of the binary class classifier"
      ]
    },
    {
      "cell_type": "code",
      "metadata": {
        "colab": {
          "base_uri": "https://localhost:8080/"
        },
        "id": "N9gHG4UTZ0pN",
        "outputId": "f95704b4-1b64-4c15-dfb4-7521ad733f76"
      },
      "source": [
        "labels_new_bc = oneHotEncodingForBC(labels)\n",
        "data_new_bc = np.expand_dims(dataSegmented, axis=3)\n",
        "print(data_new_bc.shape)\n",
        "print(labels_new_bc.shape)"
      ],
      "execution_count": 9,
      "outputs": [
        {
          "output_type": "stream",
          "name": "stdout",
          "text": [
            "(24374, 240, 320, 1)\n",
            "(24374, 2)\n"
          ]
        }
      ]
    },
    {
      "cell_type": "code",
      "metadata": {
        "id": "zwjKm2NhaaB5"
      },
      "source": [
        "X_train, X_test, y_train, y_test = train_test_split(data_new_bc, labels_new_bc, test_size=0.2, random_state=0)"
      ],
      "execution_count": 10,
      "outputs": []
    },
    {
      "cell_type": "code",
      "metadata": {
        "colab": {
          "base_uri": "https://localhost:8080/"
        },
        "id": "ArJ_g-UfBjKE",
        "outputId": "4fd7ca27-7820-40b5-d330-8f6f479905e0"
      },
      "source": [
        "## calculate class weights\n",
        "y_integers = np.argmax(y_train, axis=1)\n",
        "class_weights_bc = compute_class_weight('balanced', np.unique(y_integers), y_integers)\n",
        "class_weights_dict_bc = dict(enumerate(class_weights_bc))\n",
        "\n",
        "class_weights_dict_bc"
      ],
      "execution_count": 11,
      "outputs": [
        {
          "output_type": "execute_result",
          "data": {
            "text/plain": [
              "{0: 0.5445431188561215, 1: 6.112539184952978}"
            ]
          },
          "metadata": {},
          "execution_count": 11
        }
      ]
    },
    {
      "cell_type": "code",
      "metadata": {
        "id": "c8GBJbGwfF5g"
      },
      "source": [
        "lr_schedule = tf.keras.optimizers.schedules.ExponentialDecay(\n",
        "    initial_learning_rate=0.00001,\n",
        "    decay_steps=10000,\n",
        "    decay_rate=0.9)\n",
        "\n",
        "cb = tf.keras.callbacks.EarlyStopping(monitor='val_loss', min_delta=0.01, patience=25, verbose=1,\n",
        "    mode='auto', baseline=None, restore_best_weights=True)"
      ],
      "execution_count": 12,
      "outputs": []
    },
    {
      "cell_type": "code",
      "metadata": {
        "id": "stcWFfhmanE1"
      },
      "source": [
        "dtlbc = DTLBC()\n",
        "opt = tf.keras.optimizers.Adam(learning_rate=lr_schedule)\n",
        "dtlbc.compile(optimizer=opt,loss='categorical_crossentropy',metrics=['acc'])"
      ],
      "execution_count": 13,
      "outputs": []
    },
    {
      "cell_type": "code",
      "metadata": {
        "colab": {
          "base_uri": "https://localhost:8080/"
        },
        "id": "kPSClLjuaq9C",
        "outputId": "8ed9af82-e683-44d2-ab83-065175a4a1ad"
      },
      "source": [
        "history = dtlbc.fit(X_train,y_train, epochs=250, validation_data=(X_test,y_test), class_weight=class_weights_dict_bc, callbacks=[cb])"
      ],
      "execution_count": 14,
      "outputs": [
        {
          "output_type": "stream",
          "name": "stdout",
          "text": [
            "Epoch 1/250\n",
            "610/610 [==============================] - 38s 33ms/step - loss: 2.0809 - acc: 0.5060 - val_loss: 1.1129 - val_acc: 0.1327\n",
            "Epoch 2/250\n",
            "610/610 [==============================] - 18s 29ms/step - loss: 0.9978 - acc: 0.5106 - val_loss: 0.6678 - val_acc: 0.6111\n",
            "Epoch 3/250\n",
            "610/610 [==============================] - 18s 29ms/step - loss: 0.8083 - acc: 0.5135 - val_loss: 0.6152 - val_acc: 0.7319\n",
            "Epoch 4/250\n",
            "610/610 [==============================] - 18s 29ms/step - loss: 0.7475 - acc: 0.5337 - val_loss: 0.7794 - val_acc: 0.3536\n",
            "Epoch 5/250\n",
            "610/610 [==============================] - 18s 29ms/step - loss: 0.7164 - acc: 0.5366 - val_loss: 0.7367 - val_acc: 0.4238\n",
            "Epoch 6/250\n",
            "610/610 [==============================] - 18s 29ms/step - loss: 0.7033 - acc: 0.5458 - val_loss: 0.5642 - val_acc: 0.8328\n",
            "Epoch 7/250\n",
            "610/610 [==============================] - 18s 29ms/step - loss: 0.6899 - acc: 0.5599 - val_loss: 0.7438 - val_acc: 0.4059\n",
            "Epoch 8/250\n",
            "610/610 [==============================] - 18s 29ms/step - loss: 0.6823 - acc: 0.5718 - val_loss: 0.6927 - val_acc: 0.5387\n",
            "Epoch 9/250\n",
            "610/610 [==============================] - 18s 29ms/step - loss: 0.6653 - acc: 0.5911 - val_loss: 0.6180 - val_acc: 0.7028\n",
            "Epoch 10/250\n",
            "610/610 [==============================] - 18s 29ms/step - loss: 0.6601 - acc: 0.6018 - val_loss: 0.6286 - val_acc: 0.6755\n",
            "Epoch 11/250\n",
            "610/610 [==============================] - 18s 29ms/step - loss: 0.6502 - acc: 0.6179 - val_loss: 0.7010 - val_acc: 0.5157\n",
            "Epoch 12/250\n",
            "610/610 [==============================] - 18s 29ms/step - loss: 0.6404 - acc: 0.6260 - val_loss: 0.6928 - val_acc: 0.5333\n",
            "Epoch 13/250\n",
            "610/610 [==============================] - 18s 29ms/step - loss: 0.6308 - acc: 0.6394 - val_loss: 0.6082 - val_acc: 0.6905\n",
            "Epoch 14/250\n",
            "610/610 [==============================] - 18s 29ms/step - loss: 0.6286 - acc: 0.6405 - val_loss: 0.7554 - val_acc: 0.4379\n",
            "Epoch 15/250\n",
            "610/610 [==============================] - 18s 29ms/step - loss: 0.6205 - acc: 0.6461 - val_loss: 0.6442 - val_acc: 0.6261\n",
            "Epoch 16/250\n",
            "610/610 [==============================] - 18s 29ms/step - loss: 0.6124 - acc: 0.6592 - val_loss: 0.6708 - val_acc: 0.5739\n",
            "Epoch 17/250\n",
            "610/610 [==============================] - 18s 29ms/step - loss: 0.5978 - acc: 0.6731 - val_loss: 0.6195 - val_acc: 0.6556\n",
            "Epoch 18/250\n",
            "610/610 [==============================] - 18s 29ms/step - loss: 0.5977 - acc: 0.6680 - val_loss: 0.5684 - val_acc: 0.7298\n",
            "Epoch 19/250\n",
            "610/610 [==============================] - 18s 29ms/step - loss: 0.5879 - acc: 0.6869 - val_loss: 0.7069 - val_acc: 0.5374\n",
            "Epoch 20/250\n",
            "610/610 [==============================] - 18s 29ms/step - loss: 0.5808 - acc: 0.6851 - val_loss: 0.6068 - val_acc: 0.6763\n",
            "Epoch 21/250\n",
            "610/610 [==============================] - 18s 29ms/step - loss: 0.5698 - acc: 0.6965 - val_loss: 0.6176 - val_acc: 0.6544\n",
            "Epoch 22/250\n",
            "610/610 [==============================] - 18s 29ms/step - loss: 0.5639 - acc: 0.7005 - val_loss: 0.5904 - val_acc: 0.6896\n",
            "Epoch 23/250\n",
            "610/610 [==============================] - 18s 29ms/step - loss: 0.5580 - acc: 0.7065 - val_loss: 0.5945 - val_acc: 0.6872\n",
            "Epoch 24/250\n",
            "610/610 [==============================] - 18s 29ms/step - loss: 0.5567 - acc: 0.7101 - val_loss: 0.5421 - val_acc: 0.7467\n",
            "Epoch 25/250\n",
            "610/610 [==============================] - 18s 29ms/step - loss: 0.5493 - acc: 0.7104 - val_loss: 0.6601 - val_acc: 0.6068\n",
            "Epoch 26/250\n",
            "610/610 [==============================] - 18s 29ms/step - loss: 0.5427 - acc: 0.7210 - val_loss: 0.5985 - val_acc: 0.6761\n",
            "Epoch 27/250\n",
            "610/610 [==============================] - 18s 29ms/step - loss: 0.5368 - acc: 0.7278 - val_loss: 0.6704 - val_acc: 0.5973\n",
            "Epoch 28/250\n",
            "610/610 [==============================] - 18s 29ms/step - loss: 0.5239 - acc: 0.7333 - val_loss: 0.5428 - val_acc: 0.7274\n",
            "Epoch 29/250\n",
            "610/610 [==============================] - 18s 29ms/step - loss: 0.5276 - acc: 0.7296 - val_loss: 0.5980 - val_acc: 0.6804\n",
            "Epoch 30/250\n",
            "610/610 [==============================] - 18s 29ms/step - loss: 0.5158 - acc: 0.7364 - val_loss: 0.5699 - val_acc: 0.7030\n",
            "Epoch 31/250\n",
            "610/610 [==============================] - 18s 29ms/step - loss: 0.5134 - acc: 0.7432 - val_loss: 0.5644 - val_acc: 0.7087\n",
            "Epoch 32/250\n",
            "610/610 [==============================] - 18s 29ms/step - loss: 0.5070 - acc: 0.7452 - val_loss: 0.4893 - val_acc: 0.7809\n",
            "Epoch 33/250\n",
            "610/610 [==============================] - 18s 29ms/step - loss: 0.4987 - acc: 0.7518 - val_loss: 0.5517 - val_acc: 0.7194\n",
            "Epoch 34/250\n",
            "610/610 [==============================] - 18s 29ms/step - loss: 0.4826 - acc: 0.7657 - val_loss: 0.5530 - val_acc: 0.7145\n",
            "Epoch 35/250\n",
            "610/610 [==============================] - 18s 29ms/step - loss: 0.4868 - acc: 0.7581 - val_loss: 0.6149 - val_acc: 0.6599\n",
            "Epoch 36/250\n",
            "610/610 [==============================] - 18s 29ms/step - loss: 0.4774 - acc: 0.7635 - val_loss: 0.5594 - val_acc: 0.7108\n",
            "Epoch 37/250\n",
            "610/610 [==============================] - 18s 29ms/step - loss: 0.4778 - acc: 0.7622 - val_loss: 0.5242 - val_acc: 0.7440\n",
            "Epoch 38/250\n",
            "610/610 [==============================] - 18s 29ms/step - loss: 0.4765 - acc: 0.7660 - val_loss: 0.5686 - val_acc: 0.6993\n",
            "Epoch 39/250\n",
            "610/610 [==============================] - 18s 29ms/step - loss: 0.4671 - acc: 0.7708 - val_loss: 0.5647 - val_acc: 0.7034\n",
            "Epoch 40/250\n",
            "610/610 [==============================] - 18s 29ms/step - loss: 0.4617 - acc: 0.7718 - val_loss: 0.5756 - val_acc: 0.6919\n",
            "Epoch 41/250\n",
            "610/610 [==============================] - 18s 29ms/step - loss: 0.4547 - acc: 0.7798 - val_loss: 0.5666 - val_acc: 0.7019\n",
            "Epoch 42/250\n",
            "610/610 [==============================] - 18s 29ms/step - loss: 0.4555 - acc: 0.7746 - val_loss: 0.5357 - val_acc: 0.7321\n",
            "Epoch 43/250\n",
            "610/610 [==============================] - 18s 29ms/step - loss: 0.4437 - acc: 0.7857 - val_loss: 0.5499 - val_acc: 0.7204\n",
            "Epoch 44/250\n",
            "610/610 [==============================] - 18s 29ms/step - loss: 0.4508 - acc: 0.7790 - val_loss: 0.6024 - val_acc: 0.6738\n",
            "Epoch 45/250\n",
            "610/610 [==============================] - 18s 29ms/step - loss: 0.4426 - acc: 0.7796 - val_loss: 0.5840 - val_acc: 0.6872\n",
            "Epoch 46/250\n",
            "610/610 [==============================] - 18s 29ms/step - loss: 0.4410 - acc: 0.7857 - val_loss: 0.4997 - val_acc: 0.7621\n",
            "Epoch 47/250\n",
            "610/610 [==============================] - 18s 29ms/step - loss: 0.4425 - acc: 0.7853 - val_loss: 0.4950 - val_acc: 0.7664\n",
            "Epoch 48/250\n",
            "610/610 [==============================] - 18s 29ms/step - loss: 0.4311 - acc: 0.7939 - val_loss: 0.4723 - val_acc: 0.7869\n",
            "Epoch 49/250\n",
            "610/610 [==============================] - 18s 29ms/step - loss: 0.4283 - acc: 0.7946 - val_loss: 0.5083 - val_acc: 0.7491\n",
            "Epoch 50/250\n",
            "610/610 [==============================] - 18s 29ms/step - loss: 0.4221 - acc: 0.7955 - val_loss: 0.5140 - val_acc: 0.7471\n",
            "Epoch 51/250\n",
            "610/610 [==============================] - 18s 29ms/step - loss: 0.4152 - acc: 0.8025 - val_loss: 0.4900 - val_acc: 0.7737\n",
            "Epoch 52/250\n",
            "610/610 [==============================] - 18s 29ms/step - loss: 0.4108 - acc: 0.7997 - val_loss: 0.4736 - val_acc: 0.7811\n",
            "Epoch 53/250\n",
            "610/610 [==============================] - 18s 29ms/step - loss: 0.4100 - acc: 0.8011 - val_loss: 0.5478 - val_acc: 0.7270\n",
            "Epoch 54/250\n",
            "610/610 [==============================] - 18s 29ms/step - loss: 0.4118 - acc: 0.8008 - val_loss: 0.5357 - val_acc: 0.7333\n",
            "Epoch 55/250\n",
            "610/610 [==============================] - 18s 29ms/step - loss: 0.4046 - acc: 0.8079 - val_loss: 0.5563 - val_acc: 0.7108\n",
            "Epoch 56/250\n",
            "610/610 [==============================] - 18s 29ms/step - loss: 0.4003 - acc: 0.8074 - val_loss: 0.4825 - val_acc: 0.7774\n",
            "Epoch 57/250\n",
            "610/610 [==============================] - 18s 29ms/step - loss: 0.4005 - acc: 0.8098 - val_loss: 0.4985 - val_acc: 0.7606\n",
            "Epoch 58/250\n",
            "610/610 [==============================] - 18s 29ms/step - loss: 0.4011 - acc: 0.8098 - val_loss: 0.5144 - val_acc: 0.7508\n",
            "Epoch 59/250\n",
            "610/610 [==============================] - 18s 29ms/step - loss: 0.3882 - acc: 0.8135 - val_loss: 0.4606 - val_acc: 0.7922\n",
            "Epoch 60/250\n",
            "610/610 [==============================] - 18s 29ms/step - loss: 0.3891 - acc: 0.8129 - val_loss: 0.5011 - val_acc: 0.7594\n",
            "Epoch 61/250\n",
            "610/610 [==============================] - 18s 29ms/step - loss: 0.3830 - acc: 0.8185 - val_loss: 0.5867 - val_acc: 0.6976\n",
            "Epoch 62/250\n",
            "610/610 [==============================] - 18s 29ms/step - loss: 0.3826 - acc: 0.8183 - val_loss: 0.4947 - val_acc: 0.7655\n",
            "Epoch 63/250\n",
            "610/610 [==============================] - 18s 29ms/step - loss: 0.3825 - acc: 0.8197 - val_loss: 0.4660 - val_acc: 0.7879\n",
            "Epoch 64/250\n",
            "610/610 [==============================] - 18s 29ms/step - loss: 0.3756 - acc: 0.8206 - val_loss: 0.5597 - val_acc: 0.7175\n",
            "Epoch 65/250\n",
            "610/610 [==============================] - 18s 29ms/step - loss: 0.3687 - acc: 0.8312 - val_loss: 0.5335 - val_acc: 0.7358\n",
            "Epoch 66/250\n",
            "610/610 [==============================] - 18s 29ms/step - loss: 0.3639 - acc: 0.8273 - val_loss: 0.4663 - val_acc: 0.7883\n",
            "Epoch 67/250\n",
            "610/610 [==============================] - 18s 29ms/step - loss: 0.3674 - acc: 0.8247 - val_loss: 0.5210 - val_acc: 0.7487\n",
            "Epoch 68/250\n",
            "610/610 [==============================] - 18s 29ms/step - loss: 0.3660 - acc: 0.8282 - val_loss: 0.4372 - val_acc: 0.8139\n",
            "Epoch 69/250\n",
            "610/610 [==============================] - 18s 29ms/step - loss: 0.3638 - acc: 0.8294 - val_loss: 0.5200 - val_acc: 0.7495\n",
            "Epoch 70/250\n",
            "610/610 [==============================] - 18s 29ms/step - loss: 0.3568 - acc: 0.8349 - val_loss: 0.5536 - val_acc: 0.7276\n",
            "Epoch 71/250\n",
            "610/610 [==============================] - 18s 29ms/step - loss: 0.3589 - acc: 0.8294 - val_loss: 0.4381 - val_acc: 0.8121\n",
            "Epoch 72/250\n",
            "610/610 [==============================] - 18s 29ms/step - loss: 0.3515 - acc: 0.8362 - val_loss: 0.5351 - val_acc: 0.7446\n",
            "Epoch 73/250\n",
            "610/610 [==============================] - 18s 29ms/step - loss: 0.3458 - acc: 0.8375 - val_loss: 0.5172 - val_acc: 0.7545\n",
            "Epoch 74/250\n",
            "610/610 [==============================] - 18s 29ms/step - loss: 0.3480 - acc: 0.8380 - val_loss: 0.5048 - val_acc: 0.7655\n",
            "Epoch 75/250\n",
            "610/610 [==============================] - 18s 29ms/step - loss: 0.3477 - acc: 0.8382 - val_loss: 0.5726 - val_acc: 0.7163\n",
            "Epoch 76/250\n",
            "610/610 [==============================] - 18s 29ms/step - loss: 0.3343 - acc: 0.8452 - val_loss: 0.4869 - val_acc: 0.7774\n",
            "Epoch 77/250\n",
            "610/610 [==============================] - 18s 29ms/step - loss: 0.3347 - acc: 0.8455 - val_loss: 0.4407 - val_acc: 0.8121\n",
            "Epoch 78/250\n",
            "610/610 [==============================] - 18s 29ms/step - loss: 0.3394 - acc: 0.8376 - val_loss: 0.4423 - val_acc: 0.8119\n",
            "Epoch 79/250\n",
            "610/610 [==============================] - 18s 29ms/step - loss: 0.3385 - acc: 0.8466 - val_loss: 0.4883 - val_acc: 0.7766\n",
            "Epoch 80/250\n",
            "610/610 [==============================] - 18s 29ms/step - loss: 0.3337 - acc: 0.8445 - val_loss: 0.4344 - val_acc: 0.8191\n",
            "Epoch 81/250\n",
            "610/610 [==============================] - 18s 29ms/step - loss: 0.3289 - acc: 0.8475 - val_loss: 0.5470 - val_acc: 0.7387\n",
            "Epoch 82/250\n",
            "610/610 [==============================] - 18s 29ms/step - loss: 0.3301 - acc: 0.8484 - val_loss: 0.5047 - val_acc: 0.7684\n",
            "Epoch 83/250\n",
            "610/610 [==============================] - 18s 29ms/step - loss: 0.3287 - acc: 0.8476 - val_loss: 0.5254 - val_acc: 0.7516\n",
            "Epoch 84/250\n",
            "610/610 [==============================] - 18s 29ms/step - loss: 0.3257 - acc: 0.8527 - val_loss: 0.4443 - val_acc: 0.8133\n",
            "Epoch 85/250\n",
            "610/610 [==============================] - 18s 29ms/step - loss: 0.3236 - acc: 0.8482 - val_loss: 0.4302 - val_acc: 0.8275\n",
            "Epoch 86/250\n",
            "610/610 [==============================] - 18s 29ms/step - loss: 0.3202 - acc: 0.8522 - val_loss: 0.5034 - val_acc: 0.7684\n",
            "Epoch 87/250\n",
            "610/610 [==============================] - 18s 29ms/step - loss: 0.3137 - acc: 0.8551 - val_loss: 0.5728 - val_acc: 0.7184\n",
            "Epoch 88/250\n",
            "610/610 [==============================] - 18s 29ms/step - loss: 0.3166 - acc: 0.8553 - val_loss: 0.4859 - val_acc: 0.7822\n",
            "Epoch 89/250\n",
            "610/610 [==============================] - 18s 29ms/step - loss: 0.3124 - acc: 0.8555 - val_loss: 0.4700 - val_acc: 0.7953\n",
            "Epoch 90/250\n",
            "610/610 [==============================] - 18s 29ms/step - loss: 0.3158 - acc: 0.8539 - val_loss: 0.4365 - val_acc: 0.8209\n",
            "Epoch 91/250\n",
            "610/610 [==============================] - 18s 29ms/step - loss: 0.3085 - acc: 0.8601 - val_loss: 0.5025 - val_acc: 0.7717\n",
            "Epoch 92/250\n",
            "610/610 [==============================] - 18s 29ms/step - loss: 0.2969 - acc: 0.8633 - val_loss: 0.4756 - val_acc: 0.7912\n",
            "Epoch 93/250\n",
            "610/610 [==============================] - 18s 29ms/step - loss: 0.3007 - acc: 0.8618 - val_loss: 0.4700 - val_acc: 0.7971\n",
            "Restoring model weights from the end of the best epoch.\n",
            "Epoch 00093: early stopping\n"
          ]
        }
      ]
    },
    {
      "cell_type": "code",
      "metadata": {
        "colab": {
          "base_uri": "https://localhost:8080/"
        },
        "id": "glbNpB1-eaAL",
        "outputId": "7f279efd-d6e6-4216-cbb5-de04045830bd"
      },
      "source": [
        "dtlbc.save('./drive/MyDrive/COUGHVID/Models/dtlbc', save_format=\"tf\")"
      ],
      "execution_count": null,
      "outputs": [
        {
          "name": "stdout",
          "output_type": "stream",
          "text": [
            "INFO:tensorflow:Assets written to: ./drive/MyDrive/COUGHVID/Models/dtlbc/assets\n"
          ]
        }
      ]
    },
    {
      "cell_type": "code",
      "metadata": {
        "id": "jEswg5HFpokM"
      },
      "source": [
        "predictions = getPredictions(X_test, dtlbc)"
      ],
      "execution_count": 15,
      "outputs": []
    },
    {
      "cell_type": "code",
      "metadata": {
        "colab": {
          "base_uri": "https://localhost:8080/",
          "height": 143
        },
        "id": "ecavkV0fb70m",
        "outputId": "c01e5eaa-2bd1-4e9e-e751-c8ff00f672d3"
      },
      "source": [
        "results = getAllMetricsForBC(y_test, predictions)\n",
        "results"
      ],
      "execution_count": 16,
      "outputs": [
        {
          "output_type": "execute_result",
          "data": {
            "text/html": [
              "<div>\n",
              "<style scoped>\n",
              "    .dataframe tbody tr th:only-of-type {\n",
              "        vertical-align: middle;\n",
              "    }\n",
              "\n",
              "    .dataframe tbody tr th {\n",
              "        vertical-align: top;\n",
              "    }\n",
              "\n",
              "    .dataframe thead th {\n",
              "        text-align: right;\n",
              "    }\n",
              "</style>\n",
              "<table border=\"1\" class=\"dataframe\">\n",
              "  <thead>\n",
              "    <tr style=\"text-align: right;\">\n",
              "      <th></th>\n",
              "      <th>Class</th>\n",
              "      <th>F1 Score</th>\n",
              "      <th>Sensitivity</th>\n",
              "      <th>Specificity</th>\n",
              "      <th>Precision</th>\n",
              "      <th>Recall</th>\n",
              "      <th>Accuracy</th>\n",
              "    </tr>\n",
              "  </thead>\n",
              "  <tbody>\n",
              "    <tr>\n",
              "      <th>0</th>\n",
              "      <td>Overall</td>\n",
              "      <td>-</td>\n",
              "      <td>-</td>\n",
              "      <td>-</td>\n",
              "      <td>-</td>\n",
              "      <td>-</td>\n",
              "      <td>0.813949</td>\n",
              "    </tr>\n",
              "    <tr>\n",
              "      <th>1</th>\n",
              "      <td>Healthy</td>\n",
              "      <td>89.5447</td>\n",
              "      <td>86.5805</td>\n",
              "      <td>86.5805</td>\n",
              "      <td>92.719</td>\n",
              "      <td>86.5805</td>\n",
              "      <td>-</td>\n",
              "    </tr>\n",
              "    <tr>\n",
              "      <th>2</th>\n",
              "      <td>COVID</td>\n",
              "      <td>15.6279</td>\n",
              "      <td>21.5938</td>\n",
              "      <td>21.5938</td>\n",
              "      <td>12.2449</td>\n",
              "      <td>21.5938</td>\n",
              "      <td>-</td>\n",
              "    </tr>\n",
              "  </tbody>\n",
              "</table>\n",
              "</div>"
            ],
            "text/plain": [
              "     Class F1 Score Sensitivity Specificity Precision   Recall  Accuracy\n",
              "0  Overall        -           -           -         -        -  0.813949\n",
              "1  Healthy  89.5447     86.5805     86.5805    92.719  86.5805         -\n",
              "2    COVID  15.6279     21.5938     21.5938   12.2449  21.5938         -"
            ]
          },
          "metadata": {},
          "execution_count": 16
        }
      ]
    },
    {
      "cell_type": "code",
      "metadata": {
        "colab": {
          "base_uri": "https://localhost:8080/",
          "height": 428
        },
        "id": "zdTC4Kxvsu6W",
        "outputId": "dce4fb31-0b86-47d4-f2ee-726132ff6646"
      },
      "source": [
        "matrix = confusion_matrix(np.argmax(y_test, axis=1), np.argmax(predictions, axis=1), normalize='true')\n",
        "labellist = ['No-COVID', 'COVID']\n",
        "plotConfusionMatrix(labellist, matrix)"
      ],
      "execution_count": 17,
      "outputs": [
        {
          "output_type": "display_data",
          "data": {
            "image/png": "[encoded data removed]",
            "text/plain": [
              "<Figure size 720x504 with 2 Axes>"
            ]
          },
          "metadata": {
            "needs_background": "light"
          }
        }
      ]
    },
    {
      "cell_type": "code",
      "metadata": {
        "colab": {
          "base_uri": "https://localhost:8080/",
          "height": 279
        },
        "id": "KS4WIWAQt7hh",
        "outputId": "9d379006-764f-4aa4-b87b-d9b32661e886"
      },
      "source": [
        "plotTrainingLoss(history.history['loss'], history.history['val_loss'])"
      ],
      "execution_count": 18,
      "outputs": [
        {
          "output_type": "display_data",
          "data": {
            "image/png": "[encoded data removed]",
            "text/plain": [
              "<Figure size 432x288 with 1 Axes>"
            ]
          },
          "metadata": {
            "needs_background": "light"
          }
        }
      ]
    },
    {
      "cell_type": "code",
      "metadata": {
        "colab": {
          "base_uri": "https://localhost:8080/",
          "height": 279
        },
        "id": "s90jj9-Cr4xc",
        "outputId": "2bce0843-190c-4bcf-859b-6ab7f0b6b336"
      },
      "source": [
        "plotTrainingAccuracy(history.history['acc'], history.history['val_acc'])"
      ],
      "execution_count": 19,
      "outputs": [
        {
          "output_type": "display_data",
          "data": {
            "image/png": "[encoded data removed]",
            "text/plain": [
              "<Figure size 432x288 with 1 Axes>"
            ]
          },
          "metadata": {
            "needs_background": "light"
          }
        }
      ]
    },
    {
      "cell_type": "markdown",
      "metadata": {
        "id": "YaFg1Shuub_L"
      },
      "source": [
        "As we can see, the model clearly overfits since the train accuracy increases while the test accuracy stays more or less the same."
      ]
    },
    {
      "cell_type": "markdown",
      "metadata": {
        "id": "XY4ZsqBS6O-0"
      },
      "source": [
        "###Evaluation of the SVM"
      ]
    },
    {
      "cell_type": "code",
      "metadata": {
        "colab": {
          "base_uri": "https://localhost:8080/"
        },
        "id": "fFf7ZJSp6RBQ",
        "outputId": "045ce633-471d-4927-c835-45fefa6e2362"
      },
      "source": [
        "features_svm = np.load('./drive/MyDrive/COUGHVID/mfccfeatures.npy', allow_pickle=True)\n",
        "labels_svm = np.load('./drive/MyDrive/COUGHVID/mfccfeatureslabels.npy', allow_pickle=True)\n",
        "print(features_svm.shape)\n",
        "print(labels_svm.shape)"
      ],
      "execution_count": null,
      "outputs": [
        {
          "output_type": "stream",
          "name": "stdout",
          "text": [
            "(23490, 256)\n",
            "(23490,)\n"
          ]
        }
      ]
    },
    {
      "cell_type": "code",
      "metadata": {
        "colab": {
          "base_uri": "https://localhost:8080/"
        },
        "id": "ZlCQnYY97nz3",
        "outputId": "06ad6480-504a-43f8-eb1e-19a416a23c1f"
      },
      "source": [
        "np.unique(labels_svm)"
      ],
      "execution_count": null,
      "outputs": [
        {
          "output_type": "execute_result",
          "data": {
            "text/plain": [
              "array(['COVID-19', 'healthy', 'symptomatic'], dtype=object)"
            ]
          },
          "metadata": {},
          "execution_count": 17
        }
      ]
    },
    {
      "cell_type": "code",
      "metadata": {
        "colab": {
          "base_uri": "https://localhost:8080/"
        },
        "id": "6k_rE0JN6cAh",
        "outputId": "66cf9074-c7dc-40ba-9158-418fd7c4c698"
      },
      "source": [
        "## calculate class weights\n",
        "class_weights_svm = compute_class_weight('balanced', np.unique(labels_svm), labels_svm)\n",
        "class_weights_dict_svm = {'COVID-19':class_weights_svm[0], 'healthy':class_weights_svm[1], 'symptomatic':class_weights_svm[2]}\n",
        "\n",
        "class_weights_dict_svm"
      ],
      "execution_count": null,
      "outputs": [
        {
          "output_type": "execute_result",
          "data": {
            "text/plain": [
              "{'COVID-19': 4.042333505420753,\n",
              " 'healthy': 0.4403824521934758,\n",
              " 'symptomatic': 2.0752716671084017}"
            ]
          },
          "metadata": {},
          "execution_count": 19
        }
      ]
    },
    {
      "cell_type": "code",
      "metadata": {
        "id": "fxcTHwJq61rd"
      },
      "source": [
        "X_train_svm, X_test_svm, y_train_svm, y_test_svm = train_test_split(features_svm, labels_svm, test_size=0.2, random_state=0)"
      ],
      "execution_count": null,
      "outputs": []
    },
    {
      "cell_type": "code",
      "metadata": {
        "id": "4n_ANQF46-e4"
      },
      "source": [
        "svm = SVM(classWeights=class_weights_dict_svm)\n",
        "svm.fit(X_train_svm, y_train_svm)"
      ],
      "execution_count": null,
      "outputs": []
    },
    {
      "cell_type": "code",
      "metadata": {
        "id": "DsZUhbH77Jjy"
      },
      "source": [
        "predictions = []\n",
        "for x in X_test_svm:\n",
        "  X = np.expand_dims(x, axis=0)\n",
        "  predictions.append(svm.predict(X)[0])\n",
        "predictions_oneHot = oneHotEncoding(predictions)\n",
        "y_test_svm_oneHot = oneHotEncoding(y_test_svm)"
      ],
      "execution_count": null,
      "outputs": []
    },
    {
      "cell_type": "code",
      "metadata": {
        "colab": {
          "base_uri": "https://localhost:8080/",
          "height": 175
        },
        "id": "x1s7dbRh7PhT",
        "outputId": "8e1d5903-a10c-4eac-f847-d0d8a274a654"
      },
      "source": [
        "results = getAllMetrics(y_test_svm_oneHot, predictions_oneHot)\n",
        "results"
      ],
      "execution_count": null,
      "outputs": [
        {
          "output_type": "execute_result",
          "data": {
            "text/html": [
              "<div>\n",
              "<style scoped>\n",
              "    .dataframe tbody tr th:only-of-type {\n",
              "        vertical-align: middle;\n",
              "    }\n",
              "\n",
              "    .dataframe tbody tr th {\n",
              "        vertical-align: top;\n",
              "    }\n",
              "\n",
              "    .dataframe thead th {\n",
              "        text-align: right;\n",
              "    }\n",
              "</style>\n",
              "<table border=\"1\" class=\"dataframe\">\n",
              "  <thead>\n",
              "    <tr style=\"text-align: right;\">\n",
              "      <th></th>\n",
              "      <th>Class</th>\n",
              "      <th>F1 Score</th>\n",
              "      <th>Sensitivity</th>\n",
              "      <th>Specificity</th>\n",
              "      <th>Precision</th>\n",
              "      <th>Recall</th>\n",
              "      <th>Accuracy</th>\n",
              "    </tr>\n",
              "  </thead>\n",
              "  <tbody>\n",
              "    <tr>\n",
              "      <th>0</th>\n",
              "      <td>Overall</td>\n",
              "      <td>-</td>\n",
              "      <td>-</td>\n",
              "      <td>-</td>\n",
              "      <td>-</td>\n",
              "      <td>-</td>\n",
              "      <td>0.629333</td>\n",
              "    </tr>\n",
              "    <tr>\n",
              "      <th>1</th>\n",
              "      <td>Healthy</td>\n",
              "      <td>57.5944</td>\n",
              "      <td>43.8503</td>\n",
              "      <td>71.9251</td>\n",
              "      <td>83.8875</td>\n",
              "      <td>43.8503</td>\n",
              "      <td>-</td>\n",
              "    </tr>\n",
              "    <tr>\n",
              "      <th>2</th>\n",
              "      <td>COVID</td>\n",
              "      <td>19.5251</td>\n",
              "      <td>41.573</td>\n",
              "      <td>70.7865</td>\n",
              "      <td>12.7586</td>\n",
              "      <td>41.573</td>\n",
              "      <td>-</td>\n",
              "    </tr>\n",
              "    <tr>\n",
              "      <th>3</th>\n",
              "      <td>Symptomatic</td>\n",
              "      <td>32.7801</td>\n",
              "      <td>48.4663</td>\n",
              "      <td>74.2331</td>\n",
              "      <td>24.7649</td>\n",
              "      <td>48.4663</td>\n",
              "      <td>-</td>\n",
              "    </tr>\n",
              "  </tbody>\n",
              "</table>\n",
              "</div>"
            ],
            "text/plain": [
              "         Class F1 Score Sensitivity Specificity Precision   Recall  Accuracy\n",
              "0      Overall        -           -           -         -        -  0.629333\n",
              "1      Healthy  57.5944     43.8503     71.9251   83.8875  43.8503         -\n",
              "2        COVID  19.5251      41.573     70.7865   12.7586   41.573         -\n",
              "3  Symptomatic  32.7801     48.4663     74.2331   24.7649  48.4663         -"
            ]
          },
          "metadata": {},
          "execution_count": 26
        }
      ]
    },
    {
      "cell_type": "code",
      "metadata": {
        "colab": {
          "base_uri": "https://localhost:8080/",
          "height": 428
        },
        "id": "kaLA3ReT9ZE6",
        "outputId": "888e1ff7-a762-4c57-93d2-6a12bab752e1"
      },
      "source": [
        "matrix = confusion_matrix(np.argmax(oneHotEncoding(y_test_svm), axis=1), np.argmax(oneHotEncoding(predictions), axis=1), normalize=\"true\")\n",
        "labellist = ['healthy','covid', 'symptomatic']\n",
        "plotConfusionMatrix(labellist, matrix)"
      ],
      "execution_count": null,
      "outputs": [
        {
          "output_type": "display_data",
          "data": {
            "image/png": "[encoded data removed]",
            "text/plain": [
              "<Figure size 720x504 with 2 Axes>"
            ]
          },
          "metadata": {
            "needs_background": "light"
          }
        }
      ]
    },
    {
      "cell_type": "markdown",
      "metadata": {
        "id": "Qb7XEpK2NUAt"
      },
      "source": [
        "##Evaluation with balanced datasets"
      ]
    },
    {
      "cell_type": "code",
      "metadata": {
        "id": "VeeEMZS7N4of",
        "colab": {
          "base_uri": "https://localhost:8080/"
        },
        "outputId": "896058f7-854a-4c96-88bf-4bb0940a8197"
      },
      "source": [
        "covid_indizes = np.where(labels=='COVID-19')\n",
        "print('COVID Samples: ' + str(len(covid_indizes[0])))\n",
        "symptom_indizes = np.where(labels=='symptomatic')\n",
        "print('Symptomatic Samples: ' + str(len(symptom_indizes[0])))\n",
        "healthy_indizes = np.where(labels=='healthy')\n",
        "print('Healthy Samples: ' + str(len(healthy_indizes[0])))"
      ],
      "execution_count": 20,
      "outputs": [
        {
          "output_type": "stream",
          "name": "stdout",
          "text": [
            "COVID Samples: 1984\n",
            "Symptomatic Samples: 3904\n",
            "Healthy Samples: 18486\n"
          ]
        }
      ]
    },
    {
      "cell_type": "markdown",
      "metadata": {
        "id": "oZTmRJR9Oazv"
      },
      "source": [
        "As we can see the dataset is highly unbalanced. Therefor we take from each class only the amount of samples that we have available of the most underrepresented class."
      ]
    },
    {
      "cell_type": "markdown",
      "metadata": {
        "id": "Z_F9A0gpxvJ0"
      },
      "source": [
        "##Evaluation of DTLMC"
      ]
    },
    {
      "cell_type": "code",
      "metadata": {
        "id": "v90l-snQNha6",
        "colab": {
          "base_uri": "https://localhost:8080/"
        },
        "outputId": "83c602c3-7632-48b9-cbc5-f70470f7b26d"
      },
      "source": [
        "data_new = dataSegmented[covid_indizes]\n",
        "data_new = np.append(data_new,dataSegmented[symptom_indizes[0][:len(covid_indizes[0])]], axis=0)\n",
        "data_new = np.append(data_new,dataSegmented[healthy_indizes[0][:len(covid_indizes[0])]], axis=0)\n",
        "\n",
        "data_new = np.expand_dims(data_new, axis=3)\n",
        "\n",
        "labels_new = labels[covid_indizes]\n",
        "labels_new = np.append(labels_new,labels[symptom_indizes[0][:len(covid_indizes[0])]])\n",
        "labels_new = np.append(labels_new,labels[healthy_indizes[0][:len(covid_indizes[0])]])\n",
        "\n",
        "labels_new = oneHotEncoding(labels_new)\n",
        "\n",
        "print(labels_new.shape)\n",
        "print(data_new.shape)"
      ],
      "execution_count": 21,
      "outputs": [
        {
          "output_type": "stream",
          "name": "stdout",
          "text": [
            "(5952, 3)\n",
            "(5952, 240, 320, 1)\n"
          ]
        }
      ]
    },
    {
      "cell_type": "code",
      "metadata": {
        "id": "X4yDrOnlOqta"
      },
      "source": [
        "# split data for train and test validation\n",
        "X_train, X_test, y_train, y_test = train_test_split(data_new, labels_new, test_size=0.2, random_state=0)"
      ],
      "execution_count": 22,
      "outputs": []
    },
    {
      "cell_type": "code",
      "metadata": {
        "id": "gTwbkVB4Outx"
      },
      "source": [
        "lr_schedule = tf.keras.optimizers.schedules.ExponentialDecay(\n",
        "    initial_learning_rate=0.00001,\n",
        "    decay_steps=10000,\n",
        "    decay_rate=0.9)\n",
        "\n",
        "cb = tf.keras.callbacks.EarlyStopping(monitor='val_loss', min_delta=0.01, patience=25, verbose=1,\n",
        "    mode='auto', baseline=None, restore_best_weights=True)\n",
        "\n",
        "dtlmc = DTLMC()\n",
        "opt = tf.keras.optimizers.Adam(learning_rate=lr_schedule)\n",
        "dtlmc.compile(optimizer=opt,loss='categorical_crossentropy',metrics=['acc'])\n"
      ],
      "execution_count": 23,
      "outputs": []
    },
    {
      "cell_type": "code",
      "metadata": {
        "colab": {
          "base_uri": "https://localhost:8080/"
        },
        "id": "jn5XRSeuOx22",
        "outputId": "396be704-072b-4548-8bf0-6f24fcd42070"
      },
      "source": [
        "history = dtlmc.fit(X_train,y_train, epochs=250, validation_data=(X_test,y_test), callbacks=[cb])"
      ],
      "execution_count": 24,
      "outputs": [
        {
          "output_type": "stream",
          "name": "stdout",
          "text": [
            "Epoch 1/250\n",
            "149/149 [==============================] - 6s 36ms/step - loss: 3.8623 - acc: 0.3333 - val_loss: 1.2285 - val_acc: 0.3703\n",
            "Epoch 2/250\n",
            "149/149 [==============================] - 4s 28ms/step - loss: 2.2516 - acc: 0.3422 - val_loss: 1.1260 - val_acc: 0.3686\n",
            "Epoch 3/250\n",
            "149/149 [==============================] - 4s 28ms/step - loss: 1.7151 - acc: 0.3394 - val_loss: 1.1063 - val_acc: 0.3594\n",
            "Epoch 4/250\n",
            "149/149 [==============================] - 4s 28ms/step - loss: 1.4115 - acc: 0.3516 - val_loss: 1.0934 - val_acc: 0.3787\n",
            "Epoch 5/250\n",
            "149/149 [==============================] - 4s 28ms/step - loss: 1.2550 - acc: 0.3693 - val_loss: 1.0904 - val_acc: 0.3661\n",
            "Epoch 6/250\n",
            "149/149 [==============================] - 4s 29ms/step - loss: 1.1921 - acc: 0.3579 - val_loss: 1.0890 - val_acc: 0.3921\n",
            "Epoch 7/250\n",
            "149/149 [==============================] - 4s 28ms/step - loss: 1.1441 - acc: 0.3703 - val_loss: 1.0899 - val_acc: 0.3728\n",
            "Epoch 8/250\n",
            "149/149 [==============================] - 4s 28ms/step - loss: 1.1156 - acc: 0.3875 - val_loss: 1.0880 - val_acc: 0.3787\n",
            "Epoch 9/250\n",
            "149/149 [==============================] - 4s 28ms/step - loss: 1.1062 - acc: 0.3879 - val_loss: 1.0880 - val_acc: 0.3812\n",
            "Epoch 10/250\n",
            "149/149 [==============================] - 4s 28ms/step - loss: 1.0997 - acc: 0.3968 - val_loss: 1.0856 - val_acc: 0.3887\n",
            "Epoch 11/250\n",
            "149/149 [==============================] - 4s 29ms/step - loss: 1.0871 - acc: 0.4098 - val_loss: 1.0842 - val_acc: 0.3871\n",
            "Epoch 12/250\n",
            "149/149 [==============================] - 4s 29ms/step - loss: 1.0784 - acc: 0.4161 - val_loss: 1.0835 - val_acc: 0.3971\n",
            "Epoch 13/250\n",
            "149/149 [==============================] - 4s 28ms/step - loss: 1.0616 - acc: 0.4333 - val_loss: 1.0806 - val_acc: 0.4022\n",
            "Epoch 14/250\n",
            "149/149 [==============================] - 4s 29ms/step - loss: 1.0608 - acc: 0.4302 - val_loss: 1.0781 - val_acc: 0.3887\n",
            "Epoch 15/250\n",
            "149/149 [==============================] - 4s 28ms/step - loss: 1.0491 - acc: 0.4507 - val_loss: 1.0770 - val_acc: 0.4030\n",
            "Epoch 16/250\n",
            "149/149 [==============================] - 4s 29ms/step - loss: 1.0508 - acc: 0.4480 - val_loss: 1.0772 - val_acc: 0.3980\n",
            "Epoch 17/250\n",
            "149/149 [==============================] - 4s 29ms/step - loss: 1.0422 - acc: 0.4541 - val_loss: 1.0750 - val_acc: 0.4005\n",
            "Epoch 18/250\n",
            "149/149 [==============================] - 4s 28ms/step - loss: 1.0332 - acc: 0.4608 - val_loss: 1.0731 - val_acc: 0.4047\n",
            "Epoch 19/250\n",
            "149/149 [==============================] - 4s 29ms/step - loss: 1.0257 - acc: 0.4764 - val_loss: 1.0709 - val_acc: 0.4198\n",
            "Epoch 20/250\n",
            "149/149 [==============================] - 4s 29ms/step - loss: 1.0219 - acc: 0.4862 - val_loss: 1.0723 - val_acc: 0.4131\n",
            "Epoch 21/250\n",
            "149/149 [==============================] - 4s 29ms/step - loss: 1.0233 - acc: 0.4825 - val_loss: 1.0726 - val_acc: 0.4081\n",
            "Epoch 22/250\n",
            "149/149 [==============================] - 4s 29ms/step - loss: 1.0044 - acc: 0.4974 - val_loss: 1.0693 - val_acc: 0.4106\n",
            "Epoch 23/250\n",
            "149/149 [==============================] - 4s 28ms/step - loss: 1.0014 - acc: 0.4854 - val_loss: 1.0718 - val_acc: 0.4005\n",
            "Epoch 24/250\n",
            "149/149 [==============================] - 4s 29ms/step - loss: 0.9969 - acc: 0.5026 - val_loss: 1.0734 - val_acc: 0.4139\n",
            "Epoch 25/250\n",
            "149/149 [==============================] - 4s 29ms/step - loss: 0.9840 - acc: 0.5203 - val_loss: 1.0707 - val_acc: 0.4139\n",
            "Epoch 26/250\n",
            "149/149 [==============================] - 4s 29ms/step - loss: 0.9814 - acc: 0.5222 - val_loss: 1.0746 - val_acc: 0.4198\n",
            "Epoch 27/250\n",
            "149/149 [==============================] - 4s 29ms/step - loss: 0.9723 - acc: 0.5224 - val_loss: 1.0750 - val_acc: 0.4114\n",
            "Epoch 28/250\n",
            "149/149 [==============================] - 4s 29ms/step - loss: 0.9687 - acc: 0.5295 - val_loss: 1.0696 - val_acc: 0.4030\n",
            "Epoch 29/250\n",
            "149/149 [==============================] - 4s 29ms/step - loss: 0.9586 - acc: 0.5360 - val_loss: 1.0699 - val_acc: 0.4139\n",
            "Epoch 30/250\n",
            "149/149 [==============================] - 4s 29ms/step - loss: 0.9482 - acc: 0.5472 - val_loss: 1.0711 - val_acc: 0.4064\n",
            "Epoch 31/250\n",
            "149/149 [==============================] - 4s 29ms/step - loss: 0.9417 - acc: 0.5524 - val_loss: 1.0674 - val_acc: 0.4131\n",
            "Epoch 32/250\n",
            "149/149 [==============================] - 4s 29ms/step - loss: 0.9407 - acc: 0.5581 - val_loss: 1.0697 - val_acc: 0.4139\n",
            "Epoch 33/250\n",
            "149/149 [==============================] - 4s 29ms/step - loss: 0.9274 - acc: 0.5610 - val_loss: 1.0692 - val_acc: 0.4039\n",
            "Epoch 34/250\n",
            "149/149 [==============================] - 4s 29ms/step - loss: 0.9240 - acc: 0.5591 - val_loss: 1.0686 - val_acc: 0.4165\n",
            "Epoch 35/250\n",
            "149/149 [==============================] - 4s 29ms/step - loss: 0.9184 - acc: 0.5644 - val_loss: 1.0745 - val_acc: 0.4190\n",
            "Epoch 36/250\n",
            "149/149 [==============================] - 4s 29ms/step - loss: 0.9104 - acc: 0.5677 - val_loss: 1.0816 - val_acc: 0.4047\n",
            "Epoch 37/250\n",
            "149/149 [==============================] - 4s 29ms/step - loss: 0.8987 - acc: 0.5789 - val_loss: 1.0860 - val_acc: 0.4307\n",
            "Epoch 38/250\n",
            "149/149 [==============================] - 4s 29ms/step - loss: 0.8972 - acc: 0.5839 - val_loss: 1.0780 - val_acc: 0.4282\n",
            "Epoch 39/250\n",
            "149/149 [==============================] - 4s 29ms/step - loss: 0.8873 - acc: 0.5864 - val_loss: 1.0813 - val_acc: 0.4173\n",
            "Epoch 40/250\n",
            "149/149 [==============================] - 4s 29ms/step - loss: 0.8773 - acc: 0.6016 - val_loss: 1.0743 - val_acc: 0.4274\n",
            "Epoch 41/250\n",
            "149/149 [==============================] - 4s 29ms/step - loss: 0.8687 - acc: 0.6003 - val_loss: 1.0855 - val_acc: 0.4291\n",
            "Epoch 42/250\n",
            "149/149 [==============================] - 4s 29ms/step - loss: 0.8600 - acc: 0.6070 - val_loss: 1.0783 - val_acc: 0.4257\n",
            "Epoch 43/250\n",
            "149/149 [==============================] - 4s 29ms/step - loss: 0.8530 - acc: 0.6144 - val_loss: 1.0842 - val_acc: 0.4198\n",
            "Epoch 44/250\n",
            "149/149 [==============================] - 4s 29ms/step - loss: 0.8452 - acc: 0.6175 - val_loss: 1.1040 - val_acc: 0.4207\n",
            "Epoch 45/250\n",
            "149/149 [==============================] - 4s 29ms/step - loss: 0.8519 - acc: 0.6116 - val_loss: 1.0840 - val_acc: 0.4139\n",
            "Epoch 46/250\n",
            "149/149 [==============================] - 4s 29ms/step - loss: 0.8361 - acc: 0.6268 - val_loss: 1.0894 - val_acc: 0.4215\n",
            "Epoch 47/250\n",
            "149/149 [==============================] - 4s 29ms/step - loss: 0.8149 - acc: 0.6415 - val_loss: 1.1085 - val_acc: 0.4223\n",
            "Restoring model weights from the end of the best epoch.\n",
            "Epoch 00047: early stopping\n"
          ]
        }
      ]
    },
    {
      "cell_type": "code",
      "metadata": {
        "id": "RlV4BJy1PqHd"
      },
      "source": [
        "predictions = []\n",
        "for x in X_test:\n",
        "  predArray = [0,0,0]\n",
        "  x = np.expand_dims(x, axis=0)\n",
        "  prediction = dtlmc.predict(x)\n",
        "  predArray[np.argmax(prediction[0])] = 1\n",
        "  predictions.append(predArray)"
      ],
      "execution_count": 25,
      "outputs": []
    },
    {
      "cell_type": "code",
      "metadata": {
        "colab": {
          "base_uri": "https://localhost:8080/",
          "height": 175
        },
        "id": "bfXBCAtSPxOk",
        "outputId": "d72830d7-a6de-4845-d7c8-9a797c157232"
      },
      "source": [
        "df = getAllMetrics(y_test, predictions)\n",
        "df"
      ],
      "execution_count": 26,
      "outputs": [
        {
          "output_type": "execute_result",
          "data": {
            "text/html": [
              "<div>\n",
              "<style scoped>\n",
              "    .dataframe tbody tr th:only-of-type {\n",
              "        vertical-align: middle;\n",
              "    }\n",
              "\n",
              "    .dataframe tbody tr th {\n",
              "        vertical-align: top;\n",
              "    }\n",
              "\n",
              "    .dataframe thead th {\n",
              "        text-align: right;\n",
              "    }\n",
              "</style>\n",
              "<table border=\"1\" class=\"dataframe\">\n",
              "  <thead>\n",
              "    <tr style=\"text-align: right;\">\n",
              "      <th></th>\n",
              "      <th>Class</th>\n",
              "      <th>F1 Score</th>\n",
              "      <th>Sensitivity</th>\n",
              "      <th>Specificity</th>\n",
              "      <th>Precision</th>\n",
              "      <th>Recall</th>\n",
              "      <th>Accuracy</th>\n",
              "    </tr>\n",
              "  </thead>\n",
              "  <tbody>\n",
              "    <tr>\n",
              "      <th>0</th>\n",
              "      <td>Overall</td>\n",
              "      <td>-</td>\n",
              "      <td>-</td>\n",
              "      <td>-</td>\n",
              "      <td>-</td>\n",
              "      <td>-</td>\n",
              "      <td>0.607053</td>\n",
              "    </tr>\n",
              "    <tr>\n",
              "      <th>1</th>\n",
              "      <td>Healthy</td>\n",
              "      <td>42.9907</td>\n",
              "      <td>46.3476</td>\n",
              "      <td>73.1738</td>\n",
              "      <td>40.0871</td>\n",
              "      <td>46.3476</td>\n",
              "      <td>-</td>\n",
              "    </tr>\n",
              "    <tr>\n",
              "      <th>2</th>\n",
              "      <td>COVID</td>\n",
              "      <td>35.9264</td>\n",
              "      <td>33.5092</td>\n",
              "      <td>66.7546</td>\n",
              "      <td>38.7195</td>\n",
              "      <td>33.5092</td>\n",
              "      <td>-</td>\n",
              "    </tr>\n",
              "    <tr>\n",
              "      <th>3</th>\n",
              "      <td>Symptomatic</td>\n",
              "      <td>43.4676</td>\n",
              "      <td>42.8916</td>\n",
              "      <td>71.4458</td>\n",
              "      <td>44.0594</td>\n",
              "      <td>42.8916</td>\n",
              "      <td>-</td>\n",
              "    </tr>\n",
              "  </tbody>\n",
              "</table>\n",
              "</div>"
            ],
            "text/plain": [
              "         Class F1 Score Sensitivity Specificity Precision   Recall  Accuracy\n",
              "0      Overall        -           -           -         -        -  0.607053\n",
              "1      Healthy  42.9907     46.3476     73.1738   40.0871  46.3476         -\n",
              "2        COVID  35.9264     33.5092     66.7546   38.7195  33.5092         -\n",
              "3  Symptomatic  43.4676     42.8916     71.4458   44.0594  42.8916         -"
            ]
          },
          "metadata": {},
          "execution_count": 26
        }
      ]
    },
    {
      "cell_type": "code",
      "metadata": {
        "colab": {
          "base_uri": "https://localhost:8080/",
          "height": 428
        },
        "id": "hI9QEgy8qzy7",
        "outputId": "e061a258-7828-465d-aa38-bae3b295a5b4"
      },
      "source": [
        "matrix = confusion_matrix(np.argmax(y_test, axis=1), np.argmax(predictions, axis=1), normalize=\"true\")\n",
        "labellist = ['healthy','covid', 'symptomatic']\n",
        "plotConfusionMatrix(labellist, matrix)"
      ],
      "execution_count": 27,
      "outputs": [
        {
          "output_type": "display_data",
          "data": {
            "image/png": "[encoded data removed]",
            "text/plain": [
              "<Figure size 720x504 with 2 Axes>"
            ]
          },
          "metadata": {
            "needs_background": "light"
          }
        }
      ]
    },
    {
      "cell_type": "code",
      "metadata": {
        "colab": {
          "base_uri": "https://localhost:8080/",
          "height": 282
        },
        "id": "QasROACecGjG",
        "outputId": "885b35d7-82f0-49ce-ea47-2dfcd2cd5ddc"
      },
      "source": [
        "plotTrainingLoss(history.history['loss'], history.history['val_loss'])"
      ],
      "execution_count": 28,
      "outputs": [
        {
          "output_type": "display_data",
          "data": {
            "image/png": "[encoded data removed]",
            "text/plain": [
              "<Figure size 432x288 with 1 Axes>"
            ]
          },
          "metadata": {
            "needs_background": "light"
          }
        }
      ]
    },
    {
      "cell_type": "code",
      "metadata": {
        "colab": {
          "base_uri": "https://localhost:8080/",
          "height": 279
        },
        "id": "klv0LSvycNHk",
        "outputId": "02979c4c-1297-41e7-81df-59852e9f2db5"
      },
      "source": [
        "plotTrainingAccuracy(history.history['acc'], history.history['val_acc'])"
      ],
      "execution_count": 29,
      "outputs": [
        {
          "output_type": "display_data",
          "data": {
            "image/png": "[encoded data removed]",
            "text/plain": [
              "<Figure size 432x288 with 1 Axes>"
            ]
          },
          "metadata": {
            "needs_background": "light"
          }
        }
      ]
    },
    {
      "cell_type": "markdown",
      "metadata": {
        "id": "C74uxBZ989rG"
      },
      "source": [
        "##Evaluation of DTLBC"
      ]
    },
    {
      "cell_type": "code",
      "metadata": {
        "colab": {
          "base_uri": "https://localhost:8080/"
        },
        "id": "oWK0mNnw9DaF",
        "outputId": "ccad9e09-ecb3-4303-98ff-c0b415109ed1"
      },
      "source": [
        "data_new = dataSegmented[covid_indizes]\n",
        "data_new = np.append(data_new,dataSegmented[symptom_indizes[0][:int((len(covid_indizes[0])/2))]], axis=0)\n",
        "data_new = np.append(data_new,dataSegmented[healthy_indizes[0][:int((len(covid_indizes[0])/2))]], axis=0)\n",
        "\n",
        "data_new = np.expand_dims(data_new, axis=3)\n",
        "\n",
        "labels_new = labels[covid_indizes]\n",
        "labels_new = np.append(labels_new,labels[symptom_indizes[0][:int((len(covid_indizes[0])/2))]])\n",
        "labels_new = np.append(labels_new,labels[healthy_indizes[0][:int((len(covid_indizes[0])/2))]])\n",
        "\n",
        "labels_new = oneHotEncodingForBC(labels_new)\n",
        "\n",
        "print(labels_new.shape)\n",
        "print(data_new.shape)"
      ],
      "execution_count": 30,
      "outputs": [
        {
          "output_type": "stream",
          "name": "stdout",
          "text": [
            "(3968, 2)\n",
            "(3968, 240, 320, 1)\n"
          ]
        }
      ]
    },
    {
      "cell_type": "code",
      "metadata": {
        "id": "h0lW8DkkB-hi"
      },
      "source": [
        "assert labels_new.shape[0]/2 == len(covid_indizes[0])"
      ],
      "execution_count": 31,
      "outputs": []
    },
    {
      "cell_type": "code",
      "metadata": {
        "id": "RIv0sZ_H9OC9"
      },
      "source": [
        "X_train, X_test, y_train, y_test = train_test_split(data_new, labels_new, test_size=0.2, random_state=0)"
      ],
      "execution_count": 32,
      "outputs": []
    },
    {
      "cell_type": "code",
      "metadata": {
        "id": "Lhiw4fAH9OVo"
      },
      "source": [
        "lr_schedule = tf.keras.optimizers.schedules.ExponentialDecay(\n",
        "    initial_learning_rate=0.00001,\n",
        "    decay_steps=10000,\n",
        "    decay_rate=0.9)\n",
        "\n",
        "cb = tf.keras.callbacks.EarlyStopping(monitor='val_loss', min_delta=0.01, patience=25, verbose=1,\n",
        "    mode='auto', baseline=None, restore_best_weights=True)\n",
        "\n",
        "dtlbc = DTLBC()\n",
        "opt = tf.keras.optimizers.Adam(learning_rate=lr_schedule)\n",
        "dtlbc.compile(optimizer=opt,loss='categorical_crossentropy',metrics=['acc'])"
      ],
      "execution_count": 33,
      "outputs": []
    },
    {
      "cell_type": "code",
      "metadata": {
        "colab": {
          "base_uri": "https://localhost:8080/"
        },
        "id": "Qxph7Vap9STv",
        "outputId": "4317bd8a-6c4b-4a02-b2df-5393c4c8347b"
      },
      "source": [
        "history = dtlbc.fit(X_train,y_train, epochs=250, validation_data=(X_test,y_test), callbacks=[cb])"
      ],
      "execution_count": 34,
      "outputs": [
        {
          "output_type": "stream",
          "name": "stdout",
          "text": [
            "Epoch 1/250\n",
            "100/100 [==============================] - 4s 37ms/step - loss: 9.4064 - acc: 0.5101 - val_loss: 1.8421 - val_acc: 0.5126\n",
            "Epoch 2/250\n",
            "100/100 [==============================] - 3s 28ms/step - loss: 5.4685 - acc: 0.5072 - val_loss: 0.9406 - val_acc: 0.5139\n",
            "Epoch 3/250\n",
            "100/100 [==============================] - 3s 28ms/step - loss: 4.0460 - acc: 0.4978 - val_loss: 1.6999 - val_acc: 0.5176\n",
            "Epoch 4/250\n",
            "100/100 [==============================] - 3s 28ms/step - loss: 3.0113 - acc: 0.5104 - val_loss: 0.7791 - val_acc: 0.4798\n",
            "Epoch 5/250\n",
            "100/100 [==============================] - 3s 28ms/step - loss: 2.4126 - acc: 0.4943 - val_loss: 0.7805 - val_acc: 0.4975\n",
            "Epoch 6/250\n",
            "100/100 [==============================] - 3s 28ms/step - loss: 1.6300 - acc: 0.5255 - val_loss: 0.7839 - val_acc: 0.4975\n",
            "Epoch 7/250\n",
            "100/100 [==============================] - 3s 28ms/step - loss: 1.3142 - acc: 0.5066 - val_loss: 0.7378 - val_acc: 0.5126\n",
            "Epoch 8/250\n",
            "100/100 [==============================] - 3s 28ms/step - loss: 1.0185 - acc: 0.5221 - val_loss: 0.7447 - val_acc: 0.4975\n",
            "Epoch 9/250\n",
            "100/100 [==============================] - 3s 28ms/step - loss: 0.8926 - acc: 0.5107 - val_loss: 0.7341 - val_acc: 0.4924\n",
            "Epoch 10/250\n",
            "100/100 [==============================] - 3s 28ms/step - loss: 0.8076 - acc: 0.5243 - val_loss: 0.7130 - val_acc: 0.4950\n",
            "Epoch 11/250\n",
            "100/100 [==============================] - 3s 28ms/step - loss: 0.7580 - acc: 0.5299 - val_loss: 0.7054 - val_acc: 0.5239\n",
            "Epoch 12/250\n",
            "100/100 [==============================] - 3s 28ms/step - loss: 0.7420 - acc: 0.5391 - val_loss: 0.7083 - val_acc: 0.5013\n",
            "Epoch 13/250\n",
            "100/100 [==============================] - 3s 28ms/step - loss: 0.7226 - acc: 0.5454 - val_loss: 0.7032 - val_acc: 0.5214\n",
            "Epoch 14/250\n",
            "100/100 [==============================] - 3s 28ms/step - loss: 0.7099 - acc: 0.5520 - val_loss: 0.6935 - val_acc: 0.5365\n",
            "Epoch 15/250\n",
            "100/100 [==============================] - 3s 28ms/step - loss: 0.6959 - acc: 0.5728 - val_loss: 0.6919 - val_acc: 0.5428\n",
            "Epoch 16/250\n",
            "100/100 [==============================] - 3s 28ms/step - loss: 0.6866 - acc: 0.5882 - val_loss: 0.6934 - val_acc: 0.5252\n",
            "Epoch 17/250\n",
            "100/100 [==============================] - 3s 28ms/step - loss: 0.6855 - acc: 0.5725 - val_loss: 0.6906 - val_acc: 0.5693\n",
            "Epoch 18/250\n",
            "100/100 [==============================] - 3s 28ms/step - loss: 0.6845 - acc: 0.5747 - val_loss: 0.6880 - val_acc: 0.5416\n",
            "Epoch 19/250\n",
            "100/100 [==============================] - 3s 28ms/step - loss: 0.6725 - acc: 0.5907 - val_loss: 0.6863 - val_acc: 0.5466\n",
            "Epoch 20/250\n",
            "100/100 [==============================] - 3s 28ms/step - loss: 0.6595 - acc: 0.6118 - val_loss: 0.6979 - val_acc: 0.5302\n",
            "Epoch 21/250\n",
            "100/100 [==============================] - 3s 28ms/step - loss: 0.6550 - acc: 0.6087 - val_loss: 0.6843 - val_acc: 0.5630\n",
            "Epoch 22/250\n",
            "100/100 [==============================] - 3s 28ms/step - loss: 0.6546 - acc: 0.6153 - val_loss: 0.6853 - val_acc: 0.5579\n",
            "Epoch 23/250\n",
            "100/100 [==============================] - 3s 28ms/step - loss: 0.6473 - acc: 0.6185 - val_loss: 0.6902 - val_acc: 0.5466\n",
            "Epoch 24/250\n",
            "100/100 [==============================] - 3s 28ms/step - loss: 0.6372 - acc: 0.6421 - val_loss: 0.6846 - val_acc: 0.5617\n",
            "Epoch 25/250\n",
            "100/100 [==============================] - 3s 28ms/step - loss: 0.6400 - acc: 0.6314 - val_loss: 0.6841 - val_acc: 0.5668\n",
            "Epoch 26/250\n",
            "100/100 [==============================] - 3s 28ms/step - loss: 0.6279 - acc: 0.6427 - val_loss: 0.6890 - val_acc: 0.5882\n",
            "Epoch 27/250\n",
            "100/100 [==============================] - 3s 28ms/step - loss: 0.6347 - acc: 0.6437 - val_loss: 0.6835 - val_acc: 0.5718\n",
            "Epoch 28/250\n",
            "100/100 [==============================] - 3s 28ms/step - loss: 0.6259 - acc: 0.6569 - val_loss: 0.6871 - val_acc: 0.5630\n",
            "Epoch 29/250\n",
            "100/100 [==============================] - 3s 29ms/step - loss: 0.6145 - acc: 0.6613 - val_loss: 0.6879 - val_acc: 0.5617\n",
            "Epoch 30/250\n",
            "100/100 [==============================] - 3s 29ms/step - loss: 0.6190 - acc: 0.6534 - val_loss: 0.6888 - val_acc: 0.5768\n",
            "Epoch 31/250\n",
            "100/100 [==============================] - 3s 28ms/step - loss: 0.6142 - acc: 0.6613 - val_loss: 0.6862 - val_acc: 0.5781\n",
            "Epoch 32/250\n",
            "100/100 [==============================] - 3s 28ms/step - loss: 0.6046 - acc: 0.6651 - val_loss: 0.6932 - val_acc: 0.5504\n",
            "Epoch 33/250\n",
            "100/100 [==============================] - 3s 28ms/step - loss: 0.6115 - acc: 0.6604 - val_loss: 0.6908 - val_acc: 0.5844\n",
            "Epoch 34/250\n",
            "100/100 [==============================] - 3s 28ms/step - loss: 0.5960 - acc: 0.6821 - val_loss: 0.7016 - val_acc: 0.5504\n",
            "Epoch 35/250\n",
            "100/100 [==============================] - 3s 28ms/step - loss: 0.5936 - acc: 0.6837 - val_loss: 0.6921 - val_acc: 0.5617\n",
            "Epoch 36/250\n",
            "100/100 [==============================] - 3s 29ms/step - loss: 0.5948 - acc: 0.6742 - val_loss: 0.6912 - val_acc: 0.5642\n",
            "Epoch 37/250\n",
            "100/100 [==============================] - 3s 28ms/step - loss: 0.5816 - acc: 0.6934 - val_loss: 0.6912 - val_acc: 0.5919\n",
            "Epoch 38/250\n",
            "100/100 [==============================] - 3s 28ms/step - loss: 0.5821 - acc: 0.6922 - val_loss: 0.6958 - val_acc: 0.5806\n",
            "Epoch 39/250\n",
            "100/100 [==============================] - 3s 28ms/step - loss: 0.5741 - acc: 0.6972 - val_loss: 0.6944 - val_acc: 0.5869\n",
            "Epoch 40/250\n",
            "100/100 [==============================] - 3s 28ms/step - loss: 0.5771 - acc: 0.6903 - val_loss: 0.6901 - val_acc: 0.5768\n",
            "Epoch 41/250\n",
            "100/100 [==============================] - 3s 28ms/step - loss: 0.5776 - acc: 0.6912 - val_loss: 0.6940 - val_acc: 0.5844\n",
            "Epoch 42/250\n",
            "100/100 [==============================] - 3s 28ms/step - loss: 0.5647 - acc: 0.7114 - val_loss: 0.6943 - val_acc: 0.5693\n",
            "Epoch 43/250\n",
            "100/100 [==============================] - 3s 29ms/step - loss: 0.5651 - acc: 0.7086 - val_loss: 0.6960 - val_acc: 0.5793\n",
            "Epoch 44/250\n",
            "100/100 [==============================] - 3s 28ms/step - loss: 0.5626 - acc: 0.7001 - val_loss: 0.6946 - val_acc: 0.5831\n",
            "Epoch 45/250\n",
            "100/100 [==============================] - 3s 29ms/step - loss: 0.5526 - acc: 0.7171 - val_loss: 0.7062 - val_acc: 0.5932\n",
            "Epoch 46/250\n",
            "100/100 [==============================] - 3s 28ms/step - loss: 0.5493 - acc: 0.7171 - val_loss: 0.7049 - val_acc: 0.5730\n",
            "Epoch 47/250\n",
            "100/100 [==============================] - 3s 29ms/step - loss: 0.5429 - acc: 0.7388 - val_loss: 0.7036 - val_acc: 0.5680\n",
            "Epoch 48/250\n",
            "100/100 [==============================] - 3s 28ms/step - loss: 0.5377 - acc: 0.7284 - val_loss: 0.7138 - val_acc: 0.5693\n",
            "Epoch 49/250\n",
            "100/100 [==============================] - 3s 29ms/step - loss: 0.5429 - acc: 0.7212 - val_loss: 0.7053 - val_acc: 0.5806\n",
            "Epoch 50/250\n",
            "100/100 [==============================] - 3s 29ms/step - loss: 0.5316 - acc: 0.7350 - val_loss: 0.7093 - val_acc: 0.5856\n",
            "Epoch 51/250\n",
            "100/100 [==============================] - 3s 29ms/step - loss: 0.5345 - acc: 0.7331 - val_loss: 0.7126 - val_acc: 0.5819\n",
            "Epoch 52/250\n",
            "100/100 [==============================] - 3s 29ms/step - loss: 0.5238 - acc: 0.7489 - val_loss: 0.7117 - val_acc: 0.5831\n",
            "Restoring model weights from the end of the best epoch.\n",
            "Epoch 00052: early stopping\n"
          ]
        }
      ]
    },
    {
      "cell_type": "code",
      "metadata": {
        "id": "DJ4kZFLk_zet"
      },
      "source": [
        "predictions = getPredictions(X_test, dtlbc)"
      ],
      "execution_count": 35,
      "outputs": []
    },
    {
      "cell_type": "code",
      "metadata": {
        "colab": {
          "base_uri": "https://localhost:8080/",
          "height": 143
        },
        "id": "J0sIaL1qArh6",
        "outputId": "2374aebe-d618-457e-b2eb-7273ce9b9858"
      },
      "source": [
        "results = getAllMetricsForBC(y_test, predictions)\n",
        "results"
      ],
      "execution_count": 36,
      "outputs": [
        {
          "output_type": "execute_result",
          "data": {
            "text/html": [
              "<div>\n",
              "<style scoped>\n",
              "    .dataframe tbody tr th:only-of-type {\n",
              "        vertical-align: middle;\n",
              "    }\n",
              "\n",
              "    .dataframe tbody tr th {\n",
              "        vertical-align: top;\n",
              "    }\n",
              "\n",
              "    .dataframe thead th {\n",
              "        text-align: right;\n",
              "    }\n",
              "</style>\n",
              "<table border=\"1\" class=\"dataframe\">\n",
              "  <thead>\n",
              "    <tr style=\"text-align: right;\">\n",
              "      <th></th>\n",
              "      <th>Class</th>\n",
              "      <th>F1 Score</th>\n",
              "      <th>Sensitivity</th>\n",
              "      <th>Specificity</th>\n",
              "      <th>Precision</th>\n",
              "      <th>Recall</th>\n",
              "      <th>Accuracy</th>\n",
              "    </tr>\n",
              "  </thead>\n",
              "  <tbody>\n",
              "    <tr>\n",
              "      <th>0</th>\n",
              "      <td>Overall</td>\n",
              "      <td>-</td>\n",
              "      <td>-</td>\n",
              "      <td>-</td>\n",
              "      <td>-</td>\n",
              "      <td>-</td>\n",
              "      <td>0.571788</td>\n",
              "    </tr>\n",
              "    <tr>\n",
              "      <th>1</th>\n",
              "      <td>Healthy</td>\n",
              "      <td>55.0265</td>\n",
              "      <td>54.3081</td>\n",
              "      <td>54.3081</td>\n",
              "      <td>55.7641</td>\n",
              "      <td>54.3081</td>\n",
              "      <td>-</td>\n",
              "    </tr>\n",
              "    <tr>\n",
              "      <th>2</th>\n",
              "      <td>COVID</td>\n",
              "      <td>59.1346</td>\n",
              "      <td>59.854</td>\n",
              "      <td>59.854</td>\n",
              "      <td>58.4323</td>\n",
              "      <td>59.854</td>\n",
              "      <td>-</td>\n",
              "    </tr>\n",
              "  </tbody>\n",
              "</table>\n",
              "</div>"
            ],
            "text/plain": [
              "     Class F1 Score Sensitivity Specificity Precision   Recall  Accuracy\n",
              "0  Overall        -           -           -         -        -  0.571788\n",
              "1  Healthy  55.0265     54.3081     54.3081   55.7641  54.3081         -\n",
              "2    COVID  59.1346      59.854      59.854   58.4323   59.854         -"
            ]
          },
          "metadata": {},
          "execution_count": 36
        }
      ]
    },
    {
      "cell_type": "code",
      "metadata": {
        "colab": {
          "base_uri": "https://localhost:8080/",
          "height": 428
        },
        "id": "WoN4s4m6A-qc",
        "outputId": "a3695b59-4c84-4d3f-bdb3-08e30cbcf3fb"
      },
      "source": [
        "matrix = confusion_matrix(np.argmax(y_test, axis=1), np.argmax(predictions, axis=1), normalize='true')\n",
        "labellist = ['No-COVID', 'COVID']\n",
        "plotConfusionMatrix(labellist, matrix)"
      ],
      "execution_count": 37,
      "outputs": [
        {
          "output_type": "display_data",
          "data": {
            "image/png": "[encoded data removed]",
            "text/plain": [
              "<Figure size 720x504 with 2 Axes>"
            ]
          },
          "metadata": {
            "needs_background": "light"
          }
        }
      ]
    },
    {
      "cell_type": "code",
      "metadata": {
        "colab": {
          "base_uri": "https://localhost:8080/",
          "height": 279
        },
        "id": "PevQWxQFDBIA",
        "outputId": "2d3de548-fc73-44bf-c1f8-ee372cd743df"
      },
      "source": [
        "plotTrainingLoss(history.history['loss'], history.history['val_loss'])"
      ],
      "execution_count": 38,
      "outputs": [
        {
          "output_type": "display_data",
          "data": {
            "image/png": "[encoded data removed]",
            "text/plain": [
              "<Figure size 432x288 with 1 Axes>"
            ]
          },
          "metadata": {
            "needs_background": "light"
          }
        }
      ]
    },
    {
      "cell_type": "code",
      "metadata": {
        "colab": {
          "base_uri": "https://localhost:8080/",
          "height": 279
        },
        "id": "7aOdzew1DkdK",
        "outputId": "53c11a9f-f21d-43cc-8711-d2ffbd1a2c71"
      },
      "source": [
        "plotTrainingAccuracy(history.history['acc'], history.history['val_acc'])"
      ],
      "execution_count": 39,
      "outputs": [
        {
          "output_type": "display_data",
          "data": {
            "image/png": "[encoded data removed]",
            "text/plain": [
              "<Figure size 432x288 with 1 Axes>"
            ]
          },
          "metadata": {
            "needs_background": "light"
          }
        }
      ]
    },
    {
      "cell_type": "markdown",
      "metadata": {
        "id": "YxosYkIQBHHI"
      },
      "source": [
        "This shows that the class balancing approach does not perform better for the DTLBC. The results are not remarkably better than guessing. This is most likely due to the fact that the dataset is too small for the NN to learn features."
      ]
    },
    {
      "cell_type": "markdown",
      "metadata": {
        "id": "FBHElZVGUqmp"
      },
      "source": [
        "##Evaluation of the Support Vector Machine classifier"
      ]
    },
    {
      "cell_type": "code",
      "metadata": {
        "id": "8eWLkkSrU6ba"
      },
      "source": [
        "features_svm = np.load('./drive/MyDrive/COUGHVID/mfccfeatures.npy', allow_pickle=True)\n",
        "labels_svm = np.load('./drive/MyDrive/COUGHVID/mfccfeatureslabels.npy', allow_pickle=True)"
      ],
      "execution_count": null,
      "outputs": []
    },
    {
      "cell_type": "code",
      "metadata": {
        "colab": {
          "base_uri": "https://localhost:8080/"
        },
        "id": "ukjeHBjZVqeh",
        "outputId": "edb05f0a-828e-41aa-b9d8-c09009bdc0a4"
      },
      "source": [
        "print(features_svm.shape)\n",
        "print(labels_svm.shape)"
      ],
      "execution_count": null,
      "outputs": [
        {
          "name": "stdout",
          "output_type": "stream",
          "text": [
            "(23490, 256)\n",
            "(23490,)\n"
          ]
        }
      ]
    },
    {
      "cell_type": "markdown",
      "metadata": {
        "id": "FStmAEWbtLlr"
      },
      "source": [
        "Perform class balancing by hand. This is not too huge of a problem because SVMs should perform well an small datasets aswell."
      ]
    },
    {
      "cell_type": "code",
      "metadata": {
        "colab": {
          "base_uri": "https://localhost:8080/"
        },
        "id": "54BMGlcjt3zO",
        "outputId": "3ca3b7c5-9160-4817-bfe5-695541e778d1"
      },
      "source": [
        "covid_indizes = np.where(labels_svm=='COVID-19')\n",
        "print(len(covid_indizes[0]))\n",
        "symptom_indizes = np.where(labels_svm=='symptomatic')\n",
        "print(len(symptom_indizes[0]))\n",
        "healthy_indizes = np.where(labels_svm=='healthy')\n",
        "print(len(healthy_indizes[0]))"
      ],
      "execution_count": null,
      "outputs": [
        {
          "name": "stdout",
          "output_type": "stream",
          "text": [
            "1937\n",
            "3773\n",
            "17780\n"
          ]
        }
      ]
    },
    {
      "cell_type": "code",
      "metadata": {
        "id": "nZEFJSOsuBoB"
      },
      "source": [
        "data_new_svm = features_svm[covid_indizes]\n",
        "data_new_svm = np.append(data_new_svm,features_svm[symptom_indizes[0][:len(covid_indizes[0])]], axis=0)\n",
        "data_new_svm = np.append(data_new_svm,features_svm[healthy_indizes[0][:len(covid_indizes[0])]], axis=0)\n",
        "\n",
        "\n",
        "labels_new_svm = labels_svm[covid_indizes]\n",
        "labels_new_svm = np.append(labels_new_svm,labels_svm[symptom_indizes[0][:len(covid_indizes[0])]])\n",
        "labels_new_svm = np.append(labels_new_svm,labels_svm[healthy_indizes[0][:len(covid_indizes[0])]])"
      ],
      "execution_count": null,
      "outputs": []
    },
    {
      "cell_type": "code",
      "metadata": {
        "id": "x4QdCBogV-w7"
      },
      "source": [
        "X_train_svm, X_test_svm, y_train_svm, y_test_svm = train_test_split(data_new_svm, labels_new_svm, test_size=0.2, random_state=0)"
      ],
      "execution_count": null,
      "outputs": []
    },
    {
      "cell_type": "code",
      "metadata": {
        "id": "ipBMQukmUpW_"
      },
      "source": [
        "svm = SVM()\n",
        "svm.fit(X_train_svm, y_train_svm)"
      ],
      "execution_count": null,
      "outputs": []
    },
    {
      "cell_type": "code",
      "metadata": {
        "id": "96_8hiW7ixUI"
      },
      "source": [
        "pickle.dump(svm, open('./drive/MyDrive/COUGHVID/Models/svm', 'wb'))"
      ],
      "execution_count": null,
      "outputs": []
    },
    {
      "cell_type": "code",
      "metadata": {
        "id": "B14LUoKKUy0p"
      },
      "source": [
        "predictions = []\n",
        "for x in X_test_svm:\n",
        "  X = np.expand_dims(x, axis=0)\n",
        "  predictions.append(svm.predict(X)[0])"
      ],
      "execution_count": null,
      "outputs": []
    },
    {
      "cell_type": "code",
      "metadata": {
        "id": "4fo_gfAynhby"
      },
      "source": [
        "predictions_oneHot = oneHotEncoding(predictions)\n",
        "y_test_svm_oneHot = oneHotEncoding(y_test_svm)"
      ],
      "execution_count": null,
      "outputs": []
    },
    {
      "cell_type": "code",
      "metadata": {
        "colab": {
          "base_uri": "https://localhost:8080/",
          "height": 699
        },
        "id": "ZjXj7915th_j",
        "outputId": "63366227-68b3-4e32-cdb6-e80cd3b4c7a1"
      },
      "source": [
        "results = getAllMetrics(y_test_svm_oneHot, predictions_oneHot)\n",
        "results"
      ],
      "execution_count": null,
      "outputs": [
        {
          "name": "stdout",
          "output_type": "stream",
          "text": [
            "COVID Samples: 377\n",
            "Symptomatic Samples: 384\n",
            "Healthy Samples: 402\n",
            "True Positives for COVID Samples: 182.0\n",
            "True Negatives for COVID Samples: 559.0\n",
            "False Negatives for COVID Samples: 195.0\n",
            "False Positives for COVID Samples: 195.0\n",
            "True Positives for symptomatic Samples: 165.0\n",
            "True Negatives for symptomatic Samples: 549.0\n",
            "False Negatives for symptomatic Samples: 219.0\n",
            "False Positives for symptomatic Samples: 219.0\n",
            "True Positives for healthy samples: 155.0\n",
            "True Negatives for healthy samples: 557.0\n",
            "False Negatives for healthy samples: 247.0\n",
            "False Positives for healthy samples: 247.0\n",
            "Sensitivity for the covid class: 0.4827586\n",
            "Specificity for the covid class: 0.7413793\n",
            "Sensitivity for the symptom class: 0.4296875\n",
            "Specificity for the symptom class: 0.71484375\n",
            "Sensitivity for the healthy class: 0.38557214\n",
            "Specificity for the healthy class: 0.6927861\n",
            "Recall Healthy Samples: 0.38557214\n",
            "Recall COVID Samples: 0.4827586\n",
            "Recall Symptomatic Samples: 0.4296875\n",
            "Precision Healthy Samples: 0.44159544\n",
            "Precision COVID Samples: 0.40625\n",
            "Precision Symptomatic Samples: 0.4532967\n",
            "Accuracy: 0.6210949\n"
          ]
        },
        {
          "data": {
            "text/html": [
              "<div>\n",
              "<style scoped>\n",
              "    .dataframe tbody tr th:only-of-type {\n",
              "        vertical-align: middle;\n",
              "    }\n",
              "\n",
              "    .dataframe tbody tr th {\n",
              "        vertical-align: top;\n",
              "    }\n",
              "\n",
              "    .dataframe thead th {\n",
              "        text-align: right;\n",
              "    }\n",
              "</style>\n",
              "<table border=\"1\" class=\"dataframe\">\n",
              "  <thead>\n",
              "    <tr style=\"text-align: right;\">\n",
              "      <th></th>\n",
              "      <th>Class</th>\n",
              "      <th>F1 Score</th>\n",
              "      <th>Sensitivity</th>\n",
              "      <th>Specificity</th>\n",
              "      <th>Precision</th>\n",
              "      <th>Recall</th>\n",
              "      <th>Accuracy</th>\n",
              "    </tr>\n",
              "  </thead>\n",
              "  <tbody>\n",
              "    <tr>\n",
              "      <th>0</th>\n",
              "      <td>Overall</td>\n",
              "      <td>-</td>\n",
              "      <td>-</td>\n",
              "      <td>-</td>\n",
              "      <td>-</td>\n",
              "      <td>-</td>\n",
              "      <td>0.621095</td>\n",
              "    </tr>\n",
              "    <tr>\n",
              "      <th>1</th>\n",
              "      <td>Healthy</td>\n",
              "      <td>41.1687</td>\n",
              "      <td>38.5572</td>\n",
              "      <td>69.2786</td>\n",
              "      <td>44.1595</td>\n",
              "      <td>38.5572</td>\n",
              "      <td>-</td>\n",
              "    </tr>\n",
              "    <tr>\n",
              "      <th>2</th>\n",
              "      <td>COVID</td>\n",
              "      <td>44.1212</td>\n",
              "      <td>48.2759</td>\n",
              "      <td>74.1379</td>\n",
              "      <td>40.625</td>\n",
              "      <td>48.2759</td>\n",
              "      <td>-</td>\n",
              "    </tr>\n",
              "    <tr>\n",
              "      <th>3</th>\n",
              "      <td>Symptomatic</td>\n",
              "      <td>44.1176</td>\n",
              "      <td>42.9688</td>\n",
              "      <td>71.4844</td>\n",
              "      <td>45.3297</td>\n",
              "      <td>42.9688</td>\n",
              "      <td>-</td>\n",
              "    </tr>\n",
              "  </tbody>\n",
              "</table>\n",
              "</div>"
            ],
            "text/plain": [
              "         Class F1 Score Sensitivity Specificity Precision   Recall  Accuracy\n",
              "0      Overall        -           -           -         -        -  0.621095\n",
              "1      Healthy  41.1687     38.5572     69.2786   44.1595  38.5572         -\n",
              "2        COVID  44.1212     48.2759     74.1379    40.625  48.2759         -\n",
              "3  Symptomatic  44.1176     42.9688     71.4844   45.3297  42.9688         -"
            ]
          },
          "execution_count": 154,
          "metadata": {},
          "output_type": "execute_result"
        }
      ]
    },
    {
      "cell_type": "markdown",
      "metadata": {
        "id": "z1t0Togh3tSU"
      },
      "source": [
        "As we can see, the SVM classifier performs slightly better than pure guessing. We can further analyse the results bei taking a look at the confusion matrix. "
      ]
    },
    {
      "cell_type": "code",
      "metadata": {
        "id": "7VK3sXUpbW6e"
      },
      "source": [
        "predictions = oneHotEncoding(predictions)"
      ],
      "execution_count": null,
      "outputs": []
    },
    {
      "cell_type": "code",
      "metadata": {
        "id": "WYv4-c5pcx2u"
      },
      "source": [
        "y_test_oneHot = oneHotEncoding(y_test_svm)"
      ],
      "execution_count": null,
      "outputs": []
    },
    {
      "cell_type": "code",
      "metadata": {
        "colab": {
          "base_uri": "https://localhost:8080/",
          "height": 428
        },
        "id": "ngiQQ0NKZ6A3",
        "outputId": "4ca33836-c9ad-4b7c-bbcf-5f7eb1f9c7fa"
      },
      "source": [
        "matrix = confusion_matrix(np.argmax(y_test_oneHot, axis=1), np.argmax(predictions, axis=1), normalize=\"true\")\n",
        "labellist = ['healthy','covid', 'symptomatic']\n",
        "plotConfusionMatrix(labellist, matrix)"
      ],
      "execution_count": null,
      "outputs": [
        {
          "data": {
            "image/png": "[encoded data removed]",
            "text/plain": [
              "<Figure size 720x504 with 2 Axes>"
            ]
          },
          "metadata": {},
          "output_type": "display_data"
        }
      ]
    },
    {
      "cell_type": "markdown",
      "metadata": {
        "id": "mCPrMGTXeHNY"
      },
      "source": [
        "## Evaluation of the entire mediator"
      ]
    },
    {
      "cell_type": "markdown",
      "metadata": {
        "id": "j66wU2EcfwrX"
      },
      "source": [
        "Load trained classifiers from drive:"
      ]
    },
    {
      "cell_type": "code",
      "metadata": {
        "id": "ONV71NWXHbx-"
      },
      "source": [
        "dtlmc = new_model = tf.keras.models.load_model('./drive/MyDrive/COUGHVID/Models/dtlmc')\n",
        "dtlbc = tf.keras.models.load_model('./drive/MyDrive/COUGHVID/Models/dtlbc')\n",
        "svm = pickle.load(open('./drive/MyDrive/COUGHVID/Models/svm','rb'))"
      ],
      "execution_count": null,
      "outputs": []
    },
    {
      "cell_type": "code",
      "metadata": {
        "id": "OHwz2LPbeJRs"
      },
      "source": [
        "mediator = Mediator(dtlmc, dtlbc, svm)"
      ],
      "execution_count": null,
      "outputs": []
    },
    {
      "cell_type": "code",
      "metadata": {
        "id": "JYIXC4oVVSXV"
      },
      "source": [
        "X_spectrograms = np.load('./drive/MyDrive/COUGHVID/EvaluationSet/evaluationMelspecs.npy', allow_pickle=True)\n",
        "X_features = np.load('./drive/MyDrive/COUGHVID/EvaluationSet/evaluationFeatures.npy', allow_pickle=True)\n",
        "labels = np.load('./drive/MyDrive/COUGHVID/EvaluationSet/evaluationLabels.npy', allow_pickle=True)"
      ],
      "execution_count": null,
      "outputs": []
    },
    {
      "cell_type": "code",
      "metadata": {
        "colab": {
          "base_uri": "https://localhost:8080/"
        },
        "id": "N5F05tLbIU3z",
        "outputId": "28a31735-20fe-42d9-c746-e9575da5400f"
      },
      "source": [
        "print(X_spectrograms.shape)\n",
        "print(X_features.shape)"
      ],
      "execution_count": null,
      "outputs": [
        {
          "name": "stdout",
          "output_type": "stream",
          "text": [
            "(600, 240, 320, 1)\n",
            "(600, 256)\n"
          ]
        }
      ]
    },
    {
      "cell_type": "code",
      "metadata": {
        "id": "n4Sy6xS0WnIu"
      },
      "source": [
        "results = [] \n",
        "for index in range(0,600):\n",
        "  spectrogram = np.expand_dims(X_spectrograms[index], axis=0)\n",
        "  features=np.expand_dims(X_features[index], axis=0)\n",
        "  result = mediator.predict(spectrogram, features)\n",
        "  results.append(result)\n",
        "\n"
      ],
      "execution_count": null,
      "outputs": []
    },
    {
      "cell_type": "code",
      "metadata": {
        "colab": {
          "base_uri": "https://localhost:8080/"
        },
        "id": "0AUKOFb-Wq54",
        "outputId": "0e57f405-e9d7-403b-c43e-3b30e7065af0"
      },
      "source": [
        "Counter(results)"
      ],
      "execution_count": null,
      "outputs": [
        {
          "data": {
            "text/plain": [
              "Counter({0: 223, 2: 377})"
            ]
          },
          "execution_count": 65,
          "metadata": {},
          "output_type": "execute_result"
        }
      ]
    },
    {
      "cell_type": "code",
      "metadata": {
        "colab": {
          "base_uri": "https://localhost:8080/"
        },
        "id": "eE6ZOI1bmMRk",
        "outputId": "f29a4f32-7001-42ef-ec34-e12b5a57fd87"
      },
      "source": [
        "Counter(labels)"
      ],
      "execution_count": null,
      "outputs": [
        {
          "data": {
            "text/plain": [
              "Counter({'COVID-19': 52, 'healthy': 455, 'symptomatic': 93})"
            ]
          },
          "execution_count": 66,
          "metadata": {},
          "output_type": "execute_result"
        }
      ]
    },
    {
      "cell_type": "markdown",
      "metadata": {
        "id": "x3QCriWnY1dB"
      },
      "source": [
        "We can see that the mediator class never predicts a COVID infection because inter classifier agreement is too never given. This is not surprising considering the low precission for COVID infections the classifiers score."
      ]
    }
  ]
}