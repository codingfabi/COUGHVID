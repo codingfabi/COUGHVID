{
  "nbformat": 4,
  "nbformat_minor": 0,
  "metadata": {
    "accelerator": "GPU",
    "colab": {
      "name": "Evaluation.ipynb",
      "provenance": [],
      "collapsed_sections": [
        "YlfnvrUiqK94"
      ],
      "authorship_tag": "ABX9TyO9MZwwzRV27+JNYX1oCgeE"
    },
    "kernelspec": {
      "display_name": "Python 3",
      "name": "python3"
    },
    "language_info": {
      "name": "python"
    }
  },
  "cells": [
    {
      "cell_type": "code",
      "metadata": {
        "colab": {
          "base_uri": "https://localhost:8080/"
        },
        "id": "zNgw2aeIinHz",
        "outputId": "df5b2e85-7b7e-44bc-a09b-89d442ee396c"
      },
      "source": [
        "from google.colab import drive\n",
        "drive.mount('/content/drive', force_remount = True)"
      ],
      "execution_count": null,
      "outputs": [
        {
          "output_type": "stream",
          "name": "stdout",
          "text": [
            "Mounted at /content/drive\n"
          ]
        }
      ]
    },
    {
      "cell_type": "code",
      "metadata": {
        "id": "XmvhsNgxioBQ"
      },
      "source": [
        "from scipy.io import wavfile\n",
        "from scipy import signal\n",
        "from scipy.io import wavfile\n",
        "from scipy.signal import butter,filtfilt\n",
        "from scipy.signal import cwt\n",
        "from scipy.signal import hilbert\n",
        "from scipy.signal import resample\n",
        "from scipy.signal import decimate\n",
        "from scipy.signal import spectrogram\n",
        "from scipy.signal.windows import get_window\n",
        "from scipy.stats import kurtosis\n",
        "from scipy.integrate import simps\n",
        "\n",
        "import numpy as np\n",
        "\n",
        "import librosa\n",
        "import librosa.display\n",
        "import matplotlib.pyplot as plt\n",
        "import json\n",
        "import os\n",
        "import skimage.io\n",
        "import cv2\n",
        "import tensorflow as tf\n",
        "import csv\n",
        "from sklearn import svm\n",
        "from sklearn.decomposition import PCA\n",
        "from sklearn.manifold import TSNE\n",
        "from sklearn.metrics import confusion_matrix, plot_confusion_matrix\n",
        "import pandas as pd\n",
        "import seaborn as sns\n",
        "from sklearn.model_selection import train_test_split\n",
        "import IPython.display as ipd\n",
        "from shutil import copyfile, copy\n",
        "from sklearn.utils.class_weight import compute_class_weight\n",
        "from keras import backend as K\n",
        "import keras\n",
        "\n",
        "import seaborn as sn\n",
        "\n",
        "from google.colab.patches import cv2_imshow\n",
        "\n",
        "import warnings\n",
        "warnings.filterwarnings(\"ignore\")"
      ],
      "execution_count": null,
      "outputs": []
    },
    {
      "cell_type": "markdown",
      "metadata": {
        "id": "fLEKgdLI-3mg"
      },
      "source": [
        "We preliminary implement the three AI models: A multi class convolutional neural network (DTLMC), a binary class convolutional neural network (DTLBC) and a support vector machine."
      ]
    },
    {
      "cell_type": "code",
      "metadata": {
        "id": "JyraXvQLmNS6"
      },
      "source": [
        "# implementation of diagnosis clasifier architecture\n",
        "\n",
        "class DTLMC(tf.keras.Model):\n",
        "\n",
        "  def __init__(self):\n",
        "    super(DTLMC, self).__init__()\n",
        "    self.MaxPool1 = tf.keras.layers.MaxPool2D(pool_size=(2,2))\n",
        "    self.Conv1 = tf.keras.layers.Conv2D(filters = 16,kernel_size=(5,5), activation=tf.nn.relu)\n",
        "    self.Conv2 = tf.keras.layers.Conv2D(filters = 16,kernel_size=(5,5), activation=tf.nn.relu)\n",
        "    self.MaxPool2 = tf.keras.layers.MaxPool2D(pool_size=(2,2))\n",
        "    self.Dropout1 = tf.keras.layers.Dropout(rate = 0.15)\n",
        "    self.Conv3 = tf.keras.layers.Conv2D(filters = 16,kernel_size=(5,5), activation=tf.nn.relu)\n",
        "    self.Conv4 = tf.keras.layers.Conv2D(filters = 16,kernel_size=(5,5), activation=tf.nn.relu)\n",
        "    self.MaxPool3 = tf.keras.layers.MaxPool2D(pool_size=(2,2))\n",
        "    self.Dropout2 = tf.keras.layers.Dropout(rate = 0.15)\n",
        "    self.flatten = tf.keras.layers.Flatten()\n",
        "    self.Dense1 = tf.keras.layers.Dense(256)\n",
        "    self.Dropout3 = tf.keras.layers.Dropout(rate = 0.30)\n",
        "    self.Dense2 = tf.keras.layers.Dense(3,activation=tf.nn.softmax)\n",
        "\n",
        "  def call(self, inputs):\n",
        "    x = self.MaxPool1(inputs)\n",
        "    x = self.Conv1(x)\n",
        "    x = self.Conv2(x)\n",
        "    x = self.MaxPool2(x)\n",
        "    x = self.Dropout1(x)\n",
        "    x = self.Conv3(x)\n",
        "    x = self.Conv4(x)\n",
        "    x = self.MaxPool3(x)\n",
        "    x = self.Dropout2(x)\n",
        "    x = self.flatten(x)\n",
        "    x = self.Dense1(x)\n",
        "    x = self.Dropout3(x)\n",
        "    x = self.Dense2(x)\n",
        "    return x\n",
        "\n",
        "class DTLBC(tf.keras.Model):\n",
        "\n",
        "  def __init__(self):\n",
        "    super(DTLBC, self).__init__()\n",
        "    self.MaxPool1 = tf.keras.layers.MaxPool2D(pool_size=(2,2))\n",
        "    self.Conv1 = tf.keras.layers.Conv2D(filters = 16,kernel_size=(5,5), activation=tf.nn.relu)\n",
        "    self.Conv2 = tf.keras.layers.Conv2D(filters = 16,kernel_size=(5,5), activation=tf.nn.relu)\n",
        "    self.MaxPool2 = tf.keras.layers.MaxPool2D(pool_size=(2,2))\n",
        "    self.Dropout1 = tf.keras.layers.Dropout(rate = 0.15)\n",
        "    self.Conv3 = tf.keras.layers.Conv2D(filters = 16,kernel_size=(5,5), activation=tf.nn.relu)\n",
        "    self.Conv4 = tf.keras.layers.Conv2D(filters = 16,kernel_size=(5,5), activation=tf.nn.relu)\n",
        "    self.MaxPool3 = tf.keras.layers.MaxPool2D(pool_size=(2,2))\n",
        "    self.Dropout2 = tf.keras.layers.Dropout(rate = 0.15)\n",
        "    self.flatten = tf.keras.layers.Flatten()\n",
        "    self.Dense1 = tf.keras.layers.Dense(256)\n",
        "    self.Dropout3 = tf.keras.layers.Dropout(rate = 0.30)\n",
        "    self.Dense2 = tf.keras.layers.Dense(2,activation=tf.nn.softmax)\n",
        "\n",
        "  def call(self, inputs):\n",
        "    x = self.MaxPool1(inputs)\n",
        "    x = self.Conv1(x)\n",
        "    x = self.Conv2(x)\n",
        "    x = self.MaxPool2(x)\n",
        "    x = self.Dropout1(x)\n",
        "    x = self.Conv3(x)\n",
        "    x = self.Conv4(x)\n",
        "    x = self.MaxPool3(x)\n",
        "    x = self.Dropout2(x)\n",
        "    x = self.flatten(x)\n",
        "    x = self.Dense1(x)\n",
        "    x = self.Dropout3(x)\n",
        "    x = self.Dense2(x)\n",
        "    return x\n",
        "\n",
        "class SVM():\n",
        "\n",
        "  def __init__(self):\n",
        "    self.clf = sklearn.svm.SVC(kernel='linear')\n",
        "    # other possible kernels include: \"linear\", \"polynomial\", \"rbf\", \"sigmoid\"\n",
        "\n",
        "  def fit(X, y):\n",
        "    self.clf.fit(X,y)\n",
        "\n",
        "  def predict(X):\n",
        "    return self.clf.predict(X)"
      ],
      "execution_count": null,
      "outputs": []
    },
    {
      "cell_type": "markdown",
      "metadata": {
        "id": "z9ADeZ5B-2Bo"
      },
      "source": [
        "We furthermore implement a mediator class that evaluates and moderates the prediction results from all three classifiers combined."
      ]
    },
    {
      "cell_type": "code",
      "metadata": {
        "id": "diZwYcpT-1Ch"
      },
      "source": [
        "class Mediator():\n",
        "  '''\n",
        "  The mediator class is designed to realize agreement inbetween the different classifiers.\n",
        "  It returns the predicted class if all of the three classifiers agree with their prediction.\n",
        "  If they do not agree, the mediator class returns a inconclusive result.\n",
        "  '''\n",
        "  def __init__(self, dtlmc, dtlbc, svm):\n",
        "    \"\"\"\n",
        "    Constructor. Takes the pretrained classifiers as arguments\n",
        "    dtlmc: the pretrained multiclass classifier\n",
        "    dtlbc: the pretrained binaryclass classifier\n",
        "    svm: the pretrained support vector machine\n",
        "    \"\"\"\n",
        "    self.multiClassClassifier = dtlmc\n",
        "    self.binaryClassClassifier = dtlbc\n",
        "    self.svm = svm\n",
        "  \n",
        "  def predict(self, X):\n",
        "    \"\"\"\n",
        "    Collects predictions from all three classifiers and medaites them into single output\n",
        "    X: Features of test sample\n",
        "    \"\"\"\n",
        "    res_dtlmc = self.multiClassClassifier.predict(X)\n",
        "    res_dtlbc = self.binaryClassClassifier.predict(X)\n",
        "    res_svm = self.svm.predict(X)\n",
        "\n",
        "    argmax_dtlmc = np.argmax(res_dtlmc)\n",
        "    argmax_dtlbc = np.argmax(res_dtlbc)\n",
        "    argmax_svm = np.argmax(res_svm)\n",
        "\n",
        "    if argmax_dtlmc == 0 and argmax_dtlbc == 0 and argmax_svm == 0:\n",
        "      return 0\n",
        "    if argmax_dtlmc == 2 and argmax_svm == 2 and argmax_dtlbc == 1:\n",
        "      return 2\n",
        "    if argmax_dtlmc == 1 and argmax_svm == 1 and argmax_dtlbc == 0:\n",
        "      return 1\n",
        "    else:\n",
        "      return 3\n",
        "\n",
        "    def analyzeResult(self, res):\n",
        "      \"\"\"\n",
        "      takes the result of the mediator class and translates it into human readable labels\n",
        "      res: result of the predict() function of the Mediator class\n",
        "      \"\"\"\n",
        "      if res == 0:\n",
        "        return 'Covid unlikely'\n",
        "      if res == 1:\n",
        "        return 'Covid unlikely'\n",
        "      if res == 2:\n",
        "        return 'Covid likely'\n",
        "      if res == 3:\n",
        "        return 'Test inconclusive'\n",
        "        return 'Test inconclusiv'"
      ],
      "execution_count": null,
      "outputs": []
    },
    {
      "cell_type": "code",
      "metadata": {
        "id": "8-eIQBgBppZP"
      },
      "source": [
        "# define two functions for one hot encoding because binary classifier needs different labels\n",
        "def oneHotEncoding(labels):\n",
        "  oneHotList = []\n",
        "  for label in labels:\n",
        "    if label == 'healthy':\n",
        "      oneHotList.append([1.0,0.0,0.0])\n",
        "    elif label == 'symptomatic':\n",
        "      oneHotList.append([0.0,0.0,1.0])\n",
        "    elif label == 'COVID-19':\n",
        "      oneHotList.append([0.0,1.0,0.0])\n",
        "\n",
        "  return np.array(oneHotList)\n",
        "\n",
        "def oneHotEncodingForBC(labels):\n",
        "  oneHotList = []\n",
        "  for label in labels:\n",
        "    if label == 'healthy':\n",
        "      oneHotList.append([1.0,0.0])\n",
        "    elif label == 'symptomatic':\n",
        "      oneHotList.append([1.0,0.0])\n",
        "    elif label == 'COVID-19':\n",
        "      oneHotList.append([0.0,1.0])\n",
        "  \n",
        "  return np.array(oneHotList)"
      ],
      "execution_count": null,
      "outputs": []
    },
    {
      "cell_type": "markdown",
      "metadata": {
        "id": "YlfnvrUiqK94"
      },
      "source": [
        "#Evaluation on whole cough samples"
      ]
    },
    {
      "cell_type": "code",
      "metadata": {
        "id": "YS_n1NMPixMr"
      },
      "source": [
        "def valueFromJsonParser(fileName, key, path='./drive/MyDrive/COUGHVID/test_dset/'):\n",
        "    \"\"\"\n",
        "    Returns the status of the specified json file \n",
        "    \"\"\"    \n",
        "    with open(os.path.join(path, fileName)) as file:\n",
        "        data = json.load(file)\n",
        "        return data[str(key)]\n",
        "\n",
        "\n",
        "def loadMelspectrograms(path, jsonFilesPath):\n",
        "  data = []\n",
        "  labels = []\n",
        "  for (dirpath, dirnames, filenames) in os.walk(path):\n",
        "    for filename in filenames[0:4000]:\n",
        "      img = cv2.imread(path + filename)\n",
        "      data.append(img)\n",
        "  for (dirpath,dirnames,filenames) in os.walk(jsonFilesPath):\n",
        "    for filename in filenames[0:8000]:\n",
        "      if '.json' in filename:\n",
        "        label = valueFromJsonParser(fileName=filename, key='status', path=jsonFilesPath)\n",
        "        labels.append(label)\n",
        "\n",
        "  return np.float32(np.array(data)), np.array(labels)"
      ],
      "execution_count": null,
      "outputs": []
    },
    {
      "cell_type": "code",
      "metadata": {
        "id": "Rbsz0Gc7i1iE"
      },
      "source": [
        "data, labels = loadMelspectrograms('./drive/MyDrive/COUGHVID/MelSpectrogramsCleaned/', './drive/MyDrive/COUGHVID/public_dataset_cleaned/')"
      ],
      "execution_count": null,
      "outputs": []
    },
    {
      "cell_type": "code",
      "metadata": {
        "id": "WtCMqKpzjiyc"
      },
      "source": [
        "X, Y = data, oneHotEncoding(labels)"
      ],
      "execution_count": null,
      "outputs": []
    },
    {
      "cell_type": "code",
      "metadata": {
        "colab": {
          "base_uri": "https://localhost:8080/"
        },
        "id": "cc-cvC226D-5",
        "outputId": "cdf4a722-68e9-4af9-86c3-5763454cf647"
      },
      "source": [
        "print(data.shape)"
      ],
      "execution_count": null,
      "outputs": [
        {
          "name": "stdout",
          "output_type": "stream",
          "text": [
            "(4000, 240, 320, 3)\n"
          ]
        }
      ]
    },
    {
      "cell_type": "markdown",
      "metadata": {
        "id": "UK7MudU3OIMk"
      },
      "source": [
        "Perform Class Balancing:"
      ]
    },
    {
      "cell_type": "code",
      "metadata": {
        "colab": {
          "base_uri": "https://localhost:8080/"
        },
        "id": "EGE4PFMH6GsM",
        "outputId": "67b15c14-4c19-4d32-f22c-99884f7e3864"
      },
      "source": [
        "''' counter = [0,0,0]\n",
        "for label in labels:\n",
        "  if label == 'healthy':\n",
        "    counter[0] += 1\n",
        "  if label == \"symptomatic\":\n",
        "    counter[1] += 1\n",
        "  if label == 'COVID-19':\n",
        "    counter[2] += 1\n",
        "\n",
        "print(counter)\n",
        " '''\n",
        "covid_indizes = np.where(labels=='COVID-19')\n",
        "print(len(covid_indizes[0]))\n",
        "symptom_indizes = np.where(labels=='symptomatic')\n",
        "print(len(symptom_indizes[0]))\n",
        "healthy_indizes = np.where(labels=='healthy')\n",
        "print(len(healthy_indizes[0]))"
      ],
      "execution_count": null,
      "outputs": [
        {
          "name": "stdout",
          "output_type": "stream",
          "text": [
            "364\n",
            "567\n",
            "3069\n"
          ]
        }
      ]
    },
    {
      "cell_type": "code",
      "metadata": {
        "id": "IYib0WqC769g"
      },
      "source": [
        "data_new = data[covid_indizes]\n",
        "data_new = np.append(data_new,data[symptom_indizes[0][:364]], axis=0)\n",
        "data_new = np.append(data_new,data[healthy_indizes[0][:364]], axis=0)\n",
        "\n",
        "labels_new = labels[covid_indizes]\n",
        "labels_new = np.append(labels_new,labels[symptom_indizes[0][:364]])\n",
        "labels_new = np.append(labels_new,labels[healthy_indizes[0][:364]])\n",
        "\n",
        "labels_new = oneHotEncoding(labels_new)\n"
      ],
      "execution_count": null,
      "outputs": []
    },
    {
      "cell_type": "code",
      "metadata": {
        "colab": {
          "base_uri": "https://localhost:8080/",
          "height": 399
        },
        "id": "0gcDj16OnP8N",
        "outputId": "19fc7ba3-3e28-4bb2-a6d7-e5347b3521ff"
      },
      "source": [
        "X_train, X_test, y_train, y_test = train_test_split(data_new, labels_new, test_size=0.25, random_state=0)\n",
        "\n",
        "dtlmc = DTLMC()\n",
        "dtlmc.compile(optimizer='adam',loss='categorical_crossentropy')\n",
        "dtlmc.fit(X_train,y_train, epochs=20)"
      ],
      "execution_count": null,
      "outputs": [
        {
          "ename": "TypeError",
          "evalue": "ignored",
          "output_type": "error",
          "traceback": [
            "\u001b[0;31m---------------------------------------------------------------------------\u001b[0m",
            "\u001b[0;31mTypeError\u001b[0m                                 Traceback (most recent call last)",
            "\u001b[0;32m<ipython-input-57-0398a1c8ba7e>\u001b[0m in \u001b[0;36m<module>\u001b[0;34m()\u001b[0m\n\u001b[1;32m      1\u001b[0m \u001b[0mX_train\u001b[0m\u001b[0;34m,\u001b[0m \u001b[0mX_test\u001b[0m\u001b[0;34m,\u001b[0m \u001b[0my_train\u001b[0m\u001b[0;34m,\u001b[0m \u001b[0my_test\u001b[0m \u001b[0;34m=\u001b[0m \u001b[0mtrain_test_split\u001b[0m\u001b[0;34m(\u001b[0m\u001b[0mdata_new\u001b[0m\u001b[0;34m,\u001b[0m \u001b[0mlabels_new\u001b[0m\u001b[0;34m,\u001b[0m \u001b[0mtest_size\u001b[0m\u001b[0;34m=\u001b[0m\u001b[0;36m0.25\u001b[0m\u001b[0;34m,\u001b[0m \u001b[0mrandom_state\u001b[0m\u001b[0;34m=\u001b[0m\u001b[0;36m0\u001b[0m\u001b[0;34m)\u001b[0m\u001b[0;34m\u001b[0m\u001b[0;34m\u001b[0m\u001b[0m\n\u001b[1;32m      2\u001b[0m \u001b[0;34m\u001b[0m\u001b[0m\n\u001b[0;32m----> 3\u001b[0;31m \u001b[0mdtlmc\u001b[0m \u001b[0;34m=\u001b[0m \u001b[0mDTLMC\u001b[0m\u001b[0;34m(\u001b[0m\u001b[0;34m)\u001b[0m\u001b[0;34m\u001b[0m\u001b[0;34m\u001b[0m\u001b[0m\n\u001b[0m\u001b[1;32m      4\u001b[0m \u001b[0mdtlmc\u001b[0m\u001b[0;34m.\u001b[0m\u001b[0mcompile\u001b[0m\u001b[0;34m(\u001b[0m\u001b[0moptimizer\u001b[0m\u001b[0;34m=\u001b[0m\u001b[0;34m'adam'\u001b[0m\u001b[0;34m,\u001b[0m\u001b[0mloss\u001b[0m\u001b[0;34m=\u001b[0m\u001b[0;34m'categorical_crossentropy'\u001b[0m\u001b[0;34m)\u001b[0m\u001b[0;34m\u001b[0m\u001b[0;34m\u001b[0m\u001b[0m\n\u001b[1;32m      5\u001b[0m \u001b[0mdtlmc\u001b[0m\u001b[0;34m.\u001b[0m\u001b[0mfit\u001b[0m\u001b[0;34m(\u001b[0m\u001b[0mX_train\u001b[0m\u001b[0;34m,\u001b[0m\u001b[0my_train\u001b[0m\u001b[0;34m,\u001b[0m \u001b[0mepochs\u001b[0m\u001b[0;34m=\u001b[0m\u001b[0;36m20\u001b[0m\u001b[0;34m)\u001b[0m\u001b[0;34m\u001b[0m\u001b[0;34m\u001b[0m\u001b[0m\n",
            "\u001b[0;32m<ipython-input-56-face1414d876>\u001b[0m in \u001b[0;36m__init__\u001b[0;34m(self)\u001b[0m\n\u001b[1;32m     17\u001b[0m     \u001b[0mself\u001b[0m\u001b[0;34m.\u001b[0m\u001b[0mDense1\u001b[0m \u001b[0;34m=\u001b[0m \u001b[0mtf\u001b[0m\u001b[0;34m.\u001b[0m\u001b[0mkeras\u001b[0m\u001b[0;34m.\u001b[0m\u001b[0mlayers\u001b[0m\u001b[0;34m.\u001b[0m\u001b[0mDense\u001b[0m\u001b[0;34m(\u001b[0m\u001b[0;36m256\u001b[0m\u001b[0;34m)\u001b[0m\u001b[0;34m\u001b[0m\u001b[0;34m\u001b[0m\u001b[0m\n\u001b[1;32m     18\u001b[0m     \u001b[0mself\u001b[0m\u001b[0;34m.\u001b[0m\u001b[0mDropout3\u001b[0m \u001b[0;34m=\u001b[0m \u001b[0mtf\u001b[0m\u001b[0;34m.\u001b[0m\u001b[0mkeras\u001b[0m\u001b[0;34m.\u001b[0m\u001b[0mlayers\u001b[0m\u001b[0;34m.\u001b[0m\u001b[0mDropout\u001b[0m\u001b[0;34m(\u001b[0m\u001b[0mrate\u001b[0m \u001b[0;34m=\u001b[0m \u001b[0;36m0.30\u001b[0m\u001b[0;34m)\u001b[0m\u001b[0;34m\u001b[0m\u001b[0;34m\u001b[0m\u001b[0m\n\u001b[0;32m---> 19\u001b[0;31m     \u001b[0mself\u001b[0m\u001b[0;34m.\u001b[0m\u001b[0mDense2\u001b[0m \u001b[0;34m=\u001b[0m \u001b[0mtf\u001b[0m\u001b[0;34m.\u001b[0m\u001b[0mkeras\u001b[0m\u001b[0;34m.\u001b[0m\u001b[0mlayers\u001b[0m\u001b[0;34m.\u001b[0m\u001b[0mDense\u001b[0m\u001b[0;34m(\u001b[0m\u001b[0;34m(\u001b[0m\u001b[0;36m1\u001b[0m\u001b[0;34m,\u001b[0m\u001b[0;36m3\u001b[0m\u001b[0;34m)\u001b[0m\u001b[0;34m,\u001b[0m\u001b[0mactivation\u001b[0m\u001b[0;34m=\u001b[0m\u001b[0mtf\u001b[0m\u001b[0;34m.\u001b[0m\u001b[0mnn\u001b[0m\u001b[0;34m.\u001b[0m\u001b[0msoftmax\u001b[0m\u001b[0;34m)\u001b[0m\u001b[0;34m\u001b[0m\u001b[0;34m\u001b[0m\u001b[0m\n\u001b[0m\u001b[1;32m     20\u001b[0m \u001b[0;34m\u001b[0m\u001b[0m\n\u001b[1;32m     21\u001b[0m   \u001b[0;32mdef\u001b[0m \u001b[0mcall\u001b[0m\u001b[0;34m(\u001b[0m\u001b[0mself\u001b[0m\u001b[0;34m,\u001b[0m \u001b[0minputs\u001b[0m\u001b[0;34m)\u001b[0m\u001b[0;34m:\u001b[0m\u001b[0;34m\u001b[0m\u001b[0;34m\u001b[0m\u001b[0m\n",
            "\u001b[0;32m/usr/local/lib/python3.7/dist-packages/keras/layers/core.py\u001b[0m in \u001b[0;36m__init__\u001b[0;34m(self, units, activation, use_bias, kernel_initializer, bias_initializer, kernel_regularizer, bias_regularizer, activity_regularizer, kernel_constraint, bias_constraint, **kwargs)\u001b[0m\n\u001b[1;32m   1148\u001b[0m         activity_regularizer=activity_regularizer, **kwargs)\n\u001b[1;32m   1149\u001b[0m \u001b[0;34m\u001b[0m\u001b[0m\n\u001b[0;32m-> 1150\u001b[0;31m     \u001b[0mself\u001b[0m\u001b[0;34m.\u001b[0m\u001b[0munits\u001b[0m \u001b[0;34m=\u001b[0m \u001b[0mint\u001b[0m\u001b[0;34m(\u001b[0m\u001b[0munits\u001b[0m\u001b[0;34m)\u001b[0m \u001b[0;32mif\u001b[0m \u001b[0;32mnot\u001b[0m \u001b[0misinstance\u001b[0m\u001b[0;34m(\u001b[0m\u001b[0munits\u001b[0m\u001b[0;34m,\u001b[0m \u001b[0mint\u001b[0m\u001b[0;34m)\u001b[0m \u001b[0;32melse\u001b[0m \u001b[0munits\u001b[0m\u001b[0;34m\u001b[0m\u001b[0;34m\u001b[0m\u001b[0m\n\u001b[0m\u001b[1;32m   1151\u001b[0m     \u001b[0;32mif\u001b[0m \u001b[0mself\u001b[0m\u001b[0;34m.\u001b[0m\u001b[0munits\u001b[0m \u001b[0;34m<\u001b[0m \u001b[0;36m0\u001b[0m\u001b[0;34m:\u001b[0m\u001b[0;34m\u001b[0m\u001b[0;34m\u001b[0m\u001b[0m\n\u001b[1;32m   1152\u001b[0m       raise ValueError(f'Received an invalid value for `units`, expected '\n",
            "\u001b[0;31mTypeError\u001b[0m: int() argument must be a string, a bytes-like object or a number, not 'tuple'"
          ]
        }
      ]
    },
    {
      "cell_type": "code",
      "metadata": {
        "colab": {
          "base_uri": "https://localhost:8080/"
        },
        "id": "ligRrTG8p-j4",
        "outputId": "0e631cca-d2f7-44c0-80c0-371bca518d7f"
      },
      "source": [
        "dtlmc.evaluate(X_test, y_test)"
      ],
      "execution_count": null,
      "outputs": [
        {
          "name": "stdout",
          "output_type": "stream",
          "text": [
            "9/9 [==============================] - 1s 63ms/step - loss: 1.4889\n"
          ]
        },
        {
          "data": {
            "text/plain": [
              "1.4889014959335327"
            ]
          },
          "execution_count": 34,
          "metadata": {},
          "output_type": "execute_result"
        }
      ]
    },
    {
      "cell_type": "code",
      "metadata": {
        "id": "BXiMZqCLrJC2"
      },
      "source": [
        "predictions = []\n",
        "for x in X_test:\n",
        "  predArray = [0,0,0]\n",
        "  x = np.expand_dims(x, axis=0)\n",
        "  prediction = dtlmc.predict(x)\n",
        "  print(prediction)\n",
        "  predArray[np.argmax(prediction)] = 1\n",
        "  predictions.append(predArray)"
      ],
      "execution_count": null,
      "outputs": []
    },
    {
      "cell_type": "code",
      "metadata": {
        "colab": {
          "base_uri": "https://localhost:8080/"
        },
        "id": "tmJ6eHwsrTte",
        "outputId": "49540027-f570-4905-8b54-7e3dca820ce2"
      },
      "source": [
        "m = tf.keras.metrics.Accuracy()\n",
        "m.update_state(y_test, predictions)\n",
        "m.result().numpy()"
      ],
      "execution_count": null,
      "outputs": [
        {
          "data": {
            "text/plain": [
              "0.5579976"
            ]
          },
          "execution_count": 36,
          "metadata": {},
          "output_type": "execute_result"
        }
      ]
    },
    {
      "cell_type": "code",
      "metadata": {
        "id": "GgMqZqLjsWmc"
      },
      "source": [
        "matrix = confusion_matrix(np.argmax(y_test, axis=1), np.argmax(predictions, axis=1))"
      ],
      "execution_count": null,
      "outputs": []
    },
    {
      "cell_type": "code",
      "metadata": {
        "colab": {
          "base_uri": "https://localhost:8080/"
        },
        "id": "fa-njldTuN7v",
        "outputId": "b35bf332-1899-4701-b152-e845a87b45c3"
      },
      "source": [
        "print(matrix)"
      ],
      "execution_count": null,
      "outputs": [
        {
          "name": "stdout",
          "output_type": "stream",
          "text": [
            "[[25 44 35]\n",
            " [16 31 29]\n",
            " [15 42 36]]\n"
          ]
        }
      ]
    },
    {
      "cell_type": "markdown",
      "metadata": {
        "id": "-aEcQFGkqRmB"
      },
      "source": [
        "#Evaluation on segmented data"
      ]
    },
    {
      "cell_type": "markdown",
      "metadata": {
        "id": "sM2JryCNPCD5"
      },
      "source": [
        "Load the melspecs of segmented data from drive"
      ]
    },
    {
      "cell_type": "code",
      "metadata": {
        "id": "LHJthkBYMchL"
      },
      "source": [
        "dataSegmented = np.load('./drive/MyDrive/COUGHVID/melSpecsDataSegmented.npy', allow_pickle=True)\n",
        "labels = np.load('./drive/MyDrive/COUGHVID/melSpecsLabelsSegmented.npy', allow_pickle=True)"
      ],
      "execution_count": null,
      "outputs": []
    },
    {
      "cell_type": "code",
      "metadata": {
        "colab": {
          "base_uri": "https://localhost:8080/"
        },
        "id": "OKZMSgI3M_Zm",
        "outputId": "9ef904f4-439e-4417-c11c-9a8edd0f8de9"
      },
      "source": [
        "print(dataSegmented.shape)\n",
        "print(labels.shape)"
      ],
      "execution_count": null,
      "outputs": [
        {
          "output_type": "stream",
          "name": "stdout",
          "text": [
            "(24374, 240, 320)\n",
            "(24374,)\n"
          ]
        }
      ]
    },
    {
      "cell_type": "code",
      "metadata": {
        "colab": {
          "base_uri": "https://localhost:8080/"
        },
        "id": "7_cv0ZG3tups",
        "outputId": "54cc8325-4862-49de-a44e-180ff8db4ba6"
      },
      "source": [
        "covid_indizes = np.where(labels=='COVID-19')\n",
        "print(len(covid_indizes[0]))\n",
        "symptom_indizes = np.where(labels=='symptomatic')\n",
        "print(len(symptom_indizes[0]))\n",
        "healthy_indizes = np.where(labels=='healthy')\n",
        "print(len(healthy_indizes[0]))"
      ],
      "execution_count": null,
      "outputs": [
        {
          "output_type": "stream",
          "name": "stdout",
          "text": [
            "1984\n",
            "3904\n",
            "18486\n"
          ]
        }
      ]
    },
    {
      "cell_type": "markdown",
      "metadata": {
        "id": "CTOKkP63zmyH"
      },
      "source": [
        "As we can see, classes are highly unbalanced. Therefor we cut off samples from the majority classes to get a dataset with balanced classes."
      ]
    },
    {
      "cell_type": "code",
      "metadata": {
        "id": "GBEK5dBRuOa6"
      },
      "source": [
        "labels = np.array(labels)"
      ],
      "execution_count": null,
      "outputs": []
    },
    {
      "cell_type": "code",
      "metadata": {
        "id": "zGfmEjdwt9sY"
      },
      "source": [
        "data_new = dataSegmented[covid_indizes]\n",
        "data_new = np.append(data_new,dataSegmented[symptom_indizes[0][:len(covid_indizes[0])]], axis=0)\n",
        "data_new = np.append(data_new,dataSegmented[healthy_indizes[0][:len(covid_indizes[0])]], axis=0)\n",
        "\n",
        "data_new = np.expand_dims(data_new, axis=3)\n",
        "\n",
        "labels_new = labels[covid_indizes]\n",
        "labels_new = np.append(labels_new,labels[symptom_indizes[0][:len(covid_indizes[0])]])\n",
        "labels_new = np.append(labels_new,labels[healthy_indizes[0][:len(covid_indizes[0])]])\n",
        "\n",
        "labels_new = oneHotEncoding(labels_new)\n"
      ],
      "execution_count": null,
      "outputs": []
    },
    {
      "cell_type": "code",
      "metadata": {
        "colab": {
          "base_uri": "https://localhost:8080/"
        },
        "id": "114gK2QuuRt6",
        "outputId": "5b96acb0-1680-4042-8ded-e6c414f3ff6f"
      },
      "source": [
        "print(labels_new.shape)\n",
        "print(data_new.shape)"
      ],
      "execution_count": null,
      "outputs": [
        {
          "output_type": "stream",
          "name": "stdout",
          "text": [
            "(5952, 3)\n",
            "(5952, 240, 320, 1)\n"
          ]
        }
      ]
    },
    {
      "cell_type": "code",
      "metadata": {
        "colab": {
          "base_uri": "https://localhost:8080/",
          "height": 53
        },
        "id": "gEv3FCswXYjc",
        "outputId": "d94112ea-b9ab-4ac9-e06f-2bde51c881dd"
      },
      "source": [
        "# split data for train and test validation\n",
        "X_train, X_test, y_train, y_test = train_test_split(data_new, labels_new, test_size=0.2, random_state=0)\n",
        "\n",
        "\n",
        "''' ## calculate class weights\n",
        "y_integers = np.argmax(labels_new, axis=1)\n",
        "class_weights = compute_class_weight('balanced', np.unique(y_integers), y_integers)\n",
        "class_weights_dict = dict(enumerate(class_weights))\n",
        "\n",
        "class_weights_dict '''"
      ],
      "execution_count": null,
      "outputs": [
        {
          "output_type": "execute_result",
          "data": {
            "application/vnd.google.colaboratory.intrinsic+json": {
              "type": "string"
            },
            "text/plain": [
              "\" ## calculate class weights\\ny_integers = np.argmax(labels_new, axis=1)\\nclass_weights = compute_class_weight('balanced', np.unique(y_integers), y_integers)\\nclass_weights_dict = dict(enumerate(class_weights))\\n\\nclass_weights_dict \""
            ]
          },
          "metadata": {},
          "execution_count": 13
        }
      ]
    },
    {
      "cell_type": "code",
      "metadata": {
        "id": "nRAl_G7Wuabv"
      },
      "source": [
        "\n",
        "dtlmc = DTLMC()\n",
        "opt = tf.keras.optimizers.Adam(learning_rate=0.0001)\n",
        "dtlmc.compile(optimizer=opt,loss='categorical_crossentropy',metrics=['acc'])\n"
      ],
      "execution_count": null,
      "outputs": []
    },
    {
      "cell_type": "code",
      "metadata": {
        "colab": {
          "base_uri": "https://localhost:8080/"
        },
        "id": "JsYJEXl6toon",
        "outputId": "2beab90d-939d-490d-fda4-af6bd49b2e7a"
      },
      "source": [
        "history = dtlmc.fit(X_train,y_train, epochs=200, batch_size=128, validation_data=(X_test,y_test))"
      ],
      "execution_count": null,
      "outputs": [
        {
          "output_type": "stream",
          "name": "stdout",
          "text": [
            "Epoch 1/200\n",
            "38/38 [==============================] - 307s 8s/step - loss: 4.6656 - acc: 0.3373 - val_loss: 1.3372 - val_acc: 0.3224\n",
            "Epoch 2/200\n",
            "38/38 [==============================] - 354s 9s/step - loss: 2.1481 - acc: 0.3342 - val_loss: 1.1780 - val_acc: 0.3333\n",
            "Epoch 3/200\n",
            "38/38 [==============================] - 311s 8s/step - loss: 1.4470 - acc: 0.3501 - val_loss: 1.1104 - val_acc: 0.3275\n",
            "Epoch 4/200\n",
            "17/38 [============>.................] - ETA: 2:34 - loss: 1.2573 - acc: 0.3460"
          ]
        }
      ]
    },
    {
      "cell_type": "code",
      "metadata": {
        "colab": {
          "base_uri": "https://localhost:8080/",
          "height": 167
        },
        "id": "P3rY3wSg-qde",
        "outputId": "eb723e27-b650-40f0-8f3f-c431d3bbe64f"
      },
      "source": [
        "print(history)"
      ],
      "execution_count": null,
      "outputs": [
        {
          "output_type": "error",
          "ename": "NameError",
          "evalue": "ignored",
          "traceback": [
            "\u001b[0;31m---------------------------------------------------------------------------\u001b[0m",
            "\u001b[0;31mNameError\u001b[0m                                 Traceback (most recent call last)",
            "\u001b[0;32m<ipython-input-1-0b220396248c>\u001b[0m in \u001b[0;36m<module>\u001b[0;34m()\u001b[0m\n\u001b[0;32m----> 1\u001b[0;31m \u001b[0mprint\u001b[0m\u001b[0;34m(\u001b[0m\u001b[0mhistory\u001b[0m\u001b[0;34m)\u001b[0m\u001b[0;34m\u001b[0m\u001b[0;34m\u001b[0m\u001b[0m\n\u001b[0m",
            "\u001b[0;31mNameError\u001b[0m: name 'history' is not defined"
          ]
        }
      ]
    },
    {
      "cell_type": "code",
      "metadata": {
        "id": "0Yulq0QbxNaK"
      },
      "source": [
        "predictions = []\n",
        "for x in X_test:\n",
        "  predArray = [0,0,0]\n",
        "  x = np.expand_dims(x, axis=0)\n",
        "  prediction = dtlmc.predict(x)\n",
        "  predArray[np.argmax(prediction[0])] = 1\n",
        "  predictions.append(predArray)"
      ],
      "execution_count": null,
      "outputs": []
    },
    {
      "cell_type": "code",
      "metadata": {
        "colab": {
          "base_uri": "https://localhost:8080/"
        },
        "id": "wcKIroHuxSzP",
        "outputId": "0074b61c-a590-4c99-a812-fda063c018c2"
      },
      "source": [
        "m = tf.keras.metrics.Accuracy()\n",
        "m.update_state(y_test, predictions)\n",
        "print(\"Accuracy: \" + str(m.result().numpy()))"
      ],
      "execution_count": null,
      "outputs": [
        {
          "output_type": "stream",
          "name": "stdout",
          "text": [
            "Accuracy: 0.6165687\n"
          ]
        }
      ]
    },
    {
      "cell_type": "code",
      "metadata": {
        "id": "J1HZRrkuadCz"
      },
      "source": [
        "matrix = confusion_matrix(np.argmax(y_test, axis=1), np.argmax(predictions, axis=1))"
      ],
      "execution_count": null,
      "outputs": []
    },
    {
      "cell_type": "code",
      "metadata": {
        "id": "7D6UjvAZz0fB"
      },
      "source": [
        "matrix = matrix/(y_test.shape[0]/3)"
      ],
      "execution_count": null,
      "outputs": []
    },
    {
      "cell_type": "code",
      "metadata": {
        "colab": {
          "base_uri": "https://localhost:8080/"
        },
        "id": "CeDtcawQadr4",
        "outputId": "8e38fcbb-0f5e-4a00-aa3c-ce792f7fc44d"
      },
      "source": [
        "matrix"
      ],
      "execution_count": null,
      "outputs": [
        {
          "output_type": "execute_result",
          "data": {
            "text/plain": [
              "array([[0.16120907, 0.0906801 , 0.08144416],\n",
              "       [0.15029387, 0.09571788, 0.07220823],\n",
              "       [0.13685978, 0.07808564, 0.13350126]])"
            ]
          },
          "metadata": {},
          "execution_count": 26
        }
      ]
    },
    {
      "cell_type": "code",
      "metadata": {
        "id": "m7WvCf89agRv"
      },
      "source": [
        "def plotConfusionMatrix(labellist, matrix):\n",
        "\n",
        "  df_cm = pd.DataFrame(matrix, index = [i for i in labellist],\n",
        "                    columns = [i for i in labellist])\n",
        "  plt.figure(figsize = (10,7))\n",
        "  sn.heatmap(df_cm, annot=True)"
      ],
      "execution_count": null,
      "outputs": []
    },
    {
      "cell_type": "code",
      "metadata": {
        "colab": {
          "base_uri": "https://localhost:8080/",
          "height": 428
        },
        "id": "3wz-uy9P6b_R",
        "outputId": "63457287-06ac-4047-95c5-ce48d83511c0"
      },
      "source": [
        "labellist = ['healthy','covid', 'symptomatic']\n",
        "plotConfusionMatrix(labellist, matrix)"
      ],
      "execution_count": null,
      "outputs": [
        {
          "output_type": "display_data",
          "data": {
            "image/png": "[encoded data removed]",
            "text/plain": [
              "<Figure size 720x504 with 2 Axes>"
            ]
          },
          "metadata": {
            "needs_background": "light"
          }
        }
      ]
    },
    {
      "cell_type": "code",
      "metadata": {
        "id": "5en9xOyczhw2"
      },
      "source": [
        ""
      ],
      "execution_count": null,
      "outputs": []
    }
  ]
}