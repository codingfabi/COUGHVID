{
  "nbformat": 4,
  "nbformat_minor": 0,
  "metadata": {
    "accelerator": "GPU",
    "colab": {
      "name": "Evaluation.ipynb",
      "provenance": [],
      "collapsed_sections": [
        "YlfnvrUiqK94",
        "8GQiU3-oZ82Y"
      ],
      "authorship_tag": "ABX9TyP3ciwwkRYESMPqvQ11CAIm"
    },
    "kernelspec": {
      "display_name": "Python 3",
      "name": "python3"
    },
    "language_info": {
      "name": "python"
    }
  },
  "cells": [
    {
      "cell_type": "code",
      "metadata": {
        "colab": {
          "base_uri": "https://localhost:8080/"
        },
        "id": "zNgw2aeIinHz",
        "outputId": "ee8b8e4f-1e76-4279-82c2-22fc5fd50ce2"
      },
      "source": [
        "from google.colab import drive\n",
        "drive.mount('/content/drive', force_remount = True)"
      ],
      "execution_count": 48,
      "outputs": [
        {
          "output_type": "stream",
          "name": "stdout",
          "text": [
            "Mounted at /content/drive\n"
          ]
        }
      ]
    },
    {
      "cell_type": "code",
      "metadata": {
        "id": "XmvhsNgxioBQ"
      },
      "source": [
        "from scipy.io import wavfile\n",
        "from scipy import signal\n",
        "from scipy.io import wavfile\n",
        "from scipy.signal import butter,filtfilt\n",
        "from scipy.signal import cwt\n",
        "from scipy.signal import hilbert\n",
        "from scipy.signal import resample\n",
        "from scipy.signal import decimate\n",
        "from scipy.signal import spectrogram\n",
        "from scipy.signal.windows import get_window\n",
        "from scipy.stats import kurtosis\n",
        "from scipy.integrate import simps\n",
        "\n",
        "import numpy as np\n",
        "\n",
        "import librosa\n",
        "import librosa.display\n",
        "import matplotlib.pyplot as plt\n",
        "import json\n",
        "import os\n",
        "import skimage.io\n",
        "import cv2\n",
        "import tensorflow as tf\n",
        "import csv\n",
        "import sklearn\n",
        "from sklearn import svm\n",
        "from sklearn.decomposition import PCA\n",
        "from sklearn.manifold import TSNE\n",
        "from sklearn.metrics import confusion_matrix, plot_confusion_matrix\n",
        "import pandas as pd\n",
        "import seaborn as sns\n",
        "from sklearn.model_selection import train_test_split\n",
        "import IPython.display as ipd\n",
        "from shutil import copyfile, copy\n",
        "from sklearn.utils.class_weight import compute_class_weight\n",
        "from keras import backend as K\n",
        "import keras\n",
        "\n",
        "import seaborn as sn\n",
        "\n",
        "from google.colab.patches import cv2_imshow\n",
        "\n",
        "import warnings\n",
        "warnings.filterwarnings(\"ignore\")"
      ],
      "execution_count": 49,
      "outputs": []
    },
    {
      "cell_type": "markdown",
      "metadata": {
        "id": "jzIuQEakbFY3"
      },
      "source": [
        "#Model Implementation"
      ]
    },
    {
      "cell_type": "markdown",
      "metadata": {
        "id": "fLEKgdLI-3mg"
      },
      "source": [
        "We preliminary implement the three AI models: A multi class convolutional neural network (DTLMC), a binary class convolutional neural network (DTLBC) and a support vector machine."
      ]
    },
    {
      "cell_type": "code",
      "metadata": {
        "id": "JyraXvQLmNS6"
      },
      "source": [
        "# implementation of diagnosis clasifier architecture\n",
        "\n",
        "class DTLMC(tf.keras.Model):\n",
        "\n",
        "  def __init__(self):\n",
        "    super(DTLMC, self).__init__()\n",
        "    self.MaxPool1 = tf.keras.layers.MaxPool2D(pool_size=(2,2))\n",
        "    self.Conv1 = tf.keras.layers.Conv2D(filters = 16,kernel_size=(5,5), activation=tf.nn.relu)\n",
        "    self.Conv2 = tf.keras.layers.Conv2D(filters = 16,kernel_size=(5,5), activation=tf.nn.relu)\n",
        "    self.MaxPool2 = tf.keras.layers.MaxPool2D(pool_size=(2,2))\n",
        "    self.Dropout1 = tf.keras.layers.Dropout(rate = 0.15)\n",
        "    self.Conv3 = tf.keras.layers.Conv2D(filters = 16,kernel_size=(5,5), activation=tf.nn.relu)\n",
        "    self.Conv4 = tf.keras.layers.Conv2D(filters = 16,kernel_size=(5,5), activation=tf.nn.relu)\n",
        "    self.MaxPool3 = tf.keras.layers.MaxPool2D(pool_size=(2,2))\n",
        "    self.Dropout2 = tf.keras.layers.Dropout(rate = 0.15)\n",
        "    self.flatten = tf.keras.layers.Flatten()\n",
        "    self.Dense1 = tf.keras.layers.Dense(256)\n",
        "    self.Dropout3 = tf.keras.layers.Dropout(rate = 0.30)\n",
        "    self.Dense2 = tf.keras.layers.Dense(3,activation=tf.nn.softmax)\n",
        "\n",
        "  def call(self, inputs):\n",
        "    x = self.MaxPool1(inputs)\n",
        "    x = self.Conv1(x)\n",
        "    x = self.Conv2(x)\n",
        "    x = self.MaxPool2(x)\n",
        "    x = self.Dropout1(x)\n",
        "    x = self.Conv3(x)\n",
        "    x = self.Conv4(x)\n",
        "    x = self.MaxPool3(x)\n",
        "    x = self.Dropout2(x)\n",
        "    x = self.flatten(x)\n",
        "    x = self.Dense1(x)\n",
        "    x = self.Dropout3(x)\n",
        "    x = self.Dense2(x)\n",
        "    return x\n",
        "\n",
        "class DTLBC(tf.keras.Model):\n",
        "\n",
        "  def __init__(self):\n",
        "    super(DTLBC, self).__init__()\n",
        "    self.MaxPool1 = tf.keras.layers.MaxPool2D(pool_size=(2,2))\n",
        "    self.Conv1 = tf.keras.layers.Conv2D(filters = 16,kernel_size=(5,5), activation=tf.nn.relu)\n",
        "    self.Conv2 = tf.keras.layers.Conv2D(filters = 16,kernel_size=(5,5), activation=tf.nn.relu)\n",
        "    self.MaxPool2 = tf.keras.layers.MaxPool2D(pool_size=(2,2))\n",
        "    self.Dropout1 = tf.keras.layers.Dropout(rate = 0.15)\n",
        "    self.Conv3 = tf.keras.layers.Conv2D(filters = 16,kernel_size=(5,5), activation=tf.nn.relu)\n",
        "    self.Conv4 = tf.keras.layers.Conv2D(filters = 16,kernel_size=(5,5), activation=tf.nn.relu)\n",
        "    self.MaxPool3 = tf.keras.layers.MaxPool2D(pool_size=(2,2))\n",
        "    self.Dropout2 = tf.keras.layers.Dropout(rate = 0.15)\n",
        "    self.flatten = tf.keras.layers.Flatten()\n",
        "    self.Dense1 = tf.keras.layers.Dense(256)\n",
        "    self.Dropout3 = tf.keras.layers.Dropout(rate = 0.30)\n",
        "    self.Dense2 = tf.keras.layers.Dense(2,activation=tf.nn.softmax)\n",
        "\n",
        "  def call(self, inputs):\n",
        "    x = self.MaxPool1(inputs)\n",
        "    x = self.Conv1(x)\n",
        "    x = self.Conv2(x)\n",
        "    x = self.MaxPool2(x)\n",
        "    x = self.Dropout1(x)\n",
        "    x = self.Conv3(x)\n",
        "    x = self.Conv4(x)\n",
        "    x = self.MaxPool3(x)\n",
        "    x = self.Dropout2(x)\n",
        "    x = self.flatten(x)\n",
        "    x = self.Dense1(x)\n",
        "    x = self.Dropout3(x)\n",
        "    x = self.Dense2(x)\n",
        "    return x\n",
        "\n",
        "class SVM():\n",
        "\n",
        "  def __init__(self):\n",
        "    self.clf = sklearn.svm.SVC(kernel='linear')\n",
        "    # other possible kernels include: \"linear\", \"polynomial\", \"rbf\", \"sigmoid\"\n",
        "\n",
        "  def fit(self, X, y):\n",
        "    self.clf.fit(X,y)\n",
        "\n",
        "  def predict(self, X):\n",
        "    return self.clf.predict(X)\n",
        "\n",
        "  def evaluateScore(self, X_test, y_test):\n",
        "    return self.clf.score(X_test, y_test)"
      ],
      "execution_count": 67,
      "outputs": []
    },
    {
      "cell_type": "markdown",
      "metadata": {
        "id": "z9ADeZ5B-2Bo"
      },
      "source": [
        "We furthermore implement a mediator class that evaluates and moderates the prediction results from all three classifiers combined."
      ]
    },
    {
      "cell_type": "code",
      "metadata": {
        "id": "diZwYcpT-1Ch"
      },
      "source": [
        "class Mediator():\n",
        "  '''\n",
        "  The mediator class is designed to realize agreement inbetween the different classifiers.\n",
        "  It returns the predicted class if all of the three classifiers agree with their prediction.\n",
        "  If they do not agree, the mediator class returns a inconclusive result.\n",
        "  '''\n",
        "  def __init__(self, dtlmc, dtlbc, svm):\n",
        "    \"\"\"\n",
        "    Constructor. Takes the pretrained classifiers as arguments\n",
        "    dtlmc: the pretrained multiclass classifier\n",
        "    dtlbc: the pretrained binaryclass classifier\n",
        "    svm: the pretrained support vector machine\n",
        "    \"\"\"\n",
        "    self.multiClassClassifier = dtlmc\n",
        "    self.binaryClassClassifier = dtlbc\n",
        "    self.svm = svm\n",
        "  \n",
        "  def predict(self, X):\n",
        "    \"\"\"\n",
        "    Collects predictions from all three classifiers and medaites them into single output\n",
        "    X: Features of test sample\n",
        "    \"\"\"\n",
        "    res_dtlmc = self.multiClassClassifier.predict(X)\n",
        "    res_dtlbc = self.binaryClassClassifier.predict(X)\n",
        "    res_svm = self.svm.predict(X)\n",
        "\n",
        "    argmax_dtlmc = np.argmax(res_dtlmc)\n",
        "    argmax_dtlbc = np.argmax(res_dtlbc)\n",
        "    argmax_svm = np.argmax(res_svm)\n",
        "\n",
        "    if argmax_dtlmc == 0 and argmax_dtlbc == 0 and argmax_svm == 0:\n",
        "      return 0\n",
        "    if argmax_dtlmc == 2 and argmax_svm == 2 and argmax_dtlbc == 1:\n",
        "      return 2\n",
        "    if argmax_dtlmc == 1 and argmax_svm == 1 and argmax_dtlbc == 0:\n",
        "      return 1\n",
        "    else:\n",
        "      return 3\n",
        "\n",
        "    def analyzeResult(self, res):\n",
        "      \"\"\"\n",
        "      takes the result of the mediator class and translates it into human readable labels\n",
        "      res: result of the predict() function of the Mediator class\n",
        "      \"\"\"\n",
        "      if res == 0:\n",
        "        return 'Covid unlikely'\n",
        "      if res == 1:\n",
        "        return 'Covid unlikely'\n",
        "      if res == 2:\n",
        "        return 'Covid likely'\n",
        "      if res == 3:\n",
        "        return 'Test inconclusive'"
      ],
      "execution_count": 51,
      "outputs": []
    },
    {
      "cell_type": "code",
      "metadata": {
        "id": "8-eIQBgBppZP"
      },
      "source": [
        "# define two functions for one hot encoding because binary classifier needs different labels\n",
        "def oneHotEncoding(labels):\n",
        "  oneHotList = []\n",
        "  for label in labels:\n",
        "    if label == 'healthy':\n",
        "      oneHotList.append([1.0,0.0,0.0])\n",
        "    elif label == 'symptomatic':\n",
        "      oneHotList.append([0.0,0.0,1.0])\n",
        "    elif label == 'COVID-19':\n",
        "      oneHotList.append([0.0,1.0,0.0])\n",
        "\n",
        "  return np.array(oneHotList)\n",
        "\n",
        "def oneHotEncodingForBC(labels):\n",
        "  oneHotList = []\n",
        "  for label in labels:\n",
        "    if label == 'healthy':\n",
        "      oneHotList.append([1.0,0.0])\n",
        "    elif label == 'symptomatic':\n",
        "      oneHotList.append([1.0,0.0])\n",
        "    elif label == 'COVID-19':\n",
        "      oneHotList.append([0.0,1.0])\n",
        "  \n",
        "  return np.array(oneHotList)"
      ],
      "execution_count": 52,
      "outputs": []
    },
    {
      "cell_type": "markdown",
      "metadata": {
        "id": "qntx6-xhFuQp"
      },
      "source": [
        "Furthermore we implement some helper functions to visualize results and learning process:"
      ]
    },
    {
      "cell_type": "code",
      "metadata": {
        "id": "RnYvZeuyFzoH"
      },
      "source": [
        "def plotConfusionMatrix(labellist, matrix, filename='', safeImage = False):\n",
        "\n",
        "  df_cm = pd.DataFrame(matrix, index = [i for i in labellist],\n",
        "                    columns = [i for i in labellist], dtype=float)\n",
        "  fig = plt.figure(figsize = (10,7))\n",
        "  sn.heatmap(df_cm, annot=True)\n",
        "  if safeImage == True:\n",
        "    fig.savefig('./drive/MyDrive/COUGHVID/Plots/' + filename)\n",
        "\n",
        "def plotTrainingLoss(train_loss, val_loss):\n",
        "  plt.plot(train_loss)\n",
        "  plt.plot(val_loss)\n",
        "  plt.ylabel('loss')\n",
        "  plt.xlabel('epoch')\n",
        "  plt.legend(['train loss','test loss'], loc='upper left')\n",
        "  plt.show()\n",
        "\n",
        "def plotTrainingAccuracy(train_acc, val_acc):\n",
        "  plt.plot(train_acc)\n",
        "  plt.plot(val_acc)\n",
        "  plt.ylabel('accuracy')\n",
        "  plt.xlabel('epoch')\n",
        "  plt.legend(['train accuracy', 'test accuracy'], loc='upper left')\n",
        "  plt.show()\n",
        "\n",
        "\n",
        "def evaluateAccuracy(X_test, y_test, metric, model):\n",
        "  predictions = []\n",
        "  for x in X_test:\n",
        "    predArray = [0,0]\n",
        "    x = np.expand_dims(x, axis=0)\n",
        "    prediction = model.predict(x)\n",
        "    predArray[np.argmax(prediction[0])] = 1\n",
        "    predictions.append(predArray)\n",
        "\n",
        "  metric.update_state(y_test, predictions)\n",
        "  return m.result().numpy(), predictions"
      ],
      "execution_count": 53,
      "outputs": []
    },
    {
      "cell_type": "markdown",
      "metadata": {
        "id": "YlfnvrUiqK94"
      },
      "source": [
        "#Evaluation on whole cough samples"
      ]
    },
    {
      "cell_type": "code",
      "metadata": {
        "id": "YS_n1NMPixMr"
      },
      "source": [
        "def valueFromJsonParser(fileName, key, path='./drive/MyDrive/COUGHVID/test_dset/'):\n",
        "    \"\"\"\n",
        "    Returns the status of the specified json file \n",
        "    \"\"\"    \n",
        "    with open(os.path.join(path, fileName)) as file:\n",
        "        data = json.load(file)\n",
        "        return data[str(key)]\n",
        "\n",
        "\n",
        "def loadMelspectrograms(path, jsonFilesPath):\n",
        "  data = []\n",
        "  labels = []\n",
        "  for (dirpath, dirnames, filenames) in os.walk(path):\n",
        "    for filename in filenames[0:4000]:\n",
        "      img = cv2.imread(path + filename)\n",
        "      data.append(img)\n",
        "  for (dirpath,dirnames,filenames) in os.walk(jsonFilesPath):\n",
        "    for filename in filenames[0:8000]:\n",
        "      if '.json' in filename:\n",
        "        label = valueFromJsonParser(fileName=filename, key='status', path=jsonFilesPath)\n",
        "        labels.append(label)\n",
        "\n",
        "  return np.float32(np.array(data)), np.array(labels)"
      ],
      "execution_count": null,
      "outputs": []
    },
    {
      "cell_type": "code",
      "metadata": {
        "id": "Rbsz0Gc7i1iE"
      },
      "source": [
        "data, labels = loadMelspectrograms('./drive/MyDrive/COUGHVID/MelSpectrogramsCleaned/', './drive/MyDrive/COUGHVID/public_dataset_cleaned/')"
      ],
      "execution_count": null,
      "outputs": []
    },
    {
      "cell_type": "code",
      "metadata": {
        "id": "WtCMqKpzjiyc"
      },
      "source": [
        "X, Y = data, oneHotEncoding(labels)"
      ],
      "execution_count": null,
      "outputs": []
    },
    {
      "cell_type": "code",
      "metadata": {
        "colab": {
          "base_uri": "https://localhost:8080/"
        },
        "id": "cc-cvC226D-5",
        "outputId": "cdf4a722-68e9-4af9-86c3-5763454cf647"
      },
      "source": [
        "print(data.shape)"
      ],
      "execution_count": null,
      "outputs": [
        {
          "name": "stdout",
          "output_type": "stream",
          "text": [
            "(4000, 240, 320, 3)\n"
          ]
        }
      ]
    },
    {
      "cell_type": "markdown",
      "metadata": {
        "id": "UK7MudU3OIMk"
      },
      "source": [
        "Perform Class Balancing:"
      ]
    },
    {
      "cell_type": "code",
      "metadata": {
        "colab": {
          "base_uri": "https://localhost:8080/"
        },
        "id": "EGE4PFMH6GsM",
        "outputId": "67b15c14-4c19-4d32-f22c-99884f7e3864"
      },
      "source": [
        "''' counter = [0,0,0]\n",
        "for label in labels:\n",
        "  if label == 'healthy':\n",
        "    counter[0] += 1\n",
        "  if label == \"symptomatic\":\n",
        "    counter[1] += 1\n",
        "  if label == 'COVID-19':\n",
        "    counter[2] += 1\n",
        "\n",
        "print(counter)\n",
        " '''\n",
        "covid_indizes = np.where(labels=='COVID-19')\n",
        "print(len(covid_indizes[0]))\n",
        "symptom_indizes = np.where(labels=='symptomatic')\n",
        "print(len(symptom_indizes[0]))\n",
        "healthy_indizes = np.where(labels=='healthy')\n",
        "print(len(healthy_indizes[0]))"
      ],
      "execution_count": null,
      "outputs": [
        {
          "name": "stdout",
          "output_type": "stream",
          "text": [
            "364\n",
            "567\n",
            "3069\n"
          ]
        }
      ]
    },
    {
      "cell_type": "code",
      "metadata": {
        "id": "IYib0WqC769g"
      },
      "source": [
        "data_new = data[covid_indizes]\n",
        "data_new = np.append(data_new,data[symptom_indizes[0][:364]], axis=0)\n",
        "data_new = np.append(data_new,data[healthy_indizes[0][:364]], axis=0)\n",
        "\n",
        "labels_new = labels[covid_indizes]\n",
        "labels_new = np.append(labels_new,labels[symptom_indizes[0][:364]])\n",
        "labels_new = np.append(labels_new,labels[healthy_indizes[0][:364]])\n",
        "\n",
        "labels_new = oneHotEncoding(labels_new)\n"
      ],
      "execution_count": null,
      "outputs": []
    },
    {
      "cell_type": "code",
      "metadata": {
        "colab": {
          "base_uri": "https://localhost:8080/",
          "height": 399
        },
        "id": "0gcDj16OnP8N",
        "outputId": "19fc7ba3-3e28-4bb2-a6d7-e5347b3521ff"
      },
      "source": [
        "X_train, X_test, y_train, y_test = train_test_split(data_new, labels_new, test_size=0.25, random_state=0)\n",
        "\n",
        "dtlmc = DTLMC()\n",
        "dtlmc.compile(optimizer='adam',loss='categorical_crossentropy')\n",
        "dtlmc.fit(X_train,y_train, epochs=20)"
      ],
      "execution_count": null,
      "outputs": [
        {
          "ename": "TypeError",
          "evalue": "ignored",
          "output_type": "error",
          "traceback": [
            "\u001b[0;31m---------------------------------------------------------------------------\u001b[0m",
            "\u001b[0;31mTypeError\u001b[0m                                 Traceback (most recent call last)",
            "\u001b[0;32m<ipython-input-57-0398a1c8ba7e>\u001b[0m in \u001b[0;36m<module>\u001b[0;34m()\u001b[0m\n\u001b[1;32m      1\u001b[0m \u001b[0mX_train\u001b[0m\u001b[0;34m,\u001b[0m \u001b[0mX_test\u001b[0m\u001b[0;34m,\u001b[0m \u001b[0my_train\u001b[0m\u001b[0;34m,\u001b[0m \u001b[0my_test\u001b[0m \u001b[0;34m=\u001b[0m \u001b[0mtrain_test_split\u001b[0m\u001b[0;34m(\u001b[0m\u001b[0mdata_new\u001b[0m\u001b[0;34m,\u001b[0m \u001b[0mlabels_new\u001b[0m\u001b[0;34m,\u001b[0m \u001b[0mtest_size\u001b[0m\u001b[0;34m=\u001b[0m\u001b[0;36m0.25\u001b[0m\u001b[0;34m,\u001b[0m \u001b[0mrandom_state\u001b[0m\u001b[0;34m=\u001b[0m\u001b[0;36m0\u001b[0m\u001b[0;34m)\u001b[0m\u001b[0;34m\u001b[0m\u001b[0;34m\u001b[0m\u001b[0m\n\u001b[1;32m      2\u001b[0m \u001b[0;34m\u001b[0m\u001b[0m\n\u001b[0;32m----> 3\u001b[0;31m \u001b[0mdtlmc\u001b[0m \u001b[0;34m=\u001b[0m \u001b[0mDTLMC\u001b[0m\u001b[0;34m(\u001b[0m\u001b[0;34m)\u001b[0m\u001b[0;34m\u001b[0m\u001b[0;34m\u001b[0m\u001b[0m\n\u001b[0m\u001b[1;32m      4\u001b[0m \u001b[0mdtlmc\u001b[0m\u001b[0;34m.\u001b[0m\u001b[0mcompile\u001b[0m\u001b[0;34m(\u001b[0m\u001b[0moptimizer\u001b[0m\u001b[0;34m=\u001b[0m\u001b[0;34m'adam'\u001b[0m\u001b[0;34m,\u001b[0m\u001b[0mloss\u001b[0m\u001b[0;34m=\u001b[0m\u001b[0;34m'categorical_crossentropy'\u001b[0m\u001b[0;34m)\u001b[0m\u001b[0;34m\u001b[0m\u001b[0;34m\u001b[0m\u001b[0m\n\u001b[1;32m      5\u001b[0m \u001b[0mdtlmc\u001b[0m\u001b[0;34m.\u001b[0m\u001b[0mfit\u001b[0m\u001b[0;34m(\u001b[0m\u001b[0mX_train\u001b[0m\u001b[0;34m,\u001b[0m\u001b[0my_train\u001b[0m\u001b[0;34m,\u001b[0m \u001b[0mepochs\u001b[0m\u001b[0;34m=\u001b[0m\u001b[0;36m20\u001b[0m\u001b[0;34m)\u001b[0m\u001b[0;34m\u001b[0m\u001b[0;34m\u001b[0m\u001b[0m\n",
            "\u001b[0;32m<ipython-input-56-face1414d876>\u001b[0m in \u001b[0;36m__init__\u001b[0;34m(self)\u001b[0m\n\u001b[1;32m     17\u001b[0m     \u001b[0mself\u001b[0m\u001b[0;34m.\u001b[0m\u001b[0mDense1\u001b[0m \u001b[0;34m=\u001b[0m \u001b[0mtf\u001b[0m\u001b[0;34m.\u001b[0m\u001b[0mkeras\u001b[0m\u001b[0;34m.\u001b[0m\u001b[0mlayers\u001b[0m\u001b[0;34m.\u001b[0m\u001b[0mDense\u001b[0m\u001b[0;34m(\u001b[0m\u001b[0;36m256\u001b[0m\u001b[0;34m)\u001b[0m\u001b[0;34m\u001b[0m\u001b[0;34m\u001b[0m\u001b[0m\n\u001b[1;32m     18\u001b[0m     \u001b[0mself\u001b[0m\u001b[0;34m.\u001b[0m\u001b[0mDropout3\u001b[0m \u001b[0;34m=\u001b[0m \u001b[0mtf\u001b[0m\u001b[0;34m.\u001b[0m\u001b[0mkeras\u001b[0m\u001b[0;34m.\u001b[0m\u001b[0mlayers\u001b[0m\u001b[0;34m.\u001b[0m\u001b[0mDropout\u001b[0m\u001b[0;34m(\u001b[0m\u001b[0mrate\u001b[0m \u001b[0;34m=\u001b[0m \u001b[0;36m0.30\u001b[0m\u001b[0;34m)\u001b[0m\u001b[0;34m\u001b[0m\u001b[0;34m\u001b[0m\u001b[0m\n\u001b[0;32m---> 19\u001b[0;31m     \u001b[0mself\u001b[0m\u001b[0;34m.\u001b[0m\u001b[0mDense2\u001b[0m \u001b[0;34m=\u001b[0m \u001b[0mtf\u001b[0m\u001b[0;34m.\u001b[0m\u001b[0mkeras\u001b[0m\u001b[0;34m.\u001b[0m\u001b[0mlayers\u001b[0m\u001b[0;34m.\u001b[0m\u001b[0mDense\u001b[0m\u001b[0;34m(\u001b[0m\u001b[0;34m(\u001b[0m\u001b[0;36m1\u001b[0m\u001b[0;34m,\u001b[0m\u001b[0;36m3\u001b[0m\u001b[0;34m)\u001b[0m\u001b[0;34m,\u001b[0m\u001b[0mactivation\u001b[0m\u001b[0;34m=\u001b[0m\u001b[0mtf\u001b[0m\u001b[0;34m.\u001b[0m\u001b[0mnn\u001b[0m\u001b[0;34m.\u001b[0m\u001b[0msoftmax\u001b[0m\u001b[0;34m)\u001b[0m\u001b[0;34m\u001b[0m\u001b[0;34m\u001b[0m\u001b[0m\n\u001b[0m\u001b[1;32m     20\u001b[0m \u001b[0;34m\u001b[0m\u001b[0m\n\u001b[1;32m     21\u001b[0m   \u001b[0;32mdef\u001b[0m \u001b[0mcall\u001b[0m\u001b[0;34m(\u001b[0m\u001b[0mself\u001b[0m\u001b[0;34m,\u001b[0m \u001b[0minputs\u001b[0m\u001b[0;34m)\u001b[0m\u001b[0;34m:\u001b[0m\u001b[0;34m\u001b[0m\u001b[0;34m\u001b[0m\u001b[0m\n",
            "\u001b[0;32m/usr/local/lib/python3.7/dist-packages/keras/layers/core.py\u001b[0m in \u001b[0;36m__init__\u001b[0;34m(self, units, activation, use_bias, kernel_initializer, bias_initializer, kernel_regularizer, bias_regularizer, activity_regularizer, kernel_constraint, bias_constraint, **kwargs)\u001b[0m\n\u001b[1;32m   1148\u001b[0m         activity_regularizer=activity_regularizer, **kwargs)\n\u001b[1;32m   1149\u001b[0m \u001b[0;34m\u001b[0m\u001b[0m\n\u001b[0;32m-> 1150\u001b[0;31m     \u001b[0mself\u001b[0m\u001b[0;34m.\u001b[0m\u001b[0munits\u001b[0m \u001b[0;34m=\u001b[0m \u001b[0mint\u001b[0m\u001b[0;34m(\u001b[0m\u001b[0munits\u001b[0m\u001b[0;34m)\u001b[0m \u001b[0;32mif\u001b[0m \u001b[0;32mnot\u001b[0m \u001b[0misinstance\u001b[0m\u001b[0;34m(\u001b[0m\u001b[0munits\u001b[0m\u001b[0;34m,\u001b[0m \u001b[0mint\u001b[0m\u001b[0;34m)\u001b[0m \u001b[0;32melse\u001b[0m \u001b[0munits\u001b[0m\u001b[0;34m\u001b[0m\u001b[0;34m\u001b[0m\u001b[0m\n\u001b[0m\u001b[1;32m   1151\u001b[0m     \u001b[0;32mif\u001b[0m \u001b[0mself\u001b[0m\u001b[0;34m.\u001b[0m\u001b[0munits\u001b[0m \u001b[0;34m<\u001b[0m \u001b[0;36m0\u001b[0m\u001b[0;34m:\u001b[0m\u001b[0;34m\u001b[0m\u001b[0;34m\u001b[0m\u001b[0m\n\u001b[1;32m   1152\u001b[0m       raise ValueError(f'Received an invalid value for `units`, expected '\n",
            "\u001b[0;31mTypeError\u001b[0m: int() argument must be a string, a bytes-like object or a number, not 'tuple'"
          ]
        }
      ]
    },
    {
      "cell_type": "code",
      "metadata": {
        "colab": {
          "base_uri": "https://localhost:8080/"
        },
        "id": "ligRrTG8p-j4",
        "outputId": "0e631cca-d2f7-44c0-80c0-371bca518d7f"
      },
      "source": [
        "dtlmc.evaluate(X_test, y_test)"
      ],
      "execution_count": null,
      "outputs": [
        {
          "name": "stdout",
          "output_type": "stream",
          "text": [
            "9/9 [==============================] - 1s 63ms/step - loss: 1.4889\n"
          ]
        },
        {
          "data": {
            "text/plain": [
              "1.4889014959335327"
            ]
          },
          "execution_count": 34,
          "metadata": {},
          "output_type": "execute_result"
        }
      ]
    },
    {
      "cell_type": "code",
      "metadata": {
        "id": "BXiMZqCLrJC2"
      },
      "source": [
        "predictions = []\n",
        "for x in X_test:\n",
        "  predArray = [0,0,0]\n",
        "  x = np.expand_dims(x, axis=0)\n",
        "  prediction = dtlmc.predict(x)\n",
        "  print(prediction)\n",
        "  predArray[np.argmax(prediction)] = 1\n",
        "  predictions.append(predArray)"
      ],
      "execution_count": null,
      "outputs": []
    },
    {
      "cell_type": "code",
      "metadata": {
        "colab": {
          "base_uri": "https://localhost:8080/"
        },
        "id": "tmJ6eHwsrTte",
        "outputId": "49540027-f570-4905-8b54-7e3dca820ce2"
      },
      "source": [
        "m = tf.keras.metrics.Accuracy()\n",
        "m.update_state(y_test, predictions)\n",
        "m.result().numpy()"
      ],
      "execution_count": null,
      "outputs": [
        {
          "data": {
            "text/plain": [
              "0.5579976"
            ]
          },
          "execution_count": 36,
          "metadata": {},
          "output_type": "execute_result"
        }
      ]
    },
    {
      "cell_type": "code",
      "metadata": {
        "id": "GgMqZqLjsWmc"
      },
      "source": [
        "matrix = confusion_matrix(np.argmax(y_test, axis=1), np.argmax(predictions, axis=1))"
      ],
      "execution_count": null,
      "outputs": []
    },
    {
      "cell_type": "code",
      "metadata": {
        "colab": {
          "base_uri": "https://localhost:8080/"
        },
        "id": "fa-njldTuN7v",
        "outputId": "b35bf332-1899-4701-b152-e845a87b45c3"
      },
      "source": [
        "print(matrix)"
      ],
      "execution_count": null,
      "outputs": [
        {
          "name": "stdout",
          "output_type": "stream",
          "text": [
            "[[25 44 35]\n",
            " [16 31 29]\n",
            " [15 42 36]]\n"
          ]
        }
      ]
    },
    {
      "cell_type": "markdown",
      "metadata": {
        "id": "-aEcQFGkqRmB"
      },
      "source": [
        "#Evaluation on segmented data"
      ]
    },
    {
      "cell_type": "markdown",
      "metadata": {
        "id": "sM2JryCNPCD5"
      },
      "source": [
        "Load the melspecs of segmented data from drive"
      ]
    },
    {
      "cell_type": "code",
      "metadata": {
        "id": "LHJthkBYMchL"
      },
      "source": [
        "dataSegmented = np.load('./drive/MyDrive/COUGHVID/melSpecsDataSegmented.npy', allow_pickle=True)\n",
        "labels = np.load('./drive/MyDrive/COUGHVID/melSpecsLabelsSegmented.npy', allow_pickle=True)"
      ],
      "execution_count": null,
      "outputs": []
    },
    {
      "cell_type": "code",
      "metadata": {
        "colab": {
          "base_uri": "https://localhost:8080/"
        },
        "id": "OKZMSgI3M_Zm",
        "outputId": "4d587223-800a-46e5-8710-04e2844825db"
      },
      "source": [
        "print(dataSegmented.shape)\n",
        "print(labels.shape)"
      ],
      "execution_count": null,
      "outputs": [
        {
          "output_type": "stream",
          "name": "stdout",
          "text": [
            "(24374, 240, 320)\n",
            "(24374,)\n"
          ]
        }
      ]
    },
    {
      "cell_type": "code",
      "metadata": {
        "colab": {
          "base_uri": "https://localhost:8080/"
        },
        "id": "7_cv0ZG3tups",
        "outputId": "860f7d80-b8c0-4c9f-963c-7553eb770a62"
      },
      "source": [
        "covid_indizes = np.where(labels=='COVID-19')\n",
        "print(len(covid_indizes[0]))\n",
        "symptom_indizes = np.where(labels=='symptomatic')\n",
        "print(len(symptom_indizes[0]))\n",
        "healthy_indizes = np.where(labels=='healthy')\n",
        "print(len(healthy_indizes[0]))"
      ],
      "execution_count": null,
      "outputs": [
        {
          "output_type": "stream",
          "name": "stdout",
          "text": [
            "1984\n",
            "3904\n",
            "18486\n"
          ]
        }
      ]
    },
    {
      "cell_type": "markdown",
      "metadata": {
        "id": "CTOKkP63zmyH"
      },
      "source": [
        "As we can see, classes are highly unbalanced. Therefor we cut off samples from the majority classes to get a dataset with balanced classes."
      ]
    },
    {
      "cell_type": "code",
      "metadata": {
        "id": "GBEK5dBRuOa6"
      },
      "source": [
        "labels = np.array(labels)"
      ],
      "execution_count": null,
      "outputs": []
    },
    {
      "cell_type": "code",
      "metadata": {
        "id": "zGfmEjdwt9sY"
      },
      "source": [
        "data_new = dataSegmented[covid_indizes]\n",
        "data_new = np.append(data_new,dataSegmented[symptom_indizes[0][:len(covid_indizes[0])]], axis=0)\n",
        "data_new = np.append(data_new,dataSegmented[healthy_indizes[0][:len(covid_indizes[0])]], axis=0)\n",
        "\n",
        "data_new = np.expand_dims(data_new, axis=3)\n",
        "\n",
        "labels_new = labels[covid_indizes]\n",
        "labels_new = np.append(labels_new,labels[symptom_indizes[0][:len(covid_indizes[0])]])\n",
        "labels_new = np.append(labels_new,labels[healthy_indizes[0][:len(covid_indizes[0])]])\n",
        "\n"
      ],
      "execution_count": null,
      "outputs": []
    },
    {
      "cell_type": "markdown",
      "metadata": {
        "id": "8GQiU3-oZ82Y"
      },
      "source": [
        "##Evaluation of the multi class clasifier\n"
      ]
    },
    {
      "cell_type": "code",
      "metadata": {
        "id": "3lIkPl4rZ-Ch",
        "colab": {
          "base_uri": "https://localhost:8080/",
          "height": 172
        },
        "outputId": "6526fe1d-7edc-4bc9-900f-628f69f3bf78"
      },
      "source": [
        "labels_new_mc = oneHotEncoding(labels_new)"
      ],
      "execution_count": 38,
      "outputs": [
        {
          "output_type": "error",
          "ename": "NameError",
          "evalue": "ignored",
          "traceback": [
            "\u001b[0;31m---------------------------------------------------------------------------\u001b[0m",
            "\u001b[0;31mNameError\u001b[0m                                 Traceback (most recent call last)",
            "\u001b[0;32m<ipython-input-38-0770298631e8>\u001b[0m in \u001b[0;36m<module>\u001b[0;34m()\u001b[0m\n\u001b[0;32m----> 1\u001b[0;31m \u001b[0mlabels_new_mc\u001b[0m \u001b[0;34m=\u001b[0m \u001b[0moneHotEncoding\u001b[0m\u001b[0;34m(\u001b[0m\u001b[0mlabels_new\u001b[0m\u001b[0;34m)\u001b[0m\u001b[0;34m\u001b[0m\u001b[0;34m\u001b[0m\u001b[0m\n\u001b[0m",
            "\u001b[0;31mNameError\u001b[0m: name 'labels_new' is not defined"
          ]
        }
      ]
    },
    {
      "cell_type": "code",
      "metadata": {
        "colab": {
          "base_uri": "https://localhost:8080/",
          "height": 191
        },
        "id": "114gK2QuuRt6",
        "outputId": "ebc1fa67-053b-4076-ccff-30289b536d49"
      },
      "source": [
        "print(labels_new_mc.shape)\n",
        "print(data_new.shape)"
      ],
      "execution_count": 39,
      "outputs": [
        {
          "output_type": "error",
          "ename": "NameError",
          "evalue": "ignored",
          "traceback": [
            "\u001b[0;31m---------------------------------------------------------------------------\u001b[0m",
            "\u001b[0;31mNameError\u001b[0m                                 Traceback (most recent call last)",
            "\u001b[0;32m<ipython-input-39-9db6f1747552>\u001b[0m in \u001b[0;36m<module>\u001b[0;34m()\u001b[0m\n\u001b[0;32m----> 1\u001b[0;31m \u001b[0mprint\u001b[0m\u001b[0;34m(\u001b[0m\u001b[0mlabels_new_mc\u001b[0m\u001b[0;34m.\u001b[0m\u001b[0mshape\u001b[0m\u001b[0;34m)\u001b[0m\u001b[0;34m\u001b[0m\u001b[0;34m\u001b[0m\u001b[0m\n\u001b[0m\u001b[1;32m      2\u001b[0m \u001b[0mprint\u001b[0m\u001b[0;34m(\u001b[0m\u001b[0mdata_new\u001b[0m\u001b[0;34m.\u001b[0m\u001b[0mshape\u001b[0m\u001b[0;34m)\u001b[0m\u001b[0;34m\u001b[0m\u001b[0;34m\u001b[0m\u001b[0m\n",
            "\u001b[0;31mNameError\u001b[0m: name 'labels_new_mc' is not defined"
          ]
        }
      ]
    },
    {
      "cell_type": "code",
      "metadata": {
        "id": "gEv3FCswXYjc"
      },
      "source": [
        "# split data for train and test validation\n",
        "X_train, X_test, y_train, y_test = train_test_split(data_new, labels_new_mc, test_size=0.2, random_state=0)\n",
        "\n",
        "\n",
        "''' ## calculate class weights\n",
        "y_integers = np.argmax(labels_new, axis=1)\n",
        "class_weights = compute_class_weight('balanced', np.unique(y_integers), y_integers)\n",
        "class_weights_dict = dict(enumerate(class_weights))\n",
        "\n",
        "class_weights_dict '''"
      ],
      "execution_count": null,
      "outputs": []
    },
    {
      "cell_type": "code",
      "metadata": {
        "id": "nRAl_G7Wuabv"
      },
      "source": [
        "lr_schedule = tf.keras.optimizers.schedules.ExponentialDecay(\n",
        "    initial_learning_rate=0.00001,\n",
        "    decay_steps=10000,\n",
        "    decay_rate=0.9)\n",
        "\n",
        "dtlmc = DTLMC()\n",
        "opt = tf.keras.optimizers.Adam(learning_rate=lr_schedule)\n",
        "dtlmc.compile(optimizer=opt,loss='categorical_crossentropy',metrics=['acc'])\n"
      ],
      "execution_count": null,
      "outputs": []
    },
    {
      "cell_type": "code",
      "metadata": {
        "id": "JsYJEXl6toon"
      },
      "source": [
        "history = dtlmc.fit(X_train,y_train, epochs=250, batch_size=128, validation_data=(X_test,y_test))"
      ],
      "execution_count": null,
      "outputs": []
    },
    {
      "cell_type": "code",
      "metadata": {
        "id": "0Yulq0QbxNaK"
      },
      "source": [
        "predictions = []\n",
        "for x in X_test:\n",
        "  predArray = [0,0,0]\n",
        "  x = np.expand_dims(x, axis=0)\n",
        "  prediction = dtlmc.predict(x)\n",
        "  predArray[np.argmax(prediction[0])] = 1\n",
        "  predictions.append(predArray)"
      ],
      "execution_count": null,
      "outputs": []
    },
    {
      "cell_type": "code",
      "metadata": {
        "id": "wcKIroHuxSzP"
      },
      "source": [
        "m = tf.keras.metrics.Accuracy()\n",
        "m.update_state(y_test, predictions)\n",
        "print(\"Accuracy: \" + str(m.result().numpy()))"
      ],
      "execution_count": null,
      "outputs": []
    },
    {
      "cell_type": "code",
      "metadata": {
        "id": "J1HZRrkuadCz"
      },
      "source": [
        "matrix = confusion_matrix(np.argmax(y_test, axis=1), np.argmax(predictions, axis=1))"
      ],
      "execution_count": null,
      "outputs": []
    },
    {
      "cell_type": "code",
      "metadata": {
        "id": "7D6UjvAZz0fB"
      },
      "source": [
        "matrix = matrix/matrix.sum(axis=1)[:, np.newaxis]"
      ],
      "execution_count": null,
      "outputs": []
    },
    {
      "cell_type": "code",
      "metadata": {
        "id": "CeDtcawQadr4"
      },
      "source": [
        "matrix"
      ],
      "execution_count": null,
      "outputs": []
    },
    {
      "cell_type": "code",
      "metadata": {
        "id": "3wz-uy9P6b_R"
      },
      "source": [
        "labellist = ['healthy','covid', 'symptomatic']\n",
        "plotConfusionMatrix(labellist, matrix)"
      ],
      "execution_count": null,
      "outputs": []
    },
    {
      "cell_type": "markdown",
      "metadata": {
        "id": "EiicnAL8ZxWx"
      },
      "source": [
        "##Evaluation of the binary class classifier"
      ]
    },
    {
      "cell_type": "code",
      "metadata": {
        "colab": {
          "base_uri": "https://localhost:8080/"
        },
        "id": "N9gHG4UTZ0pN",
        "outputId": "007ca160-328d-42d8-99f8-a496e1a70b3d"
      },
      "source": [
        "labels_new_bc = oneHotEncodingForBC(labels_new)\n",
        "print(data_new.shape)\n",
        "print(labels_new_bc.shape)"
      ],
      "execution_count": null,
      "outputs": [
        {
          "output_type": "stream",
          "name": "stdout",
          "text": [
            "(5952, 240, 320, 1)\n",
            "(5952, 2)\n"
          ]
        }
      ]
    },
    {
      "cell_type": "code",
      "metadata": {
        "id": "zwjKm2NhaaB5"
      },
      "source": [
        "X_train, X_test, y_train, y_test = train_test_split(data_new, labels_new_bc, test_size=0.2, random_state=0)"
      ],
      "execution_count": null,
      "outputs": []
    },
    {
      "cell_type": "code",
      "metadata": {
        "id": "c8GBJbGwfF5g"
      },
      "source": [
        "lr_schedule = tf.keras.optimizers.schedules.ExponentialDecay(\n",
        "    initial_learning_rate=0.000001,\n",
        "    decay_steps=10000,\n",
        "    decay_rate=0.9)"
      ],
      "execution_count": null,
      "outputs": []
    },
    {
      "cell_type": "code",
      "metadata": {
        "id": "stcWFfhmanE1"
      },
      "source": [
        "dtlbc = DTLBC()\n",
        "opt = tf.keras.optimizers.Adam(learning_rate=lr_schedule)\n",
        "dtlbc.compile(optimizer=opt,loss='categorical_crossentropy',metrics=['acc'])"
      ],
      "execution_count": null,
      "outputs": []
    },
    {
      "cell_type": "code",
      "metadata": {
        "colab": {
          "base_uri": "https://localhost:8080/"
        },
        "id": "kPSClLjuaq9C",
        "outputId": "99101ffc-b120-48a1-b8d3-92f3be84bfea"
      },
      "source": [
        "history = dtlbc.fit(X_train,y_train, epochs=250, batch_size=128, validation_data=(X_test,y_test))"
      ],
      "execution_count": null,
      "outputs": [
        {
          "output_type": "stream",
          "name": "stdout",
          "text": [
            "Epoch 1/250\n",
            "38/38 [==============================] - 8s 198ms/step - loss: 4.6495 - acc: 0.5018 - val_loss: 0.9761 - val_acc: 0.5768\n",
            "Epoch 2/250\n",
            "38/38 [==============================] - 7s 180ms/step - loss: 3.2403 - acc: 0.5740 - val_loss: 1.1270 - val_acc: 0.4660\n",
            "Epoch 3/250\n",
            "38/38 [==============================] - 7s 181ms/step - loss: 3.3192 - acc: 0.5488 - val_loss: 1.0125 - val_acc: 0.5004\n",
            "Epoch 4/250\n",
            "38/38 [==============================] - 7s 178ms/step - loss: 3.1348 - acc: 0.5457 - val_loss: 1.1010 - val_acc: 0.4635\n",
            "Epoch 5/250\n",
            "38/38 [==============================] - 7s 178ms/step - loss: 3.1431 - acc: 0.5459 - val_loss: 0.9736 - val_acc: 0.5055\n",
            "Epoch 6/250\n",
            "38/38 [==============================] - 7s 177ms/step - loss: 3.0567 - acc: 0.5528 - val_loss: 1.0237 - val_acc: 0.4845\n",
            "Epoch 7/250\n",
            "38/38 [==============================] - 7s 178ms/step - loss: 2.8839 - acc: 0.5499 - val_loss: 0.9550 - val_acc: 0.5080\n",
            "Epoch 8/250\n",
            "38/38 [==============================] - 7s 178ms/step - loss: 2.8389 - acc: 0.5616 - val_loss: 0.9718 - val_acc: 0.4987\n",
            "Epoch 9/250\n",
            "38/38 [==============================] - 7s 180ms/step - loss: 2.7949 - acc: 0.5467 - val_loss: 0.9210 - val_acc: 0.5164\n",
            "Epoch 10/250\n",
            "38/38 [==============================] - 7s 177ms/step - loss: 2.6948 - acc: 0.5442 - val_loss: 0.8871 - val_acc: 0.5432\n",
            "Epoch 11/250\n",
            "38/38 [==============================] - 7s 181ms/step - loss: 2.5679 - acc: 0.5549 - val_loss: 0.8934 - val_acc: 0.5298\n",
            "Epoch 12/250\n",
            "38/38 [==============================] - 7s 181ms/step - loss: 2.6073 - acc: 0.5551 - val_loss: 0.9536 - val_acc: 0.4710\n",
            "Epoch 13/250\n",
            "38/38 [==============================] - 7s 178ms/step - loss: 2.4880 - acc: 0.5469 - val_loss: 0.8711 - val_acc: 0.5298\n",
            "Epoch 14/250\n",
            "38/38 [==============================] - 7s 179ms/step - loss: 2.3997 - acc: 0.5625 - val_loss: 0.8450 - val_acc: 0.5550\n",
            "Epoch 15/250\n",
            "38/38 [==============================] - 7s 179ms/step - loss: 2.2270 - acc: 0.5787 - val_loss: 0.8602 - val_acc: 0.5273\n",
            "Epoch 16/250\n",
            "38/38 [==============================] - 7s 178ms/step - loss: 2.2878 - acc: 0.5579 - val_loss: 0.8709 - val_acc: 0.5046\n",
            "Epoch 17/250\n",
            "38/38 [==============================] - 7s 180ms/step - loss: 2.1915 - acc: 0.5495 - val_loss: 0.8284 - val_acc: 0.5449\n",
            "Epoch 18/250\n",
            "38/38 [==============================] - 7s 178ms/step - loss: 2.2922 - acc: 0.5549 - val_loss: 0.8117 - val_acc: 0.5558\n",
            "Epoch 19/250\n",
            "38/38 [==============================] - 7s 180ms/step - loss: 2.1771 - acc: 0.5591 - val_loss: 0.8184 - val_acc: 0.5382\n",
            "Epoch 20/250\n",
            "38/38 [==============================] - 7s 178ms/step - loss: 2.1314 - acc: 0.5581 - val_loss: 0.8342 - val_acc: 0.5197\n",
            "Epoch 21/250\n",
            "38/38 [==============================] - 7s 178ms/step - loss: 2.0859 - acc: 0.5503 - val_loss: 0.7902 - val_acc: 0.5592\n",
            "Epoch 22/250\n",
            "38/38 [==============================] - 7s 180ms/step - loss: 1.9793 - acc: 0.5543 - val_loss: 0.8032 - val_acc: 0.5374\n",
            "Epoch 23/250\n",
            "38/38 [==============================] - 7s 177ms/step - loss: 2.0197 - acc: 0.5476 - val_loss: 0.7670 - val_acc: 0.5743\n",
            "Epoch 24/250\n",
            "38/38 [==============================] - 7s 178ms/step - loss: 1.8775 - acc: 0.5553 - val_loss: 0.7773 - val_acc: 0.5525\n",
            "Epoch 25/250\n",
            "38/38 [==============================] - 7s 179ms/step - loss: 1.9668 - acc: 0.5568 - val_loss: 0.7951 - val_acc: 0.5264\n",
            "Epoch 26/250\n",
            "38/38 [==============================] - 7s 177ms/step - loss: 1.9069 - acc: 0.5568 - val_loss: 0.7716 - val_acc: 0.5483\n",
            "Epoch 27/250\n",
            "38/38 [==============================] - 7s 177ms/step - loss: 1.8077 - acc: 0.5677 - val_loss: 0.7696 - val_acc: 0.5474\n",
            "Epoch 28/250\n",
            "38/38 [==============================] - 7s 177ms/step - loss: 1.8051 - acc: 0.5642 - val_loss: 0.7540 - val_acc: 0.5701\n",
            "Epoch 29/250\n",
            "38/38 [==============================] - 7s 178ms/step - loss: 1.7961 - acc: 0.5604 - val_loss: 0.7722 - val_acc: 0.5340\n",
            "Epoch 30/250\n",
            "38/38 [==============================] - 7s 178ms/step - loss: 1.7447 - acc: 0.5579 - val_loss: 0.7623 - val_acc: 0.5449\n",
            "Epoch 31/250\n",
            "38/38 [==============================] - 7s 178ms/step - loss: 1.6567 - acc: 0.5547 - val_loss: 0.7414 - val_acc: 0.5743\n",
            "Epoch 32/250\n",
            "38/38 [==============================] - 7s 178ms/step - loss: 1.7248 - acc: 0.5598 - val_loss: 0.7377 - val_acc: 0.5743\n",
            "Epoch 33/250\n",
            "38/38 [==============================] - 7s 178ms/step - loss: 1.6823 - acc: 0.5560 - val_loss: 0.7460 - val_acc: 0.5659\n",
            "Epoch 34/250\n",
            "38/38 [==============================] - 7s 179ms/step - loss: 1.6734 - acc: 0.5535 - val_loss: 0.7538 - val_acc: 0.5466\n",
            "Epoch 35/250\n",
            "38/38 [==============================] - 7s 177ms/step - loss: 1.6555 - acc: 0.5585 - val_loss: 0.7549 - val_acc: 0.5441\n",
            "Epoch 36/250\n",
            "38/38 [==============================] - 7s 178ms/step - loss: 1.5927 - acc: 0.5608 - val_loss: 0.7662 - val_acc: 0.5122\n",
            "Epoch 37/250\n",
            "38/38 [==============================] - 7s 179ms/step - loss: 1.5779 - acc: 0.5696 - val_loss: 0.7646 - val_acc: 0.5113\n",
            "Epoch 38/250\n",
            "38/38 [==============================] - 7s 178ms/step - loss: 1.6042 - acc: 0.5619 - val_loss: 0.7517 - val_acc: 0.5382\n",
            "Epoch 39/250\n",
            "38/38 [==============================] - 7s 177ms/step - loss: 1.5214 - acc: 0.5583 - val_loss: 0.7255 - val_acc: 0.5709\n",
            "Epoch 40/250\n",
            "38/38 [==============================] - 7s 180ms/step - loss: 1.5352 - acc: 0.5619 - val_loss: 0.7239 - val_acc: 0.5735\n",
            "Epoch 41/250\n",
            "38/38 [==============================] - 7s 179ms/step - loss: 1.4865 - acc: 0.5648 - val_loss: 0.7056 - val_acc: 0.6029\n",
            "Epoch 42/250\n",
            "38/38 [==============================] - 7s 177ms/step - loss: 1.5354 - acc: 0.5520 - val_loss: 0.7150 - val_acc: 0.5827\n",
            "Epoch 43/250\n",
            "38/38 [==============================] - 7s 178ms/step - loss: 1.4572 - acc: 0.5669 - val_loss: 0.7305 - val_acc: 0.5626\n",
            "Epoch 44/250\n",
            "38/38 [==============================] - 7s 178ms/step - loss: 1.4740 - acc: 0.5556 - val_loss: 0.7418 - val_acc: 0.5357\n",
            "Epoch 45/250\n",
            "38/38 [==============================] - 7s 178ms/step - loss: 1.4522 - acc: 0.5583 - val_loss: 0.7382 - val_acc: 0.5432\n",
            "Epoch 46/250\n",
            "38/38 [==============================] - 7s 179ms/step - loss: 1.3735 - acc: 0.5822 - val_loss: 0.7366 - val_acc: 0.5399\n",
            "Epoch 47/250\n",
            "38/38 [==============================] - 7s 178ms/step - loss: 1.4546 - acc: 0.5604 - val_loss: 0.7326 - val_acc: 0.5432\n",
            "Epoch 48/250\n",
            "38/38 [==============================] - 7s 178ms/step - loss: 1.4128 - acc: 0.5648 - val_loss: 0.7174 - val_acc: 0.5751\n",
            "Epoch 49/250\n",
            "38/38 [==============================] - 7s 178ms/step - loss: 1.3826 - acc: 0.5675 - val_loss: 0.7025 - val_acc: 0.5945\n",
            "Epoch 50/250\n",
            "38/38 [==============================] - 7s 178ms/step - loss: 1.3858 - acc: 0.5549 - val_loss: 0.7192 - val_acc: 0.5617\n",
            "Epoch 51/250\n",
            "38/38 [==============================] - 7s 179ms/step - loss: 1.3585 - acc: 0.5703 - val_loss: 0.7134 - val_acc: 0.5743\n",
            "Epoch 52/250\n",
            "38/38 [==============================] - 7s 180ms/step - loss: 1.4221 - acc: 0.5522 - val_loss: 0.7020 - val_acc: 0.5877\n",
            "Epoch 53/250\n",
            "38/38 [==============================] - 7s 177ms/step - loss: 1.3902 - acc: 0.5646 - val_loss: 0.7029 - val_acc: 0.5861\n",
            "Epoch 54/250\n",
            "38/38 [==============================] - 7s 178ms/step - loss: 1.3662 - acc: 0.5661 - val_loss: 0.6999 - val_acc: 0.5869\n",
            "Epoch 55/250\n",
            "38/38 [==============================] - 7s 178ms/step - loss: 1.3584 - acc: 0.5602 - val_loss: 0.7168 - val_acc: 0.5584\n",
            "Epoch 56/250\n",
            "38/38 [==============================] - 7s 180ms/step - loss: 1.2970 - acc: 0.5724 - val_loss: 0.7389 - val_acc: 0.5281\n",
            "Epoch 57/250\n",
            "38/38 [==============================] - 7s 177ms/step - loss: 1.3240 - acc: 0.5614 - val_loss: 0.7432 - val_acc: 0.5231\n",
            "Epoch 58/250\n",
            "38/38 [==============================] - 7s 178ms/step - loss: 1.2791 - acc: 0.5581 - val_loss: 0.7214 - val_acc: 0.5458\n",
            "Epoch 59/250\n",
            "38/38 [==============================] - 7s 177ms/step - loss: 1.3305 - acc: 0.5503 - val_loss: 0.7056 - val_acc: 0.5743\n",
            "Epoch 60/250\n",
            "38/38 [==============================] - 7s 182ms/step - loss: 1.2908 - acc: 0.5579 - val_loss: 0.7235 - val_acc: 0.5483\n",
            "Epoch 61/250\n",
            "38/38 [==============================] - 7s 177ms/step - loss: 1.2532 - acc: 0.5661 - val_loss: 0.7154 - val_acc: 0.5550\n",
            "Epoch 62/250\n",
            "38/38 [==============================] - 7s 178ms/step - loss: 1.2444 - acc: 0.5665 - val_loss: 0.7180 - val_acc: 0.5508\n",
            "Epoch 63/250\n",
            "38/38 [==============================] - 7s 177ms/step - loss: 1.2514 - acc: 0.5665 - val_loss: 0.7054 - val_acc: 0.5676\n",
            "Epoch 64/250\n",
            "38/38 [==============================] - 7s 177ms/step - loss: 1.2519 - acc: 0.5644 - val_loss: 0.6961 - val_acc: 0.5852\n",
            "Epoch 65/250\n",
            "38/38 [==============================] - 7s 178ms/step - loss: 1.2102 - acc: 0.5656 - val_loss: 0.6971 - val_acc: 0.5768\n",
            "Epoch 66/250\n",
            "38/38 [==============================] - 7s 179ms/step - loss: 1.2129 - acc: 0.5694 - val_loss: 0.7015 - val_acc: 0.5726\n",
            "Epoch 67/250\n",
            "38/38 [==============================] - 7s 178ms/step - loss: 1.1583 - acc: 0.5877 - val_loss: 0.7080 - val_acc: 0.5542\n",
            "Epoch 68/250\n",
            "38/38 [==============================] - 7s 178ms/step - loss: 1.2050 - acc: 0.5652 - val_loss: 0.7031 - val_acc: 0.5651\n",
            "Epoch 69/250\n",
            "38/38 [==============================] - 7s 180ms/step - loss: 1.2015 - acc: 0.5669 - val_loss: 0.7069 - val_acc: 0.5567\n",
            "Epoch 70/250\n",
            "38/38 [==============================] - 7s 178ms/step - loss: 1.1916 - acc: 0.5677 - val_loss: 0.7096 - val_acc: 0.5508\n",
            "Epoch 71/250\n",
            "38/38 [==============================] - 7s 177ms/step - loss: 1.2033 - acc: 0.5507 - val_loss: 0.6852 - val_acc: 0.6087\n",
            "Epoch 72/250\n",
            "38/38 [==============================] - 7s 177ms/step - loss: 1.1936 - acc: 0.5646 - val_loss: 0.6976 - val_acc: 0.5735\n",
            "Epoch 73/250\n",
            "38/38 [==============================] - 7s 179ms/step - loss: 1.1550 - acc: 0.5637 - val_loss: 0.6928 - val_acc: 0.5777\n",
            "Epoch 74/250\n",
            "38/38 [==============================] - 7s 178ms/step - loss: 1.1113 - acc: 0.5759 - val_loss: 0.6966 - val_acc: 0.5659\n",
            "Epoch 75/250\n",
            "38/38 [==============================] - 7s 177ms/step - loss: 1.1160 - acc: 0.5721 - val_loss: 0.6979 - val_acc: 0.5659\n",
            "Epoch 76/250\n",
            "38/38 [==============================] - 7s 178ms/step - loss: 1.1524 - acc: 0.5635 - val_loss: 0.6910 - val_acc: 0.5852\n",
            "Epoch 77/250\n",
            "38/38 [==============================] - 7s 179ms/step - loss: 1.1347 - acc: 0.5703 - val_loss: 0.6911 - val_acc: 0.5844\n",
            "Epoch 78/250\n",
            "38/38 [==============================] - 7s 178ms/step - loss: 1.1372 - acc: 0.5642 - val_loss: 0.6948 - val_acc: 0.5726\n",
            "Epoch 79/250\n",
            "38/38 [==============================] - 7s 176ms/step - loss: 1.1095 - acc: 0.5728 - val_loss: 0.6953 - val_acc: 0.5693\n",
            "Epoch 80/250\n",
            "38/38 [==============================] - 7s 178ms/step - loss: 1.0756 - acc: 0.5814 - val_loss: 0.6973 - val_acc: 0.5642\n",
            "Epoch 81/250\n",
            "38/38 [==============================] - 7s 179ms/step - loss: 1.0821 - acc: 0.5728 - val_loss: 0.6752 - val_acc: 0.6012\n",
            "Epoch 82/250\n",
            "38/38 [==============================] - 7s 178ms/step - loss: 1.0966 - acc: 0.5761 - val_loss: 0.6812 - val_acc: 0.5936\n",
            "Epoch 83/250\n",
            "38/38 [==============================] - 7s 179ms/step - loss: 1.0815 - acc: 0.5673 - val_loss: 0.6871 - val_acc: 0.5852\n",
            "Epoch 84/250\n",
            "38/38 [==============================] - 7s 179ms/step - loss: 1.1084 - acc: 0.5661 - val_loss: 0.6941 - val_acc: 0.5693\n",
            "Epoch 85/250\n",
            "38/38 [==============================] - 7s 178ms/step - loss: 1.0826 - acc: 0.5797 - val_loss: 0.6812 - val_acc: 0.5945\n",
            "Epoch 86/250\n",
            "38/38 [==============================] - 7s 178ms/step - loss: 1.0546 - acc: 0.5745 - val_loss: 0.6910 - val_acc: 0.5735\n",
            "Epoch 87/250\n",
            "38/38 [==============================] - 7s 177ms/step - loss: 1.0658 - acc: 0.5770 - val_loss: 0.6914 - val_acc: 0.5726\n",
            "Epoch 88/250\n",
            "38/38 [==============================] - 7s 177ms/step - loss: 1.0753 - acc: 0.5604 - val_loss: 0.6865 - val_acc: 0.5819\n",
            "Epoch 89/250\n",
            "38/38 [==============================] - 7s 178ms/step - loss: 1.0132 - acc: 0.5837 - val_loss: 0.6845 - val_acc: 0.5861\n",
            "Epoch 90/250\n",
            "38/38 [==============================] - 7s 176ms/step - loss: 1.0483 - acc: 0.5747 - val_loss: 0.6868 - val_acc: 0.5802\n",
            "Epoch 91/250\n",
            "38/38 [==============================] - 7s 177ms/step - loss: 1.0315 - acc: 0.5768 - val_loss: 0.6808 - val_acc: 0.5919\n",
            "Epoch 92/250\n",
            "38/38 [==============================] - 7s 178ms/step - loss: 1.0328 - acc: 0.5841 - val_loss: 0.6727 - val_acc: 0.6037\n",
            "Epoch 93/250\n",
            "38/38 [==============================] - 7s 179ms/step - loss: 1.0221 - acc: 0.5736 - val_loss: 0.6720 - val_acc: 0.6054\n",
            "Epoch 94/250\n",
            "38/38 [==============================] - 7s 178ms/step - loss: 1.0049 - acc: 0.5778 - val_loss: 0.6729 - val_acc: 0.6003\n",
            "Epoch 95/250\n",
            "38/38 [==============================] - 7s 179ms/step - loss: 1.0074 - acc: 0.5827 - val_loss: 0.6705 - val_acc: 0.6054\n",
            "Epoch 96/250\n",
            "38/38 [==============================] - 7s 178ms/step - loss: 0.9925 - acc: 0.5841 - val_loss: 0.6799 - val_acc: 0.5877\n",
            "Epoch 97/250\n",
            "38/38 [==============================] - 7s 178ms/step - loss: 0.9893 - acc: 0.5852 - val_loss: 0.6856 - val_acc: 0.5743\n",
            "Epoch 98/250\n",
            "38/38 [==============================] - 7s 177ms/step - loss: 0.9922 - acc: 0.5789 - val_loss: 0.6753 - val_acc: 0.5953\n",
            "Epoch 99/250\n",
            "38/38 [==============================] - 7s 177ms/step - loss: 1.0195 - acc: 0.5688 - val_loss: 0.6857 - val_acc: 0.5768\n",
            "Epoch 100/250\n",
            "38/38 [==============================] - 7s 177ms/step - loss: 0.9787 - acc: 0.5730 - val_loss: 0.6782 - val_acc: 0.5936\n",
            "Epoch 101/250\n",
            "38/38 [==============================] - 7s 177ms/step - loss: 0.9822 - acc: 0.5763 - val_loss: 0.6692 - val_acc: 0.6138\n",
            "Epoch 102/250\n",
            "38/38 [==============================] - 7s 181ms/step - loss: 1.0096 - acc: 0.5658 - val_loss: 0.6728 - val_acc: 0.5978\n",
            "Epoch 103/250\n",
            "38/38 [==============================] - 7s 177ms/step - loss: 0.9827 - acc: 0.5787 - val_loss: 0.6725 - val_acc: 0.5970\n",
            "Epoch 104/250\n",
            "38/38 [==============================] - 7s 178ms/step - loss: 0.9886 - acc: 0.5700 - val_loss: 0.6767 - val_acc: 0.5911\n",
            "Epoch 105/250\n",
            "38/38 [==============================] - 7s 177ms/step - loss: 0.9532 - acc: 0.5732 - val_loss: 0.6709 - val_acc: 0.6079\n",
            "Epoch 106/250\n",
            "38/38 [==============================] - 7s 178ms/step - loss: 0.9992 - acc: 0.5747 - val_loss: 0.6775 - val_acc: 0.5861\n",
            "Epoch 107/250\n",
            "38/38 [==============================] - 7s 177ms/step - loss: 0.9552 - acc: 0.5774 - val_loss: 0.6706 - val_acc: 0.6113\n",
            "Epoch 108/250\n",
            "38/38 [==============================] - 7s 178ms/step - loss: 0.9406 - acc: 0.5919 - val_loss: 0.6746 - val_acc: 0.5953\n",
            "Epoch 109/250\n",
            "38/38 [==============================] - 7s 178ms/step - loss: 0.9551 - acc: 0.5694 - val_loss: 0.6592 - val_acc: 0.6415\n",
            "Epoch 110/250\n",
            "38/38 [==============================] - 7s 179ms/step - loss: 0.9400 - acc: 0.5829 - val_loss: 0.6633 - val_acc: 0.6306\n",
            "Epoch 111/250\n",
            "38/38 [==============================] - 7s 178ms/step - loss: 0.9106 - acc: 0.5887 - val_loss: 0.6659 - val_acc: 0.6238\n",
            "Epoch 112/250\n",
            "38/38 [==============================] - 7s 179ms/step - loss: 0.9338 - acc: 0.5862 - val_loss: 0.6652 - val_acc: 0.6264\n",
            "Epoch 113/250\n",
            "38/38 [==============================] - 7s 179ms/step - loss: 0.9111 - acc: 0.5745 - val_loss: 0.6639 - val_acc: 0.6289\n",
            "Epoch 114/250\n",
            "38/38 [==============================] - 7s 180ms/step - loss: 0.9266 - acc: 0.5866 - val_loss: 0.6638 - val_acc: 0.6272\n",
            "Epoch 115/250\n",
            "38/38 [==============================] - 7s 178ms/step - loss: 0.9120 - acc: 0.5801 - val_loss: 0.6611 - val_acc: 0.6339\n",
            "Epoch 116/250\n",
            "38/38 [==============================] - 7s 179ms/step - loss: 0.9148 - acc: 0.5795 - val_loss: 0.6624 - val_acc: 0.6322\n",
            "Epoch 117/250\n",
            "38/38 [==============================] - 7s 179ms/step - loss: 0.9213 - acc: 0.5797 - val_loss: 0.6561 - val_acc: 0.6490\n",
            "Epoch 118/250\n",
            "38/38 [==============================] - 7s 178ms/step - loss: 0.9151 - acc: 0.5848 - val_loss: 0.6663 - val_acc: 0.6230\n",
            "Epoch 119/250\n",
            "38/38 [==============================] - 7s 179ms/step - loss: 0.9119 - acc: 0.5860 - val_loss: 0.6641 - val_acc: 0.6280\n",
            "Epoch 120/250\n",
            "38/38 [==============================] - 7s 178ms/step - loss: 0.8937 - acc: 0.5869 - val_loss: 0.6643 - val_acc: 0.6247\n",
            "Epoch 121/250\n",
            "38/38 [==============================] - 7s 177ms/step - loss: 0.8883 - acc: 0.5751 - val_loss: 0.6565 - val_acc: 0.6465\n",
            "Epoch 122/250\n",
            "38/38 [==============================] - 7s 177ms/step - loss: 0.8776 - acc: 0.5917 - val_loss: 0.6568 - val_acc: 0.6465\n",
            "Epoch 123/250\n",
            "38/38 [==============================] - 7s 178ms/step - loss: 0.8791 - acc: 0.5822 - val_loss: 0.6571 - val_acc: 0.6448\n",
            "Epoch 124/250\n",
            "38/38 [==============================] - 7s 178ms/step - loss: 0.8969 - acc: 0.5776 - val_loss: 0.6602 - val_acc: 0.6322\n",
            "Epoch 125/250\n",
            "38/38 [==============================] - 7s 177ms/step - loss: 0.8987 - acc: 0.5787 - val_loss: 0.6619 - val_acc: 0.6314\n",
            "Epoch 126/250\n",
            "38/38 [==============================] - 7s 178ms/step - loss: 0.8698 - acc: 0.5904 - val_loss: 0.6626 - val_acc: 0.6247\n",
            "Epoch 127/250\n",
            "38/38 [==============================] - 7s 176ms/step - loss: 0.8948 - acc: 0.5841 - val_loss: 0.6581 - val_acc: 0.6356\n",
            "Epoch 128/250\n",
            "38/38 [==============================] - 7s 179ms/step - loss: 0.8818 - acc: 0.5692 - val_loss: 0.6548 - val_acc: 0.6448\n",
            "Epoch 129/250\n",
            "38/38 [==============================] - 7s 178ms/step - loss: 0.8781 - acc: 0.5799 - val_loss: 0.6533 - val_acc: 0.6507\n",
            "Epoch 130/250\n",
            "38/38 [==============================] - 7s 177ms/step - loss: 0.8474 - acc: 0.5929 - val_loss: 0.6600 - val_acc: 0.6289\n",
            "Epoch 131/250\n",
            "38/38 [==============================] - 7s 177ms/step - loss: 0.8611 - acc: 0.5866 - val_loss: 0.6576 - val_acc: 0.6398\n",
            "Epoch 132/250\n",
            "38/38 [==============================] - 7s 178ms/step - loss: 0.8540 - acc: 0.5898 - val_loss: 0.6551 - val_acc: 0.6415\n",
            "Epoch 133/250\n",
            "38/38 [==============================] - 7s 177ms/step - loss: 0.8664 - acc: 0.5862 - val_loss: 0.6557 - val_acc: 0.6423\n",
            "Epoch 134/250\n",
            "38/38 [==============================] - 7s 177ms/step - loss: 0.8542 - acc: 0.5911 - val_loss: 0.6525 - val_acc: 0.6482\n",
            "Epoch 135/250\n",
            "38/38 [==============================] - 7s 178ms/step - loss: 0.8469 - acc: 0.5904 - val_loss: 0.6644 - val_acc: 0.6129\n",
            "Epoch 136/250\n",
            "38/38 [==============================] - 7s 177ms/step - loss: 0.8410 - acc: 0.5892 - val_loss: 0.6547 - val_acc: 0.6415\n",
            "Epoch 137/250\n",
            "38/38 [==============================] - 7s 177ms/step - loss: 0.8294 - acc: 0.5992 - val_loss: 0.6520 - val_acc: 0.6432\n",
            "Epoch 138/250\n",
            "38/38 [==============================] - 7s 177ms/step - loss: 0.8450 - acc: 0.5873 - val_loss: 0.6502 - val_acc: 0.6516\n",
            "Epoch 139/250\n",
            "38/38 [==============================] - 7s 177ms/step - loss: 0.8454 - acc: 0.5927 - val_loss: 0.6528 - val_acc: 0.6406\n",
            "Epoch 140/250\n",
            "38/38 [==============================] - 7s 179ms/step - loss: 0.8290 - acc: 0.5900 - val_loss: 0.6541 - val_acc: 0.6381\n",
            "Epoch 141/250\n",
            "38/38 [==============================] - 7s 178ms/step - loss: 0.8322 - acc: 0.5873 - val_loss: 0.6510 - val_acc: 0.6474\n",
            "Epoch 142/250\n",
            "38/38 [==============================] - 7s 178ms/step - loss: 0.8149 - acc: 0.5923 - val_loss: 0.6524 - val_acc: 0.6423\n",
            "Epoch 143/250\n",
            "38/38 [==============================] - 7s 177ms/step - loss: 0.8237 - acc: 0.5904 - val_loss: 0.6514 - val_acc: 0.6415\n",
            "Epoch 144/250\n",
            "38/38 [==============================] - 7s 178ms/step - loss: 0.8251 - acc: 0.5929 - val_loss: 0.6486 - val_acc: 0.6549\n",
            "Epoch 145/250\n",
            "38/38 [==============================] - 7s 177ms/step - loss: 0.8127 - acc: 0.5917 - val_loss: 0.6545 - val_acc: 0.6398\n",
            "Epoch 146/250\n",
            "38/38 [==============================] - 7s 177ms/step - loss: 0.8307 - acc: 0.5854 - val_loss: 0.6455 - val_acc: 0.6583\n",
            "Epoch 147/250\n",
            "38/38 [==============================] - 7s 176ms/step - loss: 0.8209 - acc: 0.5879 - val_loss: 0.6467 - val_acc: 0.6566\n",
            "Epoch 148/250\n",
            "38/38 [==============================] - 7s 178ms/step - loss: 0.8203 - acc: 0.5841 - val_loss: 0.6513 - val_acc: 0.6415\n",
            "Epoch 149/250\n",
            "38/38 [==============================] - 7s 178ms/step - loss: 0.8109 - acc: 0.5929 - val_loss: 0.6454 - val_acc: 0.6591\n",
            "Epoch 150/250\n",
            "38/38 [==============================] - 7s 178ms/step - loss: 0.7932 - acc: 0.6047 - val_loss: 0.6523 - val_acc: 0.6398\n",
            "Epoch 151/250\n",
            "38/38 [==============================] - 7s 177ms/step - loss: 0.8150 - acc: 0.5866 - val_loss: 0.6509 - val_acc: 0.6432\n",
            "Epoch 152/250\n",
            "38/38 [==============================] - 7s 178ms/step - loss: 0.8070 - acc: 0.5890 - val_loss: 0.6521 - val_acc: 0.6423\n",
            "Epoch 153/250\n",
            "38/38 [==============================] - 7s 178ms/step - loss: 0.7944 - acc: 0.5971 - val_loss: 0.6453 - val_acc: 0.6599\n",
            "Epoch 154/250\n",
            "38/38 [==============================] - 7s 178ms/step - loss: 0.8033 - acc: 0.5971 - val_loss: 0.6490 - val_acc: 0.6465\n",
            "Epoch 155/250\n",
            "38/38 [==============================] - 7s 178ms/step - loss: 0.8068 - acc: 0.5848 - val_loss: 0.6445 - val_acc: 0.6583\n",
            "Epoch 156/250\n",
            "38/38 [==============================] - 7s 177ms/step - loss: 0.7940 - acc: 0.5999 - val_loss: 0.6473 - val_acc: 0.6549\n",
            "Epoch 157/250\n",
            "38/38 [==============================] - 7s 176ms/step - loss: 0.8000 - acc: 0.6003 - val_loss: 0.6475 - val_acc: 0.6524\n",
            "Epoch 158/250\n",
            "38/38 [==============================] - 7s 177ms/step - loss: 0.7764 - acc: 0.6013 - val_loss: 0.6453 - val_acc: 0.6583\n",
            "Epoch 159/250\n",
            "38/38 [==============================] - 7s 176ms/step - loss: 0.7978 - acc: 0.5917 - val_loss: 0.6431 - val_acc: 0.6574\n",
            "Epoch 160/250\n",
            "38/38 [==============================] - 7s 178ms/step - loss: 0.7826 - acc: 0.5959 - val_loss: 0.6510 - val_acc: 0.6423\n",
            "Epoch 161/250\n",
            "38/38 [==============================] - 7s 178ms/step - loss: 0.7863 - acc: 0.5833 - val_loss: 0.6461 - val_acc: 0.6574\n",
            "Epoch 162/250\n",
            "38/38 [==============================] - 7s 177ms/step - loss: 0.7948 - acc: 0.5938 - val_loss: 0.6504 - val_acc: 0.6457\n",
            "Epoch 163/250\n",
            "38/38 [==============================] - 7s 178ms/step - loss: 0.7835 - acc: 0.5999 - val_loss: 0.6452 - val_acc: 0.6574\n",
            "Epoch 164/250\n",
            "38/38 [==============================] - 7s 179ms/step - loss: 0.7850 - acc: 0.5955 - val_loss: 0.6463 - val_acc: 0.6574\n",
            "Epoch 165/250\n",
            "38/38 [==============================] - 7s 180ms/step - loss: 0.7620 - acc: 0.6058 - val_loss: 0.6465 - val_acc: 0.6574\n",
            "Epoch 166/250\n",
            "38/38 [==============================] - 7s 178ms/step - loss: 0.7676 - acc: 0.6058 - val_loss: 0.6446 - val_acc: 0.6583\n",
            "Epoch 167/250\n",
            "38/38 [==============================] - 7s 178ms/step - loss: 0.7720 - acc: 0.5965 - val_loss: 0.6438 - val_acc: 0.6574\n",
            "Epoch 168/250\n",
            "38/38 [==============================] - 7s 178ms/step - loss: 0.7736 - acc: 0.6045 - val_loss: 0.6448 - val_acc: 0.6583\n",
            "Epoch 169/250\n",
            "38/38 [==============================] - 7s 178ms/step - loss: 0.7797 - acc: 0.5995 - val_loss: 0.6462 - val_acc: 0.6507\n",
            "Epoch 170/250\n",
            "38/38 [==============================] - 7s 178ms/step - loss: 0.7584 - acc: 0.6005 - val_loss: 0.6413 - val_acc: 0.6641\n",
            "Epoch 171/250\n",
            "38/38 [==============================] - 7s 178ms/step - loss: 0.7638 - acc: 0.6074 - val_loss: 0.6478 - val_acc: 0.6532\n",
            "Epoch 172/250\n",
            "38/38 [==============================] - 7s 179ms/step - loss: 0.7621 - acc: 0.5982 - val_loss: 0.6438 - val_acc: 0.6599\n",
            "Epoch 173/250\n",
            "38/38 [==============================] - 7s 177ms/step - loss: 0.7570 - acc: 0.5982 - val_loss: 0.6432 - val_acc: 0.6591\n",
            "Epoch 174/250\n",
            "38/38 [==============================] - 7s 178ms/step - loss: 0.7543 - acc: 0.6085 - val_loss: 0.6419 - val_acc: 0.6641\n",
            "Epoch 175/250\n",
            "38/38 [==============================] - 7s 178ms/step - loss: 0.7455 - acc: 0.6060 - val_loss: 0.6462 - val_acc: 0.6549\n",
            "Epoch 176/250\n",
            "38/38 [==============================] - 7s 178ms/step - loss: 0.7572 - acc: 0.6026 - val_loss: 0.6449 - val_acc: 0.6566\n",
            "Epoch 177/250\n",
            "38/38 [==============================] - 7s 179ms/step - loss: 0.7405 - acc: 0.6087 - val_loss: 0.6456 - val_acc: 0.6532\n",
            "Epoch 178/250\n",
            "38/38 [==============================] - 7s 178ms/step - loss: 0.7587 - acc: 0.5913 - val_loss: 0.6405 - val_acc: 0.6641\n",
            "Epoch 179/250\n",
            "38/38 [==============================] - 7s 177ms/step - loss: 0.7385 - acc: 0.6112 - val_loss: 0.6418 - val_acc: 0.6625\n",
            "Epoch 180/250\n",
            "38/38 [==============================] - 7s 177ms/step - loss: 0.7456 - acc: 0.5995 - val_loss: 0.6387 - val_acc: 0.6658\n",
            "Epoch 181/250\n",
            "38/38 [==============================] - 7s 180ms/step - loss: 0.7375 - acc: 0.6058 - val_loss: 0.6417 - val_acc: 0.6591\n",
            "Epoch 182/250\n",
            "38/38 [==============================] - 7s 179ms/step - loss: 0.7348 - acc: 0.6144 - val_loss: 0.6416 - val_acc: 0.6608\n",
            "Epoch 183/250\n",
            "38/38 [==============================] - 7s 178ms/step - loss: 0.7291 - acc: 0.6171 - val_loss: 0.6390 - val_acc: 0.6667\n",
            "Epoch 184/250\n",
            "38/38 [==============================] - 7s 178ms/step - loss: 0.7375 - acc: 0.6018 - val_loss: 0.6396 - val_acc: 0.6650\n",
            "Epoch 185/250\n",
            "38/38 [==============================] - 7s 178ms/step - loss: 0.7428 - acc: 0.6062 - val_loss: 0.6434 - val_acc: 0.6608\n",
            "Epoch 186/250\n",
            "38/38 [==============================] - 7s 178ms/step - loss: 0.7387 - acc: 0.6009 - val_loss: 0.6414 - val_acc: 0.6616\n",
            "Epoch 187/250\n",
            "38/38 [==============================] - 7s 178ms/step - loss: 0.7290 - acc: 0.6114 - val_loss: 0.6413 - val_acc: 0.6625\n",
            "Epoch 188/250\n",
            "38/38 [==============================] - 7s 178ms/step - loss: 0.7458 - acc: 0.6011 - val_loss: 0.6377 - val_acc: 0.6667\n",
            "Epoch 189/250\n",
            "38/38 [==============================] - 7s 179ms/step - loss: 0.7307 - acc: 0.6095 - val_loss: 0.6393 - val_acc: 0.6650\n",
            "Epoch 190/250\n",
            "38/38 [==============================] - 7s 179ms/step - loss: 0.7203 - acc: 0.5944 - val_loss: 0.6398 - val_acc: 0.6650\n",
            "Epoch 191/250\n",
            "38/38 [==============================] - 7s 177ms/step - loss: 0.7252 - acc: 0.6144 - val_loss: 0.6405 - val_acc: 0.6633\n",
            "Epoch 192/250\n",
            "38/38 [==============================] - 7s 178ms/step - loss: 0.7151 - acc: 0.6165 - val_loss: 0.6399 - val_acc: 0.6641\n",
            "Epoch 193/250\n",
            "38/38 [==============================] - 7s 178ms/step - loss: 0.7303 - acc: 0.6070 - val_loss: 0.6404 - val_acc: 0.6633\n",
            "Epoch 194/250\n",
            "38/38 [==============================] - 7s 178ms/step - loss: 0.7192 - acc: 0.6169 - val_loss: 0.6414 - val_acc: 0.6616\n",
            "Epoch 195/250\n",
            "38/38 [==============================] - 7s 178ms/step - loss: 0.7216 - acc: 0.6137 - val_loss: 0.6415 - val_acc: 0.6616\n",
            "Epoch 196/250\n",
            "38/38 [==============================] - 7s 178ms/step - loss: 0.7234 - acc: 0.6060 - val_loss: 0.6412 - val_acc: 0.6625\n",
            "Epoch 197/250\n",
            "38/38 [==============================] - 7s 177ms/step - loss: 0.7284 - acc: 0.6009 - val_loss: 0.6389 - val_acc: 0.6616\n",
            "Epoch 198/250\n",
            "38/38 [==============================] - 7s 183ms/step - loss: 0.7220 - acc: 0.6091 - val_loss: 0.6394 - val_acc: 0.6625\n",
            "Epoch 199/250\n",
            "38/38 [==============================] - 7s 178ms/step - loss: 0.7264 - acc: 0.6013 - val_loss: 0.6387 - val_acc: 0.6625\n",
            "Epoch 200/250\n",
            "38/38 [==============================] - 7s 178ms/step - loss: 0.7237 - acc: 0.6068 - val_loss: 0.6385 - val_acc: 0.6625\n",
            "Epoch 201/250\n",
            "38/38 [==============================] - 7s 179ms/step - loss: 0.7126 - acc: 0.6194 - val_loss: 0.6388 - val_acc: 0.6625\n",
            "Epoch 202/250\n",
            "38/38 [==============================] - 7s 179ms/step - loss: 0.7117 - acc: 0.6179 - val_loss: 0.6374 - val_acc: 0.6667\n",
            "Epoch 203/250\n",
            "38/38 [==============================] - 7s 179ms/step - loss: 0.7149 - acc: 0.6154 - val_loss: 0.6390 - val_acc: 0.6625\n",
            "Epoch 204/250\n",
            "38/38 [==============================] - 7s 178ms/step - loss: 0.7216 - acc: 0.6177 - val_loss: 0.6406 - val_acc: 0.6633\n",
            "Epoch 205/250\n",
            "38/38 [==============================] - 7s 177ms/step - loss: 0.7027 - acc: 0.6158 - val_loss: 0.6374 - val_acc: 0.6641\n",
            "Epoch 206/250\n",
            "38/38 [==============================] - 7s 179ms/step - loss: 0.7134 - acc: 0.6167 - val_loss: 0.6403 - val_acc: 0.6633\n",
            "Epoch 207/250\n",
            "38/38 [==============================] - 7s 179ms/step - loss: 0.7083 - acc: 0.6173 - val_loss: 0.6407 - val_acc: 0.6625\n",
            "Epoch 208/250\n",
            "38/38 [==============================] - 7s 179ms/step - loss: 0.7199 - acc: 0.6068 - val_loss: 0.6372 - val_acc: 0.6650\n",
            "Epoch 209/250\n",
            "38/38 [==============================] - 7s 177ms/step - loss: 0.7202 - acc: 0.6085 - val_loss: 0.6363 - val_acc: 0.6658\n",
            "Epoch 210/250\n",
            "38/38 [==============================] - 7s 179ms/step - loss: 0.7179 - acc: 0.6137 - val_loss: 0.6369 - val_acc: 0.6650\n",
            "Epoch 211/250\n",
            "38/38 [==============================] - 7s 179ms/step - loss: 0.7057 - acc: 0.6242 - val_loss: 0.6422 - val_acc: 0.6625\n",
            "Epoch 212/250\n",
            "38/38 [==============================] - 7s 179ms/step - loss: 0.7064 - acc: 0.6207 - val_loss: 0.6381 - val_acc: 0.6633\n",
            "Epoch 213/250\n",
            "38/38 [==============================] - 7s 177ms/step - loss: 0.6911 - acc: 0.6226 - val_loss: 0.6388 - val_acc: 0.6641\n",
            "Epoch 214/250\n",
            "38/38 [==============================] - 7s 179ms/step - loss: 0.6947 - acc: 0.6276 - val_loss: 0.6398 - val_acc: 0.6650\n",
            "Epoch 215/250\n",
            "38/38 [==============================] - 7s 178ms/step - loss: 0.7122 - acc: 0.6154 - val_loss: 0.6404 - val_acc: 0.6633\n",
            "Epoch 216/250\n",
            "38/38 [==============================] - 7s 178ms/step - loss: 0.6963 - acc: 0.6223 - val_loss: 0.6396 - val_acc: 0.6641\n",
            "Epoch 217/250\n",
            "38/38 [==============================] - 7s 179ms/step - loss: 0.6985 - acc: 0.6167 - val_loss: 0.6354 - val_acc: 0.6692\n",
            "Epoch 218/250\n",
            "38/38 [==============================] - 7s 178ms/step - loss: 0.6945 - acc: 0.6286 - val_loss: 0.6382 - val_acc: 0.6675\n",
            "Epoch 219/250\n",
            "38/38 [==============================] - 7s 178ms/step - loss: 0.7034 - acc: 0.6154 - val_loss: 0.6376 - val_acc: 0.6658\n",
            "Epoch 220/250\n",
            "38/38 [==============================] - 7s 178ms/step - loss: 0.6981 - acc: 0.6188 - val_loss: 0.6391 - val_acc: 0.6650\n",
            "Epoch 221/250\n",
            "38/38 [==============================] - 7s 179ms/step - loss: 0.7070 - acc: 0.6181 - val_loss: 0.6353 - val_acc: 0.6675\n",
            "Epoch 222/250\n",
            "38/38 [==============================] - 7s 177ms/step - loss: 0.6925 - acc: 0.6165 - val_loss: 0.6388 - val_acc: 0.6650\n",
            "Epoch 223/250\n",
            "38/38 [==============================] - 7s 178ms/step - loss: 0.6980 - acc: 0.6209 - val_loss: 0.6360 - val_acc: 0.6692\n",
            "Epoch 224/250\n",
            "38/38 [==============================] - 7s 179ms/step - loss: 0.6997 - acc: 0.6238 - val_loss: 0.6381 - val_acc: 0.6658\n",
            "Epoch 225/250\n",
            "38/38 [==============================] - 7s 178ms/step - loss: 0.6888 - acc: 0.6207 - val_loss: 0.6351 - val_acc: 0.6683\n",
            "Epoch 226/250\n",
            "38/38 [==============================] - 7s 177ms/step - loss: 0.6903 - acc: 0.6335 - val_loss: 0.6377 - val_acc: 0.6667\n",
            "Epoch 227/250\n",
            "38/38 [==============================] - 7s 178ms/step - loss: 0.6854 - acc: 0.6295 - val_loss: 0.6360 - val_acc: 0.6709\n",
            "Epoch 228/250\n",
            "38/38 [==============================] - 7s 178ms/step - loss: 0.6923 - acc: 0.6215 - val_loss: 0.6352 - val_acc: 0.6692\n",
            "Epoch 229/250\n",
            "38/38 [==============================] - 7s 178ms/step - loss: 0.6891 - acc: 0.6282 - val_loss: 0.6361 - val_acc: 0.6709\n",
            "Epoch 230/250\n",
            "38/38 [==============================] - 7s 178ms/step - loss: 0.6775 - acc: 0.6293 - val_loss: 0.6343 - val_acc: 0.6683\n",
            "Epoch 231/250\n",
            "38/38 [==============================] - 7s 178ms/step - loss: 0.6801 - acc: 0.6295 - val_loss: 0.6345 - val_acc: 0.6683\n",
            "Epoch 232/250\n",
            "38/38 [==============================] - 7s 178ms/step - loss: 0.6853 - acc: 0.6249 - val_loss: 0.6344 - val_acc: 0.6692\n",
            "Epoch 233/250\n",
            "38/38 [==============================] - 7s 180ms/step - loss: 0.6788 - acc: 0.6289 - val_loss: 0.6339 - val_acc: 0.6700\n",
            "Epoch 234/250\n",
            "38/38 [==============================] - 7s 177ms/step - loss: 0.6820 - acc: 0.6329 - val_loss: 0.6352 - val_acc: 0.6700\n",
            "Epoch 235/250\n",
            "38/38 [==============================] - 7s 177ms/step - loss: 0.6864 - acc: 0.6190 - val_loss: 0.6356 - val_acc: 0.6709\n",
            "Epoch 236/250\n",
            "38/38 [==============================] - 7s 178ms/step - loss: 0.6832 - acc: 0.6255 - val_loss: 0.6342 - val_acc: 0.6683\n",
            "Epoch 237/250\n",
            "38/38 [==============================] - 7s 178ms/step - loss: 0.6835 - acc: 0.6209 - val_loss: 0.6342 - val_acc: 0.6692\n",
            "Epoch 238/250\n",
            "38/38 [==============================] - 7s 179ms/step - loss: 0.6796 - acc: 0.6333 - val_loss: 0.6367 - val_acc: 0.6675\n",
            "Epoch 239/250\n",
            "38/38 [==============================] - 7s 179ms/step - loss: 0.6858 - acc: 0.6207 - val_loss: 0.6355 - val_acc: 0.6675\n",
            "Epoch 240/250\n",
            "38/38 [==============================] - 7s 178ms/step - loss: 0.6826 - acc: 0.6286 - val_loss: 0.6335 - val_acc: 0.6709\n",
            "Epoch 241/250\n",
            "38/38 [==============================] - 7s 177ms/step - loss: 0.6741 - acc: 0.6358 - val_loss: 0.6335 - val_acc: 0.6709\n",
            "Epoch 242/250\n",
            "38/38 [==============================] - 7s 178ms/step - loss: 0.6758 - acc: 0.6282 - val_loss: 0.6369 - val_acc: 0.6683\n",
            "Epoch 243/250\n",
            "38/38 [==============================] - 7s 178ms/step - loss: 0.6737 - acc: 0.6343 - val_loss: 0.6362 - val_acc: 0.6683\n",
            "Epoch 244/250\n",
            "38/38 [==============================] - 7s 179ms/step - loss: 0.6822 - acc: 0.6236 - val_loss: 0.6345 - val_acc: 0.6692\n",
            "Epoch 245/250\n",
            "38/38 [==============================] - 7s 178ms/step - loss: 0.6758 - acc: 0.6314 - val_loss: 0.6384 - val_acc: 0.6667\n",
            "Epoch 246/250\n",
            "38/38 [==============================] - 7s 178ms/step - loss: 0.6751 - acc: 0.6177 - val_loss: 0.6348 - val_acc: 0.6692\n",
            "Epoch 247/250\n",
            "38/38 [==============================] - 7s 179ms/step - loss: 0.6729 - acc: 0.6297 - val_loss: 0.6365 - val_acc: 0.6683\n",
            "Epoch 248/250\n",
            "38/38 [==============================] - 7s 179ms/step - loss: 0.6748 - acc: 0.6326 - val_loss: 0.6358 - val_acc: 0.6658\n",
            "Epoch 249/250\n",
            "38/38 [==============================] - 7s 180ms/step - loss: 0.6615 - acc: 0.6394 - val_loss: 0.6357 - val_acc: 0.6683\n",
            "Epoch 250/250\n",
            "38/38 [==============================] - 7s 178ms/step - loss: 0.6749 - acc: 0.6272 - val_loss: 0.6365 - val_acc: 0.6709\n"
          ]
        }
      ]
    },
    {
      "cell_type": "code",
      "metadata": {
        "id": "0Xkwvre9qFn9"
      },
      "source": [
        "m = tf.keras.metrics.Accuracy()"
      ],
      "execution_count": null,
      "outputs": []
    },
    {
      "cell_type": "code",
      "metadata": {
        "id": "jEswg5HFpokM"
      },
      "source": [
        "accuracy, predictions = evaluateAccuracy(X_test, y_test, m, dtlbc)"
      ],
      "execution_count": null,
      "outputs": []
    },
    {
      "cell_type": "code",
      "metadata": {
        "colab": {
          "base_uri": "https://localhost:8080/"
        },
        "id": "ecavkV0fb70m",
        "outputId": "d34ad973-4669-43c9-f938-b3fa5f094edd"
      },
      "source": [
        "print(accuracy)"
      ],
      "execution_count": null,
      "outputs": [
        {
          "output_type": "stream",
          "name": "stdout",
          "text": [
            "0.6708648\n"
          ]
        }
      ]
    },
    {
      "cell_type": "code",
      "metadata": {
        "colab": {
          "base_uri": "https://localhost:8080/",
          "height": 428
        },
        "id": "zdTC4Kxvsu6W",
        "outputId": "46b8c4be-05aa-4cb0-b5b2-b5fad18faade"
      },
      "source": [
        "matrix = confusion_matrix(np.argmax(y_test, axis=1), np.argmax(predictions, axis=1))\n",
        "matrix = matrix/matrix.sum(axis=1)[:, np.newaxis]\n",
        "labellist = ['No-COVID', 'COVID']\n",
        "plotConfusionMatrix(labellist, matrix)"
      ],
      "execution_count": null,
      "outputs": [
        {
          "output_type": "display_data",
          "data": {
            "image/png": "[encoded data removed]",
            "text/plain": [
              "<Figure size 720x504 with 2 Axes>"
            ]
          },
          "metadata": {
            "needs_background": "light"
          }
        }
      ]
    },
    {
      "cell_type": "code",
      "metadata": {
        "colab": {
          "base_uri": "https://localhost:8080/",
          "height": 279
        },
        "id": "KS4WIWAQt7hh",
        "outputId": "03c2cb0a-2dc7-459e-b577-ce6af40fad5c"
      },
      "source": [
        "plotTrainingLoss(history.history['loss'], history.history['val_loss'])"
      ],
      "execution_count": null,
      "outputs": [
        {
          "output_type": "display_data",
          "data": {
            "image/png": "[encoded data removed]",
            "text/plain": [
              "<Figure size 432x288 with 1 Axes>"
            ]
          },
          "metadata": {
            "needs_background": "light"
          }
        }
      ]
    },
    {
      "cell_type": "code",
      "metadata": {
        "colab": {
          "base_uri": "https://localhost:8080/",
          "height": 279
        },
        "id": "s90jj9-Cr4xc",
        "outputId": "c6da9cd6-1c57-4e7e-c697-9ab66acaad22"
      },
      "source": [
        "plotTrainingAccuracy(history.history['acc'], history.history['val_acc'])"
      ],
      "execution_count": null,
      "outputs": [
        {
          "output_type": "display_data",
          "data": {
            "image/png": "[encoded data removed]",
            "text/plain": [
              "<Figure size 432x288 with 1 Axes>"
            ]
          },
          "metadata": {
            "needs_background": "light"
          }
        }
      ]
    },
    {
      "cell_type": "markdown",
      "metadata": {
        "id": "YaFg1Shuub_L"
      },
      "source": [
        "As we can see, the model clearly overfits since the train accuracy increases while the test accuracy stays more or less the same."
      ]
    },
    {
      "cell_type": "markdown",
      "metadata": {
        "id": "FBHElZVGUqmp"
      },
      "source": [
        "##Evaluation of the Support Vector Machine classifier"
      ]
    },
    {
      "cell_type": "code",
      "metadata": {
        "id": "8eWLkkSrU6ba"
      },
      "source": [
        "features_svm = np.load('./drive/MyDrive/COUGHVID/mfccfeatures.npy', allow_pickle=True)\n",
        "labels_svm = np.load('./drive/MyDrive/COUGHVID/mfccfeatureslabels.npy', allow_pickle=True)"
      ],
      "execution_count": 54,
      "outputs": []
    },
    {
      "cell_type": "code",
      "metadata": {
        "colab": {
          "base_uri": "https://localhost:8080/"
        },
        "id": "ukjeHBjZVqeh",
        "outputId": "d914383d-82a9-4218-fb27-608c7eae0275"
      },
      "source": [
        "print(features_svm.shape)\n",
        "print(labels_svm.shape)"
      ],
      "execution_count": 55,
      "outputs": [
        {
          "output_type": "stream",
          "name": "stdout",
          "text": [
            "(23490, 256)\n",
            "(23490,)\n"
          ]
        }
      ]
    },
    {
      "cell_type": "code",
      "metadata": {
        "colab": {
          "base_uri": "https://localhost:8080/"
        },
        "id": "54BMGlcjt3zO",
        "outputId": "77a68556-996d-43fb-b436-789194f42764"
      },
      "source": [
        "covid_indizes = np.where(labels_svm=='COVID-19')\n",
        "print(len(covid_indizes[0]))\n",
        "symptom_indizes = np.where(labels_svm=='symptomatic')\n",
        "print(len(symptom_indizes[0]))\n",
        "healthy_indizes = np.where(labels_svm=='healthy')\n",
        "print(len(healthy_indizes[0]))"
      ],
      "execution_count": 56,
      "outputs": [
        {
          "output_type": "stream",
          "name": "stdout",
          "text": [
            "1937\n",
            "3773\n",
            "17780\n"
          ]
        }
      ]
    },
    {
      "cell_type": "code",
      "metadata": {
        "id": "nZEFJSOsuBoB"
      },
      "source": [
        "data_new_svm = features_svm[covid_indizes]\n",
        "data_new_svm = np.append(data_new_svm,features_svm[symptom_indizes[0][:len(covid_indizes[0])]], axis=0)\n",
        "data_new_svm = np.append(data_new_svm,features_svm[healthy_indizes[0][:len(covid_indizes[0])]], axis=0)\n",
        "\n",
        "\n",
        "labels_new_svm = labels_svm[covid_indizes]\n",
        "labels_new_svm = np.append(labels_new_svm,labels_svm[symptom_indizes[0][:len(covid_indizes[0])]])\n",
        "labels_new_svm = np.append(labels_new_svm,labels_svm[healthy_indizes[0][:len(covid_indizes[0])]])"
      ],
      "execution_count": 57,
      "outputs": []
    },
    {
      "cell_type": "code",
      "metadata": {
        "id": "x4QdCBogV-w7"
      },
      "source": [
        "X_train_svm, X_test_svm, y_train_svm, y_test_svm = train_test_split(data_new_svm, labels_new_svm, test_size=0.2, random_state=0)"
      ],
      "execution_count": 58,
      "outputs": []
    },
    {
      "cell_type": "code",
      "metadata": {
        "id": "ipBMQukmUpW_"
      },
      "source": [
        "svm = SVM()\n",
        "svm.fit(X_train_svm, y_train_svm)"
      ],
      "execution_count": 65,
      "outputs": []
    },
    {
      "cell_type": "code",
      "metadata": {
        "id": "B14LUoKKUy0p"
      },
      "source": [
        "predictions = []\n",
        "for x in X_test_svm:\n",
        "  X = np.expand_dims(x, axis=0)\n",
        "  predictions.append(svm.predict(X))"
      ],
      "execution_count": 60,
      "outputs": []
    },
    {
      "cell_type": "code",
      "metadata": {
        "colab": {
          "base_uri": "https://localhost:8080/"
        },
        "id": "ZjXj7915th_j",
        "outputId": "af332279-690d-418a-b119-d2bd6c5306f0"
      },
      "source": [
        "print(svm.evaluateScore(X_test_svm, y_test_svm))"
      ],
      "execution_count": 70,
      "outputs": [
        {
          "output_type": "stream",
          "name": "stdout",
          "text": [
            "0.4316423043852107\n"
          ]
        }
      ]
    }
  ]
}